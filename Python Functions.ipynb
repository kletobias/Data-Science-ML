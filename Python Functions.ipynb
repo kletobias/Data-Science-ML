{
 "cells": [
  {
   "cell_type": "markdown",
   "metadata": {},
   "source": [
    "#### 1.\tWrite a function that inputs a number and prints the multiplication table of that number"
   ]
  },
  {
   "cell_type": "code",
   "execution_count": 1,
   "metadata": {},
   "outputs": [],
   "source": [
    "def MultiplicationTable():\n",
    "    \"\"\"\n",
    "    Function to print Multiplication Table for user given number\n",
    "    \"\"\"\n",
    "    try:\n",
    "        x = int(input('Please enter number to print Multiplication Table')) #Input from user\n",
    "        for i in range(1,11): #looping calculating printing\n",
    "            print(x,'x',i,'=',x*i)\n",
    "    except:\n",
    "        print('Please Enter integer number only') #message if entered is not a number "
   ]
  },
  {
   "cell_type": "code",
   "execution_count": 2,
   "metadata": {},
   "outputs": [
    {
     "name": "stdout",
     "output_type": "stream",
     "text": [
      "Please enter number to print Multiplication Table8\n",
      "8 x 1 = 8\n",
      "8 x 2 = 16\n",
      "8 x 3 = 24\n",
      "8 x 4 = 32\n",
      "8 x 5 = 40\n",
      "8 x 6 = 48\n",
      "8 x 7 = 56\n",
      "8 x 8 = 64\n",
      "8 x 9 = 72\n",
      "8 x 10 = 80\n"
     ]
    }
   ],
   "source": [
    "MultiplicationTable()"
   ]
  },
  {
   "cell_type": "markdown",
   "metadata": {},
   "source": [
    "#### 2.\tWrite a program to print twin primes  less than 1000. If two consecutive odd numbers are both prime then they are known as twin primes"
   ]
  },
  {
   "cell_type": "code",
   "execution_count": 3,
   "metadata": {},
   "outputs": [
    {
     "name": "stdout",
     "output_type": "stream",
     "text": [
      "[(3, 5), (5, 7), (11, 13), (17, 19), (29, 31), (41, 43), (59, 61), (71, 73), (101, 103), (107, 109), (137, 139), (149, 151), (179, 181), (191, 193), (197, 199), (227, 229), (239, 241), (269, 271), (281, 283), (311, 313), (347, 349), (419, 421), (431, 433), (461, 463), (521, 523), (569, 571), (599, 601), (617, 619), (641, 643), (659, 661), (809, 811), (821, 823), (827, 829), (857, 859), (881, 883)]\n"
     ]
    }
   ],
   "source": [
    "def TwinPrimes(n):\n",
    "    \"\"\"\n",
    "    Printing Twin Prime Numbers between 1 and given number n\n",
    "    \"\"\"\n",
    "    #importing sqrt from math\n",
    "    from math import sqrt \n",
    "    # getting multiples of no. referd 'https://en.wikipedia.org/wiki/Sieve_of_Eratosthenes'\n",
    "    no_prime = set([j for i in range(2,int(sqrt(n))+1) for j in range(i*2,n+1, i)])\n",
    "    #getting twin primes \n",
    "    twin_prime = [(x,x+2) for x in range(2,n+1) \n",
    "                  if (( x not in no_prime) and \n",
    "                      (x+2 not in no_prime) and (x+2 <= n) )] \n",
    "    return twin_prime\n",
    "print(TwinPrimes(1000))"
   ]
  },
  {
   "cell_type": "markdown",
   "metadata": {},
   "source": [
    "#### 3.\tWrite a program to find out the prime factors of a number. Example: prime factors of 56 - 2, 2, 2, 7"
   ]
  },
  {
   "cell_type": "code",
   "execution_count": 4,
   "metadata": {},
   "outputs": [
    {
     "data": {
      "text/plain": [
       "[2, 2, 2, 7]"
      ]
     },
     "execution_count": 4,
     "metadata": {},
     "output_type": "execute_result"
    }
   ],
   "source": [
    "def PrimeFactors(n):\n",
    "    \"\"\"\n",
    "    Returing prime factors of given input number as list \n",
    "    \"\"\"\n",
    "    from math import sqrt #Required sqare root function\n",
    "    l = [] \n",
    "    while n % 2 == 0: #Checking for how many factors of 2 \n",
    "        l.append(2)\n",
    "        n = n / 2\n",
    "        if n == 1:\n",
    "            return l\n",
    "     #Checking for factors greater than 2     \n",
    "    for i in range(3,int(sqrt(n))+1,2):\n",
    "        while n % i== 0:\n",
    "            l.append(i)\n",
    "            n = n / i\n",
    "            if n == 1:\n",
    "                return l\n",
    "    else:\n",
    "        #final no other than 1 and 2 \n",
    "        l.append(int(n))  \n",
    "    return l\n",
    "PrimeFactors(56)"
   ]
  },
  {
   "cell_type": "markdown",
   "metadata": {},
   "source": [
    "#### 4.\tWrite a program to implement these formulae of permutations and combinations. Number of permutations of n objects taken r at a time: p(n, r) = n! / (n-r)!.  Number of combinations of n objects taken r at a time is: c(n, r) = n! / (r!*(n-r)!) = p(n,r) / r!"
   ]
  },
  {
   "cell_type": "code",
   "execution_count": 5,
   "metadata": {},
   "outputs": [],
   "source": [
    "def Factorial(n):\n",
    "    '''\n",
    "    return factorial of n \n",
    "    '''\n",
    "    from functools import reduce\n",
    "    fact = reduce(lambda x, y: x*y, range(1, n+1))\n",
    "    return fact\n",
    "def Permutations(n,r):\n",
    "    '''\n",
    "    returns permutation nPr\n",
    "    '''\n",
    "    from functools import reduce\n",
    "    #deviding n! with (n-r)! gives below\n",
    "    #n(n-1)(n-2)(n-3)....(n-r+1)\n",
    "    pr = reduce(lambda x, y: x*y, range(n-r+1, n+1))\n",
    "    return pr\n",
    "def Combinations(n,r):\n",
    "    '''\n",
    "    returns combination nCr\n",
    "    '''\n",
    "    i = n-r\n",
    "    # nCr = nCn-r so calculating below middle is\n",
    "    #time efficient \n",
    "    if i > r:\n",
    "        pr = Permutations(n,i)\n",
    "        cr = pr/Factorial(i)\n",
    "    else:\n",
    "        pr = Permutations(n,r)\n",
    "        cr = pr/Factorial(r)\n",
    "    return cr\n",
    "def permutation_combination(n,r):\n",
    "    '''\n",
    "    retunr tuple of (nPr,nCr)\n",
    "    '''\n",
    "    pr= Permutations(n,r)\n",
    "    cr = Combinations(n,r)\n",
    "    return (pr,cr)"
   ]
  },
  {
   "cell_type": "code",
   "execution_count": 6,
   "metadata": {},
   "outputs": [
    {
     "data": {
      "text/plain": [
       "(20, 10.0)"
      ]
     },
     "execution_count": 6,
     "metadata": {},
     "output_type": "execute_result"
    }
   ],
   "source": [
    "permutation_combination(5,2)"
   ]
  },
  {
   "cell_type": "code",
   "execution_count": 7,
   "metadata": {},
   "outputs": [
    {
     "data": {
      "text/plain": [
       "(60, 10.0)"
      ]
     },
     "execution_count": 7,
     "metadata": {},
     "output_type": "execute_result"
    }
   ],
   "source": [
    "permutation_combination(5,3)"
   ]
  },
  {
   "cell_type": "code",
   "execution_count": 8,
   "metadata": {},
   "outputs": [
    {
     "data": {
      "text/plain": [
       "(720, 1.0)"
      ]
     },
     "execution_count": 8,
     "metadata": {},
     "output_type": "execute_result"
    }
   ],
   "source": [
    "permutation_combination(6,6)"
   ]
  },
  {
   "cell_type": "markdown",
   "metadata": {},
   "source": [
    "#### 5.\tWrite a function that converts a decimal number to binary number"
   ]
  },
  {
   "cell_type": "code",
   "execution_count": 9,
   "metadata": {},
   "outputs": [
    {
     "data": {
      "text/plain": [
       "100010"
      ]
     },
     "execution_count": 9,
     "metadata": {},
     "output_type": "execute_result"
    }
   ],
   "source": [
    "def DecimalToBinary(n):\n",
    "    '''\n",
    "    returns Binary number of a decimal\n",
    "    '''\n",
    "    l = []\n",
    "    while n>1:\n",
    "        #remainder with 2 \n",
    "        x=n%2\n",
    "        l.append(x)\n",
    "        n=n//2\n",
    "    else:\n",
    "        #final value\n",
    "        l.append(n)\n",
    "    l.reverse()\n",
    "    l = [str(i) for i in l]\n",
    "    return int(''.join(l))\n",
    "DecimalToBinary(34)"
   ]
  },
  {
   "cell_type": "code",
   "execution_count": 10,
   "metadata": {},
   "outputs": [
    {
     "data": {
      "text/plain": [
       "10000000001"
      ]
     },
     "execution_count": 10,
     "metadata": {},
     "output_type": "execute_result"
    }
   ],
   "source": [
    "DecimalToBinary(1025)"
   ]
  },
  {
   "cell_type": "code",
   "execution_count": 11,
   "metadata": {},
   "outputs": [
    {
     "data": {
      "text/plain": [
       "1001000010100100111110"
      ]
     },
     "execution_count": 11,
     "metadata": {},
     "output_type": "execute_result"
    }
   ],
   "source": [
    "DecimalToBinary(2369854)"
   ]
  },
  {
   "cell_type": "markdown",
   "metadata": {},
   "source": [
    "#### 6.\tWrite a function cubesum() that accepts an integer and returns the sum of the cubes of individual digits of that number. Use this function to make functions PrintArmstrong() and isArmstrong() to print Armstrong numbers and to find whether is an Armstrong number."
   ]
  },
  {
   "cell_type": "code",
   "execution_count": 12,
   "metadata": {},
   "outputs": [],
   "source": [
    "def cubesum(n):\n",
    "    '''\n",
    "    returns sum of cubes of number\n",
    "    '''\n",
    "    sum_cubes = 0\n",
    "    while n>0:\n",
    "        i = n%10\n",
    "        sum_cubes = sum_cubes + i**3\n",
    "        n = n//10\n",
    "    return sum_cubes"
   ]
  },
  {
   "cell_type": "code",
   "execution_count": 13,
   "metadata": {},
   "outputs": [
    {
     "name": "stdout",
     "output_type": "stream",
     "text": [
      "153\n",
      "216\n"
     ]
    }
   ],
   "source": [
    "print(cubesum(153))\n",
    "print(cubesum(354))"
   ]
  },
  {
   "cell_type": "code",
   "execution_count": 14,
   "metadata": {},
   "outputs": [],
   "source": [
    "def isArmstrong(n):\n",
    "    '''\n",
    "    retuns armstrong or not\n",
    "    '''\n",
    "    if cubesum(n) == n:\n",
    "        return True\n",
    "    else:\n",
    "        return False"
   ]
  },
  {
   "cell_type": "code",
   "execution_count": 15,
   "metadata": {},
   "outputs": [
    {
     "data": {
      "text/plain": [
       "True"
      ]
     },
     "execution_count": 15,
     "metadata": {},
     "output_type": "execute_result"
    }
   ],
   "source": [
    "isArmstrong(153)"
   ]
  },
  {
   "cell_type": "code",
   "execution_count": 16,
   "metadata": {},
   "outputs": [
    {
     "data": {
      "text/plain": [
       "False"
      ]
     },
     "execution_count": 16,
     "metadata": {},
     "output_type": "execute_result"
    }
   ],
   "source": [
    "isArmstrong(354)"
   ]
  },
  {
   "cell_type": "markdown",
   "metadata": {},
   "source": [
    "#### 7.\tWrite a function prodDigits() that inputs a number and returns the product of digits of that number."
   ]
  },
  {
   "cell_type": "code",
   "execution_count": 17,
   "metadata": {},
   "outputs": [],
   "source": [
    "def prodDigits(n):\n",
    "    '''\n",
    "    returns sum of cubes of number\n",
    "    '''\n",
    "    from functools import reduce\n",
    "    # creating list by iterating\n",
    "    l = [int(i) for i in str(n)]\n",
    "    if 0 in l:\n",
    "        return 0\n",
    "    return reduce(lambda x, y: x*y,l)"
   ]
  },
  {
   "cell_type": "code",
   "execution_count": 18,
   "metadata": {},
   "outputs": [
    {
     "name": "stdout",
     "output_type": "stream",
     "text": [
      "40320\n",
      "0\n"
     ]
    }
   ],
   "source": [
    "print(prodDigits(12345678))\n",
    "print(prodDigits(12340678))"
   ]
  },
  {
   "cell_type": "markdown",
   "metadata": {},
   "source": [
    "#### 8.\tIf all digits of a number n are multiplied by each other repeating with the product, the one digit number obtained at last is called the multiplicative digital root of n. The number of times digits need to be multiplied to reach one digit is called the multiplicative persistance of n. \n",
    "\tExample: 86 -> 48 -> 32 -> 6 (MDR 6, MPersistence 3)\n",
    "               341 -> 12->2           (MDR 2, MPersistence 2)\n",
    "#### Using the function prodDigits() of previous exercise write functions MDR() and MPersistence() that input a number and return its multiplicative digital root and multiplicative persistence respectively\n"
   ]
  },
  {
   "cell_type": "code",
   "execution_count": 19,
   "metadata": {},
   "outputs": [],
   "source": [
    "def MDR(n):\n",
    "    '''\n",
    "    returns multiplicative digital root of n\n",
    "    '''\n",
    "    while n > 9:\n",
    "        n = prodDigits(n)\n",
    "    return n"
   ]
  },
  {
   "cell_type": "code",
   "execution_count": 20,
   "metadata": {},
   "outputs": [
    {
     "name": "stdout",
     "output_type": "stream",
     "text": [
      "6\n",
      "2\n"
     ]
    }
   ],
   "source": [
    "print(MDR(86))\n",
    "print(MDR(341))"
   ]
  },
  {
   "cell_type": "code",
   "execution_count": 21,
   "metadata": {},
   "outputs": [],
   "source": [
    "def MPersistence(n):\n",
    "    '''\n",
    "    returns multiplicative persistence respectively\n",
    "    '''\n",
    "    count = 0\n",
    "    while n > 9:\n",
    "        n = prodDigits(n)\n",
    "        count+=1\n",
    "    return count"
   ]
  },
  {
   "cell_type": "code",
   "execution_count": 22,
   "metadata": {},
   "outputs": [
    {
     "name": "stdout",
     "output_type": "stream",
     "text": [
      "3\n",
      "2\n"
     ]
    }
   ],
   "source": [
    "print(MPersistence(86))\n",
    "print(MPersistence(341))"
   ]
  },
  {
   "cell_type": "markdown",
   "metadata": {},
   "source": [
    "#### 9.\tWrite a function sumPdivisors() that finds the sum of proper divisors of a number. Proper divisors of a number are those numbers by which the number is divisible, except the number itself.  For example proper divisors of 36 are 1, 2, 3, 4, 6, 9,12, 18"
   ]
  },
  {
   "cell_type": "code",
   "execution_count": 23,
   "metadata": {},
   "outputs": [],
   "source": [
    "def sumPdivisors(n):\n",
    "    '''\n",
    "    returns sum of proper divisors\n",
    "    '''\n",
    "    if type(n) != int:\n",
    "        raise ValueError('Number n must be an interger')\n",
    "    from math import sqrt\n",
    "    if n < 3:\n",
    "        return 1\n",
    "    # calculating sum of all proper divisors including one\n",
    "    #if it is perfect squre then we added duplicate entries so eliminating using set\n",
    "    x = sum([sum(set([i,n/i]))  \n",
    "             for i in range(2,int(sqrt(n))+1) if n%i==0 ])+1\n",
    "    return x"
   ]
  },
  {
   "cell_type": "code",
   "execution_count": 24,
   "metadata": {},
   "outputs": [
    {
     "data": {
      "text/plain": [
       "55.0"
      ]
     },
     "execution_count": 24,
     "metadata": {},
     "output_type": "execute_result"
    }
   ],
   "source": [
    "sumPdivisors(36)"
   ]
  },
  {
   "cell_type": "code",
   "execution_count": 25,
   "metadata": {},
   "outputs": [
    {
     "data": {
      "text/plain": [
       "66.0"
      ]
     },
     "execution_count": 25,
     "metadata": {},
     "output_type": "execute_result"
    }
   ],
   "source": [
    "sumPdivisors(54)"
   ]
  },
  {
   "cell_type": "markdown",
   "metadata": {},
   "source": [
    "#### 10.\tA number is called perfect if the sum of proper divisors of that number is equal to the number. For example 28 is perfect number, since 1+2+4+7+14=28. Write a program to print all the perfect numbers in a given range"
   ]
  },
  {
   "cell_type": "code",
   "execution_count": 26,
   "metadata": {},
   "outputs": [],
   "source": [
    "def isPerfect(n):\n",
    "    '''\n",
    "    returns given no is perfect or not \n",
    "    def - A number is called perfect if the sum of proper divisors of that number is equal to the number\n",
    "    example 28 is perfect number, since 1+2+4+7+14=28\n",
    "    '''\n",
    "    if n == sumPdivisors(n):\n",
    "        return True\n",
    "    else:\n",
    "        return False"
   ]
  },
  {
   "cell_type": "code",
   "execution_count": 27,
   "metadata": {},
   "outputs": [
    {
     "data": {
      "text/plain": [
       "True"
      ]
     },
     "execution_count": 27,
     "metadata": {},
     "output_type": "execute_result"
    }
   ],
   "source": [
    "isPerfect(28)"
   ]
  },
  {
   "cell_type": "code",
   "execution_count": 28,
   "metadata": {},
   "outputs": [
    {
     "data": {
      "text/plain": [
       "False"
      ]
     },
     "execution_count": 28,
     "metadata": {},
     "output_type": "execute_result"
    }
   ],
   "source": [
    "isPerfect(54)"
   ]
  },
  {
   "cell_type": "markdown",
   "metadata": {},
   "source": [
    "#### 11.\tTwo different numbers are called amicable numbers if the sum of the proper divisors of each is equal to the other number. For example 220 and 284 are amicable numbers.Sum of proper divisors of 220 = 1+2+4+5+10+11+20+22+44+55+110 = 284  Sum of proper divisors of 284 = 1+2+4+71+142 = 220  Write a function to print pairs of amicable numbers in a range\n"
   ]
  },
  {
   "cell_type": "code",
   "execution_count": 29,
   "metadata": {},
   "outputs": [],
   "source": [
    "def isAmicable(n1,n2):\n",
    "    '''\n",
    "    returns given two numbers are amicable or not.\n",
    "    def - Two different numbers are called amicable numbers if the sum of the \n",
    "    proper divisors of each is equal to the other number\n",
    "    '''\n",
    "    p1 = sumPdivisors(n1)\n",
    "    p2 = sumPdivisors(n2)\n",
    "    if (n1==p2) and (n2==p1):\n",
    "        return True\n",
    "    else:\n",
    "        return False"
   ]
  },
  {
   "cell_type": "code",
   "execution_count": 30,
   "metadata": {},
   "outputs": [
    {
     "data": {
      "text/plain": [
       "True"
      ]
     },
     "execution_count": 30,
     "metadata": {},
     "output_type": "execute_result"
    }
   ],
   "source": [
    "isAmicable(220,284)"
   ]
  },
  {
   "cell_type": "code",
   "execution_count": 31,
   "metadata": {},
   "outputs": [
    {
     "data": {
      "text/plain": [
       "False"
      ]
     },
     "execution_count": 31,
     "metadata": {},
     "output_type": "execute_result"
    }
   ],
   "source": [
    "isAmicable(5235,8952)"
   ]
  },
  {
   "cell_type": "markdown",
   "metadata": {},
   "source": [
    "#### 12.\tWrite a program which can filter odd numbers in a list by using filter function"
   ]
  },
  {
   "cell_type": "code",
   "execution_count": 32,
   "metadata": {},
   "outputs": [],
   "source": [
    "def oddFilter(l):\n",
    "    '''\n",
    "    returns oddnumbers from given list\n",
    "    '''\n",
    "    x = list(filter(lambda x: x%2!=0,l))\n",
    "    \n",
    "    return x"
   ]
  },
  {
   "cell_type": "code",
   "execution_count": 33,
   "metadata": {},
   "outputs": [
    {
     "data": {
      "text/plain": [
       "[1, 3, 5, 7]"
      ]
     },
     "execution_count": 33,
     "metadata": {},
     "output_type": "execute_result"
    }
   ],
   "source": [
    "oddFilter([1,2,3,4,5,6,7,8])"
   ]
  },
  {
   "cell_type": "markdown",
   "metadata": {},
   "source": [
    "#### 13.\tWrite a program which can map() to make a list whose elements are cube of elements in a given list"
   ]
  },
  {
   "cell_type": "code",
   "execution_count": 34,
   "metadata": {},
   "outputs": [],
   "source": [
    "def cubeList(l):\n",
    "    '''\n",
    "    return cube of element for all elements in given list\n",
    "    '''\n",
    "    c = list(map(lambda x: x**3, l))\n",
    "    \n",
    "    return c"
   ]
  },
  {
   "cell_type": "code",
   "execution_count": 35,
   "metadata": {},
   "outputs": [
    {
     "data": {
      "text/plain": [
       "[1, 8, 27, 64, 216]"
      ]
     },
     "execution_count": 35,
     "metadata": {},
     "output_type": "execute_result"
    }
   ],
   "source": [
    "cubeList([1,2,3,4,6])"
   ]
  },
  {
   "cell_type": "markdown",
   "metadata": {},
   "source": [
    "#### 14.\tWrite a program which can map() and filter() to make a list whose elements are cube of even number in a given list"
   ]
  },
  {
   "cell_type": "code",
   "execution_count": 36,
   "metadata": {},
   "outputs": [],
   "source": [
    "def cubeEven(l):\n",
    "    '''\n",
    "    returns cubes of given list for all even numbers in given list\n",
    "    '''\n",
    "    #we can use above cube function\n",
    "    #c = cubeList(list(filter(lambda x: x%2==0,l)))\n",
    "    #using map filter\n",
    "    c = list(map(lambda x: x**3,list(filter(lambda x: x%2==0,l))))\n",
    "    return c"
   ]
  },
  {
   "cell_type": "code",
   "execution_count": 37,
   "metadata": {},
   "outputs": [
    {
     "data": {
      "text/plain": [
       "[8, 64, 216]"
      ]
     },
     "execution_count": 37,
     "metadata": {},
     "output_type": "execute_result"
    }
   ],
   "source": [
    "cubeEven([1,2,3,4,5,6])"
   ]
  },
  {
   "cell_type": "code",
   "execution_count": 38,
   "metadata": {},
   "outputs": [
    {
     "data": {
      "text/plain": [
       "[438976, 941192]"
      ]
     },
     "execution_count": 38,
     "metadata": {},
     "output_type": "execute_result"
    }
   ],
   "source": [
    "cubeEven([45,89,76,98,9087])"
   ]
  },
  {
   "cell_type": "code",
   "execution_count": null,
   "metadata": {},
   "outputs": [],
   "source": []
  }
 ],
 "metadata": {
  "kernelspec": {
   "display_name": "Python 3 (Intel, 2018 update 2)",
   "language": "python",
   "name": "intel_distribution_of_python_3_2018u2"
  },
  "language_info": {
   "codemirror_mode": {
    "name": "ipython",
    "version": 3
   },
   "file_extension": ".py",
   "mimetype": "text/x-python",
   "name": "python",
   "nbconvert_exporter": "python",
   "pygments_lexer": "ipython3",
   "version": "3.6.3"
  }
 },
 "nbformat": 4,
 "nbformat_minor": 2
}
