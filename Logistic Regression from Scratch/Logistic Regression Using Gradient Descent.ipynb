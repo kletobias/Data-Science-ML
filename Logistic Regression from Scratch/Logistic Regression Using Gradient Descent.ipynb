{
 "cells": [
  {
   "cell_type": "code",
   "execution_count": 1,
   "metadata": {
    "collapsed": true
   },
   "outputs": [],
   "source": [
    "import numpy as np"
   ]
  },
  {
   "cell_type": "code",
   "execution_count": 2,
   "metadata": {
    "collapsed": true
   },
   "outputs": [],
   "source": [
    "class LogisticRegressionGD(object):\n",
    "    \"\"\"Logistic Regression Classifier using gradient descent.\n",
    "    \n",
    "    Parameters\n",
    "    ------------\n",
    "    learning_rate : float\n",
    "      Learning rate (between 0.0 and 1.0)\n",
    "    max_iter : int\n",
    "      Passes over the training dataset.\n",
    "    random_state : int\n",
    "      Random number generator seed for random weight\n",
    "      initialization.\n",
    "\n",
    "    Attributes\n",
    "    -----------\n",
    "    weights_ : 1d-array\n",
    "      Weights after fitting.\n",
    "    cost_ : list\n",
    "      Sum-of-squares cost function value in each epoch.\n",
    "\n",
    "    \"\"\"\n",
    "    def __init__(self, learning_rate=0.05, max_iter=100, random_state=1):\n",
    "        self.learning_rate = learning_rate\n",
    "        self.max_iter = max_iter\n",
    "        self.random_state = random_state\n",
    "\n",
    "    def fit(self, X, y):\n",
    "        \"\"\" Fit training data.\n",
    "\n",
    "        Parameters\n",
    "        ----------\n",
    "        X : {array-like}, shape = [n_samples, n_features]\n",
    "          Training vectors, where n_samples is the number of samples and\n",
    "          n_features is the number of features.\n",
    "        y : array-like, shape = [n_samples]\n",
    "          Target values.\n",
    "\n",
    "        Returns\n",
    "        -------\n",
    "        self : object\n",
    "\n",
    "        \"\"\"\n",
    "        random_gen = np.random.RandomState(self.random_state)\n",
    "        self.weights_ = random_gen.normal(loc=0.0, scale=0.01, size=1 + X.shape[1])\n",
    "        self.cost_ = []\n",
    "\n",
    "        for i in range(self.max_iter):\n",
    "            weight_input = self.weight_input(X)\n",
    "            output = self.activation(weight_input)\n",
    "            errors = (y - output)\n",
    "            self.weights_[1:] += self.learning_rate * X.T.dot(errors)\n",
    "            self.weights_[0] += self.learning_rate * errors.sum()         \n",
    "            cost = -y.dot(np.log(output)) - ((1 - y).dot(np.log(1 - output)))\n",
    "            self.cost_.append(cost)\n",
    "        return self\n",
    "    \n",
    "    def weight_input(self, X):\n",
    "        \"\"\"Calculate net input\"\"\"\n",
    "        return np.dot(X, self.weights_[1:]) + self.weights_[0]\n",
    "\n",
    "    def activation(self, z):\n",
    "        \"\"\"Compute logistic sigmoid activation\"\"\"\n",
    "        return 1. / (1. + np.exp(-np.clip(z, -250, 250)))\n",
    "\n",
    "    def predict(self, X):\n",
    "        \"\"\"Return class label after unit step\"\"\"\n",
    "        return np.where(self.weight_input(X) >= 0.0, 1, 0)\n",
    "    def score(self,X,y):\n",
    "        \"\"\"Return sccuracy score\"\"\"\n",
    "        y_pred = self.predict(X)\n",
    "        corr_pred = (y_pred == y).sum()\n",
    "        return corr_pred / float(len(y))"
   ]
  },
  {
   "cell_type": "code",
   "execution_count": 3,
   "metadata": {
    "collapsed": true
   },
   "outputs": [],
   "source": [
    "from sklearn import datasets\n",
    "import numpy as np\n",
    "iris = datasets.load_iris()\n",
    "X = iris.data[:, [1, 3]]\n",
    "y = iris.target"
   ]
  },
  {
   "cell_type": "code",
   "execution_count": 4,
   "metadata": {},
   "outputs": [],
   "source": [
    "X_train = X[(y==0) | (y==1)]\n",
    "y_train = y[(y==0) | (y==1)]"
   ]
  },
  {
   "cell_type": "code",
   "execution_count": 6,
   "metadata": {},
   "outputs": [],
   "source": [
    "log_model = LogisticRegressionGD(learning_rate=0.05, max_iter=100, random_state=1)"
   ]
  },
  {
   "cell_type": "code",
   "execution_count": 7,
   "metadata": {},
   "outputs": [
    {
     "data": {
      "text/plain": [
       "<__main__.LogisticRegressionGD at 0x21fb1c2e470>"
      ]
     },
     "execution_count": 7,
     "metadata": {},
     "output_type": "execute_result"
    }
   ],
   "source": [
    "log_model.fit(X_train,y_train)"
   ]
  },
  {
   "cell_type": "code",
   "execution_count": 8,
   "metadata": {},
   "outputs": [
    {
     "data": {
      "text/plain": [
       "array([0, 0, 0, 0, 0, 0, 0, 0, 0, 0, 0, 0, 0, 0, 0, 0, 0, 0, 0, 0, 0, 0, 0,\n",
       "       0, 0, 0, 0, 0, 0, 0, 0, 0, 0, 0, 0, 0, 0, 0, 0, 0, 0, 0, 0, 0, 0, 0,\n",
       "       0, 0, 0, 0, 1, 1, 1, 1, 1, 1, 1, 1, 1, 1, 1, 1, 1, 1, 1, 1, 1, 1, 1,\n",
       "       1, 1, 1, 1, 1, 1, 1, 1, 1, 1, 1, 1, 1, 1, 1, 1, 1, 1, 1, 1, 1, 1, 1,\n",
       "       1, 1, 1, 1, 1, 1, 1, 1])"
      ]
     },
     "execution_count": 8,
     "metadata": {},
     "output_type": "execute_result"
    }
   ],
   "source": [
    "log_model.predict(X_train)"
   ]
  },
  {
   "cell_type": "code",
   "execution_count": 9,
   "metadata": {},
   "outputs": [
    {
     "data": {
      "text/plain": [
       "array([0, 0, 0, 0, 0, 0, 0, 0, 0, 0, 0, 0, 0, 0, 0, 0, 0, 0, 0, 0, 0, 0, 0,\n",
       "       0, 0, 0, 0, 0, 0, 0, 0, 0, 0, 0, 0, 0, 0, 0, 0, 0, 0, 0, 0, 0, 0, 0,\n",
       "       0, 0, 0, 0, 1, 1, 1, 1, 1, 1, 1, 1, 1, 1, 1, 1, 1, 1, 1, 1, 1, 1, 1,\n",
       "       1, 1, 1, 1, 1, 1, 1, 1, 1, 1, 1, 1, 1, 1, 1, 1, 1, 1, 1, 1, 1, 1, 1,\n",
       "       1, 1, 1, 1, 1, 1, 1, 1])"
      ]
     },
     "execution_count": 9,
     "metadata": {},
     "output_type": "execute_result"
    }
   ],
   "source": [
    "y_train"
   ]
  },
  {
   "cell_type": "code",
   "execution_count": 10,
   "metadata": {},
   "outputs": [
    {
     "data": {
      "text/plain": [
       "1.0"
      ]
     },
     "execution_count": 10,
     "metadata": {},
     "output_type": "execute_result"
    }
   ],
   "source": [
    "log_model.score(X_train,y_train)"
   ]
  },
  {
   "cell_type": "code",
   "execution_count": 11,
   "metadata": {},
   "outputs": [
    {
     "data": {
      "text/plain": [
       "array([  1.31840233,  -4.26654664,  14.73659972])"
      ]
     },
     "execution_count": 11,
     "metadata": {},
     "output_type": "execute_result"
    }
   ],
   "source": [
    "log_model.weights_"
   ]
  },
  {
   "cell_type": "code",
   "execution_count": 12,
   "metadata": {},
   "outputs": [
    {
     "data": {
      "text/plain": [
       "[69.359162069304716,\n",
       " 49.619112531317484,\n",
       " 539.01505486854046,\n",
       " 717.25190248195827,\n",
       " 295.39226015698426,\n",
       " 757.73472147265215,\n",
       " 73.680263164582897,\n",
       " 434.27078733078679,\n",
       " 249.39749092342453,\n",
       " 466.01307563385825,\n",
       " 55.509398271008436,\n",
       " 18.904491801856395,\n",
       " 0.094401901287005999,\n",
       " 0.093005942997530372,\n",
       " 0.091721699129528017,\n",
       " 0.090538643507162939,\n",
       " 0.089447433917992467,\n",
       " 0.088439751968274791,\n",
       " 0.087508168415439347,\n",
       " 0.086646029351032577,\n",
       " 0.085847359544461294,\n",
       " 0.085106779986510478,\n",
       " 0.084419437242314849,\n",
       " 0.083780942673289338,\n",
       " 0.083187319944299537,\n",
       " 0.082634959517045664,\n",
       " 0.082120579058870727,\n",
       " 0.081641188880512222,\n",
       " 0.081194061665450484,\n",
       " 0.080776705875199042,\n",
       " 0.080386842314259091,\n",
       " 0.080022383420265727,\n",
       " 0.079681414912279341,\n",
       " 0.079362179486055229,\n",
       " 0.079063062291580805,\n",
       " 0.078782577967038595,\n",
       " 0.078519359035733566,\n",
       " 0.078272145499948445,\n",
       " 0.07803977548863511,\n",
       " 0.077821176835389971,\n",
       " 0.077615359479674184,\n",
       " 0.077421408598276439,\n",
       " 0.07723847838608322,\n",
       " 0.077065786415431894,\n",
       " 0.076902608512186721,\n",
       " 0.076748274094210797,\n",
       " 0.07660216192450596,\n",
       " 0.076463696236914069,\n",
       " 0.076332343197136235,\n",
       " 0.076207607666200869,\n",
       " 0.076089030237078303,\n",
       " 0.075976184518480164,\n",
       " 0.07586867464265111,\n",
       " 0.075766132976504919,\n",
       " 0.075668218017535649,\n",
       " 0.075574612457986967,\n",
       " 0.075485021402320329,\n",
       " 0.075399170724621462,\n",
       " 0.075316805553858585,\n",
       " 0.075237688876100231,\n",
       " 0.075161600243835724,\n",
       " 0.075088334583467489,\n",
       " 0.075017701092915057,\n",
       " 0.074949522221964326,\n",
       " 0.074883632728680677,\n",
       " 0.074819878805822554,\n",
       " 0.074758117271690808,\n",
       " 0.074698214820369105,\n",
       " 0.074640047326728076,\n",
       " 0.074583499201934661,\n",
       " 0.074528462795651007,\n",
       " 0.074474837841293315,\n",
       " 0.074422530941171156,\n",
       " 0.074371455088436303,\n",
       " 0.074321529223151578,\n",
       " 0.074272677819910593,\n",
       " 0.074224830504681219,\n",
       " 0.074177921698752064,\n",
       " 0.07413189028774568,\n",
       " 0.074086679313945678,\n",
       " 0.074042235690168018,\n",
       " 0.073998509933686382,\n",
       " 0.073955455918750773,\n",
       " 0.073913030646320432,\n",
       " 0.073871194029863557,\n",
       " 0.073829908696015176,\n",
       " 0.073789139799048525,\n",
       " 0.073748854848224882,\n",
       " 0.073709023547049807,\n",
       " 0.073669617643643853,\n",
       " 0.073630610791429449,\n",
       " 0.073591978419404486,\n",
       " 0.073553697611348556,\n",
       " 0.07351574699332053,\n",
       " 0.073478106628885459,\n",
       " 0.073440757921524213,\n",
       " 0.07340368352371926,\n",
       " 0.073366867252276147,\n",
       " 0.073330294009417554,\n",
       " 0.073293949709293454]"
      ]
     },
     "execution_count": 12,
     "metadata": {},
     "output_type": "execute_result"
    }
   ],
   "source": [
    "log_model.cost_"
   ]
  },
  {
   "cell_type": "code",
   "execution_count": null,
   "metadata": {
    "collapsed": true
   },
   "outputs": [],
   "source": []
  }
 ],
 "metadata": {
  "kernelspec": {
   "display_name": "Python 3",
   "language": "python",
   "name": "python3"
  },
  "language_info": {
   "codemirror_mode": {
    "name": "ipython",
    "version": 3
   },
   "file_extension": ".py",
   "mimetype": "text/x-python",
   "name": "python",
   "nbconvert_exporter": "python",
   "pygments_lexer": "ipython3",
   "version": "3.6.1"
  }
 },
 "nbformat": 4,
 "nbformat_minor": 2
}
