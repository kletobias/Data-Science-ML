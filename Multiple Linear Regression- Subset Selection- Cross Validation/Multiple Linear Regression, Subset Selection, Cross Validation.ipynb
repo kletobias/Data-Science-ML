{
 "cells": [
  {
   "cell_type": "code",
   "execution_count": 6,
   "metadata": {
    "collapsed": true
   },
   "outputs": [],
   "source": [
    "import numpy as np\n",
    "import pandas as pd\n",
    "import matplotlib\n",
    "import matplotlib.pyplot as plt\n",
    "from sklearn.metrics import r2_score\n",
    "import statsmodels.api as sm\n",
    "from statsmodels.api import OLS\n",
    "from sklearn.preprocessing import PolynomialFeatures\n",
    "import seaborn as sns\n",
    "%matplotlib inline"
   ]
  },
  {
   "cell_type": "markdown",
   "metadata": {},
   "source": [
    "##  Forecasting Bike Sharing Usage"
   ]
  },
  {
   "cell_type": "markdown",
   "metadata": {},
   "source": [
    "we will focus on multiple linear regression and will explore techniques for subset selection. The specific task is to build a regression model for a bike share system that can predict the total number of bike rentals in a given day, based on attributes about the day. Such a demand forecasting model would be useful in planning the number of bikes that need to be available in the system on any given day, and also in monitoring traffic in the city. The data for this problem was collected from the Capital Bikeshare program in Washington D.C. over two years.   \n",
    "\n",
    "The data set is provided in the files `Bikeshare_train.csv` and `Bikeshare_test.csv`, as separate training and test sets. Each row in these files contains 10 attributes describing a day and its weather:\n",
    "- season (1 = spring, 2 = summer, 3 = fall, 4 = winter)\n",
    "- month (1 through 12, with 1 denoting Jan)\n",
    "- holiday (1 = the day is a holiday, 0 = otherwise)\n",
    "- day_of_week (0 through 6, with 0 denoting Sunday)\n",
    "- workingday (1 = the day is neither a holiday or weekend, 0 = otherwise)\n",
    "- weather \n",
    "    - 1: Clear, Few clouds, Partly cloudy, Partly cloudy\n",
    "    - 2: Mist + Cloudy, Mist + Broken clouds, Mist + Few clouds, Mist\n",
    "    - 3: Light Snow, Light Rain + Thunderstorm + Scattered clouds, Light Rain + Scattered clouds\n",
    "    - 4: Heavy Rain + Ice Pallets + Thunderstorm + Mist, Snow + Fog \n",
    "- temp (temperature in Celsius)\n",
    "- atemp (apparent temperature, or relative outdoor temperature, in Celsius)\n",
    "- humidity (relative humidity)\n",
    "- windspeed (wind speed)\n",
    "\n",
    "and the last column 'count' contains the response variable, i.e. total number of bike rentals on the day.\n"
   ]
  },
  {
   "cell_type": "code",
   "execution_count": 4,
   "metadata": {
    "collapsed": false
   },
   "outputs": [],
   "source": [
    "traindf = pd.read_csv('Homework/HW3/Bikeshare_train.csv').drop('Unnamed: 0',axis = 1)\n",
    "testdf = pd.read_csv('Homework/HW3/Bikeshare_test.csv').drop('Unnamed: 0',axis = 1)"
   ]
  },
  {
   "cell_type": "code",
   "execution_count": 5,
   "metadata": {
    "collapsed": false
   },
   "outputs": [
    {
     "data": {
      "text/html": [
       "<div>\n",
       "<table border=\"1\" class=\"dataframe\">\n",
       "  <thead>\n",
       "    <tr style=\"text-align: right;\">\n",
       "      <th></th>\n",
       "      <th>season</th>\n",
       "      <th>month</th>\n",
       "      <th>holiday</th>\n",
       "      <th>day_of_week</th>\n",
       "      <th>workingday</th>\n",
       "      <th>weather</th>\n",
       "      <th>temp</th>\n",
       "      <th>atemp</th>\n",
       "      <th>humidity</th>\n",
       "      <th>windspeed</th>\n",
       "      <th>count</th>\n",
       "    </tr>\n",
       "  </thead>\n",
       "  <tbody>\n",
       "    <tr>\n",
       "      <th>0</th>\n",
       "      <td>2.0</td>\n",
       "      <td>5.0</td>\n",
       "      <td>0.0</td>\n",
       "      <td>2.0</td>\n",
       "      <td>1.0</td>\n",
       "      <td>2.0</td>\n",
       "      <td>24.0</td>\n",
       "      <td>26.0</td>\n",
       "      <td>76.5833</td>\n",
       "      <td>0.118167</td>\n",
       "      <td>6073.0</td>\n",
       "    </tr>\n",
       "    <tr>\n",
       "      <th>1</th>\n",
       "      <td>4.0</td>\n",
       "      <td>12.0</td>\n",
       "      <td>0.0</td>\n",
       "      <td>2.0</td>\n",
       "      <td>1.0</td>\n",
       "      <td>1.0</td>\n",
       "      <td>15.0</td>\n",
       "      <td>19.0</td>\n",
       "      <td>73.3750</td>\n",
       "      <td>0.174129</td>\n",
       "      <td>6606.0</td>\n",
       "    </tr>\n",
       "    <tr>\n",
       "      <th>2</th>\n",
       "      <td>2.0</td>\n",
       "      <td>6.0</td>\n",
       "      <td>0.0</td>\n",
       "      <td>4.0</td>\n",
       "      <td>1.0</td>\n",
       "      <td>1.0</td>\n",
       "      <td>26.0</td>\n",
       "      <td>28.0</td>\n",
       "      <td>56.9583</td>\n",
       "      <td>0.253733</td>\n",
       "      <td>7363.0</td>\n",
       "    </tr>\n",
       "    <tr>\n",
       "      <th>3</th>\n",
       "      <td>4.0</td>\n",
       "      <td>12.0</td>\n",
       "      <td>0.0</td>\n",
       "      <td>0.0</td>\n",
       "      <td>0.0</td>\n",
       "      <td>1.0</td>\n",
       "      <td>0.0</td>\n",
       "      <td>4.0</td>\n",
       "      <td>58.6250</td>\n",
       "      <td>0.169779</td>\n",
       "      <td>2431.0</td>\n",
       "    </tr>\n",
       "    <tr>\n",
       "      <th>4</th>\n",
       "      <td>3.0</td>\n",
       "      <td>9.0</td>\n",
       "      <td>0.0</td>\n",
       "      <td>3.0</td>\n",
       "      <td>1.0</td>\n",
       "      <td>3.0</td>\n",
       "      <td>23.0</td>\n",
       "      <td>23.0</td>\n",
       "      <td>91.7083</td>\n",
       "      <td>0.097021</td>\n",
       "      <td>1996.0</td>\n",
       "    </tr>\n",
       "  </tbody>\n",
       "</table>\n",
       "</div>"
      ],
      "text/plain": [
       "   season  month  holiday  day_of_week  workingday  weather  temp  atemp  \\\n",
       "0     2.0    5.0      0.0          2.0         1.0      2.0  24.0   26.0   \n",
       "1     4.0   12.0      0.0          2.0         1.0      1.0  15.0   19.0   \n",
       "2     2.0    6.0      0.0          4.0         1.0      1.0  26.0   28.0   \n",
       "3     4.0   12.0      0.0          0.0         0.0      1.0   0.0    4.0   \n",
       "4     3.0    9.0      0.0          3.0         1.0      3.0  23.0   23.0   \n",
       "\n",
       "   humidity  windspeed   count  \n",
       "0   76.5833   0.118167  6073.0  \n",
       "1   73.3750   0.174129  6606.0  \n",
       "2   56.9583   0.253733  7363.0  \n",
       "3   58.6250   0.169779  2431.0  \n",
       "4   91.7083   0.097021  1996.0  "
      ]
     },
     "execution_count": 5,
     "metadata": {},
     "output_type": "execute_result"
    }
   ],
   "source": [
    "traindf.head()"
   ]
  },
  {
   "cell_type": "code",
   "execution_count": 7,
   "metadata": {
    "collapsed": false
   },
   "outputs": [
    {
     "data": {
      "text/plain": [
       "[<matplotlib.text.Text at 0xc95afd0>,\n",
       " <matplotlib.text.Text at 0xc968be0>,\n",
       " <matplotlib.text.Text at 0xcaba518>,\n",
       " <matplotlib.text.Text at 0xcabab70>,\n",
       " <matplotlib.text.Text at 0xcb0f208>,\n",
       " <matplotlib.text.Text at 0xcb0f860>,\n",
       " <matplotlib.text.Text at 0xcb0feb8>]"
      ]
     },
     "execution_count": 7,
     "metadata": {},
     "output_type": "execute_result"
    },
    {
     "data": {
      "image/png": "[encoded data removed]",
      "text/plain": [
       "<matplotlib.figure.Figure at 0xc8070f0>"
      ]
     },
     "metadata": {},
     "output_type": "display_data"
    }
   ],
   "source": [
    "ax = sns.barplot(x= 'day_of_week',y = 'count',data = traindf)\n",
    "ax.set_xticklabels('Sun-Mon-Tue-Wed-Thu-Fri-Sat'.split('-'))"
   ]
  },
  {
   "cell_type": "code",
   "execution_count": 8,
   "metadata": {
    "collapsed": false
   },
   "outputs": [
    {
     "data": {
      "text/plain": [
       "[<matplotlib.text.Text at 0xc202c88>, <matplotlib.text.Text at 0xc92b828>]"
      ]
     },
     "execution_count": 8,
     "metadata": {},
     "output_type": "execute_result"
    },
    {
     "data": {
      "image/png": "[encoded data removed]",
      "text/plain": [
       "<matplotlib.figure.Figure at 0xcb3c470>"
      ]
     },
     "metadata": {},
     "output_type": "display_data"
    }
   ],
   "source": [
    "ax = sns.barplot(x= 'workingday',y = 'count',data = traindf)\n",
    "ax.set_xticklabels('Holiday-NotHoliday'.split('-'))"
   ]
  },
  {
   "cell_type": "code",
   "execution_count": 9,
   "metadata": {
    "collapsed": false
   },
   "outputs": [
    {
     "data": {
      "text/plain": [
       "<matplotlib.legend.Legend at 0xc81e860>"
      ]
     },
     "execution_count": 9,
     "metadata": {},
     "output_type": "execute_result"
    },
    {
     "data": {
      "image/png": "[encoded data removed]",
      "text/plain": [
       "<matplotlib.figure.Figure at 0xc858eb8>"
      ]
     },
     "metadata": {},
     "output_type": "display_data"
    }
   ],
   "source": [
    "lables = 'Holiday-NotHoliday'.split('-')\n",
    "for g, group in traindf.groupby('workingday'):\n",
    "    ax = group['count'].plot(kind='hist',alpha=0.4,label = lables[int(g)])\n",
    "ax.legend(loc='best')"
   ]
  },
  {
   "cell_type": "code",
   "execution_count": 10,
   "metadata": {
    "collapsed": false
   },
   "outputs": [
    {
     "data": {
      "text/plain": [
       "workingday       \n",
       "0.0         count     109.000000\n",
       "            mean     4461.073394\n",
       "            std      2144.505359\n",
       "            min       605.000000\n",
       "            25%      2732.000000\n",
       "            50%      4660.000000\n",
       "            75%      6041.000000\n",
       "            max      8714.000000\n",
       "1.0         count     222.000000\n",
       "            mean     4665.896396\n",
       "            std      1825.229911\n",
       "            min       431.000000\n",
       "            25%      3718.500000\n",
       "            50%      4621.000000\n",
       "            75%      5873.750000\n",
       "            max      8167.000000\n",
       "Name: count, dtype: float64"
      ]
     },
     "execution_count": 10,
     "metadata": {},
     "output_type": "execute_result"
    }
   ],
   "source": [
    "traindf.groupby('workingday').describe()['count']"
   ]
  },
  {
   "cell_type": "code",
   "execution_count": 11,
   "metadata": {
    "collapsed": false
   },
   "outputs": [
    {
     "data": {
      "image/png": "[encoded data removed]",
      "text/plain": [
       "<matplotlib.figure.Figure at 0xd1d1048>"
      ]
     },
     "metadata": {},
     "output_type": "display_data"
    }
   ],
   "source": [
    "label = 'spring=summer=fall=winter'.split('=')\n",
    "fig,ax = plt.subplots(2,2,figsize=(15,10))\n",
    "ax = ax.ravel()\n",
    "for g, group in traindf.groupby('season'):\n",
    "    i = int(g) - 1\n",
    "    group['count'].plot(kind='hist',ax=ax[i],alpha=0.4)\n",
    "    ax[i].set_title(label[i])"
   ]
  },
  {
   "cell_type": "code",
   "execution_count": 12,
   "metadata": {
    "collapsed": true
   },
   "outputs": [],
   "source": [
    "traindf['rain/snow'] = traindf['weather'].apply(lambda x: 1 if int(x) in [3,4] else 0)\n",
    "testdf['rain/snow'] = testdf['weather'].apply(lambda x: 1 if int(x) in [3,4] else 0)"
   ]
  },
  {
   "cell_type": "code",
   "execution_count": 13,
   "metadata": {
    "collapsed": false
   },
   "outputs": [
    {
     "data": {
      "text/plain": [
       "[<matplotlib.text.Text at 0xd9d9278>, <matplotlib.text.Text at 0xd9e3828>]"
      ]
     },
     "execution_count": 13,
     "metadata": {},
     "output_type": "execute_result"
    },
    {
     "data": {
      "image/png": "[encoded data removed]",
      "text/plain": [
       "<matplotlib.figure.Figure at 0xcfc8160>"
      ]
     },
     "metadata": {},
     "output_type": "display_data"
    }
   ],
   "source": [
    "ax = sns.barplot(x= 'rain/snow',y = 'count',data = traindf)\n",
    "ax.set_xticklabels('NoRain-Rain'.split('-'))"
   ]
  },
  {
   "cell_type": "code",
   "execution_count": 14,
   "metadata": {
    "collapsed": false
   },
   "outputs": [
    {
     "data": {
      "text/html": [
       "<div>\n",
       "<table border=\"1\" class=\"dataframe\">\n",
       "  <thead>\n",
       "    <tr style=\"text-align: right;\">\n",
       "      <th></th>\n",
       "      <th></th>\n",
       "      <th>count</th>\n",
       "    </tr>\n",
       "    <tr>\n",
       "      <th>rain/snow</th>\n",
       "      <th></th>\n",
       "      <th></th>\n",
       "    </tr>\n",
       "  </thead>\n",
       "  <tbody>\n",
       "    <tr>\n",
       "      <th rowspan=\"8\" valign=\"top\">0</th>\n",
       "      <th>count</th>\n",
       "      <td>321.000000</td>\n",
       "    </tr>\n",
       "    <tr>\n",
       "      <th>mean</th>\n",
       "      <td>4687.613707</td>\n",
       "    </tr>\n",
       "    <tr>\n",
       "      <th>std</th>\n",
       "      <td>1886.625924</td>\n",
       "    </tr>\n",
       "    <tr>\n",
       "      <th>min</th>\n",
       "      <td>431.000000</td>\n",
       "    </tr>\n",
       "    <tr>\n",
       "      <th>25%</th>\n",
       "      <td>3620.000000</td>\n",
       "    </tr>\n",
       "    <tr>\n",
       "      <th>50%</th>\n",
       "      <td>4687.000000</td>\n",
       "    </tr>\n",
       "    <tr>\n",
       "      <th>75%</th>\n",
       "      <td>6034.000000</td>\n",
       "    </tr>\n",
       "    <tr>\n",
       "      <th>max</th>\n",
       "      <td>8714.000000</td>\n",
       "    </tr>\n",
       "    <tr>\n",
       "      <th rowspan=\"8\" valign=\"top\">1</th>\n",
       "      <th>count</th>\n",
       "      <td>10.000000</td>\n",
       "    </tr>\n",
       "    <tr>\n",
       "      <th>mean</th>\n",
       "      <td>1736.200000</td>\n",
       "    </tr>\n",
       "    <tr>\n",
       "      <th>std</th>\n",
       "      <td>1179.971544</td>\n",
       "    </tr>\n",
       "    <tr>\n",
       "      <th>min</th>\n",
       "      <td>506.000000</td>\n",
       "    </tr>\n",
       "    <tr>\n",
       "      <th>25%</th>\n",
       "      <td>853.000000</td>\n",
       "    </tr>\n",
       "    <tr>\n",
       "      <th>50%</th>\n",
       "      <td>1646.000000</td>\n",
       "    </tr>\n",
       "    <tr>\n",
       "      <th>75%</th>\n",
       "      <td>1951.250000</td>\n",
       "    </tr>\n",
       "    <tr>\n",
       "      <th>max</th>\n",
       "      <td>4459.000000</td>\n",
       "    </tr>\n",
       "  </tbody>\n",
       "</table>\n",
       "</div>"
      ],
      "text/plain": [
       "                       count\n",
       "rain/snow                   \n",
       "0         count   321.000000\n",
       "          mean   4687.613707\n",
       "          std    1886.625924\n",
       "          min     431.000000\n",
       "          25%    3620.000000\n",
       "          50%    4687.000000\n",
       "          75%    6034.000000\n",
       "          max    8714.000000\n",
       "1         count    10.000000\n",
       "          mean   1736.200000\n",
       "          std    1179.971544\n",
       "          min     506.000000\n",
       "          25%     853.000000\n",
       "          50%    1646.000000\n",
       "          75%    1951.250000\n",
       "          max    4459.000000"
      ]
     },
     "execution_count": 14,
     "metadata": {},
     "output_type": "execute_result"
    }
   ],
   "source": [
    "traindf.groupby('rain/snow')[['count']].describe()"
   ]
  },
  {
   "cell_type": "code",
   "execution_count": 15,
   "metadata": {
    "collapsed": false
   },
   "outputs": [
    {
     "data": {
      "text/plain": [
       "<matplotlib.collections.PathCollection at 0xdbed400>"
      ]
     },
     "execution_count": 15,
     "metadata": {},
     "output_type": "execute_result"
    },
    {
     "data": {
      "image/png": "[encoded data removed]",
      "text/plain": [
       "<matplotlib.figure.Figure at 0xd8a9780>"
      ]
     },
     "metadata": {},
     "output_type": "display_data"
    }
   ],
   "source": [
    "plt.ylabel('Count of No. of Rental')\n",
    "plt.xlabel('Temperature')\n",
    "plt.scatter(traindf['temp'].values, traindf['count'].values, alpha=0.4 , c='r')"
   ]
  },
  {
   "cell_type": "code",
   "execution_count": 16,
   "metadata": {
    "collapsed": true
   },
   "outputs": [],
   "source": [
    "category_columns = ['season','month','day_of_week','weather']\n",
    "non_category_columns = ['holiday','workingday','temp','atemp','humidity','windspeed','count']\n",
    "numerical_columns = ['temp', 'atemp', 'humidity', 'windspeed']"
   ]
  },
  {
   "cell_type": "code",
   "execution_count": 17,
   "metadata": {
    "collapsed": true
   },
   "outputs": [],
   "source": [
    "traindf = pd.get_dummies(traindf, columns=category_columns, drop_first=True)\n",
    "testdf = pd.get_dummies(testdf, columns=category_columns, drop_first=True)"
   ]
  },
  {
   "cell_type": "code",
   "execution_count": 18,
   "metadata": {
    "collapsed": false
   },
   "outputs": [
    {
     "data": {
      "text/html": [
       "<div>\n",
       "<table border=\"1\" class=\"dataframe\">\n",
       "  <thead>\n",
       "    <tr style=\"text-align: right;\">\n",
       "      <th></th>\n",
       "      <th>holiday</th>\n",
       "      <th>workingday</th>\n",
       "      <th>temp</th>\n",
       "      <th>atemp</th>\n",
       "      <th>humidity</th>\n",
       "      <th>windspeed</th>\n",
       "      <th>count</th>\n",
       "      <th>season_2.0</th>\n",
       "      <th>season_3.0</th>\n",
       "      <th>season_4.0</th>\n",
       "      <th>...</th>\n",
       "      <th>month_11.0</th>\n",
       "      <th>month_12.0</th>\n",
       "      <th>day_of_week_1.0</th>\n",
       "      <th>day_of_week_2.0</th>\n",
       "      <th>day_of_week_3.0</th>\n",
       "      <th>day_of_week_4.0</th>\n",
       "      <th>day_of_week_5.0</th>\n",
       "      <th>day_of_week_6.0</th>\n",
       "      <th>weather_2.0</th>\n",
       "      <th>weather_3.0</th>\n",
       "    </tr>\n",
       "  </thead>\n",
       "  <tbody>\n",
       "    <tr>\n",
       "      <th>0</th>\n",
       "      <td>0.0</td>\n",
       "      <td>1.0</td>\n",
       "      <td>24.0</td>\n",
       "      <td>26.0</td>\n",
       "      <td>76.5833</td>\n",
       "      <td>0.118167</td>\n",
       "      <td>6073.0</td>\n",
       "      <td>1.0</td>\n",
       "      <td>0.0</td>\n",
       "      <td>0.0</td>\n",
       "      <td>...</td>\n",
       "      <td>0.0</td>\n",
       "      <td>0.0</td>\n",
       "      <td>0.0</td>\n",
       "      <td>1.0</td>\n",
       "      <td>0.0</td>\n",
       "      <td>0.0</td>\n",
       "      <td>0.0</td>\n",
       "      <td>0.0</td>\n",
       "      <td>1.0</td>\n",
       "      <td>0.0</td>\n",
       "    </tr>\n",
       "    <tr>\n",
       "      <th>1</th>\n",
       "      <td>0.0</td>\n",
       "      <td>1.0</td>\n",
       "      <td>15.0</td>\n",
       "      <td>19.0</td>\n",
       "      <td>73.3750</td>\n",
       "      <td>0.174129</td>\n",
       "      <td>6606.0</td>\n",
       "      <td>0.0</td>\n",
       "      <td>0.0</td>\n",
       "      <td>1.0</td>\n",
       "      <td>...</td>\n",
       "      <td>0.0</td>\n",
       "      <td>1.0</td>\n",
       "      <td>0.0</td>\n",
       "      <td>1.0</td>\n",
       "      <td>0.0</td>\n",
       "      <td>0.0</td>\n",
       "      <td>0.0</td>\n",
       "      <td>0.0</td>\n",
       "      <td>0.0</td>\n",
       "      <td>0.0</td>\n",
       "    </tr>\n",
       "    <tr>\n",
       "      <th>2</th>\n",
       "      <td>0.0</td>\n",
       "      <td>1.0</td>\n",
       "      <td>26.0</td>\n",
       "      <td>28.0</td>\n",
       "      <td>56.9583</td>\n",
       "      <td>0.253733</td>\n",
       "      <td>7363.0</td>\n",
       "      <td>1.0</td>\n",
       "      <td>0.0</td>\n",
       "      <td>0.0</td>\n",
       "      <td>...</td>\n",
       "      <td>0.0</td>\n",
       "      <td>0.0</td>\n",
       "      <td>0.0</td>\n",
       "      <td>0.0</td>\n",
       "      <td>0.0</td>\n",
       "      <td>1.0</td>\n",
       "      <td>0.0</td>\n",
       "      <td>0.0</td>\n",
       "      <td>0.0</td>\n",
       "      <td>0.0</td>\n",
       "    </tr>\n",
       "    <tr>\n",
       "      <th>3</th>\n",
       "      <td>0.0</td>\n",
       "      <td>0.0</td>\n",
       "      <td>0.0</td>\n",
       "      <td>4.0</td>\n",
       "      <td>58.6250</td>\n",
       "      <td>0.169779</td>\n",
       "      <td>2431.0</td>\n",
       "      <td>0.0</td>\n",
       "      <td>0.0</td>\n",
       "      <td>1.0</td>\n",
       "      <td>...</td>\n",
       "      <td>0.0</td>\n",
       "      <td>1.0</td>\n",
       "      <td>0.0</td>\n",
       "      <td>0.0</td>\n",
       "      <td>0.0</td>\n",
       "      <td>0.0</td>\n",
       "      <td>0.0</td>\n",
       "      <td>0.0</td>\n",
       "      <td>0.0</td>\n",
       "      <td>0.0</td>\n",
       "    </tr>\n",
       "    <tr>\n",
       "      <th>4</th>\n",
       "      <td>0.0</td>\n",
       "      <td>1.0</td>\n",
       "      <td>23.0</td>\n",
       "      <td>23.0</td>\n",
       "      <td>91.7083</td>\n",
       "      <td>0.097021</td>\n",
       "      <td>1996.0</td>\n",
       "      <td>0.0</td>\n",
       "      <td>1.0</td>\n",
       "      <td>0.0</td>\n",
       "      <td>...</td>\n",
       "      <td>0.0</td>\n",
       "      <td>0.0</td>\n",
       "      <td>0.0</td>\n",
       "      <td>0.0</td>\n",
       "      <td>1.0</td>\n",
       "      <td>0.0</td>\n",
       "      <td>0.0</td>\n",
       "      <td>0.0</td>\n",
       "      <td>0.0</td>\n",
       "      <td>1.0</td>\n",
       "    </tr>\n",
       "  </tbody>\n",
       "</table>\n",
       "<p>5 rows × 29 columns</p>\n",
       "</div>"
      ],
      "text/plain": [
       "   holiday  workingday  temp  atemp  humidity  windspeed   count  season_2.0  \\\n",
       "0      0.0         1.0  24.0   26.0   76.5833   0.118167  6073.0         1.0   \n",
       "1      0.0         1.0  15.0   19.0   73.3750   0.174129  6606.0         0.0   \n",
       "2      0.0         1.0  26.0   28.0   56.9583   0.253733  7363.0         1.0   \n",
       "3      0.0         0.0   0.0    4.0   58.6250   0.169779  2431.0         0.0   \n",
       "4      0.0         1.0  23.0   23.0   91.7083   0.097021  1996.0         0.0   \n",
       "\n",
       "   season_3.0  season_4.0     ...       month_11.0  month_12.0  \\\n",
       "0         0.0         0.0     ...              0.0         0.0   \n",
       "1         0.0         1.0     ...              0.0         1.0   \n",
       "2         0.0         0.0     ...              0.0         0.0   \n",
       "3         0.0         1.0     ...              0.0         1.0   \n",
       "4         1.0         0.0     ...              0.0         0.0   \n",
       "\n",
       "   day_of_week_1.0  day_of_week_2.0  day_of_week_3.0  day_of_week_4.0  \\\n",
       "0              0.0              1.0              0.0              0.0   \n",
       "1              0.0              1.0              0.0              0.0   \n",
       "2              0.0              0.0              0.0              1.0   \n",
       "3              0.0              0.0              0.0              0.0   \n",
       "4              0.0              0.0              1.0              0.0   \n",
       "\n",
       "   day_of_week_5.0  day_of_week_6.0  weather_2.0  weather_3.0  \n",
       "0              0.0              0.0          1.0          0.0  \n",
       "1              0.0              0.0          0.0          0.0  \n",
       "2              0.0              0.0          0.0          0.0  \n",
       "3              0.0              0.0          0.0          0.0  \n",
       "4              0.0              0.0          0.0          1.0  \n",
       "\n",
       "[5 rows x 29 columns]"
      ]
     },
     "execution_count": 18,
     "metadata": {},
     "output_type": "execute_result"
    }
   ],
   "source": [
    "traindf = traindf.drop('rain/snow',axis = 1)\n",
    "testdf = testdf.drop('rain/snow',axis = 1)\n",
    "traindf.head()"
   ]
  },
  {
   "cell_type": "code",
   "execution_count": 19,
   "metadata": {
    "collapsed": false
   },
   "outputs": [
    {
     "data": {
      "text/plain": [
       "temp         17.018127\n",
       "atemp        19.543807\n",
       "humidity     63.385776\n",
       "windspeed     0.190833\n",
       "dtype: float64"
      ]
     },
     "execution_count": 19,
     "metadata": {},
     "output_type": "execute_result"
    }
   ],
   "source": [
    "#Normalization\n",
    "mean_traindf = traindf[numerical_columns].mean()\n",
    "std_traindf = traindf[numerical_columns].std()\n",
    "mean_traindf"
   ]
  },
  {
   "cell_type": "code",
   "execution_count": 20,
   "metadata": {
    "collapsed": true
   },
   "outputs": [],
   "source": [
    "traindf[numerical_columns] = (traindf[numerical_columns] - mean_traindf)/std_traindf\n",
    "testdf[numerical_columns] = (testdf[numerical_columns] - mean_traindf)/std_traindf"
   ]
  },
  {
   "cell_type": "markdown",
   "metadata": {},
   "source": [
    "#### Linear regression"
   ]
  },
  {
   "cell_type": "code",
   "execution_count": 21,
   "metadata": {
    "collapsed": false
   },
   "outputs": [
    {
     "name": "stdout",
     "output_type": "stream",
     "text": [
      "train r2 =  0.576128178313\n",
      "test r2 =  0.249342111465\n"
     ]
    }
   ],
   "source": [
    "X_train = sm.add_constant(traindf.drop('count', axis=1))\n",
    "X_test = sm.add_constant(testdf.drop('count', axis=1))\n",
    "y_train = traindf['count'].values.reshape(-1,1)\n",
    "y_test = testdf['count'].values.reshape(-1,1)\n",
    "model_reg = OLS(y_train,X_train).fit()\n",
    "y_train_pred = model_reg.predict(X_train)\n",
    "y_test_pred = model_reg.predict(X_test)\n",
    "print 'train r2 = ', r2_score(traindf['count'], y_train_pred)\n",
    "print 'test r2 = ', r2_score(testdf['count'], y_test_pred)"
   ]
  },
  {
   "cell_type": "code",
   "execution_count": 22,
   "metadata": {
    "collapsed": false
   },
   "outputs": [
    {
     "data": {
      "text/html": [
       "<table class=\"simpletable\">\n",
       "<caption>OLS Regression Results</caption>\n",
       "<tr>\n",
       "  <th>Dep. Variable:</th>            <td>y</td>        <th>  R-squared:         </th> <td>   0.576</td>\n",
       "</tr>\n",
       "<tr>\n",
       "  <th>Model:</th>                   <td>OLS</td>       <th>  Adj. R-squared:    </th> <td>   0.538</td>\n",
       "</tr>\n",
       "<tr>\n",
       "  <th>Method:</th>             <td>Least Squares</td>  <th>  F-statistic:       </th> <td>   15.25</td>\n",
       "</tr>\n",
       "<tr>\n",
       "  <th>Date:</th>             <td>Fri, 03 Nov 2017</td> <th>  Prob (F-statistic):</th> <td>6.56e-42</td>\n",
       "</tr>\n",
       "<tr>\n",
       "  <th>Time:</th>                 <td>18:57:16</td>     <th>  Log-Likelihood:    </th> <td> -2832.1</td>\n",
       "</tr>\n",
       "<tr>\n",
       "  <th>No. Observations:</th>      <td>   331</td>      <th>  AIC:               </th> <td>   5720.</td>\n",
       "</tr>\n",
       "<tr>\n",
       "  <th>Df Residuals:</th>          <td>   303</td>      <th>  BIC:               </th> <td>   5827.</td>\n",
       "</tr>\n",
       "<tr>\n",
       "  <th>Df Model:</th>              <td>    27</td>      <th>                     </th>     <td> </td>   \n",
       "</tr>\n",
       "<tr>\n",
       "  <th>Covariance Type:</th>      <td>nonrobust</td>    <th>                     </th>     <td> </td>   \n",
       "</tr>\n",
       "</table>\n",
       "<table class=\"simpletable\">\n",
       "<tr>\n",
       "         <td></td>            <th>coef</th>     <th>std err</th>      <th>t</th>      <th>P>|t|</th> <th>[95.0% Conf. Int.]</th> \n",
       "</tr>\n",
       "<tr>\n",
       "  <th>const</th>           <td> 3681.7765</td> <td>  433.655</td> <td>    8.490</td> <td> 0.000</td> <td> 2828.419  4535.134</td>\n",
       "</tr>\n",
       "<tr>\n",
       "  <th>holiday</th>         <td> -284.3563</td> <td>  398.982</td> <td>   -0.713</td> <td> 0.477</td> <td>-1069.483   500.770</td>\n",
       "</tr>\n",
       "<tr>\n",
       "  <th>workingday</th>      <td>  308.1531</td> <td>  165.413</td> <td>    1.863</td> <td> 0.063</td> <td>  -17.351   633.657</td>\n",
       "</tr>\n",
       "<tr>\n",
       "  <th>temp</th>            <td>  925.7338</td> <td>  474.536</td> <td>    1.951</td> <td> 0.052</td> <td>   -8.070  1859.538</td>\n",
       "</tr>\n",
       "<tr>\n",
       "  <th>atemp</th>           <td>  312.4341</td> <td>  429.987</td> <td>    0.727</td> <td> 0.468</td> <td> -533.705  1158.573</td>\n",
       "</tr>\n",
       "<tr>\n",
       "  <th>humidity</th>        <td> -548.4929</td> <td>  113.200</td> <td>   -4.845</td> <td> 0.000</td> <td> -771.251  -325.735</td>\n",
       "</tr>\n",
       "<tr>\n",
       "  <th>windspeed</th>       <td> -255.1226</td> <td>   80.766</td> <td>   -3.159</td> <td> 0.002</td> <td> -414.057   -96.189</td>\n",
       "</tr>\n",
       "<tr>\n",
       "  <th>season_2.0</th>      <td>  898.8290</td> <td>  487.802</td> <td>    1.843</td> <td> 0.066</td> <td>  -61.079  1858.737</td>\n",
       "</tr>\n",
       "<tr>\n",
       "  <th>season_3.0</th>      <td> 1032.8816</td> <td>  567.827</td> <td>    1.819</td> <td> 0.070</td> <td>  -84.503  2150.266</td>\n",
       "</tr>\n",
       "<tr>\n",
       "  <th>season_4.0</th>      <td> 1226.1865</td> <td>  506.763</td> <td>    2.420</td> <td> 0.016</td> <td>  228.966  2223.407</td>\n",
       "</tr>\n",
       "<tr>\n",
       "  <th>month_2.0</th>       <td>   88.9401</td> <td>  397.048</td> <td>    0.224</td> <td> 0.823</td> <td> -692.381   870.262</td>\n",
       "</tr>\n",
       "<tr>\n",
       "  <th>month_3.0</th>       <td>  239.1809</td> <td>  446.873</td> <td>    0.535</td> <td> 0.593</td> <td> -640.188  1118.549</td>\n",
       "</tr>\n",
       "<tr>\n",
       "  <th>month_4.0</th>       <td>  333.3491</td> <td>  675.444</td> <td>    0.494</td> <td> 0.622</td> <td> -995.806  1662.504</td>\n",
       "</tr>\n",
       "<tr>\n",
       "  <th>month_5.0</th>       <td>  -65.8125</td> <td>  726.311</td> <td>   -0.091</td> <td> 0.928</td> <td>-1495.065  1363.440</td>\n",
       "</tr>\n",
       "<tr>\n",
       "  <th>month_6.0</th>       <td> -792.2629</td> <td>  749.803</td> <td>   -1.057</td> <td> 0.292</td> <td>-2267.744   683.218</td>\n",
       "</tr>\n",
       "<tr>\n",
       "  <th>month_7.0</th>       <td>-1279.9870</td> <td>  816.047</td> <td>   -1.569</td> <td> 0.118</td> <td>-2885.824   325.850</td>\n",
       "</tr>\n",
       "<tr>\n",
       "  <th>month_8.0</th>       <td> -776.4755</td> <td>  794.782</td> <td>   -0.977</td> <td> 0.329</td> <td>-2340.467   787.516</td>\n",
       "</tr>\n",
       "<tr>\n",
       "  <th>month_9.0</th>       <td>  405.1446</td> <td>  694.714</td> <td>    0.583</td> <td> 0.560</td> <td> -961.931  1772.220</td>\n",
       "</tr>\n",
       "<tr>\n",
       "  <th>month_10.0</th>      <td>  486.2509</td> <td>  651.713</td> <td>    0.746</td> <td> 0.456</td> <td> -796.206  1768.708</td>\n",
       "</tr>\n",
       "<tr>\n",
       "  <th>month_11.0</th>      <td>  112.6816</td> <td>  621.610</td> <td>    0.181</td> <td> 0.856</td> <td>-1110.538  1335.902</td>\n",
       "</tr>\n",
       "<tr>\n",
       "  <th>month_12.0</th>      <td> -118.8358</td> <td>  505.353</td> <td>   -0.235</td> <td> 0.814</td> <td>-1113.282   875.611</td>\n",
       "</tr>\n",
       "<tr>\n",
       "  <th>day_of_week_1.0</th> <td> -123.7515</td> <td>  170.981</td> <td>   -0.724</td> <td> 0.470</td> <td> -460.212   212.709</td>\n",
       "</tr>\n",
       "<tr>\n",
       "  <th>day_of_week_2.0</th> <td> -195.2859</td> <td>  203.703</td> <td>   -0.959</td> <td> 0.338</td> <td> -596.137   205.565</td>\n",
       "</tr>\n",
       "<tr>\n",
       "  <th>day_of_week_3.0</th> <td>  170.5113</td> <td>  213.789</td> <td>    0.798</td> <td> 0.426</td> <td> -250.187   591.210</td>\n",
       "</tr>\n",
       "<tr>\n",
       "  <th>day_of_week_4.0</th> <td>   61.2560</td> <td>  206.213</td> <td>    0.297</td> <td> 0.767</td> <td> -344.536   467.048</td>\n",
       "</tr>\n",
       "<tr>\n",
       "  <th>day_of_week_5.0</th> <td>  111.0669</td> <td>  198.877</td> <td>    0.558</td> <td> 0.577</td> <td> -280.288   502.422</td>\n",
       "</tr>\n",
       "<tr>\n",
       "  <th>day_of_week_6.0</th> <td>  465.1450</td> <td>  269.154</td> <td>    1.728</td> <td> 0.085</td> <td>  -64.504   994.794</td>\n",
       "</tr>\n",
       "<tr>\n",
       "  <th>weather_2.0</th>     <td>  -16.5666</td> <td>  210.139</td> <td>   -0.079</td> <td> 0.937</td> <td> -430.083   396.949</td>\n",
       "</tr>\n",
       "<tr>\n",
       "  <th>weather_3.0</th>     <td>-1581.9783</td> <td>  529.223</td> <td>   -2.989</td> <td> 0.003</td> <td>-2623.396  -540.560</td>\n",
       "</tr>\n",
       "</table>\n",
       "<table class=\"simpletable\">\n",
       "<tr>\n",
       "  <th>Omnibus:</th>       <td>28.947</td> <th>  Durbin-Watson:     </th> <td>   1.912</td>\n",
       "</tr>\n",
       "<tr>\n",
       "  <th>Prob(Omnibus):</th> <td> 0.000</td> <th>  Jarque-Bera (JB):  </th> <td>   9.753</td>\n",
       "</tr>\n",
       "<tr>\n",
       "  <th>Skew:</th>          <td> 0.054</td> <th>  Prob(JB):          </th> <td> 0.00762</td>\n",
       "</tr>\n",
       "<tr>\n",
       "  <th>Kurtosis:</th>      <td> 2.166</td> <th>  Cond. No.          </th> <td>2.22e+15</td>\n",
       "</tr>\n",
       "</table>"
      ],
      "text/plain": [
       "<class 'statsmodels.iolib.summary.Summary'>\n",
       "\"\"\"\n",
       "                            OLS Regression Results                            \n",
       "==============================================================================\n",
       "Dep. Variable:                      y   R-squared:                       0.576\n",
       "Model:                            OLS   Adj. R-squared:                  0.538\n",
       "Method:                 Least Squares   F-statistic:                     15.25\n",
       "Date:                Fri, 03 Nov 2017   Prob (F-statistic):           6.56e-42\n",
       "Time:                        18:57:16   Log-Likelihood:                -2832.1\n",
       "No. Observations:                 331   AIC:                             5720.\n",
       "Df Residuals:                     303   BIC:                             5827.\n",
       "Df Model:                          27                                         \n",
       "Covariance Type:            nonrobust                                         \n",
       "===================================================================================\n",
       "                      coef    std err          t      P>|t|      [95.0% Conf. Int.]\n",
       "-----------------------------------------------------------------------------------\n",
       "const            3681.7765    433.655      8.490      0.000      2828.419  4535.134\n",
       "holiday          -284.3563    398.982     -0.713      0.477     -1069.483   500.770\n",
       "workingday        308.1531    165.413      1.863      0.063       -17.351   633.657\n",
       "temp              925.7338    474.536      1.951      0.052        -8.070  1859.538\n",
       "atemp             312.4341    429.987      0.727      0.468      -533.705  1158.573\n",
       "humidity         -548.4929    113.200     -4.845      0.000      -771.251  -325.735\n",
       "windspeed        -255.1226     80.766     -3.159      0.002      -414.057   -96.189\n",
       "season_2.0        898.8290    487.802      1.843      0.066       -61.079  1858.737\n",
       "season_3.0       1032.8816    567.827      1.819      0.070       -84.503  2150.266\n",
       "season_4.0       1226.1865    506.763      2.420      0.016       228.966  2223.407\n",
       "month_2.0          88.9401    397.048      0.224      0.823      -692.381   870.262\n",
       "month_3.0         239.1809    446.873      0.535      0.593      -640.188  1118.549\n",
       "month_4.0         333.3491    675.444      0.494      0.622      -995.806  1662.504\n",
       "month_5.0         -65.8125    726.311     -0.091      0.928     -1495.065  1363.440\n",
       "month_6.0        -792.2629    749.803     -1.057      0.292     -2267.744   683.218\n",
       "month_7.0       -1279.9870    816.047     -1.569      0.118     -2885.824   325.850\n",
       "month_8.0        -776.4755    794.782     -0.977      0.329     -2340.467   787.516\n",
       "month_9.0         405.1446    694.714      0.583      0.560      -961.931  1772.220\n",
       "month_10.0        486.2509    651.713      0.746      0.456      -796.206  1768.708\n",
       "month_11.0        112.6816    621.610      0.181      0.856     -1110.538  1335.902\n",
       "month_12.0       -118.8358    505.353     -0.235      0.814     -1113.282   875.611\n",
       "day_of_week_1.0  -123.7515    170.981     -0.724      0.470      -460.212   212.709\n",
       "day_of_week_2.0  -195.2859    203.703     -0.959      0.338      -596.137   205.565\n",
       "day_of_week_3.0   170.5113    213.789      0.798      0.426      -250.187   591.210\n",
       "day_of_week_4.0    61.2560    206.213      0.297      0.767      -344.536   467.048\n",
       "day_of_week_5.0   111.0669    198.877      0.558      0.577      -280.288   502.422\n",
       "day_of_week_6.0   465.1450    269.154      1.728      0.085       -64.504   994.794\n",
       "weather_2.0       -16.5666    210.139     -0.079      0.937      -430.083   396.949\n",
       "weather_3.0     -1581.9783    529.223     -2.989      0.003     -2623.396  -540.560\n",
       "==============================================================================\n",
       "Omnibus:                       28.947   Durbin-Watson:                   1.912\n",
       "Prob(Omnibus):                  0.000   Jarque-Bera (JB):                9.753\n",
       "Skew:                           0.054   Prob(JB):                      0.00762\n",
       "Kurtosis:                       2.166   Cond. No.                     2.22e+15\n",
       "==============================================================================\n",
       "\n",
       "Warnings:\n",
       "[1] Standard Errors assume that the covariance matrix of the errors is correctly specified.\n",
       "[2] The smallest eigenvalue is 1.52e-28. This might indicate that there are\n",
       "strong multicollinearity problems or that the design matrix is singular.\n",
       "\"\"\""
      ]
     },
     "execution_count": 22,
     "metadata": {},
     "output_type": "execute_result"
    }
   ],
   "source": [
    "model_reg.summary()"
   ]
  },
  {
   "cell_type": "code",
   "execution_count": 23,
   "metadata": {
    "collapsed": false
   },
   "outputs": [
    {
     "data": {
      "text/plain": [
       "const               True\n",
       "holiday            False\n",
       "workingday         False\n",
       "temp               False\n",
       "atemp              False\n",
       "humidity            True\n",
       "windspeed           True\n",
       "season_2.0         False\n",
       "season_3.0         False\n",
       "season_4.0          True\n",
       "month_2.0          False\n",
       "month_3.0          False\n",
       "month_4.0          False\n",
       "month_5.0          False\n",
       "month_6.0          False\n",
       "month_7.0          False\n",
       "month_8.0          False\n",
       "month_9.0          False\n",
       "month_10.0         False\n",
       "month_11.0         False\n",
       "month_12.0         False\n",
       "day_of_week_1.0    False\n",
       "day_of_week_2.0    False\n",
       "day_of_week_3.0    False\n",
       "day_of_week_4.0    False\n",
       "day_of_week_5.0    False\n",
       "day_of_week_6.0    False\n",
       "weather_2.0        False\n",
       "weather_3.0         True\n",
       "dtype: bool"
      ]
     },
     "execution_count": 23,
     "metadata": {},
     "output_type": "execute_result"
    }
   ],
   "source": [
    "#for alpha 0.05\n",
    "model_reg.pvalues<0.05"
   ]
  },
  {
   "cell_type": "code",
   "execution_count": 24,
   "metadata": {
    "collapsed": false
   },
   "outputs": [
    {
     "data": {
      "text/plain": [
       "const              False\n",
       "holiday            False\n",
       "workingday         False\n",
       "temp               False\n",
       "atemp              False\n",
       "humidity           False\n",
       "windspeed          False\n",
       "season_2.0         False\n",
       "season_3.0         False\n",
       "season_4.0         False\n",
       "month_2.0          False\n",
       "month_3.0          False\n",
       "month_4.0          False\n",
       "month_5.0          False\n",
       "month_6.0          False\n",
       "month_7.0          False\n",
       "month_8.0          False\n",
       "month_9.0          False\n",
       "month_10.0         False\n",
       "month_11.0         False\n",
       "month_12.0         False\n",
       "day_of_week_1.0    False\n",
       "day_of_week_2.0    False\n",
       "day_of_week_3.0    False\n",
       "day_of_week_4.0    False\n",
       "day_of_week_5.0    False\n",
       "day_of_week_6.0    False\n",
       "weather_2.0        False\n",
       "weather_3.0        False\n",
       "dtype: bool"
      ]
     },
     "execution_count": 24,
     "metadata": {},
     "output_type": "execute_result"
    }
   ],
   "source": [
    "model_reg.params == 0\n"
   ]
  },
  {
   "cell_type": "code",
   "execution_count": 25,
   "metadata": {
    "collapsed": false
   },
   "outputs": [
    {
     "data": {
      "text/plain": [
       "const          9.368885e-16\n",
       "humidity       2.020827e-06\n",
       "windspeed      1.744235e-03\n",
       "season_4.0     1.612408e-02\n",
       "weather_3.0    3.025734e-03\n",
       "dtype: float64"
      ]
     },
     "execution_count": 25,
     "metadata": {},
     "output_type": "execute_result"
    }
   ],
   "source": [
    "#good Correlation\n",
    "model_reg.pvalues[model_reg.pvalues<0.05]"
   ]
  },
  {
   "cell_type": "code",
   "execution_count": 27,
   "metadata": {
    "collapsed": false
   },
   "outputs": [
    {
     "data": {
      "text/plain": [
       "const         9.368885e-16\n",
       "season_4.0    1.612408e-02\n",
       "dtype: float64"
      ]
     },
     "execution_count": 27,
     "metadata": {},
     "output_type": "execute_result"
    }
   ],
   "source": [
    "#positive Corr\n",
    "model_reg.pvalues[(model_reg.pvalues<0.05) & (model_reg.params > 0) ]"
   ]
  },
  {
   "cell_type": "code",
   "execution_count": 28,
   "metadata": {
    "collapsed": false
   },
   "outputs": [
    {
     "data": {
      "text/plain": [
       "humidity       0.000002\n",
       "windspeed      0.001744\n",
       "weather_3.0    0.003026\n",
       "dtype: float64"
      ]
     },
     "execution_count": 28,
     "metadata": {},
     "output_type": "execute_result"
    }
   ],
   "source": [
    "#-ve corr\n",
    "model_reg.pvalues[(model_reg.pvalues<0.05) & (model_reg.params < 0) ]"
   ]
  },
  {
   "cell_type": "markdown",
   "metadata": {},
   "source": [
    "#### Subset Selection \n",
    "- Step-wise forward selection"
   ]
  },
  {
   "cell_type": "code",
   "execution_count": 29,
   "metadata": {
    "collapsed": true
   },
   "outputs": [],
   "source": [
    "def forward_selection(df,output_col):\n",
    "    y_train = df[output_col].values.reshape(-1,1)\n",
    "    predictors = set(df.drop('count', axis=1).columns)\n",
    "    selected_predictors = set()\n",
    "    n = df.shape[0]\n",
    "    best_bic = np.inf\n",
    "    best_bics = []\n",
    "    best_models = []\n",
    "    X = np.ones(n).reshape(-1,1)\n",
    "    X = np.concatenate([X, df[list(selected_predictors)].values], axis=1)\n",
    "    while (True):\n",
    "        possible_bic_scores = []\n",
    "        possible_predictors = list(selected_predictors ^ predictors)\n",
    "        if len(possible_predictors) == 0:\n",
    "            break    \n",
    "        for predictor in possible_predictors: \n",
    "            x_temp = np.concatenate([X, df[predictor].values.reshape(-1,1)], axis=1)\n",
    "            model = OLS(y_train,x_temp).fit()\n",
    "            bic = model.bic\n",
    "            possible_bic_scores.append(bic)      \n",
    "        best_predictor_ix = np.argmin(possible_bic_scores)\n",
    "        best_predictor = possible_predictors[best_predictor_ix]   \n",
    "        best_bic = np.min(possible_bic_scores)\n",
    "        best_bics.append(best_bic)\n",
    "        selected_predictors.add(best_predictor)            \n",
    "        X = np.concatenate([X, df[best_predictor].values.reshape(-1,1)], axis=1)\n",
    "        best_models.append(list(selected_predictors))\n",
    "    index_of_best_bic = np.argmin(best_bics)\n",
    "    return best_models[index_of_best_bic]"
   ]
  },
  {
   "cell_type": "code",
   "execution_count": 30,
   "metadata": {
    "collapsed": false
   },
   "outputs": [
    {
     "data": {
      "text/plain": [
       "['season_4.0',\n",
       " 'windspeed',\n",
       " 'humidity',\n",
       " 'atemp',\n",
       " 'month_9.0',\n",
       " 'weather_3.0',\n",
       " 'season_2.0']"
      ]
     },
     "execution_count": 30,
     "metadata": {},
     "output_type": "execute_result"
    }
   ],
   "source": [
    "forward_pred = forward_selection(traindf,'count')\n",
    "forward_pred"
   ]
  },
  {
   "cell_type": "markdown",
   "metadata": {},
   "source": [
    "- Step-wise backward selection"
   ]
  },
  {
   "cell_type": "code",
   "execution_count": 31,
   "metadata": {
    "collapsed": true
   },
   "outputs": [],
   "source": [
    "def backward_selection(df,output_col):\n",
    "    y_train = df[output_col].values.reshape(-1,1)\n",
    "    predictors = set(df.drop('count', axis=1).columns)\n",
    "    selected_predictors = set(predictors)\n",
    "    n = df.shape[0]\n",
    "    best_bic = np.inf \n",
    "    best_bics = []\n",
    "    best_models = []\n",
    "    while True:\n",
    "        possible_bic_scores = []\n",
    "        possible_predictors = list(selected_predictors)\n",
    "        if len(possible_predictors) == 0:\n",
    "            break\n",
    "        for predictor in possible_predictors:\n",
    "            X = np.concatenate([np.ones(n).reshape(-1,1), df[list(selected_predictors - set([predictor]))].values], axis=1)\n",
    "            model = OLS(y_train,X).fit()\n",
    "            bic = model.bic\n",
    "            possible_bic_scores.append(bic)\n",
    "        best_predictor_ix = np.argmin(possible_bic_scores)\n",
    "        best_predictor = possible_predictors[best_predictor_ix] \n",
    "        best_bic = possible_bic_scores[best_predictor_ix]\n",
    "        selected_predictors.discard(best_predictor) \n",
    "        best_bics.append(best_bic)\n",
    "        best_models.append(list(selected_predictors))\n",
    "    index_of_best_bic = np.argmin(best_bics)\n",
    "    return best_models[index_of_best_bic]"
   ]
  },
  {
   "cell_type": "code",
   "execution_count": 32,
   "metadata": {
    "collapsed": false
   },
   "outputs": [
    {
     "data": {
      "text/plain": [
       "['humidity',\n",
       " 'windspeed',\n",
       " 'season_3.0',\n",
       " 'month_7.0',\n",
       " 'season_4.0',\n",
       " 'weather_3.0',\n",
       " 'month_8.0',\n",
       " 'temp',\n",
       " 'month_6.0',\n",
       " 'season_2.0']"
      ]
     },
     "execution_count": 32,
     "metadata": {},
     "output_type": "execute_result"
    }
   ],
   "source": [
    "backward_pred = backward_selection(traindf,'count')\n",
    "backward_pred"
   ]
  },
  {
   "cell_type": "markdown",
   "metadata": {},
   "source": [
    "#### Cross validation"
   ]
  },
  {
   "cell_type": "code",
   "execution_count": 34,
   "metadata": {
    "collapsed": false
   },
   "outputs": [
    {
     "data": {
      "text/plain": [
       "array([ 0.34257855,  0.46033274,  0.4402681 ])"
      ]
     },
     "execution_count": 34,
     "metadata": {},
     "output_type": "execute_result"
    }
   ],
   "source": [
    "from sklearn.cross_validation import KFold\n",
    "n = traindf.shape[0]\n",
    "scores = []\n",
    "for f_train, f_test in KFold(n, n_folds=10, shuffle=False, random_state=11):\n",
    "    mini_train = traindf.iloc[f_train]\n",
    "    mini_test = traindf.iloc[f_test]\n",
    "    score = []\n",
    "    for model in [traindf.drop('count', axis=1).columns, list(backward_pred), list(forward_pred)]:    \n",
    "        X_train = sm.add_constant(mini_train[model])\n",
    "        X_test = sm.add_constant(mini_test[model], has_constant='add') #small number of training example   \n",
    "        y_train = mini_train['count'].values.reshape(-1,1)\n",
    "        y_test = mini_test['count'].values.reshape(-1,1)\n",
    "        model = OLS(y_train,X_train)\n",
    "        result = model.fit()\n",
    "        y_pred_train = result.predict()\n",
    "        y_pred_test = result.predict(X_test)      \n",
    "        score.append(r2_score(y_test, y_pred_test))                   \n",
    "    scores.append(score)   \n",
    "scores = np.array(scores)\n",
    "np.mean(scores, axis=0)"
   ]
  },
  {
   "cell_type": "code",
   "execution_count": null,
   "metadata": {
    "collapsed": true
   },
   "outputs": [],
   "source": []
  }
 ],
 "metadata": {
  "kernelspec": {
   "display_name": "Python [Root]",
   "language": "python",
   "name": "Python [Root]"
  },
  "language_info": {
   "codemirror_mode": {
    "name": "ipython",
    "version": 2
   },
   "file_extension": ".py",
   "mimetype": "text/x-python",
   "name": "python",
   "nbconvert_exporter": "python",
   "pygments_lexer": "ipython2",
   "version": "2.7.11"
  }
 },
 "nbformat": 4,
 "nbformat_minor": 0
}
