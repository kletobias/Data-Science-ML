{
 "cells": [
  {
   "cell_type": "markdown",
   "metadata": {},
   "source": [
    "### K-Means Clustering for Amazon food reviews:"
   ]
  },
  {
   "cell_type": "code",
   "execution_count": 1,
   "metadata": {},
   "outputs": [],
   "source": [
    "#importing required Modules\n",
    "%matplotlib inline\n",
    "import sqlite3\n",
    "import pandas as pd\n",
    "import numpy as np\n",
    "import nltk\n",
    "import string\n",
    "import pickle\n",
    "import matplotlib.pyplot as plt\n",
    "import seaborn as sns\n",
    "from sklearn.feature_extraction.text import TfidfTransformer\n",
    "from sklearn.feature_extraction.text import TfidfVectorizer\n",
    "from sklearn.feature_extraction.text import CountVectorizer\n",
    "from nltk.stem.porter import PorterStemmer\n",
    "from sklearn.preprocessing import StandardScaler\n",
    "from sklearn.model_selection import TimeSeriesSplit\n",
    "from sklearn.model_selection import GridSearchCV\n",
    "from sklearn.model_selection import RandomizedSearchCV\n",
    "from sklearn.cluster import KMeans\n",
    "import warnings\n",
    "warnings.filterwarnings('ignore')"
   ]
  },
  {
   "cell_type": "code",
   "execution_count": 2,
   "metadata": {},
   "outputs": [],
   "source": [
    "#getting cleaned data from db\n",
    "conn = sqlite3.connect('final_clean_LR.sqlite')\n",
    "final_review = pd.read_sql_query(\"\"\"\n",
    "SELECT *\n",
    "FROM Reviews_final\n",
    "\"\"\", conn) "
   ]
  },
  {
   "cell_type": "code",
   "execution_count": 3,
   "metadata": {},
   "outputs": [],
   "source": [
    "#SORT by time for TBS\n",
    "final_review = final_review.sort_values(by='Time')"
   ]
  },
  {
   "cell_type": "code",
   "execution_count": null,
   "metadata": {},
   "outputs": [],
   "source": [
    "final_review.drop('Score',axis=1,inplace=True)"
   ]
  },
  {
   "cell_type": "code",
   "execution_count": 4,
   "metadata": {},
   "outputs": [
    {
     "name": "stdout",
     "output_type": "stream",
     "text": [
      "<class 'pandas.core.frame.DataFrame'>\n",
      "Int64Index: 364171 entries, 23 to 345187\n",
      "Data columns (total 15 columns):\n",
      "level_0                   364171 non-null int64\n",
      "index                     364171 non-null int64\n",
      "Id                        364171 non-null int64\n",
      "ProductId                 364171 non-null object\n",
      "UserId                    364171 non-null object\n",
      "ProfileName               364171 non-null object\n",
      "HelpfulnessNumerator      364171 non-null int64\n",
      "HelpfulnessDenominator    364171 non-null int64\n",
      "Score                     364171 non-null object\n",
      "Time                      364171 non-null int64\n",
      "Summary                   364171 non-null object\n",
      "Text                      364171 non-null object\n",
      "CleanedTextBow            364171 non-null object\n",
      "final_text                364171 non-null object\n",
      "final_stem_text           364171 non-null object\n",
      "dtypes: int64(6), object(9)\n",
      "memory usage: 44.5+ MB\n"
     ]
    }
   ],
   "source": [
    "#info of data\n",
    "final_review.info()"
   ]
  },
  {
   "cell_type": "code",
   "execution_count": 5,
   "metadata": {},
   "outputs": [],
   "source": [
    "#Converting to int8\n",
    "final_review.HelpfulnessNumerator = final_review.\\\n",
    "                      HelpfulnessNumerator.astype(np.int8)\n",
    "final_review.HelpfulnessDenominator = final_review.\\\n",
    "                      HelpfulnessDenominator.astype(np.int8)"
   ]
  },
  {
   "cell_type": "code",
   "execution_count": 6,
   "metadata": {},
   "outputs": [],
   "source": [
    "train_df = final_review.iloc[:round(final_review.shape[0]*0.70),:]\n",
    "test_df = final_review.iloc[round(final_review.shape[0]*0.70):,:]"
   ]
  },
  {
   "cell_type": "markdown",
   "metadata": {},
   "source": [
    "#### Bag of Words"
   ]
  },
  {
   "cell_type": "code",
   "execution_count": 7,
   "metadata": {},
   "outputs": [],
   "source": [
    "#BoW with cleaned data and without stopwords\n",
    "#simple cv for train data\n",
    "scores_train = []\n",
    "from nltk.corpus import stopwords\n",
    "stop = set(stopwords.words('english'))\n",
    "stop.remove('not')\n",
    "stop.remove('very')\n",
    "#CountVectorizer for BoW\n",
    "count_vect = CountVectorizer(stop_words=list(stop),dtype=np.int8)\n",
    "#X_test_cv = train_df.iloc[round(train_df.shape[0]*0.70):,:]\n",
    "final_counts_train = count_vect.fit_transform(\n",
    "        train_df['final_text'].values)\n",
    "final_counts_test = count_vect.transform(\n",
    "        test_df['final_text'].values)"
   ]
  },
  {
   "cell_type": "code",
   "execution_count": 11,
   "metadata": {},
   "outputs": [
    {
     "name": "stdout",
     "output_type": "stream",
     "text": [
      "No of clusters 2 Sum of Squared dist 17090972.935039584\n",
      "No of clusters 3 Sum of Squared dist 16889129.80389441\n",
      "No of clusters 4 Sum of Squared dist 16599901.618375564\n",
      "No of clusters 5 Sum of Squared dist 16662864.771436755\n",
      "No of clusters 6 Sum of Squared dist 16384658.648390105\n",
      "No of clusters 7 Sum of Squared dist 16298392.490236422\n",
      "No of clusters 8 Sum of Squared dist 16205244.435071379\n",
      "No of clusters 9 Sum of Squared dist 16110676.756141247\n",
      "No of clusters 10 Sum of Squared dist 16014505.905228948\n",
      "No of clusters 11 Sum of Squared dist 15988800.120337114\n",
      "No of clusters 12 Sum of Squared dist 15934268.485165115\n",
      "No of clusters 13 Sum of Squared dist 15899301.555551339\n",
      "No of clusters 14 Sum of Squared dist 15880090.2596671\n",
      "No of clusters 15 Sum of Squared dist 15867199.892136786\n",
      "No of clusters 16 Sum of Squared dist 15826427.815612264\n",
      "No of clusters 17 Sum of Squared dist 15764300.773115376\n",
      "No of clusters 18 Sum of Squared dist 15722229.345665809\n",
      "No of clusters 19 Sum of Squared dist 15717216.974098468\n",
      "No of clusters 20 Sum of Squared dist 15722633.094975237\n",
      "No of clusters 21 Sum of Squared dist 15681793.791078253\n",
      "No of clusters 22 Sum of Squared dist 15655262.02774996\n",
      "No of clusters 23 Sum of Squared dist 15622175.54597837\n",
      "No of clusters 24 Sum of Squared dist 15573855.17671994\n",
      "No of clusters 25 Sum of Squared dist 15564228.805704951\n",
      "No of clusters 26 Sum of Squared dist 15552663.195803063\n",
      "No of clusters 27 Sum of Squared dist 15544752.867035514\n",
      "No of clusters 28 Sum of Squared dist 15471454.512619289\n",
      "No of clusters 29 Sum of Squared dist 15464379.974905053\n",
      "No of clusters 30 Sum of Squared dist 15455837.630540872\n",
      "\n"
     ]
    }
   ],
   "source": [
    "ssd = {}\n",
    "centers = {}\n",
    "for k in range(1,31):\n",
    "    model = KMeans(n_clusters=k,n_init=10,max_iter=800,random_state=25,n_jobs=-1)\n",
    "    model.fit(final_counts_train)\n",
    "    ssd[k] = model.inertia_\n",
    "    centers[k] = model.cluster_centers_\n",
    "    print('No of clusters',k,'Sum of Squared dist',model.inertia_)"
   ]
  },
  {
   "cell_type": "code",
   "execution_count": 229,
   "metadata": {
    "scrolled": false
   },
   "outputs": [
    {
     "data": {
      "image/png": "[encoded data removed]",
      "text/plain": [
       "<matplotlib.figure.Figure at 0x14c54ee102e8>"
      ]
     },
     "metadata": {},
     "output_type": "display_data"
    }
   ],
   "source": [
    "plt.figure(figsize=(12,8))\n",
    "plt.plot(list(ssd.keys()),list(ssd.values()))\n",
    "plt.xlim(0,20)\n",
    "plt.xlabel('No of Clusters')\n",
    "plt.ylabel('Sum of Sqared distances')\n",
    "plt.title('elbow method for BoW')\n",
    "plt.grid()"
   ]
  },
  {
   "cell_type": "markdown",
   "metadata": {},
   "source": [
    "from above we can observe that 10 cluster are good "
   ]
  },
  {
   "cell_type": "code",
   "execution_count": 9,
   "metadata": {},
   "outputs": [],
   "source": [
    "model_bow = KMeans(n_clusters=10,n_init=10,random_state=25)\n",
    "model_bow.fit(final_counts_train)"
   ]
  },
  {
   "cell_type": "code",
   "execution_count": 233,
   "metadata": {},
   "outputs": [
    {
     "data": {
      "text/plain": [
       "array([0, 0, 0, ..., 0, 0, 2], dtype=int32)"
      ]
     },
     "execution_count": 233,
     "metadata": {},
     "output_type": "execute_result"
    }
   ],
   "source": [
    "#labes for all the data in train_df\n",
    "model_bow.labels_"
   ]
  },
  {
   "cell_type": "code",
   "execution_count": 234,
   "metadata": {},
   "outputs": [],
   "source": [
    "train_df['bow_pred_label'] = model_bow.labels_"
   ]
  },
  {
   "cell_type": "code",
   "execution_count": 235,
   "metadata": {},
   "outputs": [
    {
     "data": {
      "text/html": [
       "<div>\n",
       "<style>\n",
       "    .dataframe thead tr:only-child th {\n",
       "        text-align: right;\n",
       "    }\n",
       "\n",
       "    .dataframe thead th {\n",
       "        text-align: left;\n",
       "    }\n",
       "\n",
       "    .dataframe tbody tr th {\n",
       "        vertical-align: top;\n",
       "    }\n",
       "</style>\n",
       "<table border=\"1\" class=\"dataframe\">\n",
       "  <thead>\n",
       "    <tr style=\"text-align: right;\">\n",
       "      <th></th>\n",
       "      <th>final_text</th>\n",
       "      <th>ProductId</th>\n",
       "    </tr>\n",
       "    <tr>\n",
       "      <th>bow_pred_label</th>\n",
       "      <th></th>\n",
       "      <th></th>\n",
       "    </tr>\n",
       "  </thead>\n",
       "  <tbody>\n",
       "    <tr>\n",
       "      <th>0</th>\n",
       "      <td>142764</td>\n",
       "      <td>142764</td>\n",
       "    </tr>\n",
       "    <tr>\n",
       "      <th>1</th>\n",
       "      <td>9029</td>\n",
       "      <td>9029</td>\n",
       "    </tr>\n",
       "    <tr>\n",
       "      <th>2</th>\n",
       "      <td>14666</td>\n",
       "      <td>14666</td>\n",
       "    </tr>\n",
       "    <tr>\n",
       "      <th>3</th>\n",
       "      <td>2027</td>\n",
       "      <td>2027</td>\n",
       "    </tr>\n",
       "    <tr>\n",
       "      <th>4</th>\n",
       "      <td>22661</td>\n",
       "      <td>22661</td>\n",
       "    </tr>\n",
       "    <tr>\n",
       "      <th>5</th>\n",
       "      <td>5917</td>\n",
       "      <td>5917</td>\n",
       "    </tr>\n",
       "    <tr>\n",
       "      <th>6</th>\n",
       "      <td>3289</td>\n",
       "      <td>3289</td>\n",
       "    </tr>\n",
       "    <tr>\n",
       "      <th>7</th>\n",
       "      <td>10456</td>\n",
       "      <td>10456</td>\n",
       "    </tr>\n",
       "    <tr>\n",
       "      <th>8</th>\n",
       "      <td>1222</td>\n",
       "      <td>1222</td>\n",
       "    </tr>\n",
       "    <tr>\n",
       "      <th>9</th>\n",
       "      <td>42889</td>\n",
       "      <td>42889</td>\n",
       "    </tr>\n",
       "  </tbody>\n",
       "</table>\n",
       "</div>"
      ],
      "text/plain": [
       "                final_text  ProductId\n",
       "bow_pred_label                       \n",
       "0                   142764     142764\n",
       "1                     9029       9029\n",
       "2                    14666      14666\n",
       "3                     2027       2027\n",
       "4                    22661      22661\n",
       "5                     5917       5917\n",
       "6                     3289       3289\n",
       "7                    10456      10456\n",
       "8                     1222       1222\n",
       "9                    42889      42889"
      ]
     },
     "execution_count": 235,
     "metadata": {},
     "output_type": "execute_result"
    }
   ],
   "source": [
    "#no of points in each group\n",
    "train_df.groupby('bow_pred_label')['final_text','ProductId'].count()"
   ]
  },
  {
   "cell_type": "code",
   "execution_count": 236,
   "metadata": {},
   "outputs": [],
   "source": [
    "grp = train_df.groupby('bow_pred_label')[['final_text','ProductId']]"
   ]
  },
  {
   "cell_type": "code",
   "execution_count": 131,
   "metadata": {
    "scrolled": false
   },
   "outputs": [
    {
     "name": "stdout",
     "output_type": "stream",
     "text": [
      "group 0\n",
      "great product bad price but why would pay amazon twice what they charge brick and mortar store\n",
      "B000NN5GU8\n",
      "\n",
      "this awesome this better than peanut butter hand down it only got one ingredient and thats organic sunflower seed would recommend this everyone\n",
      "B002OK2FCA\n",
      "\n",
      "little guy these are perfect for little guy they are the perfect size for him and love that they are juice\n",
      "B003GBHX5K\n",
      "\n",
      "awesome popcorn have been ordering this popcorn from bob red mill for several year and great able order from amazon now after this popcorn which light and clean other popcorn can measure use the Orville reddenbock microwave popper and make great bowl popcorn small large and with without the oil the four pack last long time and the long run much le expensive than the bag popcorn\n",
      "B004VLV6ES\n",
      "\n",
      "too good there huge problem with these cracker cant limit myself cant describe the taste except say addictive not cracker lover these are the first cracker have bought second time now get them auto delivery they are light crisp and incredibly tasty\n",
      "B002ZJMSKO\n",
      "\n"
     ]
    }
   ],
   "source": [
    "print('group 0')\n",
    "for i in grp.get_group(0).sample(5).values:\n",
    "    print(i[0])\n",
    "    print(i[1])\n",
    "    print()"
   ]
  },
  {
   "cell_type": "code",
   "execution_count": 132,
   "metadata": {},
   "outputs": [
    {
     "name": "stdout",
     "output_type": "stream",
     "text": [
      "group 1\n",
      "great dog food great price and very good food for our dog her coat shiny bad breath and she love the taste\n",
      "B0009X63VS\n",
      "\n",
      "great price great ingredient searched the dog food rating page and found this one the best for it price dog are both healthy they eat just like they any food have year old female golden retriever year old female labrador retriever\n",
      "B0018CE6DQ\n",
      "\n",
      "great treat dog loved this treat wouldnt recommend for large dog mine lb and she finished about hour liked the fact that didnt get slimy smelly maybe there wasnt enough time for that\n",
      "B000RI40UQ\n",
      "\n",
      "aggressive chewer semi satisfied saying month lab puppy aggressive chewer understatement she truly put all toy through the ringer and will put others given the opportunity that being said have only owned this toy for day and she ha gotten very small smaller than rice sized off the souper sized bone the product did say that this would happen wa prepared and only give this her while are home she ha mean broken and are hopeful that this chew will last good while this toy last month will pay for itself this coming from the dog who ha chewed through aggressive chew toy the age month always one size and she still manages through them and usually within the first day far good will update month but for now thanks nylabone\n",
      "B0061PPLYI\n",
      "\n",
      "garlic juice spray recently ordered this product because wa told would help control flea dog received quickly and began spraying dog food and work flea problem much better and dog seem enjoy their food with the garlic spray will continue order this product whenever need thank you for great product\n",
      "B002G8EJSI\n",
      "\n"
     ]
    }
   ],
   "source": [
    "print('group 1')\n",
    "for i in grp.get_group(1).sample(5).values:\n",
    "    print(i[0])\n",
    "    print(i[1])\n",
    "    print()"
   ]
  },
  {
   "cell_type": "code",
   "execution_count": 134,
   "metadata": {
    "scrolled": false
   },
   "outputs": [
    {
     "name": "stdout",
     "output_type": "stream",
     "text": [
      "group 2\n",
      "alkaline tea for all who have acid reflux Gerd great tasting alkaline decaf tea which should used everybody that suffers from acid reflux Gerd use one bag and make pot Cuisinart coffee pot get off the coffee and caffeine kick and get well\n",
      "B000CMIZ0I\n",
      "\n",
      "garbage purchased the december and returned back bus wholesale club the have very little coffee inside them you want large cup cup coffee forget the size small and the coffee watered down same thing with the size you want espresso buy something under keurig screwed with this line called customer service one pick the phone and you can not leave message either final for more information\n",
      "B003WAX3H2\n",
      "\n",
      "awesome flavor love this coffee the morning noon night doe not have too much coconut flavor but just enough would absolutely recommend this coffee\n",
      "B003G52BN0\n",
      "\n",
      "disappointing you may wondering what disappointing about four star coffee this better than average brew reasonably strong while not bitter robust bean but the flavour intense not particularly rich you love timothy rainforest espresso parisian night this coffee not the same league similar green mountain bold roast\n",
      "B006N3HYYS\n",
      "\n",
      "coffee Folgers instant coffee come jar which very convenient because coffee not loos it freshness the end the jar coffee very good and fresh\n",
      "B001EQ4F14\n",
      "\n"
     ]
    }
   ],
   "source": [
    "print('group 2')\n",
    "for i in grp.get_group(2).sample(5).values:\n",
    "    print(i[0])\n",
    "    print(i[1])\n",
    "    print()"
   ]
  },
  {
   "cell_type": "code",
   "execution_count": 138,
   "metadata": {},
   "outputs": [
    {
     "name": "stdout",
     "output_type": "stream",
     "text": [
      "group 3\n",
      "great coffee decided try this coffee whim since the town college town that ha very limited coffee selection else the coffee overpriced when saw this saw two thing hawaiian blend and hazelnut immediately wanted try bought and brewed some soon could and really really like this coffee this coffee seems have the perfect balance between the coffee taste and the flavor which awesome because many time flavored coffee taste just like regular coffee blend the only thing that did not like wa the fact that the bag are not resealable\n",
      "B003OP558A\n",
      "\n",
      "Dumm bought this local grocery store use new coffee espresso machine big coffee nut even roast own coffee have grinder but the moment it about mile away from had settle with this and honest it pretty tasty much better than Starbucks best freshly ground stuff tell you how bad really worst coffee the universe but compared own stuff illy coffee downright nasty yes freshly roasted freshly ground coffee that good but you have nothing else available you dont want buy grinder this the best canned coffee money can buy can find local grocery store for lot cheaper than here under buck the san antonio based texas grocery chain\n",
      "B001E5DYTE\n",
      "\n",
      "kick Starbucks butt ive never been huge fan the overpriced coffee Starbucks even the minority it just too bitter and way overpriced for what really it just coffee folk matter how you dress and prefer just cream and sugar being from canada and loving the smoothness tim Horton coffee indeed bring back much can when home visiting have always tried other coffee neighborhood ive lived around the hoping find something local that like just much when arrived the san francisco area few year ago tried meet and enjoyed enough that when the coffee became available local grocery store tried the different type major Dickenson ha robust flavor and bitter aftertaste mentioned another reviewer and wa missing after leaving san francisco wa overjoyed discover that now available local grocery store here tennessee it not too strong nor too weak when brewed your taste use heaping tablespoon per cup water and come out just right coffee maker meet favorite brand replacing Dunkin donut which enjoyed when lived the boston area but when that became available grocery store bought bag compare meet wa surprised taste how much weaker tasted and that took more coffee brew the strength liked since currently have can time home taking major dickasons blend work with share\n",
      "B0024KGQJI\n",
      "\n",
      "timothy world coffee pack first all favorite cup the timothy colombian decaffeinated you are looking for excellent cup coffee highly recommend timothy secondly understanding that timothy packaged green mountain coffee again have never been disappointed green mountain product unfortunately there come time that something go wrong the process and you just have get off your chest this package wa not typical have had others the past and they were neatly packaged timothy box this case the package wa simply cardboard box with cup inside whats really different about this order the incredible poor quality the cup it like they bundled all the bad production product and stuck then box sell amazon weve all heard the exploding cup but whats really happening that the small filter inside the cup not bonded properly the side the cup and the coffee flow into the bottom the cup and into your cup the coffee not drinkable and you have pour out and waste another cup today price thats problem have had few these the past but this batch particularly bad have gone through the cup now and have been defective every time carefully remove the foil top find the filter are not properly attached the side the plastic cup whats really bad have these left advice you stay away from these pack you can have not had any real problem when purchasing count box but think these are factory reject which are costing double the price had expected pay\n",
      "B002AQ0OW6\n",
      "\n",
      "great coffee and price have been purchasing this brand coffee for approximately year now first tried because make own espresso drink home and wa looking for good rich espresso coffee without the ridiculous price objective always wa save money yet get good product the same time bought this the store that most frequent for for can wa pleased with the flavor and the price have used this ever since have also used regular coffee maker and make great cup regular java for those that dont want all the foo foo their coffee however lately have noticed that the place shop known for always low price that they have slowly raised price not much but got thinking wonder can find for cheaper here favorite tongue cheek website well and behold found good price for brick favorite espresso coffee with prime free day shipping all told actually saved some extra money for favorite chocolate add espresso tomorrow morning thanks will grabbing this way for long time come cafe bustle coffee espresso brick pack happy coffee everyone\n",
      "B001E95KLK\n",
      "\n"
     ]
    }
   ],
   "source": [
    "print('group 3')\n",
    "for i in grp.get_group(3).sample(5).values:\n",
    "    print(i[0])\n",
    "    print(i[1])\n",
    "    print()"
   ]
  },
  {
   "cell_type": "code",
   "execution_count": 144,
   "metadata": {},
   "outputs": [
    {
     "name": "stdout",
     "output_type": "stream",
     "text": [
      "group 4\n",
      "work expected after month chasing two dog out the garden and ruining few plant ordered the from amazon realized when arrived forgot order the ground rod luckily wa cheaper the local home store for footer and cut half suit need the charger worked exactly expected tested the only guaranteed way know and wow see why the dog dont like didnt hurt all but wa startling now back gardening\n",
      "B000HHO9EE\n",
      "\n",
      "soft and yummy wa hesitant give these try because they are expensive but after reading the ingredient list the price wa reasonable because almond paste expensive these are very sweet but they are also nice and soft the inside and crunchy the outside you get fair amount cooky the bag these are great for those who are gluten free eater and those who are not hoping try few other flavor soon\n",
      "B004GYFK9M\n",
      "\n",
      "magic indeed the aroma upon opening the lentil wa intense and appealing wa expecting one spice drown out the others but wa symphony flavor\n",
      "B0043OU7LG\n",
      "\n",
      "rare treat from the black sesame porridge first discovered black sesame porridge when wa taiwan and looking for breakfast cereal took instant liking even though wa not sure what the ingredient were because all the packaging wa chinese later learned that the main ingredient were black sesame seed powder and sugar have sweet tooth and love all thing containing sesame oil seed this wa instant hit with when returned the friend from taiwan kept sending more black sesame porridge but eventually ran out and ordered here amazon black sesame instant cereal mix powder sachet wa just good the one from taiwan highly recommend this anyone who not diabetic doe contain lot sugar it very easy pour the powder into bowl and add boiling water\n",
      "B000LQPLOI\n",
      "\n",
      "big hit senior doxie wa extremely picky about treat begin with then she wa diagnosed with renal failure and put special diet wondered what would give her for treat not only are fruitables healthy but dog cant get enough the pumpkin blueberry pumpkin apple\n",
      "B002R8J7YS\n",
      "\n"
     ]
    }
   ],
   "source": [
    "print('group 4')\n",
    "for i in grp.get_group(4).sample(5).values:\n",
    "    print(i[0])\n",
    "    print(i[1])\n",
    "    print()"
   ]
  },
  {
   "cell_type": "code",
   "execution_count": 148,
   "metadata": {
    "scrolled": true
   },
   "outputs": [
    {
     "name": "stdout",
     "output_type": "stream",
     "text": [
      "group 5\n",
      "were these review written dale corporate short and girlfriend sent bottle for christmas she life alabama live maine not health nut and love good steak sauce this not the stuff taste like kinsman steroid salty that couldnt deal with the bottle say avg serving ha salt sodium that more than half the daily allowance for someone with heart problem cholesterol Jadda Jadda this stuff heart attack bottle also ha bunch msg not concerned because think the msg scare bunch hoopla from the moonrat lefty crowd youre moonrat type advised main complaint wa the flavor said taste just like soy sauce not first choice flavor good steak would strongly recommend steak sauce worcestershire sauce over this stuff any day also McCormick ha some excellent marinade that come dry envelope just add oil sorry dump this stuff but being honest and objective can here\n",
      "B001EO5YR0\n",
      "\n",
      "nice treat but substitute moderate drinker both soda and juice wa intrigued the promise the switch would receive the vitamin benefit juice with the fizzy fun soda the can slim fit nicely lunch bag but would rattle around car cup holder decided take breakfast drink once had all nice and chilled popped the top and listed the fizz wa not quite the satisfying pop and fizz but that because this drink ha le carbonation when took sip wa immediately transported back grade school field trip where were given bag lunch with juice box while wa nice moment nostalgia the novelty quickly wore off the juice wa nice but not sure the carbonation really added anything biggest concern really deal more with the people who may not their due diligence before deciding purchase this product you have soda addiction but you drink diet soda this would calorie explosion while natural juice you must remember that natural juice high sugar you are accustomed guzzling three four soda per day more then you would not want replace them with this beverage must approached with the same dietary caution you would use with regular juice but you have difficulty drinking juice getting your recommended fruit serving each day this might fun alternative the price high compared soda but low compared some other individually bottled canned juice thought that the black cherry flavor wa little weak compared expectation preferred the kiwi berry flavor think that make nice treat but not going complete substitute for\n",
      "B001LG940E\n",
      "\n",
      "wonderful fresh herb received aerogarden two and half week ago and thrilled with the only reason have not given five star that think they are too expensive particularly the seed kit hope that their popularity grows the price will come down two week all the seed pod had sprouted they are expected sprout different time indicated the seed pod and all sprouted schedule earlier new reviewing and would like upload picture but not sure that possible the set wa ridiculously easy but recommend you read the instruction doing thing certain order needed also you are supposed put the seed pod specific order they are the box didnt read that part first and took them out the separate seed kit box then didnt know what order put them think this likely error and list order they are inserted enclosed the box would avoid the problem guessed the order and they seem growing well after set you just add water and nutrient and then again the future when the machine tell you with flashing light couldnt easier the instruction booklet short nice for those who dont like reading instruction the only part that can confusing the adding nutrient the instruction book refers tablet pellet but what you receive plastic tube liquid and you dont add many tube the instruction say you should add tablet just ensure you read the nutrient amount info the instruction book the seed pod box for guidance this and ignore the master instruction book also you add more le nutrient depending whether you have pod garden read carefully the light super bright you dont want where you are sleeping have the kitchen and put three sided board front night small version what kid use science Faires for their exhibit block out the light seeps into the bedroom nearby herb have hour day where the light are off set the timer turn the light off and they automatically come back hour later this fabulous feature and super easy operate the pump wa quiet that first didnt think wa working except that would like lower price highly recommend this product and cant wait enjoy the herb that after and half week are almost ready start harvesting update after two week one the bulb died contacted customer service and they immediately said they would send replacement wa disappointed wa week before they confirmed had shipped but they have shipped two new bulb and even with just one currently working the herb have continued grow and have had much basil that have had harvest some\n",
      "B000FI4O90\n",
      "\n",
      "from blog picked package accelerate hydro today accelerate the direct competitor favorite drink enduro both enduro and accelerate use the ratio carbs protein there version enduro called restore which ha fewer calorie and le sugar than the original but have yet find when need instead will reviewing the competitor accelerate hydro usage mix packet with water use before during and after exercise all the rehydration and endurance benefit regular sport drink fewer le sugar the secret accelerate hydro the patented and proven ration study show that accelerate enhances rehydration rehydrates athlete effectively regular sport drink and twice effectively water extends endurance extends endurance much regular sport drink and more than water calorie from total contains milk and soy manufactured facility that process egg wheat tree nut fish crustacean and shellfish product wait what honestly that strange mixture product pushing through the same facility anyway tried this product according the instruction and can report that the product resolve fairly easily into cold water and definitely taste like lemonade although there hint creamy flavor the backed that neither welcome nor there certain weight these drink powder notice with enduro well which why never mix into just water typically will mix into besides who carry around only water dont know diluting into more water ha any kind negative effect the product ability produce result but doubt all all find this product just useful any other recovery drink and the packaging very convenient throw the gym although find throwing shaker bottle with serving worth dry powder into gym bag just convenient and much cheaper than the spent this one serving comparing directly enduro can appreciate the benefit lower calorie and sugar however would like try enduro restore and compare the nutritional info both before making any blanket statement preference one over the other that being said accelerate the only one available lemonade flavor which nice change from the barrel fruit punch enduro have been going through\n",
      "B003CN5NPE\n",
      "\n",
      "flavor not for hesitate give bad review especially when it some type food and there the whole thing about the matter taste and preference and but wife and both tried really enjoys good really didnt like all first all ha strong taste artificial sweetener you really dont like that odd bitter aftertaste you may not like this the other hand youre used artificial sweetener and can live with the negative while enjoying the positive some sweetness without the drawback sugar then ahead and enjoy secondly the lime taste wa kind weak tried real hard not water down the powdered solution and were careful first try slightly le water and then add more till used the full allotment premeasured water had prepared just left with weak artificially sweet lime flavor that really wasnt enjoyable all that being said repeat that it matter taste and think you can ahead and try this for yourself the price reasonable and it worth try also saw some suggestion that perhaps one would mind adult spiked this with little rum maybe thatll the trick\n",
      "B005A1LINC\n",
      "\n"
     ]
    }
   ],
   "source": [
    "print('group 5')\n",
    "for i in grp.get_group(5).sample(5).values:\n",
    "    print(i[0])\n",
    "    print(i[1])\n",
    "    print()"
   ]
  },
  {
   "cell_type": "code",
   "execution_count": 150,
   "metadata": {},
   "outputs": [
    {
     "name": "stdout",
     "output_type": "stream",
     "text": [
      "group 6\n",
      " not normally one for writing review since normally other people cover own concern praise their own however one the big reason switched cat this food wa that wa fiance and both have celiac and the wheat that present lot other food wa making sick have had issue handling this food and cat love lick finger the cat love the food you should see how excited they get the morning when open the bin their fur incredibly soft they are energetic and doesnt make sick\n",
      "B001BOVE54\n",
      "\n",
      "the worst part cat day now the best have struggled for over year and half giving cat daily pill she foam and vomit easily and she and both dread this daily torture have tried bury the pill every treat and delicious food could think including raw liver but soon she smelled the pill which ha disgusting bitter taste the vet say she wouldnt try anything but this week tried the pill pocket and cat just about stood head get out hand she could eat she go absolutely nut for and doesnt detect her pill all the worst part cat day the worst part day too now great recommend this stuff highly after few week cat decided she longer liked the chicken flavor but continues eat the salmon flavor one but sometimes she wont eat unless wrap some small cat treat like sandwich you dont need use the entire pill pocket for small pill pinch off what need and the bag last long longer than usual\n",
      "B000JOE224\n",
      "\n",
      "impressive aroma taste very impressive aroma fresh bit wild impressive taste impressive ingredient this food way far above the rest other premium food very carefully read the ingredient cat food some premium cat food have blueberry listed one their ingredient but only have the left after processing and contains much pesticide residue this food ha triple cranberry antioxidant and urinary tract protection ha salmon turkey and many other holistic ingredient gourmet blended that the aroma head above the other premium tried them all think you dont get this aroma from other very premium dont get the total combination aroma taste and ingredient from any other cat food please try even ha acidophilus culture awesome awesome trust this cat food supreme all way\n",
      "B001EGZKH2\n",
      "\n",
      "BPA lid bought this line baby food because wa organic and came glass jar prefer make own baby food but some time you need other option especially when traveling incredibly disappointing find out that there BPA the lid just talked the company and they confirmed this understanding the canning process that requires heating the product high temperature order create airtight seal not only the food being exposed the BPA during this heating process but then during the entire storage process until unknowing consumer like buy feel incredibly dumb for trusting earth best good for baby get with the program and create BPA free lid recommend everyone taking the time call the company and urge them change their packaging until then will stop buying this food line here website that will give you some idea for other organic baby food that have BPA free packaging\n",
      "B001BM8SS2\n",
      "\n",
      "made kitty into addict have three cat the two older one are huge dish male litter mate who have been separated about day their entire life and have had just about the best everything all along the third siamese male who adopted tiny wa malnourished and his physical condition showed when came back porch year ago all are healthy weight and are active the big cat are not obese theyre just large cat always have dry Iams available kibble and give them each portion canned food couple time they not ask for food unless they are hungry the older cat dont like poultry beef loudly whine for seafood when presented with chicken stunned disbelief that not running restaurant after the time theyve already complained the siamese isnt picky because wa stray until found mushy gooey loaf wont eat all texture important had not heard this brand before saw here amazon com and have not seen locally since little monster enjoy food like this fancy feast gourmet cat food grilled variety pack can pack thought try the subscribe save option for couple month see they like petite cuisine too theyre absolutely nut about call kitty crack there wa rehab program for addicted cat have send all three mine for treatment they cant get enough this definitely not fish flavored food the can are chock full fish with tiny shrimp flaky red snapper tuna and whitefish smell like fish but doesnt have fishy stale odor the can open easily and not much stick the bottom and side the can can just dump food into bowl without using utensil get the last bit out the aroma and appearance are good that eat had have read and noted concern about menadione however high dos mentioned some study arent equivalent the small amount contained per portion this food the benefit outweigh the risk best all siamese ha developed shiny thick coat which did not have before started eating this food he almost soft chinchilla look great smell great and have happy happy cat winner\n",
      "B001BCVY4W\n",
      "\n"
     ]
    }
   ],
   "source": [
    "print('group 6')\n",
    "for i in grp.get_group(6).sample(5).values:\n",
    "    print(i[0])\n",
    "    print(i[1])\n",
    "    print()"
   ]
  },
  {
   "cell_type": "code",
   "execution_count": 151,
   "metadata": {},
   "outputs": [
    {
     "name": "stdout",
     "output_type": "stream",
     "text": [
      "group 7\n",
      "deliciously cool this second purchase this tea this year and love ha such crisp clean cool taste and fantastic aroma can drink pitcher cold day also delicious hot hot cup totally relaxes right before bedtime wa disappointed see amazon eliminating most the numb loose tea favor bag most the numb loose tea they have kept are now being sold lot instead time thats with because drink much long they not discontinue favorite this one the ginger sprite with black oolong and the ruby chai herbal messan fantastic stuff\n",
      "B001ELLB20\n",
      "\n",
      "great tea this wonderful smooth and flavorful tea love this stuff and when serve guest they rave about well keep mind that the peach and apricot only provide hint flavor you are looking for strong fruit flavor this not your tea have been pleased with all the Davidson tea that have tried but this one really favorite this not tea but excellent tea this price\n",
      "B000SATIKK\n",
      "\n",
      "real cup tea this the only decaf tea the dozen have tried that make real cup tea strong with taste and not overwhelmed little milk\n",
      "B002M3QZKM\n",
      "\n",
      "good price for loose leaf tea used get mine from english tea store that ha recloseable ziplock bag but missed the last promo with free shipping tried this one instead think taste fine even though the brand unknown like getting good value from generic brand this the same would order again the only thing have put plastic bag wont spill the tea case accidentally tilt the bag\n",
      "B000SAPXF4\n",
      "\n",
      "great tea great price fast shipping love this tea cost much le than most other brand ive seen online also the company ship pretty quickly this match tea also seem curb appetite for some reason which bonus\n",
      "B001F10XUU\n",
      "\n"
     ]
    }
   ],
   "source": [
    "print('group 7')\n",
    "for i in grp.get_group(7).sample(5).values:\n",
    "    print(i[0])\n",
    "    print(i[1])\n",
    "    print()"
   ]
  },
  {
   "cell_type": "code",
   "execution_count": 153,
   "metadata": {},
   "outputs": [
    {
     "name": "stdout",
     "output_type": "stream",
     "text": [
      "group 8\n",
      "fine camomile tea lazos calm herbal infusion nice chamomile tea taste the chamomile and some flavoring and they are not unpleasant just hard pin down what they are besides the chamomile general not big fan tea with flavoring added preferring the subtleness and authentic taste the real thing the ingredient calm chamomile flower hibiscus flower spearmint lemongrass rose petal blackberry leaf safflower peppermint sarsaparilla lemon balm licorice and natural flavor Gazo interesting company that make only super premium tea they are socially responsible based portland and have the motto the reincarnation tea Gazo owned Starbucks their web site fun and quirky with focus definitely worth checking out unclear though from their web site how many their ingredient are organic kosher and they use some natural flavor their wording seems little vague for super premium tea the paper tea packet Gazo writes soothing blend chamomile blossom and other relaxing herb their web site Gazo describes the flavor profile calm creamy floral minty toasty sweet the name gently implies Gazo calm ha lovely floral bouquet with flavor and distinct toasty note naturally sweet nice light way with smooth finish Gazo describes the aroma minty hay like rose dont taste all these various flavor but taste the chamomile and fine not overwhelming artificial tasting several the other Gazo tea ive sampled would rate this tea and Gazo general than premium tea like stash celestial not good other tea company that feature only natural flavoring like numb which why Gazo calm get only four star\n",
      "B004EDFLPS\n",
      "\n",
      "rather splendid keen blend this blend tea from few different regional plantation overall the taste keen tea but with very little the pekoe flavor you would find that type this blend varies little more than some the other twinning tea it flavor you might get two tin that have decidedly different yet tasty flavor you have tea palate still learning about loose tea worry this mild blend ha very dry aftertaste but the bitter ha been mostly blended out you brew weakly can bit too bland overbrowed pow avoids the bitter you often get but the dry really can give almost pucker factor this tea love sweetener the tea sweetener such all type honey along side the tea the form cooky cake you like milk cream light that there little bitter pow and you can dilute the tea flavor right out accident this not really good tea for lemon fruit extract can bit bland iced tea for better worse akin chai prince wale tea mulled wine cider spice honey halfnhalf powder optional add teaspoon mulled cider wine spice dry your brewing pot with the prince wale tea leaf add your boiling water once you learn the strength your spice add more le taste when making this with twinnings pow add half stick good cinnamon broken into bark bit this tea can take the bite without getting overpowered pour the tea add spoon honey stir thoroughly add little halfnhalf heavy cream the cup dash powder top stir again and serve another reviewer give false info here hope they just accidentally mixed product this black only tea blend black tea from china camellia sinensis leaf there green tea specie nor currant the prince wale product\n",
      "B000F4DK9Y\n",
      "\n",
      "this tea yummy ive been drinking the republic tea strawberry chocolate tea for almost whole year now this tea make people smile because it flavor and aroma this tea not bitter it totally sweet you dont need eat dessert sweet with this tea because this tea totally satisfies your sweet tooth can definitely taste the chocolate and strawberry this tea because this tea combination blend herb and rooibos red tea there caffeine this product this tea taste perfect dont need add sugar milk besides rooibos natural chocolate and strawberry flavor there are cocoa kernel carob sweet blackberry leaf and bourbon vanilla bean blended this tea this tea ha natural unbleached tea bag you want unique romantic aromatic tea that plea both kid and adult then this the tea for you\n",
      "B00478L5T6\n",
      "\n",
      "really nice blend smooth tasty satisfying recommended our local supermarket phasing out their Gazo tea selection working way through what they have left the shelf and recommended fellow shopper wa lazos green ginger tea pkg individual bag Gazo describes it green ginger tea dazzling blend with sweet spicy ginger touch pear essence and further describes it yin smooth green tea it yang spicy ginger root and make more interesting there touch pear essence add for fragrant finish call that part yow whatever Gazo doing with this blend they are doing right really nice tea that smooth tasty satisfying not harsh like green tea can nor too fruity too gingery taste mild ginger flavor but not strong pear flavor all certainly not like the Bigelow organic rooibos with asian pear tea box pack Bigelow tea organic rooibos pear for keurig brewer box pack which wa not favorite blend try the Gazo green ginger hope you like much much the stranger who recommended going back the store before they sell out normally drink tea with milk spot sugar tried this blend way plain both way are excellent\n",
      "B0000DBN1Q\n",
      "\n",
      "make great iced tea ive been using this tea for for about month and drink iced tea daily microwave water high pyrex cup glass container for minute high and then pop the little white mesh bag for about minute use about bag for rich taste and since going pouring over ice put ice cube large glass and pour hot tea over the ice grab straw and it ready drink also taste good when steep bag the revolution white pomegranate tea with bag the arizona pomegranate this favorite ice the arizona green tea anyhow this usual lunchtime pick upper want note that gave drinking diet soda march and ha made this concoction replacement wa little difficult first but now that awful stuff out system have not tried this tea hot not fan hot tea but sure it just delicious subscribe this and the arizona pomegranate green tea\n",
      "B001EHDMY4\n",
      "\n"
     ]
    }
   ],
   "source": [
    "print('group 8')\n",
    "for i in grp.get_group(8).sample(5).values:\n",
    "    print(i[0])\n",
    "    print(i[1])\n",
    "    print()"
   ]
  },
  {
   "cell_type": "code",
   "execution_count": 241,
   "metadata": {},
   "outputs": [
    {
     "name": "stdout",
     "output_type": "stream",
     "text": [
      "group 9\n",
      "great buy husband diabetic and this ha carbs which are sugar not too bad for snack have many problem controlling his blood sugar but this mixture seems agree with him doe not raise his number perfect and tasty treat they dont skimp the berry walnut very good value emerald nut tropical blend bag pack\n",
      "B001M08XS8\n",
      "\n",
      "not recommended the manufacturer but work anyway although sugar floss not recommended for use the nostalgia electric hard candy sugar free cotton candy machine didnt find out until both were already purchased tried using anyway and you let the machine heat well before using will make delicious amusement park style cotton candy used one teaspoon time the sugar will last year but yummy\n",
      "B000UYICMO\n",
      "\n",
      "quality product thats surpassed expectation chose this product because it shipped quickly wonderful company and the product top notch addition wanted protein powder thats free all the junk fat excessive calorie creatine and stimulant aside from basic whey protein contains laundry list crucial helpful amino acid that are crucial for weight lifter athlete and body builder addition theyve added smaller amount calcium and potassium for good measure all the protein powder that ive used this one mix the best doe still cake little bit the answer yes you can mix with spoon but still recommend mixer but let honest when youre trying make protein powder dissolve easily youre working against nature that may contains what looking for taste wonderful and aiding body building currently enjoying cooky creme and it very palatable look forward trying other flavor the future gram protein depending flavor and calorie per scoop prefer mixing this with skim milk for additional protein doubling the dose for larger pack protein it also convenient have dose hour prior working out and making sure you get second serving within minute your completion bottom taste great and ideal for those looking build lean muscle mass without all the fat and calorie\n",
      "B00029F5E0\n",
      "\n",
      "didnt find all that jazzy have admit that when first tried this one wasnt crazy about seemed lacking flavor and richness compared green mountain french roast decaff which favorite have had several cup now and figuring out how brew for taste brew the ounce size cup and then add little cream and sugar and it perfect not terribly complex structure but not bad just different lighter variety have tried brewing the smaller cup serving and didnt seem make difference taste fullness think will just keep this one for what reliable lighter variety for day when feel like worth keeping\n",
      "B001D0GVAO\n",
      "\n",
      "sriracha discovered this tasty condiment the asian food section the grocery store maybe wa the rooster the front the bottle the word sriracha dont know but ha now replaced tobacco and red hot staple hot sauce like how it more like paste the thickness make more user friendly burger and fry it more flavorful too and not too spicy opinion it excellent just about anything made some awful bland chickpea burger doused them with some sriracha and then added some zesty bread and butter pickle sound weird but telling you this stuff can make anything taste awesome looking forward actually trying something asian think would great seafood anyhow this stuff rock\n",
      "B001EO5ZHO\n",
      "\n"
     ]
    }
   ],
   "source": [
    "print('group 9')\n",
    "for i in grp.get_group(9).sample(5).values:\n",
    "    print(i[0])\n",
    "    print(i[1])\n",
    "    print()"
   ]
  },
  {
   "cell_type": "markdown",
   "metadata": {},
   "source": [
    "0 - Some Miscellaneous food products and reviews size are small   \n",
    "1 - Dog food related produtc  \n",
    "2 - coffee related products with small reviws  \n",
    "3- Coffe related produts with high reviews  \n",
    "4 - Some coffe related products with differnt flovers  \n",
    "5 - related to drinks and soups  \n",
    "6 -  some animal foods  \n",
    "7 - about tea  \n",
    "8 - about tea with large reviews  \n",
    "9 - Miscellaneous food products with some good reviews  "
   ]
  },
  {
   "cell_type": "markdown",
   "metadata": {},
   "source": [
    "### Tf-Idf"
   ]
  },
  {
   "cell_type": "code",
   "execution_count": 12,
   "metadata": {},
   "outputs": [],
   "source": [
    "#TFIDF with (1,2) gram with cleaned data \n",
    "#tfidf vec \n",
    "tf_idf_vect = TfidfVectorizer(ngram_range=(1,1))\n",
    "final_counts_train = tf_idf_vect.fit_transform(\n",
    "        train_df['final_text'].values)"
   ]
  },
  {
   "cell_type": "code",
   "execution_count": 13,
   "metadata": {},
   "outputs": [],
   "source": [
    "for i in range(1,100):\n",
    "    model = KMeans(n_clusters=i,n_init=50,max_iter=300,random_state=25,n_jobs=-1)\n",
    "    model.fit(final_counts_train)\n",
    "    ssd[i] = model.inertia_\n",
    "    centers[i] = model.cluster_centers_\n",
    "    labels = model.labels_\n",
    "    print('No of clusters',i,'Sum of Squared dist',model.inertia_)"
   ]
  },
  {
   "cell_type": "code",
   "execution_count": 16,
   "metadata": {},
   "outputs": [
    {
     "data": {
      "image/png": "[encoded data removed]",
      "text/plain": [
       "<matplotlib.figure.Figure at 0x14f9c40aa390>"
      ]
     },
     "metadata": {},
     "output_type": "display_data"
    }
   ],
   "source": [
    "plt.figure(figsize=(12,8))\n",
    "plt.plot(list(ssd.keys()),list(ssd.values()))\n",
    "plt.xlim(0,50)\n",
    "plt.xlabel('No of Clusters')\n",
    "plt.ylabel('Sum of Sqared distances')\n",
    "plt.title('elbow method for BoW')\n",
    "plt.grid()"
   ]
  },
  {
   "cell_type": "markdown",
   "metadata": {},
   "source": [
    "after 10 clusters squared distances is decreasing by very less rate than before 10. so 10 may be better choice of clusters."
   ]
  },
  {
   "cell_type": "code",
   "execution_count": 27,
   "metadata": {},
   "outputs": [],
   "source": [
    "model = KMeans(n_clusters=10,n_init=10,max_iter=300,random_state=25,n_jobs=-1)\n",
    "model.fit(final_counts_train)"
   ]
  },
  {
   "cell_type": "code",
   "execution_count": 28,
   "metadata": {},
   "outputs": [
    {
     "data": {
      "text/plain": [
       "array([2, 2, 2, ..., 9, 9, 0], dtype=int32)"
      ]
     },
     "execution_count": 28,
     "metadata": {},
     "output_type": "execute_result"
    }
   ],
   "source": [
    "model.labels_"
   ]
  },
  {
   "cell_type": "code",
   "execution_count": 30,
   "metadata": {},
   "outputs": [],
   "source": [
    "train_df['tfidf_pred_label'] = model.labels_"
   ]
  },
  {
   "cell_type": "code",
   "execution_count": 32,
   "metadata": {},
   "outputs": [
    {
     "data": {
      "text/html": [
       "<div>\n",
       "<style>\n",
       "    .dataframe thead tr:only-child th {\n",
       "        text-align: right;\n",
       "    }\n",
       "\n",
       "    .dataframe thead th {\n",
       "        text-align: left;\n",
       "    }\n",
       "\n",
       "    .dataframe tbody tr th {\n",
       "        vertical-align: top;\n",
       "    }\n",
       "</style>\n",
       "<table border=\"1\" class=\"dataframe\">\n",
       "  <thead>\n",
       "    <tr style=\"text-align: right;\">\n",
       "      <th></th>\n",
       "      <th>final_text</th>\n",
       "      <th>ProductId</th>\n",
       "    </tr>\n",
       "    <tr>\n",
       "      <th>tfidf_pred_label</th>\n",
       "      <th></th>\n",
       "      <th></th>\n",
       "    </tr>\n",
       "  </thead>\n",
       "  <tbody>\n",
       "    <tr>\n",
       "      <th>0</th>\n",
       "      <td>18315</td>\n",
       "      <td>18315</td>\n",
       "    </tr>\n",
       "    <tr>\n",
       "      <th>1</th>\n",
       "      <td>16372</td>\n",
       "      <td>16372</td>\n",
       "    </tr>\n",
       "    <tr>\n",
       "      <th>2</th>\n",
       "      <td>85268</td>\n",
       "      <td>85268</td>\n",
       "    </tr>\n",
       "    <tr>\n",
       "      <th>3</th>\n",
       "      <td>3611</td>\n",
       "      <td>3611</td>\n",
       "    </tr>\n",
       "    <tr>\n",
       "      <th>4</th>\n",
       "      <td>7254</td>\n",
       "      <td>7254</td>\n",
       "    </tr>\n",
       "    <tr>\n",
       "      <th>5</th>\n",
       "      <td>18734</td>\n",
       "      <td>18734</td>\n",
       "    </tr>\n",
       "    <tr>\n",
       "      <th>6</th>\n",
       "      <td>4713</td>\n",
       "      <td>4713</td>\n",
       "    </tr>\n",
       "    <tr>\n",
       "      <th>7</th>\n",
       "      <td>59518</td>\n",
       "      <td>59518</td>\n",
       "    </tr>\n",
       "    <tr>\n",
       "      <th>8</th>\n",
       "      <td>2300</td>\n",
       "      <td>2300</td>\n",
       "    </tr>\n",
       "    <tr>\n",
       "      <th>9</th>\n",
       "      <td>38835</td>\n",
       "      <td>38835</td>\n",
       "    </tr>\n",
       "  </tbody>\n",
       "</table>\n",
       "</div>"
      ],
      "text/plain": [
       "                  final_text  ProductId\n",
       "tfidf_pred_label                       \n",
       "0                      18315      18315\n",
       "1                      16372      16372\n",
       "2                      85268      85268\n",
       "3                       3611       3611\n",
       "4                       7254       7254\n",
       "5                      18734      18734\n",
       "6                       4713       4713\n",
       "7                      59518      59518\n",
       "8                       2300       2300\n",
       "9                      38835      38835"
      ]
     },
     "execution_count": 32,
     "metadata": {},
     "output_type": "execute_result"
    }
   ],
   "source": [
    "#no of points in each group\n",
    "train_df.groupby('tfidf_pred_label')['final_text','ProductId'].count()"
   ]
  },
  {
   "cell_type": "code",
   "execution_count": 34,
   "metadata": {},
   "outputs": [],
   "source": [
    "grp = train_df.groupby('tfidf_pred_label')[['final_text','ProductId']]"
   ]
  },
  {
   "cell_type": "code",
   "execution_count": 65,
   "metadata": {},
   "outputs": [
    {
     "name": "stdout",
     "output_type": "stream",
     "text": [
      "group  0\n",
      "great cup coffee this coffee really good have been drinking for our morning for the last year husband say ha never had better when have quest and serve this coffee they all agree with him have amazon subscription have delivered monthly our door dont run out thanks amazon for offering this great product\n",
      "B0001ES9FI\n",
      "\n",
      "perfect for aeropress this coffee the best ive found far and love that it organic wa using major Dickson from meet coffee but this le expensive and organic and just good maybe even better got use with the aerobic aeropress coffee and espresso maker and it perfect wa going give boyfriend sample convince him switch from meet but wa afraid running out pound lot coffee but apparently through more than two pound coffee month should mention that only make coffee with the aeropress and they say that coffee made that way smoother while have compared this coffee other coffee made the same way dont know how itd say drip coffee maker\n",
      "B000KSTY86\n",
      "\n",
      "yum crave this coffee didnt expect never order chocolate glazed donut but for tastebud this hit all the yummy coffee yummy chocolate yummy donut note will ordering more\n",
      "B0033HPPIO\n",
      "\n",
      "bam this great coffee this coffee ha spoiled for all the other flavor need good strong coffee and this taste fabulous\n",
      "B001D0IZBM\n",
      "\n",
      "definite favorite delicious like chocolate covered cherry especially like added coffee will give gift this year\n",
      "B000KFVAF4\n",
      "\n",
      "group  1\n",
      "must for chai lover picked this tea with another chai white tea and mix the too together the tea full flavor not much coffee drinker like that this tea ha the same caffeine amount but not feel the affect the caffeine\n",
      "B0026GBTQA\n",
      "\n",
      "better than tip but the bag are poorly made variety must with tea best tea ive had always look for variety pack these have decaff for late and the white tea them taste great imo however the bag spew out tea leaf way too often could put hammer tip and the bag wont likely break eat way many tea leaf with these but have another tip might have blow chow tea these day dirt cheap Starbucks still charge markup over their tea tea healthier than coffee and quicker make one us modern hot water dispenser not sure why tip are rated high amazon review would give this star because the quality material the tea bag everyone ha their own opinion tea not big fan black tea however star rating try specifically even out those who rate their company own product amazon\n",
      "B000GINU0S\n",
      "\n",
      "great intro loose tea reasonable price and good quality got this sampler because came after search for eh people wrote that they didnt get certain type tea listed but got all listed the tea good quality like everyday chinese drink ordered some rishi eh well and must say pier mall doesnt market well rishi but the tea much better quality regardless whether kosher not that said bought other jasmine tea which initially preferred but saw that the leaf quality better for this generic brand sent the and have grown appreciate the quality each box about serving and ha good pure leaf taste could get larger quantity wholesale good price would buy this tea because think good quality and very drinkable and bulk should reasonably priced opposed these overpriced place that sell tea ounce far the best tea ive ordered off amazon along with the eh cake from generation tea\n",
      "B0009TMZIM\n",
      "\n",
      "best tea vendor service wa exceptionally quick and the tea ha been the best tea for after dinner and begin relax\n",
      "B004EDFLPS\n",
      "\n",
      "great quality great price really great quality for little price the tea bit strong first but after few drink ha great mild taste\n",
      "B001UO52TY\n",
      "\n",
      "group  2\n",
      "yummy this chocolate yummy delicious and will make you fat enjoy and then get the treadmill\n",
      "B000MM4SC2\n",
      "\n",
      "very good seed bought these seed not spice for food but for hair ive read that fenugreek seed are the best treatment for flaky scalp and dandruff just add little water couple spoonful and leave for overnight then blend paste consistency apply the hair leave for min wash with mild shampoo and rinse easy and handy thank you amazon\n",
      "B000JMAVZS\n",
      "\n",
      "great source when turned vegan worried about finding reliable source ground Salba ultra convenient just drop spoonful into any dish and youve got instant nutrition boost put oatmeal every morning and cant even tell it there\n",
      "B0017I9P3W\n",
      "\n",
      "soy oil undermines taste and health benefit decent large sardine for cheap moroccan production but totally unsatisfactory because the soy oil sardine are amazingly healthy especially olive oil but soy which make this product not very desirable crown prince ha many other quality tasty canned fish product skip this one\n",
      "B002T5TLYA\n",
      "\n",
      "house vermont curry curry fan like the savory aroma delivered the finished product unless your taste bud are really sensitive dont fooled the hot this best somewhat spicy and downright mild compared restaurant curry but when prepared and served directed make for satisfying recommend using diced chicken meat carrot onion and green pepper\n",
      "B001ATZQ68\n",
      "\n",
      "group  3\n",
      "doe not taste like pumpkin sadly this pumpkin soup tasted nothing like pumpkin the pumpkin used this product are from waiting taiwan not sure the variety grown there but used the north american pumpkin with that distinct sweet pumpkin pie flavor thats what wa hoping for when ordered this soup now this soup wasnt horrible did have earthy vegetable flavor just not actual pumpkin maybe some type gourd just not the one used after few spoonful couldnt finish just not for the description the box said it sweet but didnt detect any sweetness all\n",
      "B005DHXVVK\n",
      "\n",
      "lousy after getting this make believe product wrote the distributor bookbinder soup and bookbinder philadelphia give them opinion their snapper soup this isnt even close what old original bookbinder soup should taste like thin and the only additional item that you can chew not snapper but carrot the worst have ever tasted period wa also reassuring just this week have food commentator say the exact same thing that said make believe snapper soup\n",
      "B000H27MQG\n",
      "\n",
      "one option when you cant find locally cannot always find this locally happy see here even the price bit over the top the product work not only for asian style food but interesting flavor profile for stew soup and marinade\n",
      "B00286BJ90\n",
      "\n",
      "great for gluten free cooking since being diagnosed with celiac disease nearly two year ago have had learn eat and cook differently have missed some old stand recipe ive used and enjoyed for many year like making stroganoff from leftover meat using canned cream mushroom soup main ingredient just found this product wa available weird excited about soup this soup ha thinner consistency than those most have grown using like campbell etc need account for that and the soup little more bland taste you and add salt pepper and whatever you might like for those with celiac this huge convenience\n",
      "B001BM3POY\n",
      "\n",
      "delicious soup kind expensive the taste this soup really great taste just good those japanese restaurant the price here amazon high though thought for bulk pack find cheaper here but it le expensive grocery store big single pack worth cold winter day add extra mushroom for the best taste\n",
      "B001IZ9NDQ\n",
      "\n",
      "group  4\n",
      "best eaten right away youre going baking this your bread machine then sharing with friend family right away it yummy with dab butter however you let cool and put away for the night becomes too dense enjoy and the flavor change significantly with the dill tried toasting day and still ha far too much the stale dill flavor work most other potato bread ive made have been light fluffy and exceptionally soft this one not these mix are more expensive than some the other brand and make much smaller loaf than expected too ill passing this one the future\n",
      "B001EPQ9JG\n",
      "\n",
      "absolutely delicious this mix delicious not much cook but easy make amazing healthy waffle with this mix everyone who tasted them wa very impressed them\n",
      "B000V1O3ZQ\n",
      "\n",
      "great product love this mix taste great and easy use family ha celiac disease and cant have gluten fantastic for\n",
      "B001D0676C\n",
      "\n",
      "terrific bran muffin mix recently purchased this mix after twice ordering the vitalicious deep chocolate mix which heavenly this mix doe not include blueberry which clearly stated the package added one half pint more than called for fresh blueberry and cup ground flax seed but otherwise prepared the mix according package direction baked them for about minute not advised the package and then performed the toothpick test the toothpick came out clean removed them from the oven and allowed them cool for minute they popped out the muffin pan easily and cleanly they were moist flavorful and absolutely delicious used the wilton brand jumbo muffin pan love these pan which are also sold amazon just touch spray oil the pan all that needed this mix make jumbo muffin regular the jumbos are perfect for taking work for the late morning and mid afternoon because you can cut them half and have plenty for two snack during the day they are incredibly filling and will satisfy your sweet tooth well provide protein boost for energy like have them with cup green tea which add additional antioxidant those provided the blueberry with this mix not recommend using paper baking cup used them one time with the vitalicious chocolate mix and lost lot the muffin the paper the wilton muffin pan work beautifully with this mix without any sticking the baking cup are unnecessary freeze these muffin zip lock baggie soon they have cooled the frozen jumbos require about minute high microwave reach perfect temperature you might want start with minute and check the muffin for temp all microwave heat bit differently preparation time minute le start finish including baking you dont need electric just stir the ingredient with fork spoon and spoon them into the muffin pan used bake bran muffin from scratch but this mix much easier faster healthier and better tasting that those day are history this the best homemade from mix just dont tell your friend it mix because they will never know the difference otherwise have also prepared this mix with dried cranberry which also turned out perfectly moist and delicious purchased the cranberry from amazon and they are plump and delicious add them our cereal and salad and eat them out the bag for snack buy pound box and freeze them zip lock enjoy your muffin and suspect your health will improve well\n",
      "B002MAX026\n",
      "\n",
      "great product for baking already tried the poppy seed filling and got this too for more special treat tried and used regular yellow cake mix and baked bundt wa very moist and sweet next time will follow the solo can recipe for from scratch cake and see the difference\n",
      "B000GZSB6E\n",
      "\n",
      "group  5\n",
      "very convenient thrilled can get friskiest subscribe and save disabled and have two old cranky and forever hungry cat getting the cat food home bit pain have had depend friend something hate now get the delivered front door how great that only had problem once not enough cushioning and opened box find open rotten can food all over the can cat food never smelled anything that rank life customer service wa great and gave credit they need more variety that only complaint\n",
      "B002CJAOR6\n",
      "\n",
      "perfect for aggressive chewer have american Staffordshire terrier aka pitbull and she just over one year old and not many toy are tough enough for her this toy will slowly get chewed away but after having month there little damage that will last long time learned after having pup that definitely worth the money buy tougher toy because the end you save instead replacing toy bone after bone dog doe not chew this bone constantly but she get craving for and will keep her busy for while she tends like thing she can destruct think they are more fun for her but she doe enjoy chewing this bone ended going nylabones website and signed for email and received nice coupon email and went and bought pup another different one with this one know she will all set for while\n",
      "B0041LHND6\n",
      "\n",
      "mint bone dog love them and they give her minty pleasing breath for short period time\n",
      "B000G6T2UW\n",
      "\n",
      "frustrating for dog got the this morning and have used twice dispense dog breakfast and dinner she never quite figured out the tug method getting the food out but she did find way get the food out nosing around the floor and grabbing the kibble out with her tongue when reached the neck the bottle however she gave this morning with about half her breakfast still there which surprising because she life for food for dinner she started cry the bottle because she got frustrated with never heard her that before decided help her little however when wasnt watching she chewed all the way through the rope it still usable toy but guess shell never figure out the tug method now it been about min and shes still working get all her dinner out guess say this good toy the only reason gave instead star think you could use one your old analgene bottle and put dog food and would work the same way the jug made analgene think\n",
      "B000KV61FC\n",
      "\n",
      "cat love this stuff cat were never very enthusiastic about dry food premium otherwise until they tried this stuff now they get quite huffy try give them any other brand felt bit pricey first but none go waste even though it been part their diet for several month now highly recommended\n",
      "B001PMCFL4\n",
      "\n",
      "group  6\n",
      "best cereal ever ive been looking for cereal like this for many year taste great stay crunchy milk and ha just the right amount fruit current and walnut opinion when cereal show walnut the box list them the box like many they should have walnut the cereal this one doe and plenty them for the price Walmart ha for per box area ha all the nut you will want unless you just want nut and cereal you dont need look for the nut find them ha taste crunch protein fiber the nut provide omega and all this natural cereal that economical well kashi ha many cereal that are good for you but wa surprised find this one good probably eat too much the only thing which isnt top quality with this cereal the box which made cardboard you can enjoy and know you are helping the environment the same time amazon will undoubtedly edit the name the store said had this for per box area ha mart the name and written the wall the store wonder theyll edit this too\n",
      "B001E5E0AG\n",
      "\n",
      "worst tasting cereal ever have complains about the nutritional benefit kashi lean cereal it got the lowest fat content any brand cereal the market only ha calorie per serving however the worst tasting cereal that ive ever had and ive had quite few lifetime combine this with skim milk and it akin eating cardboard piece soaked water absolutely revolting with weird chemical that refuse away the least kashi could have done throw some raisin dried strawberry piece there sure the fat content go gram two but least you wont feel like throwing each time you take mouthful tried for three week one serving every day see wa acquired taste but will tell you wa revolting day wa day ive since then switched special protein plus it got extra gram fat thats calorie per for the calorie counter out there but hey you can eat and not feel like throwing that guess reason enough for switch can walk the extra calorie off parking the car the far end the lot\n",
      "B001E5E05G\n",
      "\n",
      "great for breakfast bought these bar because never eat breakfast hate egg dont like most cereal etc know breakfast important decided try these they taste okay leave gritty aftertaste with these particular one can taste the chocolate but it lacking the peanut butter taste will definitely keep eating them though because they work had one for breakfast two day row and did not find myself feeling hungry until wa lunch time the third day decided try bowl cereal cheerio exact because wa convenient hour after ate the cereal felt wa starving thank goodness had apple with because devoured but wa still hungry obviously the cereal did not satisfy the way the bar did will keep eating them and curious about trying the protein shake\n",
      "B000P09RJA\n",
      "\n",
      "great taste absolutely love this cereal the raisin are plump and there are plenty them and lot slivered almond too the cereal ha really good flavor highly recommend\n",
      "B000QSR2X4\n",
      "\n",
      "sweet and crunchy life it name taste sweeter than calorie and gram fat zero saturated fat the crunch and the sweet taste reminds bit the frosted flake ate kid start really crunchy and stay crunchy for good while it little sweet for daily cereal and doesnt have the vitamin value regular cereal total raised bran but will make nice change from daily routine taste great right out the box snack doe contain peanut for those you that are allergic them\n",
      "B0044CPA28\n",
      "\n",
      "group  7\n",
      "Olivier olive oil from france very hard find store usa used sold occitan store all over that finished very few fancy food store carry this oil Citarella NYC for expel this olive oil good all them with herb lemon basil etc etc cholesterol good for salad pasta fish etc unfortunately the web the distributor send this expensive product several box each time the price shipping double price NYC you find the product Citarella for about you use the web the price more than with shipping the product superb but think the exclusion distribution take advantage their position advise you not buy the web too expensive\n",
      "B001GR3VUM\n",
      "\n",
      "lavazza daily standard really like lavazza coffee general recently tried the super cream since the review were really strong the taste this espresso very much described robust flavor with bit sweet taste and very smooth not bitter all work especially well with latte cant say that notice extraordinary cream but doe make notable amount cream overall again lavazza super cream demonstrated that worthy previous assessment the lavazza brand general that represents the best class espresso super cream distinctly different from or and blue and like the others smooth\n",
      "B000SDKDM4\n",
      "\n",
      "steak strip good brand they must pay their sale people lot tho saw these store for least more and convenience store well who ha wheelbarrow that big haul around their change send lot jack link steak strip and jerky the american gi the sand and found ordering this way much more pliable and easier your jaw than the same brand mart type warehouse membership store you send any the heat like that this much better product there little time allowed still have decent jerky arrive steak strip and jerky are better liked than the nugget tho\n",
      "B000GW46D4\n",
      "\n",
      "perfection this very good quality candy with elongated shape that come assortment fruit flavor strawberry pineapple lemon orange etc each with it own distinctive and tasty chewy fruit filling candy the viennese tradition making this kind candy not quite the real thing made austria but it close and all but impossible find locally this same seller great one for you ha another comparable candy round shape and somewhat larger available here ardor assorted fruit flavored kosher candy with chewy center pack have also tried this other candy and can recommend actually the one the two that personally prefer buy some taste and enjoy the two bag provided probably wont last long sure purchase enough keep your sweet tooth happy\n",
      "B004TLVVUE\n",
      "\n",
      "excellent popcorn okay didnt buy this product from amazon actually but will consider ordering from amazon when the store buying from run out which they inevitably will got pack which wa half natural butter and half salt cracked pepper local outlet grocery store for for the whole box what great find and thoroughly enjoyable snack the cracked pepper something never would have thought would like but gosh terrific and the plain natural butter that also Soo delicious\n",
      "B000SU1LUU\n",
      "\n",
      "group  8\n",
      "wonderful leave the italian make great pasta sure have colander with tiny hole before cooking batch this pasta very small great flavor and sauce stick the pasta should\n",
      "B000R9Q40E\n",
      "\n",
      "great pasta amazon price lousy live this pasta gluten free house however amazon bulk price more expensive than buying stop shop which just seems wrong\n",
      "B000FK7PQW\n",
      "\n",
      "great angel hair pasta debones gluten free angel hair pasta great for people with gluten intolerance who dont care for thick spaghetti son and husband love ha nice texture and good pasta taste like both the angel hair with flax and without\n",
      "B002DZRZ80\n",
      "\n",
      "best brown rice elbow ive tried many different brand and shape rice pasta over the year even you find brand you like not every shape turn out good this one brand and shape combination that get one hundred percent perfect the pasta tasty and cook work well recipe like macaroni and cheese baked zit type dish and just about any other recipe ive added one exception the rule when used cold salad like macaroni salad the macaroni tends get hard when refrigerated overnight work just fine bring macaroni salad chilled temp but overnight seems not work tomato sauce and cheese sauce dont seem have the same problem very pleased with this product and highly recommended\n",
      "B000FK7PQW\n",
      "\n",
      "love give you the taste and texture fresh pasta also like the fact cook quick and doesnt keep it texture when reheated the microwave the next day\n",
      "B001IZBT0Q\n",
      "\n",
      "group  9\n",
      "great meat substitute have been eating these child usually bread and fry these but they can also fried without the breading they can cubed and tossed into soup goulash etc thinly sliced they can eaten cold salad like them after they have been breaded and eat one cold sandwich with lettuce tomato sprout etc kid eat these too they are good source protein with dinner\n",
      "B000DLB2E4\n",
      "\n",
      "you want white plastic piece all over your floor get after week having them really dont care for this product dog year old mixed breed were not excited about them the girl had hers for all about minute then said thanks but thanks and walked away the boy chewed for about minute then had enough they stayed the floor for them enjoy anytime but they rarely have and when they did chew them well had small hard white piece all over rug needle say cant walk barefoot the rug sorry made this purchase especially the price not recommend this product\n",
      "B000084E6V\n",
      "\n",
      "baking bargain bonanza love bake and probably bake time per week hate running out ingredient but hate paying lot for them too when amazon ha sale thing like baking chip stock purchased these butterscotch chip during promotion and they were great deal under bag they all arrived tact broken bag and they were very fresh\n",
      "B000IMSSF4\n",
      "\n",
      "love these little bunny absolutely love sannies snack mix ha great flavor and love the unique shape the best part that the ingredient are all organic and real chemical the one thing would say improve them would add more pretzel the variety there seems lot le those mixed and they add great texture and flavor love that you can get multiple box here amazon however wish you could purchase more than would ideal because through them rather fast\n",
      "B002QU2ILQ\n",
      "\n",
      "absolutely wonderful first saw these cousin house and wa just amazed they are the best for roasting and making giant smores when got back home could not find them store and ended purchasing them here they shipped fine and arrived looking tasty highly recommend impress your friend\n",
      "B003WKO150\n",
      "\n"
     ]
    }
   ],
   "source": [
    "for i in range(10):\n",
    "    print('group ',i)\n",
    "    for i in grp.get_group(i).sample(5).values:\n",
    "        print(i[0])\n",
    "        print(i[1])\n",
    "        print()"
   ]
  },
  {
   "cell_type": "markdown",
   "metadata": {},
   "source": [
    "0 - coffe  \n",
    "1- tea  \n",
    "2 - some seed like produts but overlap is there  \n",
    "3- soups\n",
    "4- bread cakes  \n",
    "5 -dog related  \n",
    "6 - some cereal produts  \n",
    "7 -  misc produts  \n",
    "8 - pasta and noodle based   \n",
    "9 -candys and some junk food  "
   ]
  },
  {
   "cell_type": "markdown",
   "metadata": {},
   "source": [
    "#### Word2Vec"
   ]
  },
  {
   "cell_type": "code",
   "execution_count": 10,
   "metadata": {},
   "outputs": [],
   "source": [
    "#importing\n",
    "from gensim.models import Word2Vec\n",
    "from gensim.models import KeyedVectors\n",
    "import pickle\n",
    "import gensim"
   ]
  },
  {
   "cell_type": "code",
   "execution_count": 11,
   "metadata": {},
   "outputs": [],
   "source": [
    "import gensim\n",
    "list_of_sent=[]\n",
    "for sent in final_review.final_text.values:\n",
    "    list_of_sent.append(sent.split())"
   ]
  },
  {
   "cell_type": "code",
   "execution_count": 89,
   "metadata": {},
   "outputs": [],
   "source": [
    "#word2vec model with 50 dim vector\n",
    "w2v_model_50=gensim.models.Word2Vec(list_of_sent,min_count=5,size=50, workers=8)\n",
    "#word2vec model with 100 dim vector\n",
    "w2v_model_100=gensim.models.Word2Vec(list_of_sent,min_count=5,size=100, workers=8)\n",
    "#word2vec model with 300 dim vector\n",
    "w2v_model_300=gensim.models.Word2Vec(list_of_sent,min_count=5,size=300, workers=8)"
   ]
  },
  {
   "cell_type": "code",
   "execution_count": 12,
   "metadata": {},
   "outputs": [],
   "source": [
    "#loading from disk\n",
    "w2v_model_100 = pickle.load(open('w2v_model_dt_100.p','rb'))\n",
    "w2v_model_50 = pickle.load(open('w2v_model_dt_50.p','rb'))\n",
    "w2v_model_300 = pickle.load(open('w2v_model_dt_300.p','rb'))"
   ]
  },
  {
   "cell_type": "markdown",
   "metadata": {},
   "source": [
    "#### Avg Word2Vec"
   ]
  },
  {
   "cell_type": "code",
   "execution_count": 13,
   "metadata": {},
   "outputs": [],
   "source": [
    "# the avg-w2v for each sentence/review is stored in this list\n",
    "def avg_w2v(list_of_sent,model,d):\n",
    "    '''\n",
    "    Returns average of word vectors for \n",
    "    each sentance with dimension of model given\n",
    "    '''\n",
    "    sent_vectors = []\n",
    "    for sent in list_of_sent: # for each review/sentence\n",
    "        doc = [word for word in sent if word in model.wv.vocab]\n",
    "        if doc:\n",
    "            sent_vec = np.mean(model.wv[doc],axis=0)\n",
    "        else:\n",
    "            sent_vec = np.zeros(d)\n",
    "        sent_vectors.append(sent_vec)\n",
    "    return sent_vectors"
   ]
  },
  {
   "cell_type": "code",
   "execution_count": 14,
   "metadata": {},
   "outputs": [],
   "source": [
    "list_of_sent_train=[]\n",
    "for sent in train_df.final_text.values:\n",
    "    list_of_sent_train.append(sent.split())"
   ]
  },
  {
   "cell_type": "code",
   "execution_count": 15,
   "metadata": {},
   "outputs": [],
   "source": [
    "#avg word2vec for \n",
    "sent_vector_avgw2v_300 = avg_w2v(list_of_sent_train,w2v_model_300,300)\n",
    "#stacking columns\n",
    "train_avgw2v_300 = np.hstack((sent_vector_avgw2v_300,\n",
    "            train_df[['HelpfulnessNumerator','HelpfulnessDenominator']]))\n",
    "column = list(range(0,300))\n",
    "column.extend(['HelpfulnessNumerator','HelpfulnessDenominator'])\n",
    "train_df_avgw2v_300 = pd.DataFrame(train_avgw2v_300,columns=column)"
   ]
  },
  {
   "cell_type": "code",
   "execution_count": 125,
   "metadata": {},
   "outputs": [],
   "source": [
    "train_df_avgw2v_300.to_csv('train_df_avgw2v_300_km.csv')"
   ]
  },
  {
   "cell_type": "code",
   "execution_count": 18,
   "metadata": {},
   "outputs": [
    {
     "name": "stdout",
     "output_type": "stream",
     "text": [
      "No of clusters 1 Sum of Squared dist 21478458.5677\n",
      "No of clusters 2 Sum of Squared dist 13151425.9848\n",
      "No of clusters 3 Sum of Squared dist 9763301.69767\n",
      "No of clusters 4 Sum of Squared dist 8287436.51602\n",
      "No of clusters 5 Sum of Squared dist 6996673.5982\n",
      "No of clusters 6 Sum of Squared dist 6249683.64389\n",
      "No of clusters 7 Sum of Squared dist 5827920.66685\n",
      "No of clusters 8 Sum of Squared dist 5528591.41371\n",
      "No of clusters 9 Sum of Squared dist 5267355.5692\n",
      "No of clusters 10 Sum of Squared dist 5083635.81328\n",
      "No of clusters 11 Sum of Squared dist 4860846.33753\n",
      "No of clusters 12 Sum of Squared dist 4685988.30479\n",
      "No of clusters 13 Sum of Squared dist 4566925.31898\n",
      "No of clusters 14 Sum of Squared dist 4473099.36642\n",
      "No of clusters 15 Sum of Squared dist 4363387.89202\n",
      "No of clusters 16 Sum of Squared dist 4288240.38983\n",
      "No of clusters 17 Sum of Squared dist 4203399.91147\n",
      "No of clusters 18 Sum of Squared dist 4130410.6869\n",
      "No of clusters 19 Sum of Squared dist 4079661.38805\n",
      "No of clusters 20 Sum of Squared dist 4024256.8153\n",
      "No of clusters 21 Sum of Squared dist 3973378.92582\n",
      "No of clusters 22 Sum of Squared dist 3900402.97946\n",
      "No of clusters 23 Sum of Squared dist 3853867.75265\n",
      "No of clusters 24 Sum of Squared dist 3846995.83497\n"
     ]
    }
   ],
   "source": [
    "ssd = {}\n",
    "centers = {}\n",
    "s = []\n",
    "for i in range(1,25):\n",
    "    model = KMeans(n_clusters=i,n_init=10,max_iter=300)\n",
    "    model.fit(train_df_avgw2v_300)   \n",
    "    ssd[i] = model.inertia_\n",
    "    centers[i] = model.cluster_centers_\n",
    "    print('No of clusters',i,'Sum of Squared dist',model.inertia_)"
   ]
  },
  {
   "cell_type": "code",
   "execution_count": 19,
   "metadata": {},
   "outputs": [
    {
     "data": {
      "image/png": "[encoded data removed]",
      "text/plain": [
       "<matplotlib.figure.Figure at 0x1482bb7dd160>"
      ]
     },
     "metadata": {},
     "output_type": "display_data"
    }
   ],
   "source": [
    "plt.figure(figsize=(12,8))\n",
    "plt.plot(list(ssd.keys()),list(ssd.values()))\n",
    "plt.xlim(0,50)\n",
    "plt.xlabel('No of Clusters')\n",
    "plt.ylabel('Sum of Sqared distances')\n",
    "plt.title('elbow method for Avg Word2Vec')\n",
    "plt.grid()"
   ]
  },
  {
   "cell_type": "code",
   "execution_count": 103,
   "metadata": {},
   "outputs": [
    {
     "data": {
      "text/plain": [
       "KMeans(algorithm='auto', copy_x=True, init='k-means++', max_iter=300,\n",
       "    n_clusters=8, n_init=10, n_jobs=1, precompute_distances='auto',\n",
       "    random_state=None, tol=0.0001, verbose=0)"
      ]
     },
     "execution_count": 103,
     "metadata": {},
     "output_type": "execute_result"
    }
   ],
   "source": [
    "model = KMeans(n_clusters=8,n_init=10,max_iter=300)\n",
    "model.fit(train_df_avgw2v_300)"
   ]
  },
  {
   "cell_type": "code",
   "execution_count": 109,
   "metadata": {},
   "outputs": [
    {
     "data": {
      "text/plain": [
       "array([6, 0, 6, ..., 6, 6, 6], dtype=int32)"
      ]
     },
     "execution_count": 109,
     "metadata": {},
     "output_type": "execute_result"
    }
   ],
   "source": [
    "model.labels_"
   ]
  },
  {
   "cell_type": "code",
   "execution_count": 110,
   "metadata": {},
   "outputs": [],
   "source": [
    "train_df['avgw2v_label'] = model.labels_"
   ]
  },
  {
   "cell_type": "code",
   "execution_count": 111,
   "metadata": {},
   "outputs": [
    {
     "data": {
      "text/html": [
       "<div>\n",
       "<style>\n",
       "    .dataframe thead tr:only-child th {\n",
       "        text-align: right;\n",
       "    }\n",
       "\n",
       "    .dataframe thead th {\n",
       "        text-align: left;\n",
       "    }\n",
       "\n",
       "    .dataframe tbody tr th {\n",
       "        vertical-align: top;\n",
       "    }\n",
       "</style>\n",
       "<table border=\"1\" class=\"dataframe\">\n",
       "  <thead>\n",
       "    <tr style=\"text-align: right;\">\n",
       "      <th></th>\n",
       "      <th>final_text</th>\n",
       "      <th>ProductId</th>\n",
       "    </tr>\n",
       "    <tr>\n",
       "      <th>avgw2v_label</th>\n",
       "      <th></th>\n",
       "      <th></th>\n",
       "    </tr>\n",
       "  </thead>\n",
       "  <tbody>\n",
       "    <tr>\n",
       "      <th>0</th>\n",
       "      <td>66829</td>\n",
       "      <td>66829</td>\n",
       "    </tr>\n",
       "    <tr>\n",
       "      <th>1</th>\n",
       "      <td>2043</td>\n",
       "      <td>2043</td>\n",
       "    </tr>\n",
       "    <tr>\n",
       "      <th>2</th>\n",
       "      <td>25081</td>\n",
       "      <td>25081</td>\n",
       "    </tr>\n",
       "    <tr>\n",
       "      <th>3</th>\n",
       "      <td>75</td>\n",
       "      <td>75</td>\n",
       "    </tr>\n",
       "    <tr>\n",
       "      <th>4</th>\n",
       "      <td>227</td>\n",
       "      <td>227</td>\n",
       "    </tr>\n",
       "    <tr>\n",
       "      <th>5</th>\n",
       "      <td>6721</td>\n",
       "      <td>6721</td>\n",
       "    </tr>\n",
       "    <tr>\n",
       "      <th>6</th>\n",
       "      <td>153289</td>\n",
       "      <td>153289</td>\n",
       "    </tr>\n",
       "    <tr>\n",
       "      <th>7</th>\n",
       "      <td>655</td>\n",
       "      <td>655</td>\n",
       "    </tr>\n",
       "  </tbody>\n",
       "</table>\n",
       "</div>"
      ],
      "text/plain": [
       "              final_text  ProductId\n",
       "avgw2v_label                       \n",
       "0                  66829      66829\n",
       "1                   2043       2043\n",
       "2                  25081      25081\n",
       "3                     75         75\n",
       "4                    227        227\n",
       "5                   6721       6721\n",
       "6                 153289     153289\n",
       "7                    655        655"
      ]
     },
     "execution_count": 111,
     "metadata": {},
     "output_type": "execute_result"
    }
   ],
   "source": [
    "#no of points in each group\n",
    "train_df.groupby('avgw2v_label')['final_text','ProductId'].count()"
   ]
  },
  {
   "cell_type": "code",
   "execution_count": 112,
   "metadata": {},
   "outputs": [],
   "source": [
    "grp = train_df.groupby('avgw2v_label')[['final_text','ProductId']]"
   ]
  },
  {
   "cell_type": "code",
   "execution_count": 132,
   "metadata": {},
   "outputs": [
    {
     "name": "stdout",
     "output_type": "stream",
     "text": [
      "group  0\n",
      "this too expensive this cost the super market why going pay almost for one can this product\n",
      "B00510NMKO\n",
      "\n",
      "atomic fire ball not sure why but order came and most the fireball are soft and few are harder prefer the harder one and wonder the softer one are stale fresh\n",
      "B003U4Q0E8\n",
      "\n",
      "super ordered the pop tart and they came within week really nice have this option available thanks\n",
      "B000M2UNI0\n",
      "\n",
      "good for the money must admit after realized this wa foreign honey did feel bit guilty for ordering mix few different country used local honey doe have bit different taste just taste extra that make sense whoever reading this with that being said job find supply for office the best price possible and very much met that goal with this product this wa the best price could find anywhere and looked for day there wa like difference some online store the shipping wa little slow get but everyone seems happy for the most part with the taste being concentrated le used the product last longer all all with le waste and the money saved this great deal just not for local\n",
      "B001652KD8\n",
      "\n",
      "comparable Kellogg nutrigrain bar very similar Kellogg nutrigrain cereal bar but little more tart the kid love them snack quick meal the\n",
      "B000PIX38S\n",
      "\n",
      "group  1\n",
      "keurig cause keurig coffee maker problem are our third keurig coffee maker the original model ha worked well for three year although it internal timer ha given out just turn and off the second and third machine were the platinum and worked well for about month which point they either refused pump water through the altogether short cupped pumping some the water back into the reservoir keurig replaced the first and the replacement began act december after two hour the phone today with both keurig and green mountain coffee their division timothy telly Newmann caribou etc turn out that some get domed because the coffee fresh the dome apparently caused gas emitted the coffee ground creating slight overpressure bold coffee appear most susceptible this phenomenon when domed placed the machine accordance with the manual however the upper needle which includes the water channel can clogged ground forced into them this internal overpressure condition keurig claim have just discovered the problem and developing solution but the interim they advise puncturing the bottom domed first forcing down the lower needle before closing the top the machine already clogged their recommended technique paper clip ream out the water channel then running water without into measuring cup verify that the various cup setting are producing the correct volume water none this addressed the manual weve been buying the from amazon bulk because their good price but have lately had two box mostly domed timothy extra bold rainforest expresso which seem have caused our difficulty keurig claim that theyve not had any problem with the smaller count box which they market directly there best used date each and most our domed seem either approaching beyond their use date caveat emptor when buying volume from amazon and other quantity purveyor where the box may spend more time the warehouse than otherwise\n",
      "B002AQ0OS0\n",
      "\n",
      "minty sweet herbal sedation between third and fourth year medical school did four week elective baster university accredited university for cam complementary and alternative medicine did this for personal curiosity something want understand better and learn about but there are also practical reason for study cam whether they admit not our patient are use alternative medicine conjunction with instead physician prescribed medication make sense for doctor know least the basic what out there and what people are doing our patient can comfortably discus these thing with during lecture herbal medicine with the pronounced very deliberately the herbal practitioner discussed what wa known the biochemistry valerian root apparently act the gaba receptor manner very similar way benzodiazepine act like valium xanax Ativan klonopin when they recommend valerian root for it sleep promoting and effect probably really effective treatment but then seems probably also not completely benign medication know the benzol arent asked the instructor people could become tolerant dependent valerian root could interact with other medication the way benzol can she smiled politely doing her charitable best conceal her contempt for ignorance and the attitude she presumed were behind question after beat she answered you see this how plant spirit differ from pharmaceutical the plant spirit only where they are needed not sure flinched successfully suppressed spasm skepticism but this where the cam stuff get away from want have open mind certainly believe there wisdom and alternate way healing out there outside western medicine but had hard time swallowing when cam practitioner want both way they use the hard science any time support the use alternative medication but the second the hard science conflict with their belief they fall back mystical explanation not saying there nothing that but let just say it not something can wrap mind around general think the herbal medicine are probably effective and safe when used very moderately just you cant get too much trouble chewing cocaine leaf versus snorting refined cocaine you probably wont run into trouble with herbal tea made with valerian versus potent dos benzol think lot physician have problem with people using alternative medication except for concern about the unknown not trained convert unit herbal supplement into standard benzo dos for example introduces confounders not down the herbal med but believe that when they work they work for the same reason pharmaceutical they have active ingredient causing real physiological effect and placebo effect factor but all know now that our prescription drug are benefit from placebo effect thats wash know what you are taking how much considered safe and talk your doctor about dont fool yourself into believing that herbal medication are harmless because they are natural your doctor condescending and automatically dismissive get new doc ultimately the course challenged more precisely define what open mind have open mind that curious open learning dont believe know everything and willing listen other perspective but not blank mind have experience bias and education kicking around there open mind doe not have believe everything hears can have open mind and still maintain critical stance the way giving thumb this product it nice tea nice relaxing bedtime treat with just bit honey you need for insomnia muscle spasm just make sure you talk your doctor about the underlying problem and mention any supplement herbal med you use thank you for listening\n",
      "B00020HHEA\n",
      "\n",
      "great for diabetic wow wa surprised the negative review because think miracle noodle are great yes the liquid the bag they come ha strange odor yes the texture may seem bit for some but for someone like who cant eat normal pasta these truly are miracle noodle the garlic flavor particular give nice mild taste the noodle you put bit earth balance butter etc them the salt help balance the flavor the texture kind chewy but would not compare jellyfish like previous reviewer have tried seaweed noodle before and those taste and have texture like jellyfish you are simply trying diet dont know that would recommend these you are only dont know that would recommend these however and and have had stop eating grain entirely and these are the only noodle can eat calorie and gram carb per bag blood sugar doesnt spike and they keep quite full for anyone with similar medical problem would definitely recommend trying them\n",
      "B004WZ4HC6\n",
      "\n",
      "musty wa very excited find this product bulk healthy and organic what wasnt happy about wa the musty taste that every third bite possessed the one that didnt taste musty were delicious they were good fact that inspires you keep trying and then mustiness bite you yuck\n",
      "B001IZM92S\n",
      "\n",
      "best coffee ive ever had bought the coffee originally because liked the idea organic coffee that wa french roasted like strong cup coffee and this coffee provides that well one the best aroma and taste any cup coffee ive ever had use this coffee with inexpensive grinder and nice percolator this coffee absolutely worth the price\n",
      "B002ESSASK\n",
      "\n",
      "group  2\n",
      "organic and great price since not being able get Kirkland organic ground coffee Costco searched the web and found Cameron amazon first wa skeptical because the price well both husband and were pleasantly surprised the coffee bold but not bitter the subscription option definite plus saving and free shipping cant wait for next month delivery ill probably the amount two bag thanks amazon for great product and excellent service\n",
      "B002ESSASK\n",
      "\n",
      "great honey that packaged not great bottle ambrosia pure honey delicious and unlike most honey available the grocery store this honey produced the usa only complaint about this honey that come bottle that very inconvenient use the main drawback that there nowhere for the honey come out the bottle unless you unscrew the whole cap and pour the honey out the bottle you want able squirt honey out the bottle nozzle you need make hole yourself this easy feat because the bottle cap made hard plastic that cant really cut with scissors usually end pouring this honey into different bottle order able use more easily\n",
      "B001EO616S\n",
      "\n",
      "way too salty see this product got lot excellent review but disagree with the other reviewer wife and are food critic know when something good not wife and immediately thought this seasoning wa way too salty wa salty that almost wa not edible also tasted like Lawry used seasoning salt the perfect blend this made way too salt Lawry reduces the amount salt then think this product can live it name found that McCormick montreal chicken seasoning the perfect blend for chicken sorry venting little bit but now have throw bottle Lawry seasoning the trash\n",
      "B000F2RIQC\n",
      "\n",
      "contaminated bought this product from Costco this past weekend student teacher and gave jar mentor and kept one for myself the next day she came work complaining that made her sick wa not sure wa because wa new addition her diet not ate some mine despite her warning became sick the same way diarrhea and severe upset stomach within the hour have been eating this product almost every day every since Costco started selling know that this not normal but really scary vegan not likely that the apple that had today wa the culprit would stay away from this product for good while contacted maranatha well Costco Costco noted the problem but took step remove from the shelf and waiting for maranatha get back dont buy\n",
      "B002SHYCQQ\n",
      "\n",
      "very fine quality have tried lot different coffee brand this year and this one far the best although usually prefer light roast this medium roast fantastic thought that gevalias blend were very good but compared this there nothing like hawaiian kona the price reasonable for kona bean and this brand really exceptional drink black ha good there attempt hide the flavor crappy bean even worse adding flavoring mask inferior product you have already tried this product and you know that you enjoy try searching for the pack amazon it good cost saving purchase bulk the discount for buying package equivalent getting package for free this coffee very fine quality recommended\n",
      "B00015ECGC\n",
      "\n",
      "group  3\n",
      "fettuccini shape inedible texture and taste cant believe this wa made and packaged for human consumption still reeling from attempt eating spare yourself open the package and breath the heady scent ammonia but wait they warn you the authentic scent shirataki and recommend that you parboil the noodle reduce the stench excuse aroma once cooked you can enjoy pseudonoodles with the scent and consistency overcooked squid mm difficult chew described the perfect diet food for good reason you wont able finish more than two forkfuls\n",
      "B000AQFQC6\n",
      "\n",
      "wine get the venturi skip the stand first all you are wine drinker get this work else ive been taken the psychology first encountered the sterling winery california since were joining the club got treatment which included demo this device newly opened bottle wine yes the sterling wine store had them for sale for wine wa poured into one glass from the bottle and another through the venturi clearly made difference aroma and taste weve since done couple blind test and picked the aerated wine every time now let save you couple buck the basic device includes small rubber stand for storing the venturi just fine the upgraded set includes stand not attractive enough leave display it another bulky thing store also found that our wine glass were either too got they were too tall and wouldnt fit plus the stand hold the venturi perfectly vertical which contrary the included instruction which tell you tip slightly the side fellow wine drinker get the model and you quite pleased dont waste your money the version with the stand\n",
      "B002OL2MWM\n",
      "\n",
      "gastrointestinal armageddon when got these couldnt contain excitement and ate about quarter bag scene from the movie could have been filmed inside gut there would have been le pressure make two winning free throw the NBA final than for gas escape bowel after few hour had extreme gas with relief all could wa lie bed and pray for fart that might sound funny but when youve eaten something that ha basically turned you into the blueberry girl from willy ponka youre pleading for relief well the fart came and lived through but not only had visit from the fart fairy but the sale rep from montezuma revenge stopped and gave full demo their service well retrospect eating over pound all once wasnt the brightest thing ive done but also wasnt the dimmest back and finish the bag off ill probably leave suicide note\n",
      "B000EVQWKC\n",
      "\n",
      "yum wa the fence about buying these for month read the review and were impressed them but the possibility being stuck with bag chip hated made nervous this wa first food order from amazon and glad picked this product absolutely love these chip deiced the variety pack start with case didnt like one flavor had others could eat turn out though enjoy them all they are thicker than your normal potato chip with great crunch and more airy texture one bag fill snack the flavor themselves are bit bolder than you would expect from chip for this wa good thing would have say the BBQ favorite the flavor reminded lot lay sqq but bolder version the sweet sqq flavor with bold kick the end bag had very few broken chip them everything about this order wa great father wa around when wa trying first bag making fun them cause they were healthy offered him one and accepted probably some dramatic spitting out and www effect looked confused once ate promptly took the bag out hand and walked away with this man who hate anything healthy but show how good the flavor are will definitely buying these again\n",
      "B001RVFDOO\n",
      "\n",
      "good price for popular gift bought this for parent christmas gift wa big hit and immediately brought with reaction look this one and forgot about them one thing that shouldnt forgotten that after all the trip down memory lane you actually get eat the candy strongest reaction the box when arrived wa shock over it size and weight huge expected pay dollar for the candy and dollar for novelty but honestly think ha close worth candy not more usually when item are created tug the sentimentality buyer something lost the actual product that isnt the case here both exciting gift and practical one\n",
      "B005NYXE8S\n",
      "\n",
      "group  4\n",
      "very pleased far studied the keurig machine and others for over month before deciding this one main fear the keurig wa the unbelievable amount bad review for the water pump failing their home system especially the platinum seem plagued with this issue yet this unit and most the other commercial unit appear immune the downside going with the commercial unit they are not compatible with the not despair there solution purchased from the local staple for unwrapped new beauty and filled full water per the instruction heart sank the just out the box unit would not prime figured must doing something wrong and called keurig they confirmed the unit wa defective right out the box not happy but thought would give one more took back staple who happily exchanged the item this time success the unit work great and have had other issue the month ownership use filtered bottled water highly recommended extend the unit service life unit ha year warranty from keurig very happy with purchase far those who complained about the noise surprised bit doe hum and buzz bit admit but last what maybe second while fill with water really seemed bit silly now the big win here wa willing trade the inability use the for reliable unit but found the ekobrew reusable filter for keurig here amazon work great with the and recommend you want use your own blend coffee for what worth thats cent\n",
      "B004GWSWCQ\n",
      "\n",
      "not what appears sent this item close relative for christmas having read the review this product purchased talking with this relative wa told the item wa cute bit confused asked what wa the basket there were box the basket all containing one piece whatever wa the front the box chocolate covered pretzel contained one pretzel biscotti contained three biscotti seriously each cookie one cookie etc total all box all with item per box give take since this basket wa for people have hard time trying figure out who will get the single pretzel the luxury the biscotti shipping date and speed wa but having paid basically for this basket wa definitely not worth will not order this item again and would hesitate about ordering another product from this company\n",
      "B0010OF8UW\n",
      "\n",
      "full medium roast espresso bean espresso bean can roasted different way lavazza and illy represent the best two different approach roasting bean for italian espresso illy roast their bean for longer time but lower temperature than lavazza result it higher roasting temperature the lavazza darker and according some people more robust than illy it best when properly ground tamped and brewed lavazza espresso bit stronger tasting and also little bit more bitter than illy the lavazza espresso also ha very pure black color once brewed and when done properly ha hint licorice the aftertaste personally though prefer the illy approach which why giving this coffee four rather than five star but even certainly recognize the high quality lavazza opinion lavazza represents the very best the widely available dark opposed medium like illy italian espresso roast\n",
      "B0002E2GQU\n",
      "\n",
      "great tasting coffee many other review have mentioned these are not the normal but they work much the same generally drink the stronger emery jet fuel kona etc and find that these fog chaser pod compare very favorably there bitter aftertaste just smooth flavor have not had any sediment the bottom cup ive had sediment from other think people are bit thrown the smell the coffee bag when they get much stronger smell than you get from box doe smell like when you open fresh bag can ground coffee which sort refreshing after using for year weve just finished the first bag day which kept ziplock bag and the last cup tasted good the first already placed subscribe and save order for the french roast try out will keeping subscription for the fog chaser quite good\n",
      "B005ZBZLT4\n",
      "\n",
      "betty crocker frosting fancy package they charged for shipping and handling figured okay temperature secure package and they rush because perishable but came regular box and wa sent out before holiday weekend spent extra time floating around once arrived wa not individual wrapped but two large bag one box the main ingredient vegetable shortening and the flavor and texture about the same frosting off the baking shelf grocery store waste time and money but you arent picky the flavor okay\n",
      "B0008IT4OM\n",
      "\n",
      "group  5\n",
      "great inexpensive little item have been using these cap constantly for the past week and havent experienced any problem with water leakage poor fit etc the trick found wa push the cap into the that the top rim the cap even with the top rim the fill used and cap them day before plan use them and seal the hole the top the cap and the hole the bottom the with those sticker one can get office supply store and discount store this keep the coffee tea hot chocolate etc from getting stale before brewing clean used bought cheap eyebrow brush sweep the wet ground out the cup and filter after use keep numerous used clean and dry fill and cap while recently used are drying ive found that the regular grind coffee that buy the grocery store work well for brewing fine grind coffee tends clog the needle the brewer get the correct strength tea fill the with the equivalent teabags then cap for coffee fill the nearly the bottom edge the far cap are working well and saving money before discovering these wa somewhat regretting having bought keurig brewer because the high cost the and the number people living house who drink multiple cup coffee daily the bill for buying wa starting look like mortgage payment these saved bank account\n",
      "B00764BRS2\n",
      "\n",
      "overpriced amazon like all the larabars that have tried they taste good and are able satisfy appetite not understand why the bar can purchased cheaper whole paycheck aka whole food for and Walmart for and they are more expensive per unit when purchased box amazon depending which Tarabar you choose the amazon per unit price range from for the cherry for the chocolate per unit amazon need adjust it price order competitive the market\n",
      "B000ENUC3S\n",
      "\n",
      "wonderfully smooth and great flavor better than almond alternative have been drinking this since week they released and for the last couple year every month ive gotten the habit going store that reliably carry and getting dozen sometimes whatever the shelf and drinking few box week thankfully box here off when buy case the absolute smoothest milk made from very picky and sensitive taste and texture the supertaster test where they dye and scan your tongue yeah have the normal taste bud count and twice the depth crazy but make very aware nuance for good and bad almond one tend have some the salt and sugar and cocoa the chocolate one just dont ever quite join the nut blend and way drinking soy this perfect carry with when worried about temperature keep box the individual around but actually usually take the whole drink sitting top usually the same day pacific food also have amazing customer funny moved seattle from the east coast and having consumed over full year there suddenly wa not known the chocolate variety anywhere just few hour from their plant store that have more pacific brand broth milk and such than all other brand combined they were awesome about getting here for also before amazon carried not sure why cost much with amazon compared seattle grocer since amazon seattle too but glad for the backup regardless hoping never need pay this much having had pacific oat almond hazelnut and then almond breeze the other good chocolate variety sweetened that the unsweet isnt palettable this the best the plain hazelnut milk super smooth and great for making own custom flavored drink when run out loved alpenrose dairy good amazing milk this definitely great for potential power outrage winter storm great backup for perishable dairy good well worth each mind you grab the case recurring and set few month away and see you arent hooked seriously bet you will gonna drink some right now should upload shot the cabinet shelf that just row are always the fridge cause good\n",
      "B002BG38I2\n",
      "\n",
      "classy and romantic this wa gift wife for valentine day and she really liked wa worried the lavender would overpowering some the product but it good balance between noticeable and pleasant the sponge scrubber are big enough get the job done about the size hand each the mix item great for enjoying bath and lathering some moisturizers afterward the potpourri bigger than you can tell from picture least liter volume the container are all pretty nice and easy use none the included item seem cheap useless finding nice bathrobe and some candle compliment this gift basket would really make special romantic present\n",
      "B0001WAMN2\n",
      "\n",
      "fry chicken this oil great high smoking point great for deep frying doesnt actually add any flavor food when you use you taste the food and not the oil\n",
      "B001EO5RBS\n",
      "\n",
      "group  6\n",
      "great comfort food the noodle are big and have firm texture dont follow the cheese sauce recipe though add half stick butter with the powder and about tils milk and swear eating kraft macncheese\n",
      "B000CQ01NS\n",
      "\n",
      "great flour add waffle make waffle with about the mix being this flour and they taste great are healthy with grapeseed oil\n",
      "B001EO682A\n",
      "\n",
      "the best these are favorite tomato the world put them everything everything and sometimes just eat them right out the can auto delivery with these jewel\n",
      "B000LKVH8S\n",
      "\n",
      "some the best for pasta sauce the thing that make these great for pasta sauce aside from the taste how they break down when cooked produce nice thick sauce weve tested lot tomato and found that one the key thing that they from italy and these are some best\n",
      "B000N17T4G\n",
      "\n",
      "favorite tea have found this flavor Gazo tea hard find and wa very happy have found amazon this tea delicious and thanks amazon now have enough share with friend and family and not stingy\n",
      "B0017WO2H2\n",
      "\n",
      "group  7\n",
      "great mainstream option people please dont review product before youve tried give the impression that the product not good which not the case here understand your concern about the ingredient list call betty crocker their website think need all can support mainstream company coming out with product the more this the more product will hit the market this will make product easier find local grocery store cheaper and tastier that being said this product actually good the betty crocker website ha lot recipe use with the mix tried the carrot cake recipe with the yellow cake mix and wa great the only downside that only make one layer you are making cake buy two yes that get expensive it part living not\n",
      "B002AQP5FW\n",
      "\n",
      "easter bunny make great alternative chocolate egg five year old daughter loved this easter present she played with for hour recommend this anyone who struggling think suitable gift for easter\n",
      "B00012182G\n",
      "\n",
      "really work well ill this silly little thing actually work how can you get the effect decanted wine the time take pour glass from bottle after reading other review wa convinced try but after seeing work thought there that wa too fast and too easy wa wrong took blind taste test washed identical glass opened new bottle merlot poured one straight from the bottle and poured the other through the venturi aerator left the room and asked wife move the glass the table and call when all the bubble were gone there wa question which one had been aerated picked right away even when son tried tell picked wrong stood choice wa that obvious softens the wine release the bouquet and created silky finish took multiple test and picked right every time wife took turn testing and could tell well got aerator for red and white couple day later opened bottle white and did the same test and got the same result the difference enough that wont have glass without now even wine would normally open and pour and drink right away now aerated red white make real difference bought the tower which added expense but it nice for party guest can serve themselves and not have handle the aerator just pour and enjoy the quality the part feel solid not cheesy plastic like thought would taken care dont see why these cant last for many year and since it just liquid and air should work just well year doe today impressed and plan show them off fellow wine enthusiast our annual new year party\n",
      "B002OL2MWM\n",
      "\n",
      "triclopyr the good stuff kill poison ivy dead this contains triclopyr which more aggressive than glyphosate also more persistent which mean that you dont want spray close plant you value triclopyr what you need knock out poison ivy poison ivy and lot other shrub tree can take swig glyphosate round gargle twice with and spit back into your face just for giggle ive used this and the bayer brush killer plus they contain the same active ingredient and havent observed any significant difference this stuff the real deal found when wa trying locate product called discontinued and found out that wa triclopyr penetrating oil you simply brush onto cut active vine and would kill the entire plant this where really nice buy the concentrate instead the spray the diluted version but also use the concentrate small bottle cut thicker vine trunk simply drip the concentrate and will kill the root and vine besides also have wild grapevine buckthorn box elder and many other invasive and nuisance plan the wood because poison ivy creeping vine with multiple root along it length eradication helped with higher concentration than the label instructs observation use between double strength appears that you spray one spot you will kill that part the vine but you hit enough place with something strong enough you can kill the whole plant down the root make sure you spray when you think wont rain for least couple day else you will probably need spray again make sure you get all sprout from extensive hand pulling observation that for every sprout there another foot vine lurking around and another sprout hiding somewhere nearby youve found this review helpful please let know new helpful please let know\n",
      "B000A0OG5K\n",
      "\n",
      "way too expensive much cheaper through espresso these pod cost way more than ordering through espresso didnt know that and paid about twice the amount should have also took week ship when ordered through espresso took day top all that many the pod were crushed some didnt even work they were crushed the end dont buy the pod here just buy them from espresso website\n",
      "B0099HD3YA\n",
      "\n"
     ]
    }
   ],
   "source": [
    "for i in range(8):\n",
    "    print('group ',i)\n",
    "    for i in grp.get_group(i).sample(5).values:\n",
    "        print(i[0])\n",
    "        print(i[1])\n",
    "        print()"
   ]
  },
  {
   "cell_type": "markdown",
   "metadata": {},
   "source": [
    "There is so much overlap in many groups and not able to divide by product types. because of Word similarity avg vectors some reviews are overlapping. some of them i find  \n",
    "0 - Misc products but maximum contains good ratings  \n",
    "1- Candies chocolates  \n",
    "2 - oil/seed related  \n",
    "3- Misc products so much overlap but maximum contains bad ratings  \n",
    "4- Coffe/tea related  \n",
    "5 - max dog related   "
   ]
  },
  {
   "cell_type": "markdown",
   "metadata": {},
   "source": [
    "#### Tf-Idf Weighted Word2Vec"
   ]
  },
  {
   "cell_type": "code",
   "execution_count": 14,
   "metadata": {},
   "outputs": [],
   "source": [
    "from sklearn.base import BaseEstimator, TransformerMixin\n",
    "\n",
    "class TfidfWeightedWord2Vec(BaseEstimator, TransformerMixin):\n",
    "    '''\n",
    "    Class for Tfidf Weighted Word2Vec Calculations\n",
    "    '''\n",
    "    def __init__(self, word2vec):\n",
    "        self.word2vec = word2vec\n",
    "        self.word2weight = None\n",
    "        self.dim = word2vec.vector_size\n",
    "        self.tfidf = None\n",
    "\n",
    "    def fit(self, X, y=None):\n",
    "        tfidf = TfidfVectorizer()\n",
    "        tfidf.fit(X[:,0])\n",
    "        self.tfidf = tfidf\n",
    "        #print(self.word2vec.wv.vocab.keys())\n",
    "        return self\n",
    "    \n",
    "    def tf_idf_W2V(self,feature_names,tf_idf_trans_arr,list_of_sent):\n",
    "        '''\n",
    "        tfidf weighted word2vec calculation\n",
    "        '''\n",
    "        import operator\n",
    "        dict_tfidf = {k: v for v, k in enumerate(feature_names)}\n",
    "        sent_vectors = []\n",
    "        i = 0\n",
    "        for sent in list_of_sent: # for each review/sentence\n",
    "            doc = [word for word in sent if word in self.word2vec.wv.vocab.keys()]\n",
    "            if doc:\n",
    "                #itemgetter\n",
    "                f = operator.itemgetter(*doc)\n",
    "                try:\n",
    "                    #itemgetter from dict\n",
    "                    final = f(dict_tfidf)\n",
    "                    final = tf_idf_trans_arr[i,final]\n",
    "                    #converting to dense\n",
    "                    final = final.toarray()\n",
    "                    #converting to diagnol matrix for multiplication\n",
    "                    final= np.diag(final[0])\n",
    "                    sent_vec = np.dot(final,np.array(self.word2vec.wv[doc]))\n",
    "                    #tfidf weighted word to vec\n",
    "                    sent_vec = np.sum(sent_vec,axis=0) / np.sum(final)\n",
    "                except:\n",
    "                    sent_vec = np.zeros(self.dim)             \n",
    "            else:\n",
    "                sent_vec = np.zeros(self.dim)\n",
    "            sent_vectors.append(sent_vec)\n",
    "            i = i+1\n",
    "        return sent_vectors\n",
    "\n",
    "    def transform(self, X):\n",
    "        #transform data\n",
    "        tf_idf_trans_arr = self.tfidf.transform(X[:,0])\n",
    "        feature_names = self.tfidf.get_feature_names()\n",
    "        list_of_sent = []\n",
    "        for sent in X[:,0]:\n",
    "            list_of_sent.append(sent.split())\n",
    "        temp_vec = self.tf_idf_W2V(feature_names,tf_idf_trans_arr,list_of_sent)\n",
    "        temp_vec= np.hstack((temp_vec,X[:,[1,2]]))\n",
    "        return temp_vec"
   ]
  },
  {
   "cell_type": "code",
   "execution_count": 15,
   "metadata": {},
   "outputs": [],
   "source": [
    "# For simple cv\n",
    "tfidfvect_w2v = TfidfWeightedWord2Vec(w2v_model_300)\n",
    "tfidfvect_w2v.fit(train_df[['final_text','HelpfulnessNumerator',\n",
    "                           'HelpfulnessDenominator']].values)\n",
    "X_train = tfidfvect_w2v.transform(train_df[['final_text',\n",
    "                'HelpfulnessNumerator','HelpfulnessDenominator']].values)"
   ]
  },
  {
   "cell_type": "code",
   "execution_count": 140,
   "metadata": {},
   "outputs": [
    {
     "name": "stdout",
     "output_type": "stream",
     "text": [
      "No of clusters 1 Sum of Squared dist 24171833.5224\n",
      "No of clusters 2 Sum of Squared dist 15844570.7006\n",
      "No of clusters 3 Sum of Squared dist 12456011.6976\n",
      "No of clusters 4 Sum of Squared dist 10979501.604\n",
      "No of clusters 5 Sum of Squared dist 9679840.63928\n",
      "No of clusters 6 Sum of Squared dist 8944502.93965\n",
      "No of clusters 7 Sum of Squared dist 8487686.19372\n",
      "No of clusters 8 Sum of Squared dist 8071787.08606\n",
      "No of clusters 9 Sum of Squared dist 7804478.04089\n",
      "No of clusters 10 Sum of Squared dist 7482311.49733\n",
      "No of clusters 11 Sum of Squared dist 7219493.00424\n",
      "No of clusters 12 Sum of Squared dist 7071082.9754\n",
      "No of clusters 13 Sum of Squared dist 6827409.11229\n",
      "No of clusters 14 Sum of Squared dist 6715620.45991\n",
      "No of clusters 15 Sum of Squared dist 6573033.69893\n",
      "No of clusters 16 Sum of Squared dist 6466839.46489\n",
      "No of clusters 17 Sum of Squared dist 6356654.12795\n",
      "No of clusters 18 Sum of Squared dist 6247787.95109\n",
      "No of clusters 19 Sum of Squared dist 6166076.20957\n",
      "No of clusters 20 Sum of Squared dist 6073954.80593\n",
      "No of clusters 21 Sum of Squared dist 5987239.57045\n",
      "No of clusters 22 Sum of Squared dist 5960550.71549\n",
      "No of clusters 23 Sum of Squared dist 5891144.76002\n",
      "No of clusters 24 Sum of Squared dist 5810811.42773\n",
      "No of clusters 25 Sum of Squared dist 5805908.30299\n",
      "No of clusters 26 Sum of Squared dist 5714962.28228\n",
      "No of clusters 27 Sum of Squared dist 5686507.08913\n",
      "No of clusters 28 Sum of Squared dist 5634394.73677\n",
      "No of clusters 29 Sum of Squared dist 5613232.60975\n"
     ]
    }
   ],
   "source": [
    "ssd = {}\n",
    "centers = {}\n",
    "s = []\n",
    "for i in range(1,30):\n",
    "    model = KMeans(n_clusters=i,n_init=10,max_iter=300)\n",
    "    model.fit(X_train)   \n",
    "    ssd[i] = model.inertia_\n",
    "    centers[i] = model.cluster_centers_\n",
    "    print('No of clusters',i,'Sum of Squared dist',model.inertia_)"
   ]
  },
  {
   "cell_type": "code",
   "execution_count": 142,
   "metadata": {},
   "outputs": [
    {
     "data": {
      "image/png": "[encoded data removed]",
      "text/plain": [
       "<matplotlib.figure.Figure at 0x1474f0b0ce80>"
      ]
     },
     "metadata": {},
     "output_type": "display_data"
    }
   ],
   "source": [
    "plt.figure(figsize=(12,8))\n",
    "plt.plot(list(ssd.keys()),list(ssd.values()))\n",
    "plt.xlim(0,30)\n",
    "plt.xlabel('No of Clusters')\n",
    "plt.ylabel('Sum of Sqared distances')\n",
    "plt.title('elbow method for Tf-Idf Word2Vec')\n",
    "plt.grid()"
   ]
  },
  {
   "cell_type": "markdown",
   "metadata": {},
   "source": [
    "from elbow metod we can find after 10 decrease is less so optimal may be 10."
   ]
  },
  {
   "cell_type": "code",
   "execution_count": 109,
   "metadata": {},
   "outputs": [
    {
     "data": {
      "text/plain": [
       "KMeans(algorithm='auto', copy_x=True, init='k-means++', max_iter=300,\n",
       "    n_clusters=10, n_init=10, n_jobs=1, precompute_distances='auto',\n",
       "    random_state=None, tol=0.0001, verbose=0)"
      ]
     },
     "execution_count": 109,
     "metadata": {},
     "output_type": "execute_result"
    }
   ],
   "source": [
    "model = KMeans(n_clusters=10,n_init=10,max_iter=300)\n",
    "model.fit(X_train)"
   ]
  },
  {
   "cell_type": "code",
   "execution_count": 110,
   "metadata": {},
   "outputs": [],
   "source": [
    "train_df['tfidfw2v_pred_label'] = model.labels_"
   ]
  },
  {
   "cell_type": "code",
   "execution_count": 111,
   "metadata": {},
   "outputs": [
    {
     "data": {
      "text/html": [
       "<div>\n",
       "<style>\n",
       "    .dataframe thead tr:only-child th {\n",
       "        text-align: right;\n",
       "    }\n",
       "\n",
       "    .dataframe thead th {\n",
       "        text-align: left;\n",
       "    }\n",
       "\n",
       "    .dataframe tbody tr th {\n",
       "        vertical-align: top;\n",
       "    }\n",
       "</style>\n",
       "<table border=\"1\" class=\"dataframe\">\n",
       "  <thead>\n",
       "    <tr style=\"text-align: right;\">\n",
       "      <th></th>\n",
       "      <th>final_text</th>\n",
       "      <th>ProductId</th>\n",
       "    </tr>\n",
       "    <tr>\n",
       "      <th>tfidfw2v_pred_label</th>\n",
       "      <th></th>\n",
       "      <th></th>\n",
       "    </tr>\n",
       "  </thead>\n",
       "  <tbody>\n",
       "    <tr>\n",
       "      <th>0</th>\n",
       "      <td>24524</td>\n",
       "      <td>24524</td>\n",
       "    </tr>\n",
       "    <tr>\n",
       "      <th>1</th>\n",
       "      <td>74134</td>\n",
       "      <td>74134</td>\n",
       "    </tr>\n",
       "    <tr>\n",
       "      <th>2</th>\n",
       "      <td>2142</td>\n",
       "      <td>2142</td>\n",
       "    </tr>\n",
       "    <tr>\n",
       "      <th>3</th>\n",
       "      <td>6315</td>\n",
       "      <td>6315</td>\n",
       "    </tr>\n",
       "    <tr>\n",
       "      <th>4</th>\n",
       "      <td>742</td>\n",
       "      <td>742</td>\n",
       "    </tr>\n",
       "    <tr>\n",
       "      <th>5</th>\n",
       "      <td>42445</td>\n",
       "      <td>42445</td>\n",
       "    </tr>\n",
       "    <tr>\n",
       "      <th>6</th>\n",
       "      <td>17689</td>\n",
       "      <td>17689</td>\n",
       "    </tr>\n",
       "    <tr>\n",
       "      <th>7</th>\n",
       "      <td>76</td>\n",
       "      <td>76</td>\n",
       "    </tr>\n",
       "    <tr>\n",
       "      <th>8</th>\n",
       "      <td>86578</td>\n",
       "      <td>86578</td>\n",
       "    </tr>\n",
       "    <tr>\n",
       "      <th>9</th>\n",
       "      <td>275</td>\n",
       "      <td>275</td>\n",
       "    </tr>\n",
       "  </tbody>\n",
       "</table>\n",
       "</div>"
      ],
      "text/plain": [
       "                     final_text  ProductId\n",
       "tfidfw2v_pred_label                       \n",
       "0                         24524      24524\n",
       "1                         74134      74134\n",
       "2                          2142       2142\n",
       "3                          6315       6315\n",
       "4                           742        742\n",
       "5                         42445      42445\n",
       "6                         17689      17689\n",
       "7                            76         76\n",
       "8                         86578      86578\n",
       "9                           275        275"
      ]
     },
     "execution_count": 111,
     "metadata": {},
     "output_type": "execute_result"
    }
   ],
   "source": [
    " #no of points in each group\n",
    "train_df.groupby('tfidfw2v_pred_label')['final_text','ProductId'].count()"
   ]
  },
  {
   "cell_type": "code",
   "execution_count": 112,
   "metadata": {},
   "outputs": [],
   "source": [
    "grp = train_df.groupby('tfidfw2v_pred_label')[['final_text','ProductId']]"
   ]
  },
  {
   "cell_type": "code",
   "execution_count": 113,
   "metadata": {
    "scrolled": true
   },
   "outputs": [
    {
     "name": "stdout",
     "output_type": "stream",
     "text": [
      "group  0\n",
      "delightful tea think this the best jasmine tea ever full jasmine flower and fragrance and not bitter not habitual tea drinker except for this particular tea\n",
      "B000NIHZMU\n",
      "\n",
      "instant coffee hope you are reading these review did not this instant coffee inside container the description deceptive\n",
      "B006N3I69A\n",
      "\n",
      "kahlua mocha coffee review wonderful tasting and wonderful smell the kahlua mocha coffee also make the best tasting frappucinos ever complemented with splenia mocha flavor stick ive not been able find this brand local store and wa dreadful find amazon other coffee ha compared this for iced coffee drink\n",
      "B002TIR3BU\n",
      "\n",
      "tea good addictive dont single day without drinking least one cup revolution sweet ginger peach love loose leaf tea and find that most tea bag are really inferior you can taste the dry dusty poor quality the cup but loose leaf tea can hard make time for hectic workday morning when traveling etc these tea bag solve the problem the silky bag contain loose leaf tea finally allowing truly brew from convenient bag revolution ha several very good flavor but this far favorite you first notice the tingly ginger blending with fruity peach when drinking this tea around others they often ask about the wonderful smell that lovely aroma alone ha converted several people who claimed not like tea the taste fresh clean and very natural there cloying fake fruit taste here but naturally sweet and refreshing good stuff\n",
      "B000OWEOHY\n",
      "\n",
      "very good husband just love this green tea buy allot get the diet with berry and the diet with citrus it all drink except water coffee very refreshing drink\n",
      "B003NL4TSM\n",
      "\n",
      "group  1\n",
      "wow this stuff awesome this time better than cheerio love this cereal eat for breakfast and even snack the evening sometimes finally quit buying cheerio for kid and now they have started eat it much healthier would highly recommend this anyone who considering trying\n",
      "B001E5E060\n",
      "\n",
      "great pistachio these pistachio arrived very quickly and tasted great other pistachio have tried were much too salty these are lightly salted easy open and tasted very fresh would recommend these pistachio anyone looking for better deal than the local grocery store have\n",
      "B001KW8UIG\n",
      "\n",
      "chaka mm sauce marinade this hand down the best marinade weve ever tasted used year grilling it great everything\n",
      "B000E4AMUA\n",
      "\n",
      "versatile received the seasoning gift and loved especially with olive oil for dipping warm crusty bread wa happy find this product amazon and ordered lot our friend and family love now have back stock for myself and pared with dipping dish and olive oil became the center christmas gift basket usually mix the seasoning compartment for the most exciting flavor these are also great for use making garlic bread and seasoning for soup stew\n",
      "B001E5DR5K\n",
      "\n",
      "sugar free cooky enjoyed the cooky they are great snack love the chocolate chip the best the brownie are good too have sweet tooth these work great\n",
      "B0008JF9FY\n",
      "\n",
      "group  2\n",
      "awesome these tablet are the best brand have tried far and they work very well the tablet itself doe not taste bad and the effect last about half hour with constant eating probably longer you are not eating much definitely recommend cutting your food beforehand while you are waiting for the pill dissolve take about minute the four people who had try this all them felt very profound effect some favorite lemon juice and water taste like really good lemonade still pretty sour but still delicious not white grapefruit this taste like sex cider vinegar just sip still very strong but worth trying mango not work very well juice taste really good still slightly sour but like lemon drop candy put everything everything eating ton citrus short period time may give you stomach ache acid reflux the run death totally worth\n",
      "B002INDU22\n",
      "\n",
      "longer good used love them most recent purchase through amazon wa not good wa wild planet sustainably caught wild albacore tuna ounce can pack the tuna ha odd somewhat metallic taste and smell tried three the can and concerned that they may have changed their source method contacted the company but received response\n",
      "B002EY5TTW\n",
      "\n",
      "label changed but hurrah found favorite quirky ingredient what pomegranate molasses some probably wonder the case this one concentrated pomegranate juice someone asked comment year back tasting note are below but first ill address why came looking amazon for case anyone else happens seeking what wa ive been using this stuff the chef who introduced ha used over once stopped buying off him when hed get case bought middle eastern store the brand wa for long time simply into european because that the importer down glendale wadi one their brand and that the brand they attached this particular product for retail use whereas restaurant seem get bulk case the into european branded one seeing this one had hunch would the same their website made almost certain last bottle wa about third the way down and ive been using lot lately decided browse amazon and here that quirky octagonal romance ajar vessel with the superior quality foil label and gold aluminum lid glad looked online before calling around tried both side side and it definitely the same geographic source distributor texture thickness and taste label excepted what little confused the size here the store which guessing just amazon error figure worth it listed being what cataloged the site and the store and what own for brand dont surprised your bottle while two label differ how they express content one say net weight which would per tablespoon the other just say ounce the volume fluid ounce regardless into european the parent company wadi have plenty other stuff them too and most are quite yummy you suddenly cant find this into european brand you can always check their site see they streamlined into another line while star and review title should say enough about opinion saw some curiosity over the use this stuff here are some thought experience most frequent though not quite checklist below use for lamb instead mint like lamb stuffed with cherry and the like get local super fresh sustainable lamb cut liking the butcher and immediately take Ziploc freezer bag and shove herb aplenty sprig thyme being something never omit Meyer lemon peel and some the juice and often few slice too sometimes maille coarse whole grain mustard the whole nothing like yellow even brown Dijon really wine vinegar from italy and sometimes local honey wine vinegar some vanilla extract with bit the bean scraping home made and really mood dependent the rest often raspberry balsamic vinegar benessimo making nice clean cheap one sometimes grade vermont maple syrup drizzled sometimes unsulfured uwharrie all quirky mix spice also changing often content and proportion always let marinade least hour this vinegary mix that essentially slush and trim all the fat off the lamb before marinating using the fat separately and cooking this often come into play ill have whatever some kind they werent sometimes balsamic depending how much vinegar and what kind vinegar used the marinade condiment quality aged balsamic isnt sour like youd expect and matter what go with the lamb it never lot acid just enough make the fruit and savory flavor bold and binding and matter how cook lately the stove right with the fruit the end this get drizzled often when the pot slicing the lamb into leave medium rare blackberry make gorgeous and strawberry bring it sweetness out ive noticed the sour cherry chukar the pew arent sour all while preference get intense type already use local kind they often are made more tart with this this zing like tart cherry should when stuff lamb with the all depends the baking project and light zigzaggy drizzle this make nice crusty top when after getting almost temp broil very briefly anything high quality balsamic raspberry balsamic can too can this it also great for zinging sweet bland thing ice cream topping check salad dressing base check and it already thicker than vinegar base and seed bug you raspberry vinaigrette this can sub nicely you tone down the vinegar touch making tart actually tart check same with energy bar with those kind pitiful dried raisin type thing always unsweetened check swirling into fruit smoothy that arent quite strong you wanted check pretty homemade pop component that freezing doesnt make too weak check helping sad dehydrated fruit seem like it fresher than actual when cooking with them check adding fruity one lemonade stuff you buy blue blackberry syrup for even some tea with either hibiscus fruit that you wish had those thing check cold fruiting cheap glogg gluhwein that youre heating hopefully with lot whole spice the bottom the pot and some golden raisin the mug check being the spice spice powder for certain recipe possible check candying almond and other nut with light dusting spice and sugar the outside check candying those nut sans spice and bringing fantastic surprise dessert they get used big check using with savory warm herb and bit merlot for simmering then duck breast lord yes check and golden star for job well done finally while potentially not kosher making your lover taste even more delectable check please\n",
      "B001TZMCD8\n",
      "\n",
      "vanilla bean the product excellent and fragrant have already used half what purchased making ice cream and cooky they are fresh when you receive them and they make everything which they are used taste wonderful\n",
      "B000ET4SM8\n",
      "\n",
      "great nut almost dud love pistachio nut tried these since the price wa good and always looking for good product low price wasnt disappointed out the two jar nut there were le than dud dried out bad tasting nut there were le than nut that were not split open need for nut cracker the rest were very good excellent taste ease opening shell and amount salt them the only problem wa couldnt stop eating them they only lasted le than week pound pistachio le than week sure will buying them again but will wait couple month and eat pistachio ice cream the meanwhile jewel food now ha their own pistachio ice cream that better than ben and jerry and only cost half gallon instead pint for just many whole pistachio the ice cream unlike the ground one Hagen da us and the ice cream itself creamier and better tasting than\n",
      "B001IZIEGS\n",
      "\n",
      "group  3\n",
      "read and read well one read this product ingredient they will find that the first ingredient cow milk then sugar diabetic maker then milk again the fourth ingredient sunflower oil fifth ingredient maltodextrin which starch produced from grain containing the sugar maltose and dextrin with the seventh ingredient being get this tuna fish oil they even feature vitamin which animal derived there are four different sugar source and some artificial flavor for good measure really think about what are feeding our baby would use this product know wouldnt know your food source\n",
      "B0026RHUP8\n",
      "\n",
      "restricted diet beware for those restricted diet concerned about what you are ingesting aware that egg replacer contains both ingredient well carboxymethylcellulose chemical thickener that indigestible and can cause diarrhea constipation and bloating those concerned about your intake random chemical compound should reconsider this particular thickener rising agent your baking and cooking\n",
      "B000QSS2C4\n",
      "\n",
      "acquired taste but good grew big frank admit they are acquired taste they dont taste like regular hot dog the texture softer and more chewy but they are flavorful and think the flavor grows others family object entirely and they find the aroma very disagreeable but life them they are her main source protein fortunately they are basically healthful and they are great source vitamin plus they are convenient you can eat them straight from the can start with the one the middle you can wiggle the others out that are stuck the side the can\n",
      "B000BEZVW2\n",
      "\n",
      "get what you pay for the price wa cheap wa the product these rawhide bone literally disintegrated into thousand small shard occasionally causing golden gag them dont feel that got money worth because they would break gone minute rather than giving hour enjoyment had vacuum the floor every time had one bought better one Costco give him these cheap junk one have only the yard\n",
      "B001CMMJFY\n",
      "\n",
      "never received goat milk wa given track number and told wa delivered POBox never happened received refund and now the process waiting for new reorder\n",
      "B001E5DZTS\n",
      "\n",
      "group  4\n",
      "not the plant ordered dont buy this plant ordered this plant and cant even believe youre allowed lie like this and get away with the item description clearly state that the plant supposed old that inch high and inch pot this not plant all it about inch that and inch pot cant believe paid for this plant there one get contact with return ask what going dont understand why you say you will give plant that completely different from what received very unsatisfied with plant and even more with your bad service one answer email question anyone can help email com\n",
      "B0000DGF5S\n",
      "\n",
      "puff pastry frozen dough ordered this product and arrived thawed and soured very disappointing considering this item sold frozen product expected shipped with this mind but arrived box with absolutely insulation packaging retain the cold let alone frozen are small coffee shop selling fresh baked good and were hoping purchase reasonable amount this and other product but considering how this product wa treated and the state arrived would not recommend this company unless they can guarantee delivery the actual product they are selling worst experience have had ordering\n",
      "B000NY4SYW\n",
      "\n",
      "not happy with this product have great amount experience with water have been producing home for many year and enjoying the great health benefit gained from drinking daily wanted share this experience with friend and thought bring dehydrated grain with visit get her started did not want travel lond distance with wet grain could have shared own and thought would easier bring them dried the product description here state that they are dehydrated grain not true what received wa padded manila envelope Ziploc baggy with about teaspoon some very badly crushed wet grain looked like they got squished the postage cancelling machine used the post office and photocopy instruction not described pictured this listing the grain smelled bad and far have not been able produce good quality kefir who the product manufacturer real man genius most certainly not culture for health pictured each packet water kefir starter culture teaspoon live active water kefir culture dehydrated state will rehydrate tablespoon water kefir sufficient yield quart water kefir every hour for additional information this product please contact the manufacturer\n",
      "B003JO71D8\n",
      "\n",
      "cross contamination possible safe for diet just got order not here comment how the product behaves for particular baking need but can say that before ordered the product called the company with concern about the possibility their nut flour wa diagnosed with celiac disease only after significant damage nearly killed even after year healing diet digestive tract severely damaged have ever vigilant about product choice all food reaction should carefully examined but they should not immediately unduly blamed gluten contamination dont work for nor currently receive any form consideration from this company this endorsement strictly others can make informed decision their number recommend you call since manufacturing practice are subject change even though seemed that this company committed providing safe product for celiacs and others diet asked could quote them and got their permission nut flour are processed separate facility which only process nut flour therefore there possibility during manufacturing from gluten very comfortable using and recommending this product from gluten free point view shall update the review here and blog use their flour recipe formulation\n",
      "B0006ZN538\n",
      "\n",
      "not too weak not too strong it just right found these first local supermarket ive been looking for blend that could use standard cup coffee and finally this wa ive tried many the other blend and brand and they were either harsh and bitter know some people think coffee taste that way too bland and weak this smooth but with nice coffee presence you can actually taste taste not burned ground highly recommend this youre into the make your hair stand end type coffee this review based using the medium size the coffee machine you may get different result you use the small large dispenser size\n",
      "B001EYUE5M\n",
      "\n",
      "group  5\n",
      "had better decided try and find horchata that tasted like the kind drink when growing san diego far this ha been the furthest from this product ha chalky almost dry taste it not awful but not the taste wa expecting there aftertaste that seems like flour some other similar flavor obviously liking the flavor subjective but will not purchasing this brand again when amazon ha stock the glass brand horchata preference far\n",
      "B002GPNT32\n",
      "\n",
      "exquisite balsamic vinegar this exquisite thick sweet aged balsamic vinegar when traveled rome this spring wa hoping buy aged balsamic vinegar actually considering the exchange rate the price through amazon better than buying italy given it sophisticated taste you need just little make huge difference the taste whatever food you decide pamper you have only experienced watery supermarket balsamic vinegar you will for wonderful treat with nattoria extense\n",
      "B000306AUG\n",
      "\n",
      "both dog love these treat have australian shepherd and border collie both love these treat due the australian shepard age shes pretty particular about what shell these treat are not hard that she ha hard time chewing them disagree with the product description here these are fairly large dont think that theyre proper for training much better choice for training crazy dog training treat bacon crazy dog training treat chicken very sadly australian shepherd passed away she sorely missed the newest member our family jack russell terrier love these treat too\n",
      "B0029NIF44\n",
      "\n",
      "hot but not since amazon doesnt carry the hot and spicy sardine love thought would try these for whatever reason this product ha very metallic taste all but the first can are still pantry they will probably end the next neighborhood food drive\n",
      "B001225KXM\n",
      "\n",
      "good for insulin spike why earth did start taking cinnamon powder you ask diet le than perfect when you eat sugar your insulin spike causing your body store the calorie fat cinnamon may great wasteries but also ancient herb used for many thing using part weight loss arsenal and far like the result make you feel warm very warm warned though more not better you need half teaspoon the morning nothing more you take more than that can toxic yes cinnamon toxic your research folk trust ive learned the hard way too many time taking new herb that didnt research enough anyway half teaspoon cinnamon will keep those nasty insulin spike check and the lard down it cheap ha side effect taken the correct dosage and taste good recommended\n",
      "B001EQ5ABI\n",
      "\n",
      "group  6\n",
      "great but not this price Nornis are great they are all natural and even fit into weight loss program however the count box are only Sams club amazon bit over priced this product\n",
      "B003FY82YE\n",
      "\n",
      "grreeaatt got first package the chili mix from did not know what wa for but gave try made according direction and threw some browned hamburger the smell filled the room boiled and simmered wa not disappointed with the way tasted dont like chili spicey and this one fit the bill exactly ha just the right amount spice and herb have tried lot chili lot place and will say that this the best mix that have ever tried would definitely recommend this for camping trip the ounce bag say that make serving but depending how hungry your crew might only feed four\n",
      "B000H2405M\n",
      "\n",
      "not soy milk tasty like coffee mate which actually like but afraid it far le nutritious than soy milk milk serving powder ha calorie but only contains protein milk powder contains protein and the list ingredient for this product long with several long word will keep but only coffee creamer fair probably healthier than regular coffee creamer but dont think natural healthy and nutritious soy milk\n",
      "B001E5E1PA\n",
      "\n",
      "egg protein review found this good alternative whey based protein powder have only used this product for day and reordering before get into review might mention that never thought myself whey lactose intolerant but after month taking quality whey protein knew that what wa experiencing wa not typical talking about bathroom habit including frequency and consistency asked few older guy the gym what there experience wa with whey most not all where fine with and experienced problem side effect one natural that about age late suggested this egg based protein product and noted that one his training customer found acceptable alternative the milk based protein product did some research and honest the manufacture web site for behealthynfit totally useless and outdated with little useful information their poor web site almost made not buy this product sure didnt invoke any consumer confidence and opinion totally unacceptable how doe taste bought the chocolate not chocolate lover but think chocolate flavoring the best option for protein powder the flavor chocolate but it defiantly not rich milk chocolate and wouldnt fall the same category dessert more taste that you can get used have also seen this flavor described chocolate with hint metallic agree with that ha after taste that some may find metallic how doe mix mix this with water directly ready drink water bottle drink ounce usually down the top the label then place funnel the top and dump one scoop usually will need shake tap the funnel get the powder pas through then screw the top and shake well have found that the water very cold the powder will clump more often and mix poorly room temperature water water that cool but not work best use wine fridge keep the water dont like clump the consistency exactly like water your expecting this thick heavy drink then will disappointed found that you live humid state like florida you will need make sure that you screw the lid the protein power tight you expose this power high humidity you will have terrible time with clumping and mixing properly general tip for drinking protein drink have found that eating granola bar while drinking protein drink help first biting the granola bar then taking drink found this work for and make the occasional protein clump le noticeable there room for improvement yes load room for improvement there anything better havent found yet but still looking will give this high mark until find something better please leave comment you find better non whey protein product\n",
      "B00166D8TW\n",
      "\n",
      "really good ive been eating low carb for while now and every once while make some type low carb pancake tried the syrup that were sweetened with maltitol and they gave very upset stomach threw out the maltitol sweetened bottle and went search what other sugar free maple syrup were out there have been using mainly stevia for sweetening wa happy find this syrup which sweetened with han which another natural herbal sweetener it little the thick side but the flavor great and you only need little get some great maple syrup flavor recommended\n",
      "B004LCCGZK\n",
      "\n",
      "group  7\n",
      "energy this green powder good just had get the word out others ive tried whole food brand orleans green berry green many others literally taste just like grass clipping you have choice but mix with juice smoothie this green supergood palatable enough drink just mixed with water let not expect sweet this veggie drink but ha hint raspberry thats pleasing the tongue when you gulp down healthwise ive notice that skin ha gotten clearer energy level have evened out and ive early even gotten cough let alone cold the several year ive been drinking and work with the sick and elderly yes there sediment but that because this drink ha fiber the kind that naturally fruit and veggie accept for what compare the alternative and imagine how incredibly amazing you will feel then make your decision\n",
      "B00112ILZM\n",
      "\n",
      "neat and cheap alternative espresso capsule although wa bit skeptical first got say these are pretty neat because you can fill with your own coffee and it also one time use cartridge for about pop you coffee cap shop one word and select the cheapest shipping capsule plus shipping espresso ha very tight grip the distribution their capsule but slight design change these allows them work with the espresso machine while still not infringing their copyright there are alternative this product which are called and another referred only brown black coffeeduck coffeeduck refillable coffee capsule for espresso pod the espresso cup fit all espresso machine from after october please make sure you have the correct machine before purchasing havent tried these myself they are bit more expensive and from what ive read other review and have seen YouTube they didnt just didnt seem the best choice for you may want online and look the amazon review these product judge yourself also look like the brown one which are out stock are the one for espresso machine made prior october the black one still available here are for machine after have the old original concept machine model from just aside ive also seen video people simply used espresso pod and the foil piece with new piece aluminum foil tried this once and the result were really crappy and watery and coffee ground ended machine anyway back fill with own espresso grind illy lavazza and ive got say that the coffee wa good and had decent cream theyre pretty easy use well although you might need experiment bit with the coffee grind and amount you put into the capsule ensure you get nice rich cup coffee take out new capsule using your pod the scoop scoop the very top and then simply wipe off the excess filled the top but not overflowing the rim then very carefully peel off the paper ring from the top the cup uncovering the sticky ring the top the cap and then place the aluminum cap top the capsule seal the coffee you need somewhat careful when youre peeling off the paper from the cup expose the sticky seal else you also remove the sticky seal which supposed stay the cup although the sticky seal for these capsule not the same the espresso air tight seal which think only done keep their packaged coffee fresh the seal good enough perform the job and prevent coffee from exploding outside the capsule know their video show them tamping down the coffee pod they fill them but for tamping work best and it simpler after experimenting bit noticed that you want the richer coffee and thick cream you should stick with darker roasted robusta bean finely ground espresso fine grind check out lavazza cream gusto ground coffee italian brick pack which primarily robusta and sale with subscribe and save and when tamping down the coffee dont pack too much before attaching the foil top else you just get little dribble coffee coming out and all honesty ive been using these capsule for some time but every once awhile this still happens the drink fine just take awhile longer fill the cup along with the illy brand coffee cafe pico cafe bustle lavazza cream and pilon also very good job these capsule you want see how much coffee espresso us their capsule you can also open new espresso capsule and see what the grind look like and the amount coffee they use you get idea too cheap that wouldnt recommend making these cup too far advance since you dont have airtight seal once you make the cup but instead make them when youre ready use them that day although this may seem bit work youre rush and remember you have buy your own coffee sort fun experiment with the different blend you can use any full half decaff coffee for those last minute guest that want espresso without all the caffeine you can experiment and add flavoring like vanilla spice etc\n",
      "B005UP1M4I\n",
      "\n",
      "having just eaten this for dinner have advice and raf first all dont put off the price youve kept track grocery store receipt lately the sharp increase basic food over the last year you may see how this product could save you time gas and money the time this writing cost about for four package this mix each package easily serf people with soup left over while the instruction note add cup water water and broth combo quickly discovered had double even triple the liquid added problem there because had more soup you dont have fresh veggie spice around this will suffice and thick and satisfying you garden you improve the taste adding fresh chopped parsley garlic and whatever veggie you want can tomato fresh chopped one doe harm this mix you can play with add ingredient and spice this not salted mix full split pea barley lentil whole wheat pasta dehydrated spinach tomato onion etc you dont use salt consider adding salt substitute also added basil wa delightful quick and now pantry staple calorie cup only calorie from fat significant source iron the daily value gram fiber gram add some bread and you have meal rounded out with some green perhaps\n",
      "B000KEPBBY\n",
      "\n",
      "prepare them yummy way following the south beach diet and saw these who wouldnt want have pasta while not actually having pasta but all the negative review freaked out wa nervous try them however did follow many reviewer advice and they were delicious calorie carbs here what did opened the bag dumped them mesh colander and rinsed rinsed rinsed them blotted dry paper towel heated some olive oil and little garlic and threw the noodle added what had some cooked chicken cooked diced zuchinni little spaghetti sauce and ricotta cheese let simmer for maybe min sprinkled with some parmesan cheese really delicious husband even ate some and didnt say word thought they were really good mixed with bunch other ingredient and sauce these tasted like angel hair pasta worth note the package very small really one large meal smaller meal probably only about cup noodle you are following diet these are treat more realistic pasta taste than spaghetti squash for example definitely worth try\n",
      "B004CLCEDE\n",
      "\n",
      "our favorite rich jet fuel our favorite the coffee people fuel wake call and black tiger it dark sweet and rich with fuller body than wake call black tiger ha clean finish and note chocolate and honey also love the new packaging since are the coffee doesnt stale the last cup good the first there are couple lover your family box will slurped down time and have say that even though store them the back dark cabinet the box graphic are nice touch probably cost them fraction fraction cent make little more attractive and appreciate that when you first got your keurig brewer you drank through the sampler coffee and you asked yourself that dark get then think you for jet fuel one the other coffee people eb you might look into emery big easy bold well wa the first big hit for and still one our faves\n",
      "B0029XLH4Y\n",
      "\n",
      "group  8\n",
      "worst ever worst cinnamon tooth pick ive ever had dont know the were old what they are terrible leaf medicine taste your mouth that doesnt away had other people try them they all said the were nasty\n",
      "B0007OPW5C\n",
      "\n",
      "wheres the bulk discount why would pay for can buy one pack for love udon noodle and difficult find them good price this price seems still too high\n",
      "B000LKX6RS\n",
      "\n",
      "old ate the entire box didnt like this product all that well wa really tangy and hurt stomach wa more than little surprised when picky eater old ate stick one sitting between them guess thats why they are labeled for kid\n",
      "B000Q5X876\n",
      "\n",
      "shell purchased two package the stand stuff shell out twenty shell only five were intact very poor packaging this product\n",
      "B000EFBMCQ\n",
      "\n",
      "smart buy fit need perfectly more sticky finger lick off use only what you need and plenty them too will replace when these are gone\n",
      "B0025UCA3I\n",
      "\n",
      "group  9\n",
      "inexpensive nylon grocery bag bag are very fashionable and useful they are also least bigger than the other nylon bag have tried including chicobags you can fit much stuff one bag for bag these are the least expensive foldable nylon bag the market but they are not durable baggy envirosax bag the one have been using for about month show sign wear including ripped seam you plan use these bag every week for grocery recommend envirosax instead baggy envirosax size open all about the same size closed thinnest baggy and envirosax and envirosax stacking baggy print envirosax envirosax\n",
      "B00384ABOA\n",
      "\n",
      "new out box and blender doe not work solved with DIY fix many other one star reviewer have posted unit blender function did not work brand new unit right out the box steam function work great but the motor would never turn the blender blade food just sat there luckily there easy fix took the entire unit apart and found that the belt from the motor wa not engaging the turnshaft that would turn enable the blade spin after properly aligning the belt put all back together and the unit now blend like supposed guess that this the same problem that caused others blender function not work would father venture that the Brenza know about this issue and ha done nothing correct it hard believe that after multiple complaint about the same problem that Brenza doe not put it unit through some sort inspection process prevent this from happening very frustrating have fix brand new product that ha just been taken out the box\n",
      "B004Q3LBTG\n",
      "\n",
      "little rainforest kitchen well have five these garden now obviously this product ive been very happy with started out with tomato and salad green and the salad green were tasty added second garden those and two strawberry garden the second one order have had trouble with the pump noise and everything ha grown beautifully with five garden going once it bright that area kitchen that look like ufo landing site ll but they are all scheduled off it problem night when were sleeping these garden are cheerful have around they add nice moisture and green fresh smell and find the light cheerful too the salad green grow very quickly and are tasty that biggest problem resisting the urge constantly pluck off leaf and eat them all day long thats why got second one there would plenty with four family one garden did not produce quite enough for our first salad crop also did not grow for very long only couple month but think thats just the nature the plant the tomato took long time the fruiting stage week but now they are producing two three ripe tomato each day and they are delicious love having food growing indoors bug bird poop dirt and everything can eaten right off the plant tonight over dinner literally watched our first strawberry turn from white pink the end this not particularly economical way grow food but it load fun and ha been educational and exciting for kid who are much more interested fresh produce than they used ive had trouble with either the pump the customer service fact everyone aerogrow ha been very kind and helpful both over the phone and hope the company continues thrive because just love these little garden and hope use them for year\n",
      "B000FI4O90\n",
      "\n",
      "great little sushi making kit this kit great gift idea and really good way start making yer very own confide sushi both Nilgiri rice ball and maki roll all you need expert fish buyer knife that sharp and some witty bitty little bowl for soy sauce everything else the box sushi chef brand soy sauce the best soy sauce you ever had IMHO the little instruction booklet great course this kit substitute for year apprenticeship with tokyo master chef but you have some appreciation for the aesthetic sushi and flare for and access fish then this the kit for you\n",
      "B000H241DS\n",
      "\n",
      "bait switch fraud where come from bait switch called fraud thought that surely now amazon com would have corrected this bait switch problem offering premium coconut milk from thailand but then sending inferior oil water product from ski Lanka since there were lot review warning about this had carefully verified that what wa ordering wa truly from not from ski Lanka instead also the product received from ski Lanka wa the old style yellow lined phenol lined yellow kind with the white stripe down the side that theoretically product you from the metal they use seal the can and allergic the chemical phenol the thailand product come silver colored opened both product today and did the comparison side side not only amazon com allowing bait switch happen they are allowing older style potentially harmful style can sold had use couple can for party tonight but will not eat have asked for money back and cancelled subscription and will buy the rich creamy thailand coconut milk from health food store\n",
      "B001HTJ2BQ\n",
      "\n"
     ]
    }
   ],
   "source": [
    "for i in range(10):\n",
    "    print('group ',i)\n",
    "    for i in grp.get_group(i).sample(5).values:\n",
    "        print(i[0])\n",
    "        print(i[1])\n",
    "        print()"
   ]
  },
  {
   "cell_type": "markdown",
   "metadata": {},
   "source": [
    "Not find any tyoe of groups by product type and upto 3 clusters the sum of sqared distance drop is very high so tried with 3 and got some results as below"
   ]
  },
  {
   "cell_type": "code",
   "execution_count": 56,
   "metadata": {},
   "outputs": [
    {
     "data": {
      "text/plain": [
       "KMeans(algorithm='auto', copy_x=True, init='k-means++', max_iter=300,\n",
       "    n_clusters=3, n_init=10, n_jobs=1, precompute_distances='auto',\n",
       "    random_state=None, tol=0.0001, verbose=0)"
      ]
     },
     "execution_count": 56,
     "metadata": {},
     "output_type": "execute_result"
    }
   ],
   "source": [
    "model = KMeans(n_clusters=3,n_init=10,max_iter=300)\n",
    "model.fit(X_train)"
   ]
  },
  {
   "cell_type": "code",
   "execution_count": 57,
   "metadata": {},
   "outputs": [
    {
     "data": {
      "text/plain": [
       "array([1, 1, 1, ..., 1, 1, 1], dtype=int32)"
      ]
     },
     "execution_count": 57,
     "metadata": {},
     "output_type": "execute_result"
    }
   ],
   "source": [
    "model.labels_"
   ]
  },
  {
   "cell_type": "code",
   "execution_count": 58,
   "metadata": {},
   "outputs": [],
   "source": [
    "train_df['tfidfw2v_pred_label'] = model.labels_"
   ]
  },
  {
   "cell_type": "code",
   "execution_count": 59,
   "metadata": {},
   "outputs": [
    {
     "data": {
      "text/plain": [
       "1    231946\n",
       "0     21462\n",
       "2      1512\n",
       "Name: tfidfw2v_pred_label, dtype: int64"
      ]
     },
     "execution_count": 59,
     "metadata": {},
     "output_type": "execute_result"
    }
   ],
   "source": [
    "train_df.tfidfw2v_pred_label.value_counts()"
   ]
  },
  {
   "cell_type": "code",
   "execution_count": 50,
   "metadata": {},
   "outputs": [],
   "source": [
    "train_df['Score'] = train_df['Score'].apply(lambda x : 0 if x == 'positive' else 1)"
   ]
  },
  {
   "cell_type": "code",
   "execution_count": 60,
   "metadata": {},
   "outputs": [
    {
     "data": {
      "text/plain": [
       "0    216889\n",
       "1     38031\n",
       "Name: Score, dtype: int64"
      ]
     },
     "execution_count": 60,
     "metadata": {},
     "output_type": "execute_result"
    }
   ],
   "source": [
    "train_df.Score.value_counts()"
   ]
  },
  {
   "cell_type": "code",
   "execution_count": 61,
   "metadata": {},
   "outputs": [
    {
     "data": {
      "text/html": [
       "<div>\n",
       "<style>\n",
       "    .dataframe thead tr:only-child th {\n",
       "        text-align: right;\n",
       "    }\n",
       "\n",
       "    .dataframe thead th {\n",
       "        text-align: left;\n",
       "    }\n",
       "\n",
       "    .dataframe tbody tr th {\n",
       "        vertical-align: top;\n",
       "    }\n",
       "</style>\n",
       "<table border=\"1\" class=\"dataframe\">\n",
       "  <thead>\n",
       "    <tr style=\"text-align: right;\">\n",
       "      <th></th>\n",
       "      <th>final_text</th>\n",
       "      <th>ProductId</th>\n",
       "    </tr>\n",
       "    <tr>\n",
       "      <th>tfidfw2v_pred_label</th>\n",
       "      <th></th>\n",
       "      <th></th>\n",
       "    </tr>\n",
       "  </thead>\n",
       "  <tbody>\n",
       "    <tr>\n",
       "      <th>0</th>\n",
       "      <td>21462</td>\n",
       "      <td>21462</td>\n",
       "    </tr>\n",
       "    <tr>\n",
       "      <th>1</th>\n",
       "      <td>231946</td>\n",
       "      <td>231946</td>\n",
       "    </tr>\n",
       "    <tr>\n",
       "      <th>2</th>\n",
       "      <td>1512</td>\n",
       "      <td>1512</td>\n",
       "    </tr>\n",
       "  </tbody>\n",
       "</table>\n",
       "</div>"
      ],
      "text/plain": [
       "                     final_text  ProductId\n",
       "tfidfw2v_pred_label                       \n",
       "0                         21462      21462\n",
       "1                        231946     231946\n",
       "2                          1512       1512"
      ]
     },
     "execution_count": 61,
     "metadata": {},
     "output_type": "execute_result"
    }
   ],
   "source": [
    "#no of points in each group\n",
    "train_df.groupby('tfidfw2v_pred_label')['final_text','ProductId'].count()"
   ]
  },
  {
   "cell_type": "code",
   "execution_count": 88,
   "metadata": {},
   "outputs": [],
   "source": [
    "acc = 0\n",
    "pos = 0\n",
    "for idx,row in train_df.iterrows():\n",
    "    c = row['tfidfw2v_pred_label']\n",
    "    if c == 1:\n",
    "        c = 0\n",
    "    elif c == 0:\n",
    "        c = 1\n",
    "    if row['Score'] == c:\n",
    "        acc = acc + 1\n",
    "        if c == 0:\n",
    "            pos = pos + 1"
   ]
  },
  {
   "cell_type": "code",
   "execution_count": 89,
   "metadata": {},
   "outputs": [
    {
     "data": {
      "text/plain": [
       "0.8151851561274125"
      ]
     },
     "execution_count": 89,
     "metadata": {},
     "output_type": "execute_result"
    }
   ],
   "source": [
    "accuracy = acc/len(train_df)\n",
    "accuracy"
   ]
  },
  {
   "cell_type": "code",
   "execution_count": 90,
   "metadata": {},
   "outputs": [
    {
     "data": {
      "text/plain": [
       "0.92610044769444277"
      ]
     },
     "execution_count": 90,
     "metadata": {},
     "output_type": "execute_result"
    }
   ],
   "source": [
    "tpr = pos/sum(train_df.Score==0)\n",
    "tpr"
   ]
  },
  {
   "cell_type": "markdown",
   "metadata": {},
   "source": [
    "###### Bag of Word representation:\n",
    "there is overlap but i can find maximum of them as below categories. \n",
    "0 - Some Miscellaneous food products and reviews size are small  \n",
    "1 - Dog food related produtc \n",
    "2 - coffee related products with small reviws  \n",
    "3- Coffe related produts with high reviews  \n",
    "4 - Some coffe related products with differnt flovers  \n",
    "5 - related to drinks and soups  \n",
    "6 - some animal foods  \n",
    "7 - about tea  \n",
    "8 - about tea with large reviews  \n",
    "9 - Miscellaneous food products with some good reviews  \n",
    "###### Tf-Idf representation:\n",
    "0 - coffe related  \n",
    "1- tea related  \n",
    "2 - some seed like produts but overlap is there  \n",
    "3- soups 4- bread cakes  \n",
    "5 -dog related  \n",
    "6 - some cereal produts    \n",
    "7 - misc produts  \n",
    "8 - pasta and noodle based  \n",
    "9 -candys and some junk food  \n",
    "###### avg Word2Vec:\n",
    "There is so much overlap in many groups and not able to divide by product types. because of Word similarity avg vectors some reviews are overlapping. some of them i find\n",
    "0 - Misc products but maximum contains good ratings  \n",
    "1- Candies chocolates  \n",
    "2 - oil/seed related  \n",
    "3- Misc products so much overlap but maximum contains bad ratings  \n",
    "4- Coffe/tea related  \n",
    "5 - max dog related  \n",
    "###### Tf-Idf Weighted Word2vec:\n",
    "i find there is so much overlap in the clusters and tried with 3 clusters, and checked for positive and negative samples in those clusters and got accuracy of 82% and true positive rate of 92%."
   ]
  }
 ],
 "metadata": {
  "kernelspec": {
   "display_name": "Python 3",
   "language": "python",
   "name": "python3"
  },
  "language_info": {
   "codemirror_mode": {
    "name": "ipython",
    "version": 3
   },
   "file_extension": ".py",
   "mimetype": "text/x-python",
   "name": "python",
   "nbconvert_exporter": "python",
   "pygments_lexer": "ipython3",
   "version": "3.6.4"
  }
 },
 "nbformat": 4,
 "nbformat_minor": 2
}
