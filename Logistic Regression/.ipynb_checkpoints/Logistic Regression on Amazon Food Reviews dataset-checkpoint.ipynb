{
 "cells": [
  {
   "cell_type": "markdown",
   "metadata": {},
   "source": [
    "## Logistic Regression on Amazon Food Reviews Dataset"
   ]
  },
  {
   "cell_type": "code",
   "execution_count": 1,
   "metadata": {},
   "outputs": [],
   "source": [
    "#importing required Modules\n",
    "%matplotlib inline\n",
    "import sqlite3\n",
    "import pandas as pd\n",
    "import numpy as np\n",
    "import nltk\n",
    "import string\n",
    "import pickle\n",
    "import matplotlib.pyplot as plt\n",
    "import seaborn as sns\n",
    "from sklearn.feature_extraction.text import TfidfTransformer\n",
    "from sklearn.feature_extraction.text import TfidfVectorizer\n",
    "from sklearn.feature_extraction.text import CountVectorizer\n",
    "from sklearn.metrics import confusion_matrix\n",
    "from sklearn import metrics\n",
    "from sklearn.metrics import accuracy_score\n",
    "from sklearn.metrics import roc_curve, auc\n",
    "from nltk.stem.porter import PorterStemmer\n",
    "from sklearn.preprocessing import StandardScaler\n",
    "from sklearn.model_selection import TimeSeriesSplit\n",
    "from sklearn.metrics import precision_score\n",
    "from sklearn.metrics import recall_score\n",
    "from sklearn.metrics import confusion_matrix\n",
    "from sklearn.linear_model import LogisticRegression\n",
    "from sklearn.model_selection import GridSearchCV\n",
    "from sklearn.model_selection import RandomizedSearchCV"
   ]
  },
  {
   "cell_type": "code",
   "execution_count": 2,
   "metadata": {},
   "outputs": [],
   "source": [
    "import warnings\n",
    "warnings.filterwarnings('ignore')"
   ]
  },
  {
   "cell_type": "code",
   "execution_count": 3,
   "metadata": {},
   "outputs": [],
   "source": [
    "#getting data \n",
    "conn = sqlite3.connect('final.sqlite')\n",
    "final_amazon = pd.read_sql_query(\"\"\"\n",
    "SELECT *\n",
    "FROM Reviews\n",
    "\"\"\", conn) "
   ]
  },
  {
   "cell_type": "code",
   "execution_count": 4,
   "metadata": {},
   "outputs": [],
   "source": [
    "def cleanpunc(sentence): \n",
    "    '''\n",
    "    function to clean the word of any punctuation or special characters\n",
    "    '''\n",
    "    cleaned = re.sub(r'[?|!|\\'|\"|#]',r'',sentence)\n",
    "    cleaned = re.sub(r'[.|,|)|(|\\|/]',r' ',cleaned)\n",
    "    return  cleaned\n",
    "def cleanhtml(sentence): \n",
    "    '''\n",
    "    function to clean the word of any html-tags\n",
    "    '''\n",
    "    cleanr = re.compile('<.*?>')\n",
    "    cleantext = re.sub(cleanr, ' ', sentence)\n",
    "    return cleantext\n",
    "def reduce_lengthening(text):\n",
    "    pattern = re.compile(r\"(.)\\1{2,}\")\n",
    "    return pattern.sub(r\"\\1\\1\", text)"
   ]
  },
  {
   "cell_type": "code",
   "execution_count": 3,
   "metadata": {},
   "outputs": [],
   "source": [
    "#getting stop words\n",
    "from nltk.corpus import stopwords\n",
    "stop = set(stopwords.words('english'))\n",
    "stop.remove('not')\n",
    "stop.remove('very')\n",
    "#from autocorrect import spell"
   ]
  },
  {
   "cell_type": "code",
   "execution_count": 31,
   "metadata": {},
   "outputs": [],
   "source": [
    "#Cleaning sentances\n",
    "import re\n",
    "from nltk.stem import WordNetLemmatizer\n",
    "lem = WordNetLemmatizer()\n",
    "from nltk.corpus import stopwords\n",
    "stop = set(stopwords.words('english')) #set of stopwords\n",
    "i=0\n",
    "list_of_sent_clean=[]\n",
    "for sent in final_amazon.CleanedTextBow.values:\n",
    "    filtered_sentence=[]\n",
    "    #sent=cleanhtml(sent)\n",
    "    for w in sent.split():\n",
    "        for cleaned_words in cleanpunc(w).split():\n",
    "            cleaned_words = cleaned_words.strip()\n",
    "            if( (cleaned_words.isalpha()) & \\\n",
    "                (len(cleaned_words)>2)):\n",
    "                tmp = reduce_lengthening(cleaned_words.lower())\n",
    "                tmp = spell(tmp)\n",
    "                tmp = lem.lemmatize(tmp)\n",
    "                filtered_sentence.append(tmp)\n",
    "            else:\n",
    "                continue \n",
    "    list_of_sent_clean.append(' '.join(filtered_sentence))"
   ]
  },
  {
   "cell_type": "code",
   "execution_count": 9,
   "metadata": {},
   "outputs": [],
   "source": [
    "#Cleaning summary text\n",
    "import re\n",
    "from nltk.stem import WordNetLemmatizer\n",
    "lem = WordNetLemmatizer()\n",
    "i=0\n",
    "list_of_summary_clean=[]\n",
    "for sent in final_amazon.Summary.values:\n",
    "    filtered_sentence=[]\n",
    "    sent=cleanhtml(sent)\n",
    "    for w in sent.split():\n",
    "        for cleaned_words in cleanpunc(w).split():\n",
    "            if(cleaned_words.isalpha() & \\\n",
    "                  (len(cleaned_words)>2)): \n",
    "                tmp = reduce_lengthening(cleaned_words.lower())\n",
    "                tmp = spell(tmp)\n",
    "                tmp = lem.lemmatize(tmp)\n",
    "                filtered_sentence.append(tmp)\n",
    "            else:\n",
    "                continue \n",
    "    list_of_summary_clean.append(' '.join(filtered_sentence))"
   ]
  },
  {
   "cell_type": "code",
   "execution_count": 10,
   "metadata": {},
   "outputs": [],
   "source": [
    "#concatinating summary text and total text\n",
    "final_amazon['final_text']= list_of_summary_clean\n",
    "final_amazon['final_text'] = final_amazon['final_text'] + ' ' + list_of_sent_clean"
   ]
  },
  {
   "cell_type": "code",
   "execution_count": 18,
   "metadata": {},
   "outputs": [],
   "source": [
    "from nltk.stem.snowball import SnowballStemmer\n",
    "stemmer = SnowballStemmer(\"english\")\n",
    "final_stem_text = []\n",
    "for sent in final_amazon.final_text:\n",
    "    stem_sent = []\n",
    "    for w in sent.split():\n",
    "        stem_sent.append(stemmer.stem(w))\n",
    "    final_stem_text.append(' '.join(stem_sent))       "
   ]
  },
  {
   "cell_type": "code",
   "execution_count": 21,
   "metadata": {},
   "outputs": [],
   "source": [
    "final_amazon.drop('CleanedText',axis =1,inplace=True)"
   ]
  },
  {
   "cell_type": "code",
   "execution_count": 22,
   "metadata": {},
   "outputs": [],
   "source": [
    "final_amazon['final_stem_text'] = final_stem_text"
   ]
  },
  {
   "cell_type": "code",
   "execution_count": 4,
   "metadata": {},
   "outputs": [],
   "source": [
    "# store final table into an SQlLite table for future.\n",
    "conn = sqlite3.connect('final_clean_LR.sqlite')\n",
    "c=conn.cursor()\n",
    "conn.text_factory = str\n",
    "final_amazon.to_sql('Reviews_final', conn, flavor=None, schema=None,\n",
    "             if_exists='replace', index=True, \n",
    "                    index_label=None, chunksize=None, dtype=None)"
   ]
  },
  {
   "cell_type": "code",
   "execution_count": 4,
   "metadata": {},
   "outputs": [],
   "source": [
    "conn = sqlite3.connect('final_clean_LR.sqlite')\n",
    "final_review = pd.read_sql_query(\"\"\"\n",
    "SELECT *\n",
    "FROM Reviews_final\n",
    "\"\"\", conn) "
   ]
  },
  {
   "cell_type": "code",
   "execution_count": 5,
   "metadata": {},
   "outputs": [],
   "source": [
    "#SORT by time for TBS\n",
    "final_review = final_review.sort_values(by='Time')"
   ]
  },
  {
   "cell_type": "code",
   "execution_count": 6,
   "metadata": {},
   "outputs": [
    {
     "name": "stdout",
     "output_type": "stream",
     "text": [
      "<class 'pandas.core.frame.DataFrame'>\n",
      "Int64Index: 364171 entries, 23 to 345187\n",
      "Data columns (total 15 columns):\n",
      "level_0                   364171 non-null int64\n",
      "index                     364171 non-null int64\n",
      "Id                        364171 non-null int64\n",
      "ProductId                 364171 non-null object\n",
      "UserId                    364171 non-null object\n",
      "ProfileName               364171 non-null object\n",
      "HelpfulnessNumerator      364171 non-null int64\n",
      "HelpfulnessDenominator    364171 non-null int64\n",
      "Score                     364171 non-null object\n",
      "Time                      364171 non-null int64\n",
      "Summary                   364171 non-null object\n",
      "Text                      364171 non-null object\n",
      "CleanedTextBow            364171 non-null object\n",
      "final_text                364171 non-null object\n",
      "final_stem_text           364171 non-null object\n",
      "dtypes: int64(6), object(9)\n",
      "memory usage: 44.5+ MB\n"
     ]
    }
   ],
   "source": [
    "final_review.info()"
   ]
  },
  {
   "cell_type": "code",
   "execution_count": 7,
   "metadata": {},
   "outputs": [],
   "source": [
    "#changing lables to 1 or 0\n",
    "final_review.Score = final_review.Score.apply(lambda x:\n",
    "                     1 if x == 'positive' else 0)"
   ]
  },
  {
   "cell_type": "code",
   "execution_count": 8,
   "metadata": {},
   "outputs": [],
   "source": [
    "#Converting to int8\n",
    "final_review.HelpfulnessNumerator = final_review.\\\n",
    "                      HelpfulnessNumerator.astype(np.int8)\n",
    "final_review.HelpfulnessDenominator = final_review.\\\n",
    "                      HelpfulnessDenominator.astype(np.int8)"
   ]
  },
  {
   "cell_type": "code",
   "execution_count": 9,
   "metadata": {},
   "outputs": [],
   "source": [
    "#Splitting Dataframe for train and test\n",
    "train_df = final_review.iloc[:round(final_review.shape[0]*0.70),:]\n",
    "test_df = final_review.iloc[round(final_review.shape[0]*0.70):,:]"
   ]
  },
  {
   "cell_type": "code",
   "execution_count": 10,
   "metadata": {},
   "outputs": [
    {
     "name": "stdout",
     "output_type": "stream",
     "text": [
      "(254920, 15)\n",
      "(109251, 15)\n"
     ]
    }
   ],
   "source": [
    "print(train_df.shape)\n",
    "print(test_df.shape)"
   ]
  },
  {
   "cell_type": "markdown",
   "metadata": {},
   "source": [
    "### Bag of Words:"
   ]
  },
  {
   "cell_type": "code",
   "execution_count": 34,
   "metadata": {},
   "outputs": [],
   "source": [
    "#BoW with cleaned data and without stopwords\n",
    "#simple cv for train data\n",
    "#wit l2 regularization\n",
    "scores_train = []\n",
    "from nltk.corpus import stopwords\n",
    "stop = set(stopwords.words('english'))\n",
    "stop.remove('not')\n",
    "stop.remove('very')\n",
    "#CountVectorizer for BoW\n",
    "count_vect = CountVectorizer(stop_words=list(stop),dtype=np.int8)\n",
    "X_train = train_df.iloc[:round(train_df.shape[0]*0.70),:]\n",
    "X_test_cv = train_df.iloc[round(train_df.shape[0]*0.70):,:]\n",
    "final_counts_train = count_vect.fit_transform(\n",
    "        X_train['final_text'].values)\n",
    "#test\n",
    "X_test = count_vect.transform(X_test_cv['final_text'].values)"
   ]
  },
  {
   "cell_type": "code",
   "execution_count": 35,
   "metadata": {},
   "outputs": [
    {
     "name": "stdout",
     "output_type": "stream",
     "text": [
      "0.0001 Train 0.8703290668220842 CV 0.8441864114231916 No of zeros in Weight vec 0\n",
      "0.0005 Train 0.8983882898836609 CV 0.8818845127883258 No of zeros in Weight vec 0\n",
      "0.0008 Train 0.9068054964022326 CV 0.892842198859773 No of zeros in Weight vec 0\n",
      "0.001 Train 0.910599403734505 CV 0.8977718499921544 No of zeros in Weight vec 0\n",
      "0.005 Train 0.9325334558741117 CV 0.9230477535435954 No of zeros in Weight vec 0\n",
      "0.01 Train 0.9391910067023829 CV 0.9296903603744966 No of zeros in Weight vec 0\n",
      "0.1 Train 0.9547981439555266 CV 0.93830744285789 No of zeros in Weight vec 0\n",
      "1 Train 0.9685671695321781 CV 0.9377320989591506 No of zeros in Weight vec 0\n",
      "10 Train 0.9744681804936002 CV 0.9345938595114808 No of zeros in Weight vec 0\n",
      "100 Train 0.9695198493645065 CV 0.9365291071708771 No of zeros in Weight vec 0\n",
      "1000 Train 0.9747147564502029 CV 0.934306187562111 No of zeros in Weight vec 0\n"
     ]
    }
   ],
   "source": [
    "inv_lamda = [0.0001,0.0005,0.0008,0.001,0.005,0.01, 0.1, 1, 10, 100, 1000]\n",
    "for c in inv_lamda:\n",
    "    model = LogisticRegression(penalty='l2',C=c,n_jobs=-1)\n",
    "    model.fit(final_counts_train,X_train.Score)\n",
    "    #Predicting training data\n",
    "    train_list = model.predict(final_counts_train)\n",
    "    #coeff\n",
    "    no_of_zero = sum(model.coef_.ravel()==0)\n",
    "    #Accuracy score\n",
    "    score_train = accuracy_score(X_train.Score,train_list)\n",
    "    #predict test cv\n",
    "    test_list = model.predict(X_test)\n",
    "    #Accuracy score\n",
    "    score_test = accuracy_score(X_test_cv.Score,test_list)\n",
    "    print(c , 'Train',score_train,'CV',score_test,\n",
    "                    'No of zeros in Weight vec',no_of_zero)"
   ]
  },
  {
   "cell_type": "markdown",
   "metadata": {},
   "source": [
    "it seems to be, if C is low i.e high regularization strength, training and test both scores are low and if c is high i.e low regularization strength, it is somewhat overfitting to the data. from above we can infer tat arout 0.01 and 0.1 value of C is better for the data."
   ]
  },
  {
   "cell_type": "code",
   "execution_count": 19,
   "metadata": {},
   "outputs": [
    {
     "name": "stdout",
     "output_type": "stream",
     "text": [
      "With l2 Regularization\n",
      "0.005 Train 0.9325334558741117 CV 0.9230477535435954 No of zeros in Weight vec 0\n",
      "0.008 Train 0.9371007150702741 CV 0.9278727966943878 No of zeros in Weight vec 0\n",
      "0.02 Train 0.9444979937683531 CV 0.9337177676656729 No of zeros in Weight vec 0\n",
      "0.06 Train 0.9516094685167336 CV 0.9373267430304932 No of zeros in Weight vec 0\n",
      "0.08 Train 0.9533298962139383 CV 0.9380982268947121 No of zeros in Weight vec 0\n",
      "0.1 Train 0.9547981439555266 CV 0.93830744285789 No of zeros in Weight vec 0\n",
      "0.13 Train 0.9562271637040192 CV 0.9386604947957529 No of zeros in Weight vec 0\n",
      "0.18 Train 0.9582277913519087 CV 0.9388697107589309 No of zeros in Weight vec 0\n",
      "0.2 Train 0.9588778552374975 CV 0.938830482765835 No of zeros in Weight vec 0\n",
      "0.25 Train 0.9600715070274147 CV 0.9387912547727392 No of zeros in Weight vec 0\n",
      "0.28 Train 0.9607439869090583 CV 0.9388566347612323 No of zeros in Weight vec 0\n",
      "0.33 Train 0.9618143507206742 CV 0.9386343428003556 No of zeros in Weight vec 0\n"
     ]
    }
   ],
   "source": [
    "inv_lamda = [0.005,0.008,0.02,0.06,0.08,0.1,0.13,0.18,0.20,0.25,0.28,0.33]\n",
    "print('With l2 Regularization')\n",
    "for c in inv_lamda:\n",
    "    model = LogisticRegression(penalty='l2',C=c,n_jobs=-1)\n",
    "    model.fit(final_counts_train,X_train.Score)\n",
    "    #Predicting training data\n",
    "    train_list = model.predict(final_counts_train)\n",
    "    #coeff\n",
    "    no_of_zero = sum(model.coef_.ravel()==0)\n",
    "    #Accuracy score\n",
    "    score_train = accuracy_score(X_train.Score,train_list)\n",
    "    #predict test cv\n",
    "    test_list = model.predict(X_test)\n",
    "    #Accuracy score\n",
    "    score_test = accuracy_score(X_test_cv.Score,test_list)\n",
    "    print(c , 'Train',score_train,'CV',score_test,\n",
    "                   'No of zeros in Weight vec',no_of_zero)"
   ]
  },
  {
   "cell_type": "code",
   "execution_count": 29,
   "metadata": {},
   "outputs": [
    {
     "name": "stdout",
     "output_type": "stream",
     "text": [
      "With l2 Regularization\n",
      "0.005 Train 0.9107619197059021 CV 0.9005047335111669 No of zeros in Weight vec 0\n",
      "0.008 Train 0.9157158548340095 CV 0.9043490768345624 No of zeros in Weight vec 0\n",
      "0.02 Train 0.9236174934433211 CV 0.9106647837229981 No of zeros in Weight vec 0\n",
      "0.06 Train 0.9323933558987694 CV 0.9157644228254616 No of zeros in Weight vec 0\n",
      "0.08 Train 0.9345957275111519 CV 0.9167974266436529 No of zeros in Weight vec 0\n",
      "0.1 Train 0.9365907511600278 CV 0.9177912024687483 No of zeros in Weight vec 0\n",
      "0.13 Train 0.9383952388424379 CV 0.9186411423191589 No of zeros in Weight vec 0\n",
      "0.18 Train 0.9411636143552039 CV 0.9198310581097338 No of zeros in Weight vec 0\n",
      "0.2 Train 0.9418865302279706 CV 0.9199879700821173 No of zeros in Weight vec 0\n",
      "0.25 Train 0.9436069579251755 CV 0.9204979339923636 No of zeros in Weight vec 0\n",
      "0.28 Train 0.944481181771312 CV 0.9206417699670485 No of zeros in Weight vec 0\n",
      "0.33 Train 0.9456748335612293 CV 0.921112505884199 No of zeros in Weight vec 0\n"
     ]
    }
   ],
   "source": [
    "inv_lamda = [0.005,0.008,0.02,0.06,0.08,0.1,0.13,0.18,0.20,0.25,0.28,0.33]\n",
    "print('With l2 Regularization')\n",
    "for c in inv_lamda:\n",
    "    model = LogisticRegression(penalty='l2',C=c,class_weight='balanced',n_jobs=-1)\n",
    "    model.fit(final_counts_train,X_train.Score)\n",
    "    #Predicting training data\n",
    "    train_list = model.predict(final_counts_train)\n",
    "    #coeff\n",
    "    no_of_zero = sum(model.coef_.ravel()==0)\n",
    "    #Accuracy score\n",
    "    score_train = accuracy_score(X_train.Score,train_list)\n",
    "    #predict test cv\n",
    "    test_list = model.predict(X_test)\n",
    "    #Accuracy score\n",
    "    score_test = accuracy_score(X_test_cv.Score,test_list)\n",
    "    print(c , 'Train',score_train,'CV',score_test,\n",
    "                   'No of zeros in Weight vec',no_of_zero)"
   ]
  },
  {
   "cell_type": "code",
   "execution_count": 20,
   "metadata": {},
   "outputs": [
    {
     "name": "stdout",
     "output_type": "stream",
     "text": [
      "with l1 Regularization\n",
      "0.001 Train 0.8689392750666876 CV 0.8427349756786443 No of zeros in Weight vec 50505\n",
      "0.01 Train 0.9205072739907197 CV 0.9104424917621214 No of zeros in Weight vec 50241\n",
      "0.1 Train 0.9435509179350384 CV 0.9358491552905487 No of zeros in Weight vec 48945\n",
      "1 Train 0.9629351505234135 CV 0.93792823892463 No of zeros in Weight vec 43334\n",
      "10 Train 0.9828181390240075 CV 0.9250222291960877 No of zeros in Weight vec 33960\n",
      "100 Train 0.9861525184371568 CV 0.9090041320152727 No of zeros in Weight vec 28292\n",
      "1000 Train 0.9865840263612113 CV 0.9005962654950572 No of zeros in Weight vec 24702\n"
     ]
    }
   ],
   "source": [
    "#with l1 regularization\n",
    "print('with l1 Regularization')\n",
    "inv_lamda = [0.001, 0.01, 0.1, 1, 10, 100, 1000]\n",
    "for c in inv_lamda:\n",
    "    model = LogisticRegression(penalty='l1',C=c,n_jobs=-1)\n",
    "    model.fit(final_counts_train,X_train.Score)\n",
    "    #Predicting training data\n",
    "    train_list = model.predict(final_counts_train)\n",
    "    #coeff\n",
    "    no_of_zero = sum(model.coef_.ravel()==0)\n",
    "    #Accuracy score\n",
    "    score_train = accuracy_score(X_train.Score,train_list)\n",
    "    #predict test cv\n",
    "    test_list = model.predict(X_test)\n",
    "    #Accuracy score\n",
    "    score_test = accuracy_score(X_test_cv.Score,test_list)\n",
    "    print(c , 'Train',score_train,'CV',score_test,\n",
    "                 'No of zeros in Weight vec',no_of_zero)"
   ]
  },
  {
   "cell_type": "code",
   "execution_count": 22,
   "metadata": {},
   "outputs": [
    {
     "name": "stdout",
     "output_type": "stream",
     "text": [
      "With l1 Regularization\n",
      "0.005 Train 0.9082177041536841 CV 0.8949082064961557 No of zeros in Weight vec 50369\n",
      "0.008 Train 0.917055210598283 CV 0.9062189445054658 No of zeros in Weight vec 50294\n",
      "0.02 Train 0.9293671964313734 CV 0.9214001778335688 No of zeros in Weight vec 50042\n",
      "0.06 Train 0.939336710676739 CV 0.9322271039280297 No of zeros in Weight vec 49460\n",
      "0.08 Train 0.9417800542467104 CV 0.9342669595690151 No of zeros in Weight vec 49179\n",
      "0.1 Train 0.9435565219340522 CV 0.9358622312882473 No of zeros in Weight vec 48944\n",
      "0.13 Train 0.945439465602654 CV 0.937091375071918 No of zeros in Weight vec 48618\n",
      "0.18 Train 0.9479108291676941 CV 0.9379151629269313 No of zeros in Weight vec 48130\n",
      "0.2 Train 0.9486169330434198 CV 0.9380197709085203 No of zeros in Weight vec 47942\n",
      "0.25 Train 0.9502028647642958 CV 0.9381505308855066 No of zeros in Weight vec 47511\n",
      "0.28 Train 0.9511275246015557 CV 0.9382943668601914 No of zeros in Weight vec 47271\n",
      "0.33 Train 0.9525173163569524 CV 0.9384382028348763 No of zeros in Weight vec 46943\n"
     ]
    }
   ],
   "source": [
    "inv_lamda = [0.005,0.008,0.02,0.06,0.08,0.1,0.13,0.18,0.20,0.25,0.28,0.33]\n",
    "print('With l1 Regularization')\n",
    "for c in inv_lamda:\n",
    "    model = LogisticRegression(penalty='l1',C=c,n_jobs=-1)\n",
    "    model.fit(final_counts_train,X_train.Score)\n",
    "    #Predicting training data\n",
    "    train_list = model.predict(final_counts_train)\n",
    "    #coeff\n",
    "    no_of_zero = sum(model.coef_.ravel()==0)\n",
    "    #Accuracy score\n",
    "    score_train = accuracy_score(X_train.Score,train_list)\n",
    "    #predict test cv\n",
    "    test_list = model.predict(X_test)\n",
    "    #Accuracy score\n",
    "    score_test = accuracy_score(X_test_cv.Score,test_list)\n",
    "    print(c , 'Train',score_train,'CV',score_test,\n",
    "                    'No of zeros in Weight vec',no_of_zero)"
   ]
  },
  {
   "cell_type": "code",
   "execution_count": 23,
   "metadata": {},
   "outputs": [
    {
     "name": "stdout",
     "output_type": "stream",
     "text": [
      "With l1 Regularization\n",
      "0.005 Train 0.9128466073389971 CV 0.9010408494168105 No of zeros in Weight vec 50365\n",
      "0.008 Train 0.9209163659187196 CV 0.9106255557299022 No of zeros in Weight vec 50275\n",
      "0.02 Train 0.9322084239313174 CV 0.924420733301951 No of zeros in Weight vec 49993\n",
      "0.06 Train 0.9397626146017798 CV 0.9326063078612898 No of zeros in Weight vec 49234\n",
      "0.08 Train 0.9410010983838066 CV 0.9338616036403578 No of zeros in Weight vec 48910\n",
      "0.1 Train 0.9418304902378337 CV 0.9344500235367958 No of zeros in Weight vec 48577\n",
      "0.13 Train 0.9427439420770662 CV 0.935038443433234 No of zeros in Weight vec 48130\n",
      "0.18 Train 0.9434612539508193 CV 0.9359668392698363 No of zeros in Weight vec 47333\n",
      "0.2 Train 0.9436798099123535 CV 0.9360714472514253 No of zeros in Weight vec 47121\n",
      "0.25 Train 0.9441225258344355 CV 0.9364244991892882 No of zeros in Weight vec 46486\n",
      "0.28 Train 0.9443130618009011 CV 0.9365552591662744 No of zeros in Weight vec 46099\n",
      "0.33 Train 0.9445652417565175 CV 0.9367906271248496 No of zeros in Weight vec 45512\n"
     ]
    }
   ],
   "source": [
    "inv_lamda = [0.005,0.008,0.02,0.06,0.08,0.1,0.13,0.18,0.20,0.25,0.28,0.33]\n",
    "print('With l1 Regularization')\n",
    "for c in inv_lamda:\n",
    "    model = LogisticRegression(penalty='l1',C=c,solver='saga',n_jobs=-1)\n",
    "    model.fit(final_counts_train,X_train.Score)\n",
    "    #Predicting training data\n",
    "    train_list = model.predict(final_counts_train)\n",
    "    #coeff\n",
    "    no_of_zero = sum(model.coef_.ravel()==0)\n",
    "    #Accuracy score\n",
    "    score_train = accuracy_score(X_train.Score,train_list)\n",
    "    #predict test cv\n",
    "    test_list = model.predict(X_test)\n",
    "    #Accuracy score\n",
    "    score_test = accuracy_score(X_test_cv.Score,test_list)\n",
    "    print(c , 'Train',score_train,'CV',score_test,\n",
    "                    'No of zeros in Weight vec',no_of_zero)"
   ]
  },
  {
   "cell_type": "markdown",
   "metadata": {},
   "source": [
    "We can observe from above that, with l1 regularization if regularization strengt increses i.e C decreses, spaecity is also incesing and for some regularization strength we are getting similar test scores with l1 and l2 regularization for this data."
   ]
  },
  {
   "cell_type": "code",
   "execution_count": 78,
   "metadata": {},
   "outputs": [],
   "source": [
    "c = [0.001,0.005,0.008,0.01,0.02,0.06,0.08,0.1,\n",
    "      0.13,0.18,0.20,0.25,0.28,0.33,0.45,0.55,0.65,1,3,10, 100, 1000] \n",
    "model_grid_bow = GridSearchCV(make_pipeline(CountVectorizer(stop_words=list(stop)),\n",
    "                            LogisticRegression()),\n",
    "                            param_grid={'logisticregression__C': c,\n",
    "                                    'logisticregression__penalty':['l2','l1']},\n",
    "                            cv=TimeSeriesSplit(n_splits=10),n_jobs=-1)\n",
    "model_grid_bow.fit(train_df.final_text,train_df.Score)"
   ]
  },
  {
   "cell_type": "code",
   "execution_count": 64,
   "metadata": {},
   "outputs": [],
   "source": [
    "dict_scores = []\n",
    "idx = 0\n",
    "for i in model_grid_bow.grid_scores_:\n",
    "    dict_score = []\n",
    "    dict_score.append(i[0]['logisticregression__penalty'])\n",
    "    dict_score.append(i[0]['logisticregression__C'])\n",
    "    dict_score.append(i[1])\n",
    "    dict_score.append(i[2].std())\n",
    "    dict_score.append(model_grid_bow.cv_results_['mean_train_score'][idx])\n",
    "    dict_scores.append(dict_score)\n",
    "    idx = idx + 1\n",
    "scores_df = pd.DataFrame(dict_scores,columns=['penality','C','Test_score',\n",
    "                                               'Test_std','Train_score'])\n",
    "scores_df_l1 = scores_df[scores_df.penality=='l1']\n",
    "scores_df_l2 = scores_df[scores_df.penality=='l2']"
   ]
  },
  {
   "cell_type": "code",
   "execution_count": 65,
   "metadata": {},
   "outputs": [
    {
     "data": {
      "text/html": [
       "<div>\n",
       "<style scoped>\n",
       "    .dataframe tbody tr th:only-of-type {\n",
       "        vertical-align: middle;\n",
       "    }\n",
       "\n",
       "    .dataframe tbody tr th {\n",
       "        vertical-align: top;\n",
       "    }\n",
       "\n",
       "    .dataframe thead th {\n",
       "        text-align: right;\n",
       "    }\n",
       "</style>\n",
       "<table border=\"1\" class=\"dataframe\">\n",
       "  <thead>\n",
       "    <tr style=\"text-align: right;\">\n",
       "      <th></th>\n",
       "      <th>penality</th>\n",
       "      <th>C</th>\n",
       "      <th>Test_score</th>\n",
       "      <th>Test_std</th>\n",
       "      <th>Train_score</th>\n",
       "    </tr>\n",
       "  </thead>\n",
       "  <tbody>\n",
       "    <tr>\n",
       "      <th>18</th>\n",
       "      <td>l2</td>\n",
       "      <td>0.18</td>\n",
       "      <td>0.937680</td>\n",
       "      <td>0.002622</td>\n",
       "      <td>0.962179</td>\n",
       "    </tr>\n",
       "    <tr>\n",
       "      <th>20</th>\n",
       "      <td>l2</td>\n",
       "      <td>0.20</td>\n",
       "      <td>0.937624</td>\n",
       "      <td>0.002610</td>\n",
       "      <td>0.963065</td>\n",
       "    </tr>\n",
       "    <tr>\n",
       "      <th>22</th>\n",
       "      <td>l2</td>\n",
       "      <td>0.25</td>\n",
       "      <td>0.937602</td>\n",
       "      <td>0.002735</td>\n",
       "      <td>0.964801</td>\n",
       "    </tr>\n",
       "    <tr>\n",
       "      <th>24</th>\n",
       "      <td>l2</td>\n",
       "      <td>0.28</td>\n",
       "      <td>0.937590</td>\n",
       "      <td>0.002624</td>\n",
       "      <td>0.965629</td>\n",
       "    </tr>\n",
       "    <tr>\n",
       "      <th>26</th>\n",
       "      <td>l2</td>\n",
       "      <td>0.33</td>\n",
       "      <td>0.937512</td>\n",
       "      <td>0.002450</td>\n",
       "      <td>0.966780</td>\n",
       "    </tr>\n",
       "    <tr>\n",
       "      <th>28</th>\n",
       "      <td>l2</td>\n",
       "      <td>0.45</td>\n",
       "      <td>0.937305</td>\n",
       "      <td>0.002560</td>\n",
       "      <td>0.969136</td>\n",
       "    </tr>\n",
       "    <tr>\n",
       "      <th>16</th>\n",
       "      <td>l2</td>\n",
       "      <td>0.13</td>\n",
       "      <td>0.937292</td>\n",
       "      <td>0.002779</td>\n",
       "      <td>0.959622</td>\n",
       "    </tr>\n",
       "    <tr>\n",
       "      <th>29</th>\n",
       "      <td>l1</td>\n",
       "      <td>0.45</td>\n",
       "      <td>0.937154</td>\n",
       "      <td>0.002963</td>\n",
       "      <td>0.957555</td>\n",
       "    </tr>\n",
       "    <tr>\n",
       "      <th>30</th>\n",
       "      <td>l2</td>\n",
       "      <td>0.55</td>\n",
       "      <td>0.937063</td>\n",
       "      <td>0.002416</td>\n",
       "      <td>0.970623</td>\n",
       "    </tr>\n",
       "    <tr>\n",
       "      <th>31</th>\n",
       "      <td>l1</td>\n",
       "      <td>0.55</td>\n",
       "      <td>0.937024</td>\n",
       "      <td>0.002801</td>\n",
       "      <td>0.959865</td>\n",
       "    </tr>\n",
       "  </tbody>\n",
       "</table>\n",
       "</div>"
      ],
      "text/plain": [
       "   penality     C  Test_score  Test_std  Train_score\n",
       "18       l2  0.18    0.937680  0.002622     0.962179\n",
       "20       l2  0.20    0.937624  0.002610     0.963065\n",
       "22       l2  0.25    0.937602  0.002735     0.964801\n",
       "24       l2  0.28    0.937590  0.002624     0.965629\n",
       "26       l2  0.33    0.937512  0.002450     0.966780\n",
       "28       l2  0.45    0.937305  0.002560     0.969136\n",
       "16       l2  0.13    0.937292  0.002779     0.959622\n",
       "29       l1  0.45    0.937154  0.002963     0.957555\n",
       "30       l2  0.55    0.937063  0.002416     0.970623\n",
       "31       l1  0.55    0.937024  0.002801     0.959865"
      ]
     },
     "execution_count": 65,
     "metadata": {},
     "output_type": "execute_result"
    }
   ],
   "source": [
    "#top10 cv scores with GridSearch CV\n",
    "scores_df.sort_values('Test_score',ascending=False).head(10)"
   ]
  },
  {
   "cell_type": "code",
   "execution_count": 66,
   "metadata": {},
   "outputs": [
    {
     "data": {
      "text/plain": [
       "<matplotlib.legend.Legend at 0x155086076e80>"
      ]
     },
     "execution_count": 66,
     "metadata": {},
     "output_type": "execute_result"
    },
    {
     "data": {
      "image/png": "[encoded data removed]",
      "text/plain": [
       "<matplotlib.figure.Figure at 0x155076e658d0>"
      ]
     },
     "metadata": {},
     "output_type": "display_data"
    }
   ],
   "source": [
    "#plotting validation curve\n",
    "plt.figure(figsize=(14,8))\n",
    "plt.plot(scores_df_l1.C,\n",
    "         scores_df_l1.Train_score,label='Train with l1 Reg')\n",
    "plt.plot(scores_df_l1.C,\n",
    "         scores_df_l1.Test_score,label='Test with l1 Reg')\n",
    "plt.plot(scores_df_l2.C,\n",
    "         scores_df_l2.Train_score,label='Train with l2 reg')\n",
    "plt.plot(scores_df_l2.C,\n",
    "         scores_df_l2.Test_score,label='Test with l2 Reg')\n",
    "#plt.xlim(0,5)\n",
    "plt.xlabel('C')\n",
    "plt.ylabel('Score')\n",
    "plt.title('Validation Curve with differnt C for BoW Representation of text with GridSearch')\n",
    "plt.legend()"
   ]
  },
  {
   "cell_type": "code",
   "execution_count": 67,
   "metadata": {},
   "outputs": [
    {
     "data": {
      "text/plain": [
       "<matplotlib.legend.Legend at 0x15501f564dd8>"
      ]
     },
     "execution_count": 67,
     "metadata": {},
     "output_type": "execute_result"
    },
    {
     "data": {
      "image/png": "[encoded data removed]",
      "text/plain": [
       "<matplotlib.figure.Figure at 0x1550682cdc18>"
      ]
     },
     "metadata": {},
     "output_type": "display_data"
    }
   ],
   "source": [
    "#plotting validation curve\n",
    "plt.figure(figsize=(14,8))\n",
    "plt.plot(scores_df_l1.C,\n",
    "         scores_df_l1.Train_score,label='Train with l1 Reg')\n",
    "plt.plot(scores_df_l1.C,\n",
    "         scores_df_l1.Test_score,label='Test with l1 Reg')\n",
    "plt.plot(scores_df_l2.C,\n",
    "         scores_df_l2.Train_score,label='Train with l2 reg')\n",
    "plt.plot(scores_df_l2.C,\n",
    "         scores_df_l2.Test_score,label='Test with l2 Reg')\n",
    "plt.xlim(0,1)\n",
    "plt.xlabel('C')\n",
    "plt.ylabel('Score')\n",
    "plt.title('Validation Curve with differnt C for BoW Representation of text with GridSearch')\n",
    "plt.legend()"
   ]
  },
  {
   "cell_type": "code",
   "execution_count": 119,
   "metadata": {},
   "outputs": [],
   "source": [
    "#random Search\n",
    "model_random_bow = RandomizedSearchCV(\n",
    "                        make_pipeline(CountVectorizer(stop_words=list(stop)),\n",
    "                        LogisticRegression(n_jobs=-1)),\n",
    "                    param_distributions={'logisticregression__C':uniform(loc=0,scale=1),\n",
    "                            'logisticregression__penalty':['l2','l1']},n_iter=30,\n",
    "                            cv=TimeSeriesSplit(n_splits=10),n_jobs=-1)\n",
    "model_random_bow.fit(train_df.final_text,train_df.Score)"
   ]
  },
  {
   "cell_type": "code",
   "execution_count": 69,
   "metadata": {},
   "outputs": [],
   "source": [
    "dict_scores = []\n",
    "idx = 0\n",
    "for i in model_random_bow.grid_scores_:\n",
    "    dict_score = []\n",
    "    dict_score.append(i[0]['logisticregression__penalty'])\n",
    "    dict_score.append(i[0]['logisticregression__C'])\n",
    "    dict_score.append(i[1])\n",
    "    dict_score.append(i[2].std())\n",
    "    dict_score.append(model_random_bow.cv_results_['mean_train_score'][idx])\n",
    "    dict_scores.append(dict_score)\n",
    "    idx = idx + 1\n",
    "scores_df1 = pd.DataFrame(dict_scores,columns=['penality','C','Test_score',\n",
    "                                               'Test_std','Train_score'])\n",
    "scores_df1_l1 = scores_df1[scores_df1.penality=='l1']\n",
    "scores_df1_l2 = scores_df1[scores_df1.penality=='l2']"
   ]
  },
  {
   "cell_type": "code",
   "execution_count": 70,
   "metadata": {},
   "outputs": [
    {
     "data": {
      "text/html": [
       "<div>\n",
       "<style scoped>\n",
       "    .dataframe tbody tr th:only-of-type {\n",
       "        vertical-align: middle;\n",
       "    }\n",
       "\n",
       "    .dataframe tbody tr th {\n",
       "        vertical-align: top;\n",
       "    }\n",
       "\n",
       "    .dataframe thead th {\n",
       "        text-align: right;\n",
       "    }\n",
       "</style>\n",
       "<table border=\"1\" class=\"dataframe\">\n",
       "  <thead>\n",
       "    <tr style=\"text-align: right;\">\n",
       "      <th></th>\n",
       "      <th>penality</th>\n",
       "      <th>C</th>\n",
       "      <th>Test_score</th>\n",
       "      <th>Test_std</th>\n",
       "      <th>Train_score</th>\n",
       "    </tr>\n",
       "  </thead>\n",
       "  <tbody>\n",
       "    <tr>\n",
       "      <th>25</th>\n",
       "      <td>l2</td>\n",
       "      <td>0.386489</td>\n",
       "      <td>0.937391</td>\n",
       "      <td>0.002487</td>\n",
       "      <td>0.967984</td>\n",
       "    </tr>\n",
       "    <tr>\n",
       "      <th>6</th>\n",
       "      <td>l2</td>\n",
       "      <td>0.383442</td>\n",
       "      <td>0.937361</td>\n",
       "      <td>0.002472</td>\n",
       "      <td>0.967914</td>\n",
       "    </tr>\n",
       "    <tr>\n",
       "      <th>4</th>\n",
       "      <td>l2</td>\n",
       "      <td>0.437587</td>\n",
       "      <td>0.937292</td>\n",
       "      <td>0.002561</td>\n",
       "      <td>0.968928</td>\n",
       "    </tr>\n",
       "    <tr>\n",
       "      <th>16</th>\n",
       "      <td>l2</td>\n",
       "      <td>0.118274</td>\n",
       "      <td>0.937180</td>\n",
       "      <td>0.002852</td>\n",
       "      <td>0.958896</td>\n",
       "    </tr>\n",
       "    <tr>\n",
       "      <th>15</th>\n",
       "      <td>l1</td>\n",
       "      <td>0.520477</td>\n",
       "      <td>0.937149</td>\n",
       "      <td>0.002881</td>\n",
       "      <td>0.959204</td>\n",
       "    </tr>\n",
       "    <tr>\n",
       "      <th>2</th>\n",
       "      <td>l1</td>\n",
       "      <td>0.544883</td>\n",
       "      <td>0.937106</td>\n",
       "      <td>0.002794</td>\n",
       "      <td>0.959777</td>\n",
       "    </tr>\n",
       "    <tr>\n",
       "      <th>11</th>\n",
       "      <td>l1</td>\n",
       "      <td>0.368242</td>\n",
       "      <td>0.937067</td>\n",
       "      <td>0.002758</td>\n",
       "      <td>0.955453</td>\n",
       "    </tr>\n",
       "    <tr>\n",
       "      <th>0</th>\n",
       "      <td>l1</td>\n",
       "      <td>0.548814</td>\n",
       "      <td>0.937059</td>\n",
       "      <td>0.002797</td>\n",
       "      <td>0.959840</td>\n",
       "    </tr>\n",
       "    <tr>\n",
       "      <th>22</th>\n",
       "      <td>l2</td>\n",
       "      <td>0.568434</td>\n",
       "      <td>0.937054</td>\n",
       "      <td>0.002426</td>\n",
       "      <td>0.970869</td>\n",
       "    </tr>\n",
       "    <tr>\n",
       "      <th>8</th>\n",
       "      <td>l1</td>\n",
       "      <td>0.568045</td>\n",
       "      <td>0.937042</td>\n",
       "      <td>0.002765</td>\n",
       "      <td>0.960239</td>\n",
       "    </tr>\n",
       "  </tbody>\n",
       "</table>\n",
       "</div>"
      ],
      "text/plain": [
       "   penality         C  Test_score  Test_std  Train_score\n",
       "25       l2  0.386489    0.937391  0.002487     0.967984\n",
       "6        l2  0.383442    0.937361  0.002472     0.967914\n",
       "4        l2  0.437587    0.937292  0.002561     0.968928\n",
       "16       l2  0.118274    0.937180  0.002852     0.958896\n",
       "15       l1  0.520477    0.937149  0.002881     0.959204\n",
       "2        l1  0.544883    0.937106  0.002794     0.959777\n",
       "11       l1  0.368242    0.937067  0.002758     0.955453\n",
       "0        l1  0.548814    0.937059  0.002797     0.959840\n",
       "22       l2  0.568434    0.937054  0.002426     0.970869\n",
       "8        l1  0.568045    0.937042  0.002765     0.960239"
      ]
     },
     "execution_count": 70,
     "metadata": {},
     "output_type": "execute_result"
    }
   ],
   "source": [
    "#top 10 scores from random Search\n",
    "scores_df1.sort_values('Test_score',ascending=False).head(10)"
   ]
  },
  {
   "cell_type": "code",
   "execution_count": 71,
   "metadata": {},
   "outputs": [
    {
     "data": {
      "text/plain": [
       "<matplotlib.legend.Legend at 0x15506960c668>"
      ]
     },
     "execution_count": 71,
     "metadata": {},
     "output_type": "execute_result"
    },
    {
     "data": {
      "image/png": "[encoded data removed]",
      "text/plain": [
       "<matplotlib.figure.Figure at 0x1550dc35fb38>"
      ]
     },
     "metadata": {},
     "output_type": "display_data"
    }
   ],
   "source": [
    "#plotting validation curve\n",
    "scores_df1_l1.sort_values('C',inplace=True)\n",
    "scores_df1_l2.sort_values('C',inplace=True)\n",
    "plt.figure(figsize=(14,8))\n",
    "plt.plot(scores_df1_l1.C,\n",
    "         scores_df1_l1.Train_score,label='Train with l1 Reg')\n",
    "plt.plot(scores_df1_l1.C,\n",
    "         scores_df1_l1.Test_score,label='Test with l1 Reg')\n",
    "plt.plot(scores_df1_l2.C,\n",
    "         scores_df1_l2.Train_score,label='Train with l2 reg')\n",
    "plt.plot(scores_df1_l2.C,\n",
    "         scores_df1_l2.Test_score,label='Test with l2 Reg')\n",
    "#plt.xlim(0,5)\n",
    "plt.xlabel('C')\n",
    "plt.ylabel('Score')\n",
    "plt.title('Validation Curve with differnt C for BoW Representation of text with RandomSearch')\n",
    "plt.legend()"
   ]
  },
  {
   "cell_type": "markdown",
   "metadata": {},
   "source": [
    "* with Gridsearch and Randomsearch got best scores and for C in 0.4 to 1 wit la and l2 regularization we are getting maximum similar scores.\n",
    "* For l1 regularization got best score at C = 0.5204774795512048 and cv mean score is 0.937149. and for l2 regularization got best score at 0.18 and cv mean score is 0.937680. "
   ]
  },
  {
   "cell_type": "code",
   "execution_count": 127,
   "metadata": {},
   "outputs": [
    {
     "name": "stdout",
     "output_type": "stream",
     "text": [
      "L2 Reg Best CV Score\n",
      "C 0.18\n",
      "No of Zeros in Weigth Vec 0\n",
      "Train Score 0.9559822689471207\n",
      "Test Score 0.938087523226332\n",
      "Test Precision 0.9520758807588076\n",
      "Test Recall 0.9740163243578938\n",
      "Test ConfusionMatrix [[14658  4421]\n",
      " [ 2343 87829]]\n"
     ]
    }
   ],
   "source": [
    "##Test scores for L2 reg\n",
    "#CountVectorizer for BoW\n",
    "count_vect = CountVectorizer(stop_words=list(stop),dtype=np.int8)\n",
    "X_train = count_vect.fit_transform(\n",
    "        train_df['final_text'].values)\n",
    "#test\n",
    "X_test = count_vect.transform(test_df['final_text'].values)\n",
    "\n",
    "model_l2 = LogisticRegression(penalty='l2',C=0.18,n_jobs=-1)\n",
    "model_l2.fit(X_train,train_df.Score)\n",
    "#Predicting training data\n",
    "train_list = model_l2.predict(X_train)\n",
    "#coeff\n",
    "no_of_zero = sum(model_l2.coef_.ravel()==0)\n",
    "#Accuracy score\n",
    "score_train = accuracy_score(train_df.Score,train_list)\n",
    "#predict test cv\n",
    "test_list = model_l2.predict(X_test)\n",
    "#Accuracy score\n",
    "score_test = accuracy_score(test_df.Score,test_list)\n",
    "#precision\n",
    "test_precision = precision_score(test_df.Score,test_list)\n",
    "#recall\n",
    "test_recall = recall_score(test_df.Score,test_list)\n",
    "#confusion matrix\n",
    "confusion_matrix_test = confusion_matrix(test_df.Score,test_list)\n",
    "print('L2 Reg Best CV Score')\n",
    "print('C' , 0.18)\n",
    "print('No of Zeros in Weigth Vec',no_of_zero)\n",
    "print('Train Score', score_train)\n",
    "print('Test Score',score_test)\n",
    "print('Test Precision',test_precision)\n",
    "print('Test Recall',test_recall)\n",
    "print('Test ConfusionMatrix',confusion_matrix_test)"
   ]
  },
  {
   "cell_type": "code",
   "execution_count": 128,
   "metadata": {},
   "outputs": [
    {
     "name": "stdout",
     "output_type": "stream",
     "text": [
      "L1 Reg Best CV Score\n",
      "C 0.5204774795512048\n",
      "No of Zeros in Weigth Vec 51928\n",
      "Train Score 0.9544759140122391\n",
      "Test Score 0.9373918774198863\n",
      "Test Precision 0.9522031690905144\n",
      "Test Recall 0.9729849620724838\n",
      "Test ConfusionMatrix [[14675  4404]\n",
      " [ 2436 87736]]\n"
     ]
    }
   ],
   "source": [
    "##Test scores for L1 reg\n",
    "model_l1 = LogisticRegression(penalty='l1',C=0.5204774795512048,n_jobs=-1)\n",
    "model_l1.fit(X_train,train_df.Score)\n",
    "#Predicting training data\n",
    "train_list = model_l1.predict(X_train)\n",
    "#coeff\n",
    "no_of_zero = sum(model_l1.coef_.ravel()==0)\n",
    "#Accuracy score\n",
    "score_train = accuracy_score(train_df.Score,train_list)\n",
    "#predict test cv\n",
    "test_list = model_l1.predict(X_test)\n",
    "#Accuracy score\n",
    "score_test = accuracy_score(test_df.Score,test_list)\n",
    "#precision\n",
    "test_precision = precision_score(test_df.Score,test_list)\n",
    "#recall\n",
    "test_recall = recall_score(test_df.Score,test_list)\n",
    "#confusion matrix\n",
    "confusion_matrix_test = confusion_matrix(test_df.Score,test_list)\n",
    "print('L1 Reg Best CV Score')\n",
    "print('C' , 0.5204774795512048)\n",
    "print('No of Zeros in Weigth Vec',no_of_zero)\n",
    "print('Train Score', score_train)\n",
    "print('Test Score',score_test)\n",
    "print('Test Precision',test_precision)\n",
    "print('Test Recall',test_recall)\n",
    "print('Test ConfusionMatrix',confusion_matrix_test)"
   ]
  },
  {
   "cell_type": "code",
   "execution_count": 129,
   "metadata": {},
   "outputs": [
    {
     "name": "stdout",
     "output_type": "stream",
     "text": [
      "8.14 ms ± 20.6 µs per loop (mean ± std. dev. of 7 runs, 100 loops each)\n"
     ]
    }
   ],
   "source": [
    "%%timeit\n",
    "##Time for Predcting with L1 reg for 109251 instances \n",
    "test_list = model_l1.predict(X_test)"
   ]
  },
  {
   "cell_type": "code",
   "execution_count": 130,
   "metadata": {},
   "outputs": [
    {
     "name": "stdout",
     "output_type": "stream",
     "text": [
      "9.76 ms ± 17.2 µs per loop (mean ± std. dev. of 7 runs, 100 loops each)\n"
     ]
    }
   ],
   "source": [
    "%%timeit\n",
    "##Time for Predcting with L2 reg for 109251 instances\n",
    "test_list = model_l2.predict(X_test)"
   ]
  },
  {
   "cell_type": "markdown",
   "metadata": {},
   "source": [
    "L1 and L2 regularization is giving similar test scores and L1 regularization having 51928 zeros in the Weight vector."
   ]
  },
  {
   "cell_type": "markdown",
   "metadata": {},
   "source": [
    "###### Feature importance"
   ]
  },
  {
   "cell_type": "code",
   "execution_count": 12,
   "metadata": {},
   "outputs": [
    {
     "name": "stdout",
     "output_type": "stream",
     "text": [
      "Test Score Befor Perturbation 0.938087523226332\n",
      "Test Score After Perturbation 0.9380509102891507\n"
     ]
    }
   ],
   "source": [
    "##Perturbation test for Multicollinearity\n",
    "#CountVectorizer for BoW\n",
    "from scipy.stats import uniform\n",
    "count_vect = CountVectorizer(stop_words=list(stop),dtype=np.float128)\n",
    "X_train = count_vect.fit_transform(\n",
    "        train_df['final_text'].values)\n",
    "#test\n",
    "X_test = count_vect.transform(test_df['final_text'].values)\n",
    "\n",
    "model_l2_bp = LogisticRegression(penalty='l2',C=0.18,n_jobs=-1)\n",
    "model_l2_bp.fit(X_train,train_df.Score)\n",
    "#Predicting training data\n",
    "train_list = model_l2_bp.predict(X_train)\n",
    "#coeff\n",
    "Weight_bp = model_l2_bp.coef_\n",
    "#Accuracy score\n",
    "score_train_bp = accuracy_score(train_df.Score,train_list)\n",
    "#predict test cv\n",
    "test_list = model_l2_bp.predict(X_test)\n",
    "#Accuracy score\n",
    "score_test_bp = accuracy_score(test_df.Score,test_list)\n",
    "\n",
    "X_train1 = X_train.copy()\n",
    "X_train1[X_train1!=0] = uniform.rvs(loc=0,scale=0.01,size=1,random_state=0)\n",
    "X_train_ap = X_train1+X_train\n",
    "#test\n",
    "X_test1 = X_test.copy()\n",
    "X_test1[X_test1!=0] = uniform.rvs(loc=0,scale=0.01,size=1,random_state=0)\n",
    "X_test_ap = X_test1+X_test\n",
    "\n",
    "model_l2_ap = LogisticRegression(penalty='l2',C=0.18,n_jobs=-1)\n",
    "model_l2_ap.fit(X_train_ap,train_df.Score)\n",
    "#Predicting training data\n",
    "train_list = model_l2_ap.predict(X_train_ap)\n",
    "#coeff\n",
    "Weight_ap = model_l2_ap.coef_\n",
    "#Accuracy score\n",
    "score_train_ap = accuracy_score(train_df.Score,train_list)\n",
    "#predict test cv\n",
    "test_list = model_l2_ap.predict(X_test_ap)\n",
    "#Accuracy score\n",
    "score_test_ap = accuracy_score(test_df.Score,test_list)\n",
    "\n",
    "print('Test Score Befor Perturbation',score_test_bp)\n",
    "print('Test Score After Perturbation',score_test_ap)"
   ]
  },
  {
   "cell_type": "code",
   "execution_count": 13,
   "metadata": {},
   "outputs": [
    {
     "data": {
      "text/plain": [
       "array([[ 0.11298219, -0.03456884, -0.04168738, ...,  0.00172645,\n",
       "         0.0152829 ,  0.0006452 ]])"
      ]
     },
     "execution_count": 13,
     "metadata": {},
     "output_type": "execute_result"
    }
   ],
   "source": [
    "#Weights before Perturbation\n",
    "Weight_bp "
   ]
  },
  {
   "cell_type": "code",
   "execution_count": 14,
   "metadata": {},
   "outputs": [
    {
     "data": {
      "text/plain": [
       "array([[ 0.11315245, -0.0345072 , -0.04175502, ...,  0.00175178,\n",
       "         0.01529657,  0.00064797]])"
      ]
     },
     "execution_count": 14,
     "metadata": {},
     "output_type": "execute_result"
    }
   ],
   "source": [
    "#Weights after Perturbation\n",
    "Weight_ap"
   ]
  },
  {
   "cell_type": "code",
   "execution_count": 15,
   "metadata": {},
   "outputs": [],
   "source": [
    "#abs differnce of weights before and after \n",
    "diff_weight = []\n",
    "Weight_bp = Weight_bp.ravel()\n",
    "Weight_ap = Weight_ap.ravel()\n",
    "for i in range(len(Weight_bp)):\n",
    "    diff_weight.append(abs(Weight_bp[i]-Weight_ap[i]))"
   ]
  },
  {
   "cell_type": "code",
   "execution_count": 17,
   "metadata": {},
   "outputs": [
    {
     "name": "stdout",
     "output_type": "stream",
     "text": [
      "max 0.010515558663356295\n",
      "min 1.0760794589648268e-10\n",
      "mean 0.0003665796941435793\n",
      "median 0.00012369827941392103\n",
      "std 0.0005590585279788438\n"
     ]
    }
   ],
   "source": [
    "print('max', max(diff_weight))\n",
    "print('min',min(diff_weight))\n",
    "print('mean',np.mean(diff_weight))\n",
    "print('median',np.median(diff_weight))\n",
    "print('std',np.std(diff_weight))"
   ]
  },
  {
   "cell_type": "markdown",
   "metadata": {},
   "source": [
    "We can observe not much diffence before and after perturbation, so not that much Multicollinear, so we can use weights vectors for feature importance"
   ]
  },
  {
   "cell_type": "code",
   "execution_count": 32,
   "metadata": {},
   "outputs": [],
   "source": [
    "#feature importance\n",
    "idx_neg = np.argsort(Weight_bp)\n",
    "idx_pos = idx_neg[::-1]"
   ]
  },
  {
   "cell_type": "code",
   "execution_count": 33,
   "metadata": {},
   "outputs": [],
   "source": [
    "features = np.array(count_vect.get_feature_names())"
   ]
  },
  {
   "cell_type": "code",
   "execution_count": 35,
   "metadata": {},
   "outputs": [
    {
     "name": "stdout",
     "output_type": "stream",
     "text": [
      "['disappointing' 'worst' 'yuck' 'mediocre' 'disappointment' 'terrible'\n",
      " 'awful' 'undrinkable' 'horrible' 'tasteless' 'flavorless' 'sounded'\n",
      " 'ruined' 'rip' 'overrated' 'threw' 'wheres' 'yuk' 'unacceptable'\n",
      " 'deceptive' 'disappointed' 'lacking' 'ripoff' 'ick' 'ugh' 'cancelled'\n",
      " 'bland' 'sorry' 'disgusting' 'died' 'skip' 'overpriced' 'concept' 'beech'\n",
      " 'unfortunately' 'beware' 'poor' 'worse' 'stale' 'weak' 'unappealing' 'eh'\n",
      " 'useless' 'overpowered' 'disliked' 'inedible' 'worthless' 'returning'\n",
      " 'inconsistent' 'theory']\n"
     ]
    }
   ],
   "source": [
    "#top 50 negative features \n",
    "print(features[idx_neg[0:50]])"
   ]
  },
  {
   "cell_type": "code",
   "execution_count": 36,
   "metadata": {},
   "outputs": [
    {
     "name": "stdout",
     "output_type": "stream",
     "text": [
      "['pleasantly' 'yum' 'excellent' 'delicious' 'hooked' 'yummy' 'skeptical'\n",
      " 'awesome' 'addicting' 'perfect' 'amazing' 'beat' 'addictive' 'pleased'\n",
      " 'fantastic' 'best' 'addicted' 'wonderful' 'refreshing' 'delish' 'great'\n",
      " 'fabulous' 'mm' 'delighted' 'terrific' 'worried' 'highly' 'satisfied'\n",
      " 'resist' 'worry' 'yay' 'glad' 'heaven' 'smooth' 'complaint' 'thank'\n",
      " 'disappoint' 'tasty' 'amazed' 'downside' 'outstanding' 'exceptional'\n",
      " 'unique' 'welcome' 'perfectly' 'dumm' 'hesitate' 'surprisingly' 'happier'\n",
      " 'happy']\n"
     ]
    }
   ],
   "source": [
    "#top 50 positive features \n",
    "print(features[idx_pos[0:50]])"
   ]
  },
  {
   "cell_type": "markdown",
   "metadata": {},
   "source": [
    "### TF-IDF "
   ]
  },
  {
   "cell_type": "code",
   "execution_count": 11,
   "metadata": {},
   "outputs": [],
   "source": [
    "#TFIDF with (1,2) gram with cleaned data \n",
    "#simple cv for train data\n",
    "#tfidf vec \n",
    "tf_idf_vect = TfidfVectorizer(ngram_range=(1,2))\n",
    "X_train = train_df.iloc[:round(train_df.shape[0]*0.70),:]\n",
    "X_test_cv = train_df.iloc[round(train_df.shape[0]*0.70):,:]\n",
    "final_counts_train = tf_idf_vect.fit_transform(\n",
    "        X_train['final_text'].values)\n",
    "#test\n",
    "X_test = tf_idf_vect.transform(X_test_cv['final_text'].values)"
   ]
  },
  {
   "cell_type": "code",
   "execution_count": 54,
   "metadata": {},
   "outputs": [
    {
     "name": "stdout",
     "output_type": "stream",
     "text": [
      "0.0001 Train 0.8600121046378696 CV 0.8293451540352529 No of zeros in Weight vec 0\n",
      "0.0005 Train 0.8600121046378696 CV 0.8293451540352529 No of zeros in Weight vec 0\n",
      "0.0008 Train 0.8600121046378696 CV 0.8293451540352529 No of zeros in Weight vec 0\n",
      "0.001 Train 0.8600121046378696 CV 0.8293451540352529 No of zeros in Weight vec 0\n",
      "0.005 Train 0.8600121046378696 CV 0.8293451540352529 No of zeros in Weight vec 0\n",
      "0.01 Train 0.8600121046378696 CV 0.8293451540352529 No of zeros in Weight vec 0\n",
      "0.1 Train 0.9004897895137971 CV 0.8894685914535279 No of zeros in Weight vec 0\n",
      "1 Train 0.963534778417879 CV 0.9441654898268738 No of zeros in Weight vec 0\n",
      "10 Train 0.9975398444329874 CV 0.9546655159788692 No of zeros in Weight vec 0\n",
      "100 Train 0.9999943960009863 CV 0.9558423557717454 No of zeros in Weight vec 0\n",
      "1000 Train 0.9999943960009863 CV 0.9560254197395261 No of zeros in Weight vec 0\n"
     ]
    }
   ],
   "source": [
    "inv_lamda = [0.0001,0.0005,0.0008,0.001,0.005,0.01, 0.1, 1, 10, 100, 1000]\n",
    "for c in inv_lamda:\n",
    "    model = LogisticRegression(penalty='l2',tol=0.000001,C=c,max_iter=150,n_jobs=-1)\n",
    "    model.fit(final_counts_train,X_train.Score)\n",
    "    #Predicting training data\n",
    "    train_list = model.predict(final_counts_train)\n",
    "    #coeff\n",
    "    no_of_zero = sum(model.coef_.ravel()==0)\n",
    "    #Accuracy score\n",
    "    score_train = accuracy_score(X_train.Score,train_list)\n",
    "    #predict test cv\n",
    "    test_list = model.predict(X_test)\n",
    "    #Accuracy score\n",
    "    score_test = accuracy_score(X_test_cv.Score,test_list)\n",
    "    print(c , 'Train',score_train,'CV',score_test,\n",
    "                    'No of zeros in Weight vec',no_of_zero)"
   ]
  },
  {
   "cell_type": "code",
   "execution_count": 55,
   "metadata": {},
   "outputs": [
    {
     "name": "stdout",
     "output_type": "stream",
     "text": [
      "0.5 Train 0.9488130730088992 CV 0.9355353313457817 No of zeros in Weight vec 0\n",
      "0.8 Train 0.9587993992513058 CV 0.94182488623882 No of zeros in Weight vec 0\n",
      "1.2 Train 0.9669868418103158 CV 0.9457869135415032 No of zeros in Weight vec 0\n",
      "1.8 Train 0.9747427764452713 CV 0.9486374810398034 No of zeros in Weight vec 0\n",
      "2 Train 0.9767097800990787 CV 0.9491866729431455 No of zeros in Weight vec 0\n",
      "4 Train 0.9883268700544708 CV 0.9522726084000209 No of zeros in Weight vec 0\n",
      "6 Train 0.9932976171796194 CV 0.9532402322297191 No of zeros in Weight vec 0\n",
      "8 Train 0.9960940126874538 CV 0.9540901720801297 No of zeros in Weight vec 0\n"
     ]
    }
   ],
   "source": [
    "inv_lamda = [0.5,0.8,1.2,1.8,2,4,6,8]\n",
    "for c in inv_lamda:\n",
    "    model = LogisticRegression(penalty='l2',C=c,max_iter=150,n_jobs=-1)\n",
    "    model.fit(final_counts_train,X_train.Score)\n",
    "    #Predicting training data\n",
    "    train_list = model.predict(final_counts_train)\n",
    "    #coeff\n",
    "    no_of_zero = sum(model.coef_.ravel()==0)\n",
    "    #Accuracy score\n",
    "    score_train = accuracy_score(X_train.Score,train_list)\n",
    "    #predict test cv\n",
    "    test_list = model.predict(X_test)\n",
    "    #Accuracy score\n",
    "    score_test = accuracy_score(X_test_cv.Score,test_list)\n",
    "    print(c , 'Train',score_train,'CV',score_test,\n",
    "                    'No of zeros in Weight vec',no_of_zero)"
   ]
  },
  {
   "cell_type": "code",
   "execution_count": 12,
   "metadata": {},
   "outputs": [
    {
     "name": "stdout",
     "output_type": "stream",
     "text": [
      "with l1 reg\n",
      "0.0001 Train 0.8600121046378696 CV 0.8293451540352529 No of zeros in Weight vec 1826169\n",
      "0.0005 Train 0.8600121046378696 CV 0.8293451540352529 No of zeros in Weight vec 1826169\n",
      "0.0008 Train 0.8600121046378696 CV 0.8293451540352529 No of zeros in Weight vec 1826169\n",
      "0.001 Train 0.8600121046378696 CV 0.8293451540352529 No of zeros in Weight vec 1826169\n",
      "0.005 Train 0.860096164623075 CV 0.8294628380145405 No of zeros in Weight vec 1826166\n",
      "0.01 Train 0.8624722602048822 CV 0.833660233275799 No of zeros in Weight vec 1826159\n",
      "0.1 Train 0.922070789715541 CV 0.9145352790417909 No of zeros in Weight vec 1825947\n",
      "1 Train 0.9561262917217727 CV 0.9489905329776662 No of zeros in Weight vec 1824338\n",
      "10 Train 0.9976855484073435 CV 0.9526910403263769 No of zeros in Weight vec 1810900\n",
      "100 Train 0.9999943960009863 CV 0.9503112087452272 No of zeros in Weight vec 1804811\n",
      "1000 Train 0.9999943960009863 CV 0.952337988388514 No of zeros in Weight vec 1792072\n"
     ]
    }
   ],
   "source": [
    "inv_lamda = [0.0001,0.0005,0.0008,0.001,0.005,0.01, 0.1, 1, 10, 100, 1000]\n",
    "print('with l1 reg')\n",
    "for c in inv_lamda:\n",
    "    model = LogisticRegression(penalty='l1',C=c,max_iter=150,n_jobs=-1)\n",
    "    model.fit(final_counts_train,X_train.Score)\n",
    "    #Predicting training data\n",
    "    train_list = model.predict(final_counts_train)\n",
    "    #coeff\n",
    "    no_of_zero = sum(model.coef_.ravel()==0)\n",
    "    #Accuracy score\n",
    "    score_train = accuracy_score(X_train.Score,train_list)\n",
    "    #predict test cv\n",
    "    test_list = model.predict(X_test)\n",
    "    #Accuracy score\n",
    "    score_test = accuracy_score(X_test_cv.Score,test_list)\n",
    "    print(c , 'Train',score_train,'CV',score_test,\n",
    "                    'No of zeros in Weight vec',no_of_zero)"
   ]
  },
  {
   "cell_type": "code",
   "execution_count": 13,
   "metadata": {},
   "outputs": [
    {
     "name": "stdout",
     "output_type": "stream",
     "text": [
      "with l1 reg\n",
      "0.5 Train 0.9481181771312008 CV 0.9425702181076416 No of zeros in Weight vec 1825181\n",
      "0.8 Train 0.9537389881419381 CV 0.9469245253412836 No of zeros in Weight vec 1824677\n",
      "1.2 Train 0.9580652753805116 CV 0.9505335007061039 No of zeros in Weight vec 1823993\n",
      "1.8 Train 0.9633050144583175 CV 0.9529264082849521 No of zeros in Weight vec 1822818\n",
      "2 Train 0.9646667862186457 CV 0.9534102201998013 No of zeros in Weight vec 1822406\n",
      "4 Train 0.977034812041873 CV 0.9541555520686228 No of zeros in Weight vec 1817877\n",
      "6 Train 0.9870547622783619 CV 0.9531487002458288 No of zeros in Weight vec 1814281\n",
      "8 Train 0.9941494250297012 CV 0.9528871802918563 No of zeros in Weight vec 1812251\n"
     ]
    }
   ],
   "source": [
    "inv_lamda = [0.5,0.8,1.2,1.8,2,4,6,8]\n",
    "print('with l1 reg')\n",
    "for c in inv_lamda:\n",
    "    model = LogisticRegression(penalty='l1',C=c,max_iter=150,n_jobs=-1)\n",
    "    model.fit(final_counts_train,X_train.Score)\n",
    "    #Predicting training data\n",
    "    train_list = model.predict(final_counts_train)\n",
    "    #coeff\n",
    "    no_of_zero = sum(model.coef_.ravel()==0)\n",
    "    #Accuracy score\n",
    "    score_train = accuracy_score(X_train.Score,train_list)\n",
    "    #predict test cv\n",
    "    test_list = model.predict(X_test)\n",
    "    #Accuracy score\n",
    "    score_test = accuracy_score(X_test_cv.Score,test_list)\n",
    "    print(c , 'Train',score_train,'CV',score_test,\n",
    "                    'No of zeros in Weight vec',no_of_zero)"
   ]
  },
  {
   "cell_type": "markdown",
   "metadata": {},
   "source": [
    "it seems to be l2 regularization cv scores are good with low regularization strength but it may overfits the training data.and l1 regulariztion is also giving similar scores as l2 and having maximum zeros i.e sparcity in weight vector. "
   ]
  },
  {
   "cell_type": "code",
   "execution_count": 23,
   "metadata": {},
   "outputs": [],
   "source": [
    "#grid search cv\n",
    "c = [0.0001,0.0005,0.0008,0.001,0.005,0.01, 0.1, 1, 10, 100, 1000,1200,1500,2000,2500,5000]\n",
    "c.extend([0.5,0.8,1.2,1.8,2,4,6,8])\n",
    "c.sort()\n",
    "model_grid_tfidf = GridSearchCV(make_pipeline(TfidfVectorizer(ngram_range=(1,2)),\n",
    "                                    LogisticRegression(max_iter=150,n_jobs=-1)),\n",
    "                             param_grid={'logisticregression__C': c,\n",
    "                                'logisticregression__penalty':['l2','l1']},\n",
    "                            cv=TimeSeriesSplit(n_splits=10),n_jobs=-1)\n",
    "model_grid_tfidf.fit(train_df.final_text,train_df.Score)"
   ]
  },
  {
   "cell_type": "code",
   "execution_count": 30,
   "metadata": {},
   "outputs": [],
   "source": [
    "dict_scores = []\n",
    "idx = 0\n",
    "for i in model_grid_tfidf.grid_scores_:\n",
    "    dict_score = []\n",
    "    dict_score.append(i[0]['logisticregression__penalty'])\n",
    "    dict_score.append(i[0]['logisticregression__C'])\n",
    "    dict_score.append(i[1])\n",
    "    dict_score.append(i[2].std())\n",
    "    dict_score.append(model_grid_tfidf.cv_results_['mean_train_score'][idx])\n",
    "    dict_scores.append(dict_score)\n",
    "    idx = idx + 1\n",
    "scores_df = pd.DataFrame(dict_scores,columns=['penality','C','Test_score',\n",
    "                                              'Test_std','Train_score'])\n",
    "scores_df_l1 = scores_df[scores_df.penality=='l1']\n",
    "scores_df_l2 = scores_df[scores_df.penality=='l2']"
   ]
  },
  {
   "cell_type": "code",
   "execution_count": 35,
   "metadata": {},
   "outputs": [
    {
     "data": {
      "text/html": [
       "<div>\n",
       "<style scoped>\n",
       "    .dataframe tbody tr th:only-of-type {\n",
       "        vertical-align: middle;\n",
       "    }\n",
       "\n",
       "    .dataframe tbody tr th {\n",
       "        vertical-align: top;\n",
       "    }\n",
       "\n",
       "    .dataframe thead th {\n",
       "        text-align: right;\n",
       "    }\n",
       "</style>\n",
       "<table border=\"1\" class=\"dataframe\">\n",
       "  <thead>\n",
       "    <tr style=\"text-align: right;\">\n",
       "      <th></th>\n",
       "      <th>penality</th>\n",
       "      <th>C</th>\n",
       "      <th>Test_score</th>\n",
       "      <th>Test_std</th>\n",
       "      <th>Train_score</th>\n",
       "    </tr>\n",
       "  </thead>\n",
       "  <tbody>\n",
       "    <tr>\n",
       "      <th>46</th>\n",
       "      <td>l2</td>\n",
       "      <td>5000.0</td>\n",
       "      <td>0.952589</td>\n",
       "      <td>0.003968</td>\n",
       "      <td>0.999992</td>\n",
       "    </tr>\n",
       "    <tr>\n",
       "      <th>44</th>\n",
       "      <td>l2</td>\n",
       "      <td>2500.0</td>\n",
       "      <td>0.952524</td>\n",
       "      <td>0.004036</td>\n",
       "      <td>0.999992</td>\n",
       "    </tr>\n",
       "    <tr>\n",
       "      <th>42</th>\n",
       "      <td>l2</td>\n",
       "      <td>2000.0</td>\n",
       "      <td>0.952412</td>\n",
       "      <td>0.003998</td>\n",
       "      <td>0.999991</td>\n",
       "    </tr>\n",
       "    <tr>\n",
       "      <th>40</th>\n",
       "      <td>l2</td>\n",
       "      <td>1500.0</td>\n",
       "      <td>0.952386</td>\n",
       "      <td>0.004088</td>\n",
       "      <td>0.999991</td>\n",
       "    </tr>\n",
       "    <tr>\n",
       "      <th>38</th>\n",
       "      <td>l2</td>\n",
       "      <td>1200.0</td>\n",
       "      <td>0.952317</td>\n",
       "      <td>0.004116</td>\n",
       "      <td>0.999992</td>\n",
       "    </tr>\n",
       "    <tr>\n",
       "      <th>36</th>\n",
       "      <td>l2</td>\n",
       "      <td>1000.0</td>\n",
       "      <td>0.952244</td>\n",
       "      <td>0.004157</td>\n",
       "      <td>0.999992</td>\n",
       "    </tr>\n",
       "    <tr>\n",
       "      <th>34</th>\n",
       "      <td>l2</td>\n",
       "      <td>100.0</td>\n",
       "      <td>0.951856</td>\n",
       "      <td>0.004494</td>\n",
       "      <td>0.999991</td>\n",
       "    </tr>\n",
       "    <tr>\n",
       "      <th>27</th>\n",
       "      <td>l1</td>\n",
       "      <td>4.0</td>\n",
       "      <td>0.951109</td>\n",
       "      <td>0.003841</td>\n",
       "      <td>0.975831</td>\n",
       "    </tr>\n",
       "    <tr>\n",
       "      <th>29</th>\n",
       "      <td>l1</td>\n",
       "      <td>6.0</td>\n",
       "      <td>0.950992</td>\n",
       "      <td>0.003561</td>\n",
       "      <td>0.986530</td>\n",
       "    </tr>\n",
       "    <tr>\n",
       "      <th>31</th>\n",
       "      <td>l1</td>\n",
       "      <td>8.0</td>\n",
       "      <td>0.950332</td>\n",
       "      <td>0.003694</td>\n",
       "      <td>0.993787</td>\n",
       "    </tr>\n",
       "  </tbody>\n",
       "</table>\n",
       "</div>"
      ],
      "text/plain": [
       "   penality       C  Test_score  Test_std  Train_score\n",
       "46       l2  5000.0    0.952589  0.003968     0.999992\n",
       "44       l2  2500.0    0.952524  0.004036     0.999992\n",
       "42       l2  2000.0    0.952412  0.003998     0.999991\n",
       "40       l2  1500.0    0.952386  0.004088     0.999991\n",
       "38       l2  1200.0    0.952317  0.004116     0.999992\n",
       "36       l2  1000.0    0.952244  0.004157     0.999992\n",
       "34       l2   100.0    0.951856  0.004494     0.999991\n",
       "27       l1     4.0    0.951109  0.003841     0.975831\n",
       "29       l1     6.0    0.950992  0.003561     0.986530\n",
       "31       l1     8.0    0.950332  0.003694     0.993787"
      ]
     },
     "execution_count": 35,
     "metadata": {},
     "output_type": "execute_result"
    }
   ],
   "source": [
    "#top 10 scores for gridsearch\n",
    "scores_df.sort_values('Test_score',ascending=False).head(10)"
   ]
  },
  {
   "cell_type": "markdown",
   "metadata": {},
   "source": [
    "it seems like l2 reg is somewhats overfits the traindata than the l1."
   ]
  },
  {
   "cell_type": "code",
   "execution_count": 36,
   "metadata": {},
   "outputs": [
    {
     "data": {
      "text/plain": [
       "<matplotlib.legend.Legend at 0x15507ecc8ef0>"
      ]
     },
     "execution_count": 36,
     "metadata": {},
     "output_type": "execute_result"
    },
    {
     "data": {
      "image/png": "[encoded data removed]",
      "text/plain": [
       "<matplotlib.figure.Figure at 0x15506cb31898>"
      ]
     },
     "metadata": {},
     "output_type": "display_data"
    }
   ],
   "source": [
    "#plotting validation curve\n",
    "plt.figure(figsize=(14,8))\n",
    "plt.plot(scores_df_l1.C,\n",
    "         scores_df_l1.Train_score,label='Train with l1 Reg')\n",
    "plt.plot(scores_df_l1.C,\n",
    "         scores_df_l1.Test_score,label='Test with l1 Reg')\n",
    "plt.plot(scores_df_l2.C,\n",
    "         scores_df_l2.Train_score,label='Train with l2 reg')\n",
    "plt.plot(scores_df_l2.C,\n",
    "         scores_df_l2.Test_score,label='Test with l2 Reg')\n",
    "#plt.xlim(0,5)\n",
    "plt.xlabel('C')\n",
    "plt.ylabel('Score')\n",
    "plt.title('Validation Curve with differnt C for Tf-Idf Representation of text with GridSearch')\n",
    "plt.legend()"
   ]
  },
  {
   "cell_type": "code",
   "execution_count": 38,
   "metadata": {},
   "outputs": [
    {
     "data": {
      "text/plain": [
       "<matplotlib.legend.Legend at 0x155070b45a58>"
      ]
     },
     "execution_count": 38,
     "metadata": {},
     "output_type": "execute_result"
    },
    {
     "data": {
      "image/png": "[encoded data removed]",
      "text/plain": [
       "<matplotlib.figure.Figure at 0x15507a5e3400>"
      ]
     },
     "metadata": {},
     "output_type": "display_data"
    }
   ],
   "source": [
    "#plotting validation curve\n",
    "plt.figure(figsize=(14,8))\n",
    "plt.plot(scores_df_l1.C,\n",
    "         scores_df_l1.Train_score,label='Train with l1 Reg')\n",
    "plt.plot(scores_df_l1.C,\n",
    "         scores_df_l1.Test_score,label='Test with l1 Reg')\n",
    "plt.plot(scores_df_l2.C,\n",
    "         scores_df_l2.Train_score,label='Train with l2 reg')\n",
    "plt.plot(scores_df_l2.C,\n",
    "         scores_df_l2.Test_score,label='Test with l2 Reg')\n",
    "plt.xlim(0,10)\n",
    "plt.xlabel('C')\n",
    "plt.ylabel('Score')\n",
    "plt.title('Validation Curve with differnt C for Tf-Idf Representation of text with GridSearch')\n",
    "plt.legend()"
   ]
  },
  {
   "cell_type": "code",
   "execution_count": 87,
   "metadata": {},
   "outputs": [],
   "source": [
    "#random Search\n",
    "from scipy.stats import uniform\n",
    "model_random_tfidf = RandomizedSearchCV(make_pipeline(TfidfVectorizer(ngram_range=(1,2)),\n",
    "                    LogisticRegression(max_iter=150,n_jobs=-1)),\n",
    "                param_distributions={'logisticregression__C': uniform(loc=0,scale=25),\n",
    "                              'logisticregression__penalty':['l2','l1']}, n_iter=40,\n",
    "                            cv=TimeSeriesSplit(n_splits=10),n_jobs=-1)\n",
    "model_random_tfidf.fit(train_df.final_text,train_df.Score)"
   ]
  },
  {
   "cell_type": "code",
   "execution_count": 89,
   "metadata": {},
   "outputs": [],
   "source": [
    "dict_scores = []\n",
    "idx = 0\n",
    "for i in model_random_tfidf.grid_scores_:\n",
    "    dict_score = []\n",
    "    dict_score.append(i[0]['logisticregression__penalty'])\n",
    "    dict_score.append(i[0]['logisticregression__C'])\n",
    "    dict_score.append(i[1])\n",
    "    dict_score.append(i[2].std())\n",
    "    dict_score.append(model_random_tfidf.cv_results_['mean_train_score'][idx])\n",
    "    dict_scores.append(dict_score)\n",
    "    idx = idx + 1\n",
    "scores_df1 = pd.DataFrame(dict_scores,columns=['penality','C','Test_score',\n",
    "                                               'Test_std','Train_score'])\n",
    "scores_df1_l1 = scores_df1[scores_df1.penality=='l1']\n",
    "scores_df1_l2 = scores_df1[scores_df1.penality=='l2']"
   ]
  },
  {
   "cell_type": "code",
   "execution_count": 90,
   "metadata": {},
   "outputs": [
    {
     "data": {
      "text/html": [
       "<div>\n",
       "<style scoped>\n",
       "    .dataframe tbody tr th:only-of-type {\n",
       "        vertical-align: middle;\n",
       "    }\n",
       "\n",
       "    .dataframe tbody tr th {\n",
       "        vertical-align: top;\n",
       "    }\n",
       "\n",
       "    .dataframe thead th {\n",
       "        text-align: right;\n",
       "    }\n",
       "</style>\n",
       "<table border=\"1\" class=\"dataframe\">\n",
       "  <thead>\n",
       "    <tr style=\"text-align: right;\">\n",
       "      <th></th>\n",
       "      <th>penality</th>\n",
       "      <th>C</th>\n",
       "      <th>Test_score</th>\n",
       "      <th>Test_std</th>\n",
       "      <th>Train_score</th>\n",
       "    </tr>\n",
       "  </thead>\n",
       "  <tbody>\n",
       "    <tr>\n",
       "      <th>2</th>\n",
       "      <td>l1</td>\n",
       "      <td>5.097182</td>\n",
       "      <td>0.951195</td>\n",
       "      <td>0.003519</td>\n",
       "      <td>0.982095</td>\n",
       "    </tr>\n",
       "    <tr>\n",
       "      <th>20</th>\n",
       "      <td>l1</td>\n",
       "      <td>5.475226</td>\n",
       "      <td>0.951152</td>\n",
       "      <td>0.003550</td>\n",
       "      <td>0.983991</td>\n",
       "    </tr>\n",
       "    <tr>\n",
       "      <th>31</th>\n",
       "      <td>l1</td>\n",
       "      <td>5.191613</td>\n",
       "      <td>0.951144</td>\n",
       "      <td>0.003559</td>\n",
       "      <td>0.982574</td>\n",
       "    </tr>\n",
       "    <tr>\n",
       "      <th>26</th>\n",
       "      <td>l2</td>\n",
       "      <td>24.599528</td>\n",
       "      <td>0.951044</td>\n",
       "      <td>0.004904</td>\n",
       "      <td>0.999900</td>\n",
       "    </tr>\n",
       "    <tr>\n",
       "      <th>6</th>\n",
       "      <td>l2</td>\n",
       "      <td>22.814445</td>\n",
       "      <td>0.950997</td>\n",
       "      <td>0.004949</td>\n",
       "      <td>0.999854</td>\n",
       "    </tr>\n",
       "    <tr>\n",
       "      <th>16</th>\n",
       "      <td>l2</td>\n",
       "      <td>22.323668</td>\n",
       "      <td>0.950941</td>\n",
       "      <td>0.004920</td>\n",
       "      <td>0.999839</td>\n",
       "    </tr>\n",
       "    <tr>\n",
       "      <th>37</th>\n",
       "      <td>l1</td>\n",
       "      <td>3.213526</td>\n",
       "      <td>0.950906</td>\n",
       "      <td>0.003933</td>\n",
       "      <td>0.971143</td>\n",
       "    </tr>\n",
       "    <tr>\n",
       "      <th>34</th>\n",
       "      <td>l2</td>\n",
       "      <td>20.536379</td>\n",
       "      <td>0.950867</td>\n",
       "      <td>0.004964</td>\n",
       "      <td>0.999772</td>\n",
       "    </tr>\n",
       "    <tr>\n",
       "      <th>24</th>\n",
       "      <td>l1</td>\n",
       "      <td>6.526549</td>\n",
       "      <td>0.950824</td>\n",
       "      <td>0.003593</td>\n",
       "      <td>0.988665</td>\n",
       "    </tr>\n",
       "    <tr>\n",
       "      <th>29</th>\n",
       "      <td>l2</td>\n",
       "      <td>19.399397</td>\n",
       "      <td>0.950785</td>\n",
       "      <td>0.005013</td>\n",
       "      <td>0.999711</td>\n",
       "    </tr>\n",
       "  </tbody>\n",
       "</table>\n",
       "</div>"
      ],
      "text/plain": [
       "   penality          C  Test_score  Test_std  Train_score\n",
       "2        l1   5.097182    0.951195  0.003519     0.982095\n",
       "20       l1   5.475226    0.951152  0.003550     0.983991\n",
       "31       l1   5.191613    0.951144  0.003559     0.982574\n",
       "26       l2  24.599528    0.951044  0.004904     0.999900\n",
       "6        l2  22.814445    0.950997  0.004949     0.999854\n",
       "16       l2  22.323668    0.950941  0.004920     0.999839\n",
       "37       l1   3.213526    0.950906  0.003933     0.971143\n",
       "34       l2  20.536379    0.950867  0.004964     0.999772\n",
       "24       l1   6.526549    0.950824  0.003593     0.988665\n",
       "29       l2  19.399397    0.950785  0.005013     0.999711"
      ]
     },
     "execution_count": 90,
     "metadata": {},
     "output_type": "execute_result"
    }
   ],
   "source": [
    "#topscores with random search\n",
    "scores_df1.sort_values('Test_score',ascending=False).head(10)"
   ]
  },
  {
   "cell_type": "code",
   "execution_count": 91,
   "metadata": {},
   "outputs": [
    {
     "data": {
      "text/plain": [
       "<matplotlib.legend.Legend at 0x155023465630>"
      ]
     },
     "execution_count": 91,
     "metadata": {},
     "output_type": "execute_result"
    },
    {
     "data": {
      "image/png": "[encoded data removed]",
      "text/plain": [
       "<matplotlib.figure.Figure at 0x15500dc98e10>"
      ]
     },
     "metadata": {},
     "output_type": "display_data"
    }
   ],
   "source": [
    "#plotting validation curve\n",
    "scores_df1_l1.sort_values('C',inplace=True)\n",
    "scores_df1_l2.sort_values('C',inplace=True)\n",
    "plt.figure(figsize=(14,8))\n",
    "plt.plot(scores_df1_l1.C,\n",
    "         scores_df1_l1.Train_score,label='Train with l1 Reg')\n",
    "plt.plot(scores_df1_l1.C,\n",
    "         scores_df1_l1.Test_score,label='Test with l1 Reg')\n",
    "plt.plot(scores_df1_l2.C,\n",
    "         scores_df1_l2.Train_score,label='Train with l2 reg')\n",
    "plt.plot(scores_df1_l2.C,\n",
    "         scores_df1_l2.Test_score,label='Test with l2 Reg')\n",
    "#plt.xlim(0,5)\n",
    "plt.xlabel('C')\n",
    "plt.ylabel('Score')\n",
    "plt.title('Validation Curve with differnt C for Tf-Idf Representation of text with RandomSearch')\n",
    "plt.legend()"
   ]
  },
  {
   "cell_type": "markdown",
   "metadata": {},
   "source": [
    "from above cv scores it seems to be C = 5.0971819632421145 with cv mean score of 0.951195 for l1 and c = 5000 with cv mean score of 0.952589  for l2 reg are good "
   ]
  },
  {
   "cell_type": "code",
   "execution_count": 93,
   "metadata": {},
   "outputs": [
    {
     "name": "stdout",
     "output_type": "stream",
     "text": [
      "L2 Reg Best CV Score\n",
      "C 5000\n",
      "No of Zeros in Weigth Vec 0\n",
      "Train Score 0.9999960772006904\n",
      "Test Score 0.9574740734638585\n",
      "Test Precision 0.9672224285995237\n",
      "Test Recall 0.9817459965399459\n",
      "Test ConfusionMatrix [[16079  3000]\n",
      " [ 1646 88526]]\n"
     ]
    }
   ],
   "source": [
    "##Test scores for L2 reg\n",
    "#Tfidf\n",
    "tfidf_vect = TfidfVectorizer(ngram_range=(1,2))\n",
    "X_train = tfidf_vect.fit_transform(\n",
    "        train_df['final_text'].values)\n",
    "#test\n",
    "X_test = tfidf_vect.transform(test_df['final_text'].values)\n",
    "\n",
    "model_l2 = LogisticRegression(penalty='l2',C=5000,n_jobs=-1)\n",
    "model_l2.fit(X_train,train_df.Score)\n",
    "#Predicting training data\n",
    "train_list = model_l2.predict(X_train)\n",
    "#coeff\n",
    "no_of_zero = sum(model_l2.coef_.ravel()==0)\n",
    "#Accuracy score\n",
    "score_train = accuracy_score(train_df.Score,train_list)\n",
    "#predict test cv\n",
    "test_list = model_l2.predict(X_test)\n",
    "#Accuracy score\n",
    "score_test = accuracy_score(test_df.Score,test_list)\n",
    "#precision\n",
    "test_precision = precision_score(test_df.Score,test_list)\n",
    "#recall\n",
    "test_recall = recall_score(test_df.Score,test_list)\n",
    "#confusion matrix\n",
    "confusion_matrix_test = confusion_matrix(test_df.Score,test_list)\n",
    "print('L2 Reg Best CV Score')\n",
    "print('C' , 5000)\n",
    "print('No of Zeros in Weigth Vec',no_of_zero)\n",
    "print('Train Score', score_train)\n",
    "print('Test Score',score_test)\n",
    "print('Test Precision',test_precision)\n",
    "print('Test Recall',test_recall)\n",
    "print('Test ConfusionMatrix',confusion_matrix_test)"
   ]
  },
  {
   "cell_type": "code",
   "execution_count": 99,
   "metadata": {},
   "outputs": [
    {
     "name": "stdout",
     "output_type": "stream",
     "text": [
      "L1 Reg Best CV Score\n",
      "C 5.0971819632421145\n",
      "No of Zeros in Weigth Vec 2294526\n",
      "Train Score 0.9834457869135415\n",
      "Test Score 0.9561193947881484\n",
      "Test Precision 0.9683584578588199\n",
      "Test Recall 0.9788182584394268\n",
      "Test ConfusionMatrix [[16195  2884]\n",
      " [ 1910 88262]]\n"
     ]
    }
   ],
   "source": [
    "##Test scores for L1 reg\n",
    "model_l1 = LogisticRegression(penalty='l1',C=5.0971819632421145,n_jobs=-1)\n",
    "model_l1.fit(X_train,train_df.Score)\n",
    "#Predicting training data\n",
    "train_list = model_l1.predict(X_train)\n",
    "#coeff\n",
    "no_of_zero = sum(model_l1.coef_.ravel()==0)\n",
    "#Accuracy score\n",
    "score_train = accuracy_score(train_df.Score,train_list)\n",
    "#predict test cv\n",
    "test_list = model_l1.predict(X_test)\n",
    "#Accuracy score\n",
    "score_test = accuracy_score(test_df.Score,test_list)\n",
    "#precision\n",
    "test_precision = precision_score(test_df.Score,test_list)\n",
    "#recall\n",
    "test_recall = recall_score(test_df.Score,test_list)\n",
    "#confusion matrix\n",
    "confusion_matrix_test = confusion_matrix(test_df.Score,test_list)\n",
    "print('L1 Reg Best CV Score')\n",
    "print('C' , 5.0971819632421145)\n",
    "print('No of Zeros in Weigth Vec',no_of_zero)\n",
    "print('Train Score', score_train)\n",
    "print('Test Score',score_test)\n",
    "print('Test Precision',test_precision)\n",
    "print('Test Recall',test_recall)\n",
    "print('Test ConfusionMatrix',confusion_matrix_test)"
   ]
  },
  {
   "cell_type": "markdown",
   "metadata": {},
   "source": [
    "###### Feature importance"
   ]
  },
  {
   "cell_type": "code",
   "execution_count": 15,
   "metadata": {},
   "outputs": [
    {
     "name": "stdout",
     "output_type": "stream",
     "text": [
      "Test Score Befor Perturbation 0.9574740734638585\n",
      "Test Score After Perturbation 0.9575381461039258\n"
     ]
    }
   ],
   "source": [
    "##Perturbation test for Multicollinearity\n",
    "##Test scores for L2 reg\n",
    "#CountVectorizer for BoW\n",
    "from scipy.stats import uniform\n",
    "count_vect = TfidfVectorizer(ngram_range=(1,2),dtype=np.float128)\n",
    "X_train = count_vect.fit_transform(\n",
    "        train_df['final_text'].values)\n",
    "#test\n",
    "X_test = count_vect.transform(test_df['final_text'].values)\n",
    "\n",
    "model_l2_bp = LogisticRegression(penalty='l2',C=5000,n_jobs=-1)\n",
    "model_l2_bp.fit(X_train,train_df.Score)\n",
    "#Predicting training data\n",
    "train_list = model_l2_bp.predict(X_train)\n",
    "#coeff\n",
    "Weight_bp = model_l2_bp.coef_\n",
    "#Accuracy score\n",
    "score_train_bp = accuracy_score(train_df.Score,train_list)\n",
    "#predict test cv\n",
    "test_list = model_l2_bp.predict(X_test)\n",
    "#Accuracy score\n",
    "score_test_bp = accuracy_score(test_df.Score,test_list)\n",
    "\n",
    "X_train1 = X_train.copy()\n",
    "X_train1[X_train1!=0] = uniform.rvs(loc=0,scale=0.01,size=1,random_state=0)\n",
    "X_train_ap = X_train1+X_train\n",
    "#test\n",
    "X_test1 = X_test.copy()\n",
    "X_test1[X_test1!=0] = uniform.rvs(loc=0,scale=0.01,size=1,random_state=0)\n",
    "X_test_ap = X_test1+X_test\n",
    "\n",
    "model_l2_ap = LogisticRegression(penalty='l2',C=5000,n_jobs=-1)\n",
    "model_l2_ap.fit(X_train_ap,train_df.Score)\n",
    "#Predicting training data\n",
    "train_list = model_l2_ap.predict(X_train_ap)\n",
    "#coeff\n",
    "Weight_ap = model_l2_ap.coef_\n",
    "#Accuracy score\n",
    "score_train_ap = accuracy_score(train_df.Score,train_list)\n",
    "#predict test cv\n",
    "test_list = model_l2_ap.predict(X_test_ap)\n",
    "#Accuracy score\n",
    "score_test_ap = accuracy_score(test_df.Score,test_list)\n",
    "\n",
    "print('Test Score Befor Perturbation',score_test_bp)\n",
    "print('Test Score After Perturbation',score_test_ap)"
   ]
  },
  {
   "cell_type": "code",
   "execution_count": 16,
   "metadata": {},
   "outputs": [
    {
     "data": {
      "text/plain": [
       "array([[1.94012741, 1.37505871, 0.0246249 , ..., 0.00397922, 0.00253746,\n",
       "        0.00253746]])"
      ]
     },
     "execution_count": 16,
     "metadata": {},
     "output_type": "execute_result"
    }
   ],
   "source": [
    "#weights before erturbation\n",
    "Weight_bp"
   ]
  },
  {
   "cell_type": "code",
   "execution_count": 17,
   "metadata": {},
   "outputs": [
    {
     "data": {
      "text/plain": [
       "array([[1.6783679 , 1.06450657, 0.02410681, ..., 0.00355471, 0.00212132,\n",
       "        0.00212132]])"
      ]
     },
     "execution_count": 17,
     "metadata": {},
     "output_type": "execute_result"
    }
   ],
   "source": [
    "#weights after perturbation\n",
    "Weight_ap"
   ]
  },
  {
   "cell_type": "code",
   "execution_count": 18,
   "metadata": {},
   "outputs": [],
   "source": [
    "#abs differnce of weights before and after \n",
    "diff_weight = []\n",
    "Weight_bp = Weight_bp.ravel()\n",
    "Weight_ap = Weight_ap.ravel()\n",
    "for i in range(len(Weight_bp)):\n",
    "    diff_weight.append(abs(Weight_bp[i]-Weight_ap[i]))"
   ]
  },
  {
   "cell_type": "code",
   "execution_count": 19,
   "metadata": {},
   "outputs": [
    {
     "name": "stdout",
     "output_type": "stream",
     "text": [
      "max 13.522010334506167\n",
      "min 6.563040082317034e-09\n",
      "mean 0.015819965071510282\n",
      "median 0.0055242442050323325\n",
      "std 0.037071090835323124\n"
     ]
    }
   ],
   "source": [
    "print('max', max(diff_weight))\n",
    "print('min',min(diff_weight))\n",
    "print('mean',np.mean(diff_weight))\n",
    "print('median',np.median(diff_weight))\n",
    "print('std',np.std(diff_weight))"
   ]
  },
  {
   "cell_type": "code",
   "execution_count": 33,
   "metadata": {},
   "outputs": [
    {
     "data": {
      "text/plain": [
       "0.00030836153484355415"
      ]
     },
     "execution_count": 33,
     "metadata": {},
     "output_type": "execute_result"
    }
   ],
   "source": [
    "diff_weight = np.array(diff_weight)\n",
    "sum(diff_weight>0.5)/len(diff_weight)"
   ]
  },
  {
   "cell_type": "code",
   "execution_count": 34,
   "metadata": {},
   "outputs": [
    {
     "data": {
      "text/plain": [
       "0.00011173774717645643"
      ]
     },
     "execution_count": 34,
     "metadata": {},
     "output_type": "execute_result"
    }
   ],
   "source": [
    "sum(diff_weight>1)/len(diff_weight)"
   ]
  },
  {
   "cell_type": "markdown",
   "metadata": {},
   "source": [
    "Sum of them are having high differnce but difference > 0.5 are only 0.03083%. and we may neglect this and consider for feature importance "
   ]
  },
  {
   "cell_type": "code",
   "execution_count": 29,
   "metadata": {},
   "outputs": [],
   "source": [
    "#feature importance\n",
    "idx_neg = np.argsort(Weight_bp)\n",
    "idx_pos = idx_neg[::-1]"
   ]
  },
  {
   "cell_type": "code",
   "execution_count": 30,
   "metadata": {},
   "outputs": [],
   "source": [
    "features = np.array(count_vect.get_feature_names())"
   ]
  },
  {
   "cell_type": "code",
   "execution_count": 31,
   "metadata": {},
   "outputs": [
    {
     "data": {
      "text/plain": [
       "array(['not', 'disappointing', 'not worth', 'two star', 'terrible',\n",
       "       'worst', 'not good', 'disappointed', 'horrible', 'yuck', 'awful',\n",
       "       'disappointment', 'not recommend', 'not very', 'not great',\n",
       "       'wanted like', 'very disappointed', 'not impressed',\n",
       "       'economical bean', 'doesnt work', 'bland', 'tasteless',\n",
       "       'not tasty', 'threw', 'nasty', 'worse', 'unfortunately', 'poor',\n",
       "       'disgusting', 'weak', 'save your', 'stale', 'not buy', 'not happy',\n",
       "       'least favorite', 'just doesnt', 'flavorless', 'didnt work',\n",
       "       'gross', 'ruined', 'sorry', 'mediocre', 'not work', 'beware', 'me',\n",
       "       'return', 'very little', 'dont recommend', 'definitely not', 'bad'],\n",
       "      dtype='<U82')"
      ]
     },
     "execution_count": 31,
     "metadata": {},
     "output_type": "execute_result"
    }
   ],
   "source": [
    "#neg features\n",
    "features[idx_neg[0:50]]"
   ]
  },
  {
   "cell_type": "code",
   "execution_count": 32,
   "metadata": {},
   "outputs": [
    {
     "data": {
      "text/plain": [
       "array(['great', 'delicious', 'good', 'excellent', 'best', 'not bad',\n",
       "       'perfect', 'not disappointed', 'yummy', 'wonderful', 'awesome',\n",
       "       'amazing', 'tasty', 'not too', 'love this', 'love', 'yum',\n",
       "       'fantastic', 'favorite', 'highly recommend', 'nice', 'happy',\n",
       "       'four star', 'not bitter', 'addictive', 'just right', 'just what',\n",
       "       'pleased', 'better than', 'hooked', 'love these', 'loved',\n",
       "       'addicted', 'pleasantly', 'refreshing', 'glad', 'you wont',\n",
       "       'fabulous', 'easy', 'smooth', 'pleasantly surprised',\n",
       "       'even better', 'heaven', 'beat', 'only complaint', 'fun',\n",
       "       'skeptical', 'addicting', 'perfectly', 'love them'], dtype='<U82')"
      ]
     },
     "execution_count": 32,
     "metadata": {},
     "output_type": "execute_result"
    }
   ],
   "source": [
    "#pos features\n",
    "features[idx_pos[0:50]]"
   ]
  },
  {
   "cell_type": "markdown",
   "metadata": {},
   "source": [
    "### Word2Vec"
   ]
  },
  {
   "cell_type": "code",
   "execution_count": 11,
   "metadata": {},
   "outputs": [],
   "source": [
    "#importing\n",
    "from gensim.models import Word2Vec\n",
    "from gensim.models import KeyedVectors\n",
    "import pickle\n",
    "import gensim"
   ]
  },
  {
   "cell_type": "code",
   "execution_count": 12,
   "metadata": {},
   "outputs": [],
   "source": [
    "import gensim\n",
    "list_of_sent=[]\n",
    "for sent in final_review.final_text.values:\n",
    "    list_of_sent.append(sent.split())"
   ]
  },
  {
   "cell_type": "code",
   "execution_count": 39,
   "metadata": {},
   "outputs": [],
   "source": [
    "#word2vec model with 50 dim vector\n",
    "w2v_model_50=gensim.models.Word2Vec(list_of_sent,min_count=5,size=50, workers=8)\n",
    "#word2vec model with 100 dim vector\n",
    "w2v_model_100=gensim.models.Word2Vec(list_of_sent,min_count=5,size=100, workers=8)"
   ]
  },
  {
   "cell_type": "code",
   "execution_count": 62,
   "metadata": {},
   "outputs": [],
   "source": [
    "w2v_model_300=gensim.models.Word2Vec(list_of_sent,min_count=5,size=300, workers=8)"
   ]
  },
  {
   "cell_type": "code",
   "execution_count": 64,
   "metadata": {},
   "outputs": [],
   "source": [
    "#saving to disk\n",
    "pickle.dump(w2v_model_50,open('w2v_model_nb_50.p','wb'))\n",
    "pickle.dump(w2v_model_100,open('w2v_model_nb_100.p','wb'))\n",
    "pickle.dump(w2v_model_300,open('w2v_model_nb_300.p','wb'))"
   ]
  },
  {
   "cell_type": "code",
   "execution_count": 13,
   "metadata": {},
   "outputs": [],
   "source": [
    "#loading from disk\n",
    "w2v_model_100 = pickle.load(open('w2v_model_nb_100.p','rb'))\n",
    "w2v_model_50 = pickle.load(open('w2v_model_nb_50.p','rb'))\n",
    "w2v_model_300 = pickle.load(open('w2v_model_nb_300.p','rb'))"
   ]
  },
  {
   "cell_type": "markdown",
   "metadata": {},
   "source": [
    "### Avg Word2Vec"
   ]
  },
  {
   "cell_type": "code",
   "execution_count": 14,
   "metadata": {},
   "outputs": [],
   "source": [
    "# the avg-w2v for each sentence/review is stored in this list\n",
    "def avg_w2v(list_of_sent,model,d):\n",
    "    '''\n",
    "    Returns average of word vectors for \n",
    "    each sentance with dimension of model given\n",
    "    '''\n",
    "    sent_vectors = []\n",
    "    for sent in list_of_sent: # for each review/sentence\n",
    "        doc = [word for word in sent if word in model.wv.vocab]\n",
    "        if doc:\n",
    "            sent_vec = np.mean(model.wv[doc],axis=0)\n",
    "        else:\n",
    "            sent_vec = np.zeros(d)\n",
    "        sent_vectors.append(sent_vec)\n",
    "    return sent_vectors"
   ]
  },
  {
   "cell_type": "code",
   "execution_count": 92,
   "metadata": {},
   "outputs": [],
   "source": [
    "list_of_sent_train=[]\n",
    "for sent in train_df.final_text.values:\n",
    "    list_of_sent_train.append(sent.split())"
   ]
  },
  {
   "cell_type": "code",
   "execution_count": 93,
   "metadata": {},
   "outputs": [],
   "source": [
    "#avg word2vec for \n",
    "sent_vector_avgw2v_300 = avg_w2v(list_of_sent_train,w2v_model_300,300)"
   ]
  },
  {
   "cell_type": "code",
   "execution_count": 94,
   "metadata": {},
   "outputs": [],
   "source": [
    "#stacking columns\n",
    "train_avgw2v_300 = np.hstack((sent_vector_avgw2v_300,\n",
    "            train_df[['HelpfulnessNumerator','HelpfulnessDenominator','Score']]))\n",
    "column = list(range(0,300))\n",
    "column.extend(['HelpfulnessNumerator','HelpfulnessDenominator','Score'])\n",
    "train_df_avgw2v_300 = pd.DataFrame(train_avgw2v_300,columns=column)"
   ]
  },
  {
   "cell_type": "code",
   "execution_count": 95,
   "metadata": {},
   "outputs": [],
   "source": [
    "#CountVectorizer for BoW\n",
    "X_train = train_df_avgw2v_300.iloc[:round(train_df.shape[0]*0.70),:]\n",
    "X_test_cv = train_df_avgw2v_300.iloc[round(train_df.shape[0]*0.70):,:]\n",
    "scale = StandardScaler()\n",
    "X_train_sc = scale.fit_transform(X_train.drop('Score',axis=1))\n",
    "X_test_cv_sc = scale.transform(X_test_cv.drop('Score',axis=1))"
   ]
  },
  {
   "cell_type": "code",
   "execution_count": 96,
   "metadata": {},
   "outputs": [
    {
     "name": "stdout",
     "output_type": "stream",
     "text": [
      "0.001 Train 0.9389612427428212 CV 0.9316386840315916 No of zeros in Weight vec 0\n",
      "0.01 Train 0.9431866579991481 CV 0.9351953554056175 No of zeros in Weight vec 0\n",
      "0.05 Train 0.9440104458541615 CV 0.9354830273549872 No of zeros in Weight vec 0\n",
      "1 Train 0.9441897738225998 CV 0.9357053193158638 No of zeros in Weight vec 0\n",
      "1.5 Train 0.9441897738225998 CV 0.9356660913227679 No of zeros in Weight vec 0\n",
      "5 Train 0.9441841698235861 CV 0.9357053193158638 No of zeros in Weight vec 0\n",
      "10 Train 0.9442065858196409 CV 0.9356922433181651 No of zeros in Weight vec 0\n",
      "100 Train 0.9441841698235861 CV 0.9357445473089597 No of zeros in Weight vec 0\n",
      "1000 Train 0.9441785658245724 CV 0.9357445473089597 No of zeros in Weight vec 0\n"
     ]
    }
   ],
   "source": [
    "inv_lamda = [0.001,0.01,0.05,1,1.5,5,10,100,1000]\n",
    "for c in inv_lamda:\n",
    "    model = LogisticRegression(penalty='l2',C=c,max_iter=150,n_jobs=-1)\n",
    "    model.fit(X_train_sc,X_train.Score)\n",
    "    #Predicting training data\n",
    "    train_list = model.predict(X_train_sc)\n",
    "    #coeff\n",
    "    no_of_zero = sum(model.coef_.ravel()==0)\n",
    "    #Accuracy score\n",
    "    score_train = accuracy_score(X_train.Score,train_list)\n",
    "    #predict test cv\n",
    "    test_list = model.predict(X_test_cv_sc)\n",
    "    #Accuracy score\n",
    "    score_test = accuracy_score(X_test_cv.Score,test_list)\n",
    "    print(c , 'Train',score_train,'CV',score_test,\n",
    "                    'No of zeros in Weight vec',no_of_zero)"
   ]
  },
  {
   "cell_type": "code",
   "execution_count": 97,
   "metadata": {},
   "outputs": [
    {
     "name": "stdout",
     "output_type": "stream",
     "text": [
      "1 Train 0.9441897738225998 CV 0.9357053193158638 No of zeros in Weight vec 0\n",
      "1.5 Train 0.9441897738225998 CV 0.9356660913227679 No of zeros in Weight vec 0\n",
      "2 Train 0.9441897738225998 CV 0.9356530153250693 No of zeros in Weight vec 0\n",
      "2.5 Train 0.9441897738225998 CV 0.9356660913227679 No of zeros in Weight vec 0\n",
      "3 Train 0.9442009818206272 CV 0.9356922433181651 No of zeros in Weight vec 0\n",
      "3.5 Train 0.9442009818206272 CV 0.9356922433181651 No of zeros in Weight vec 0\n",
      "4 Train 0.9442009818206272 CV 0.9356922433181651 No of zeros in Weight vec 0\n",
      "4.5 Train 0.9442009818206272 CV 0.9356922433181651 No of zeros in Weight vec 0\n",
      "5 Train 0.9441841698235861 CV 0.9357053193158638 No of zeros in Weight vec 0\n",
      "5.5 Train 0.9442009818206272 CV 0.9356922433181651 No of zeros in Weight vec 0\n"
     ]
    }
   ],
   "source": [
    "inv_lamda = [1,1.5,2,2.5,3,3.5,4,4.5,5,5.5]\n",
    "for c in inv_lamda:\n",
    "    model = LogisticRegression(penalty='l2',C=c,max_iter=150,n_jobs=-1)\n",
    "    model.fit(X_train_sc,X_train.Score)\n",
    "    #Predicting training data\n",
    "    train_list = model.predict(X_train_sc)\n",
    "    #coeff\n",
    "    no_of_zero = sum(model.coef_.ravel()==0)\n",
    "    #Accuracy score\n",
    "    score_train = accuracy_score(X_train.Score,train_list)\n",
    "    #predict test cv\n",
    "    test_list = model.predict(X_test_cv_sc)\n",
    "    #Accuracy score\n",
    "    score_test = accuracy_score(X_test_cv.Score,test_list)\n",
    "    print(c , 'Train',score_train,'CV',score_test,\n",
    "                    'No of zeros in Weight vec',no_of_zero)"
   ]
  },
  {
   "cell_type": "code",
   "execution_count": 98,
   "metadata": {},
   "outputs": [
    {
     "name": "stdout",
     "output_type": "stream",
     "text": [
      "0.8 Train 0.9441729618255588 CV 0.9357053193158638 No of zeros in Weight vec 0\n",
      "15 Train 0.9442065858196409 CV 0.9357053193158638 No of zeros in Weight vec 0\n",
      "20 Train 0.9441953778216136 CV 0.9357053193158638 No of zeros in Weight vec 0\n",
      "30 Train 0.9441953778216136 CV 0.9357183953135624 No of zeros in Weight vec 0\n",
      "40 Train 0.9441953778216136 CV 0.935731471311261 No of zeros in Weight vec 0\n",
      "50 Train 0.9441841698235861 CV 0.935731471311261 No of zeros in Weight vec 0\n"
     ]
    }
   ],
   "source": [
    "inv_lamda = [0.8,15,20,30,40,50]\n",
    "for c in inv_lamda:\n",
    "    model = LogisticRegression(penalty='l2',C=c,max_iter=150,n_jobs=-1)\n",
    "    model.fit(X_train_sc,X_train.Score)\n",
    "    #Predicting training data\n",
    "    train_list = model.predict(X_train_sc)\n",
    "    #coeff\n",
    "    no_of_zero = sum(model.coef_.ravel()==0)\n",
    "    #Accuracy score\n",
    "    score_train = accuracy_score(X_train.Score,train_list)\n",
    "    #predict test cv\n",
    "    test_list = model.predict(X_test_cv_sc)\n",
    "    #Accuracy score\n",
    "    score_test = accuracy_score(X_test_cv.Score,test_list)\n",
    "    print(c , 'Train',score_train,'CV',score_test,\n",
    "                    'No of zeros in Weight vec',no_of_zero)"
   ]
  },
  {
   "cell_type": "code",
   "execution_count": 100,
   "metadata": {},
   "outputs": [
    {
     "name": "stdout",
     "output_type": "stream",
     "text": [
      "with l1 reg\n",
      "0.001 Train 0.9218466297549932 CV 0.9093833359485328 No of zeros in Weight vec 212\n",
      "0.01 Train 0.9419705902131761 CV 0.9328416758198651 No of zeros in Weight vec 82\n",
      "0.05 Train 0.9437358499024904 CV 0.9351299754171243 No of zeros in Weight vec 27\n",
      "1 Train 0.9441897738225998 CV 0.9356530153250693 No of zeros in Weight vec 0\n",
      "1.5 Train 0.9441953778216136 CV 0.9356399393273707 No of zeros in Weight vec 1\n",
      "5 Train 0.9441841698235861 CV 0.9357053193158638 No of zeros in Weight vec 0\n",
      "10 Train 0.9441785658245724 CV 0.9356791673204665 No of zeros in Weight vec 0\n",
      "100 Train 0.9441897738225998 CV 0.9357053193158638 No of zeros in Weight vec 0\n",
      "1000 Train 0.9441841698235861 CV 0.9357053193158638 No of zeros in Weight vec 0\n"
     ]
    }
   ],
   "source": [
    "inv_lamda = [0.001,0.01,0.05,1,1.5,5,10,100,1000]\n",
    "print('with l1 reg')\n",
    "for c in inv_lamda:\n",
    "    model = LogisticRegression(penalty='l1',C=c,max_iter=150,n_jobs=-1)\n",
    "    model.fit(X_train_sc,X_train.Score)\n",
    "    #Predicting training data\n",
    "    train_list = model.predict(X_train_sc)\n",
    "    #coeff\n",
    "    no_of_zero = sum(model.coef_.ravel()==0)\n",
    "    #Accuracy score\n",
    "    score_train = accuracy_score(X_train.Score,train_list)\n",
    "    #predict test cv\n",
    "    test_list = model.predict(X_test_cv_sc)\n",
    "    #Accuracy score\n",
    "    score_test = accuracy_score(X_test_cv.Score,test_list)\n",
    "    print(c , 'Train',score_train,'CV',score_test,\n",
    "                    'No of zeros in Weight vec',no_of_zero)"
   ]
  },
  {
   "cell_type": "markdown",
   "metadata": {},
   "source": [
    "We can observe that C between 1 to 10 may give better cv score. and For this data we can observe that for l1 regularization for regularization stregth <1 is not giving any sparse data. "
   ]
  },
  {
   "cell_type": "code",
   "execution_count": 11,
   "metadata": {},
   "outputs": [],
   "source": [
    "#grid Search\n",
    "c = [0.01,0.1,0.5,0.8,1,1.3,1.8,4,5,10,30,50,70,100,1000]\n",
    "c.sort()\n",
    "model_grid_avgw2v = GridSearchCV(make_pipeline(StandardScaler(),\n",
    "                            LogisticRegression(max_iter=150,n_jobs=-1)),\n",
    "                             param_grid={'logisticregression__C': c,\n",
    "                            'logisticregression__penalty':['l2','l1']},\n",
    "                            cv=TimeSeriesSplit(n_splits=10),n_jobs=-1)\n",
    "model_grid_avgw2v.fit(train_df_avgw2v_300.drop('Score',axis=1),train_df_avgw2v_300.Score)"
   ]
  },
  {
   "cell_type": "code",
   "execution_count": 22,
   "metadata": {},
   "outputs": [],
   "source": [
    "dict_scores = []\n",
    "idx = 0\n",
    "for i in model_grid_avgw2v.grid_scores_:\n",
    "    dict_score = []\n",
    "    dict_score.append(i[0]['logisticregression__penalty'])\n",
    "    dict_score.append(i[0]['logisticregression__C'])\n",
    "    dict_score.append(i[1])\n",
    "    dict_score.append(i[2].std())\n",
    "    dict_score.append(model_grid_avgw2v.cv_results_['mean_train_score'][idx])\n",
    "    dict_scores.append(dict_score)\n",
    "    idx = idx + 1\n",
    "scores_df = pd.DataFrame(dict_scores,columns=['penality','C','Test_score',\n",
    "                                              'Test_std','Train_score'])\n",
    "scores_df_l1 = scores_df[scores_df.penality=='l1']\n",
    "scores_df_l2 = scores_df[scores_df.penality=='l2']"
   ]
  },
  {
   "cell_type": "code",
   "execution_count": 23,
   "metadata": {},
   "outputs": [
    {
     "data": {
      "text/html": [
       "<div>\n",
       "<style scoped>\n",
       "    .dataframe tbody tr th:only-of-type {\n",
       "        vertical-align: middle;\n",
       "    }\n",
       "\n",
       "    .dataframe tbody tr th {\n",
       "        vertical-align: top;\n",
       "    }\n",
       "\n",
       "    .dataframe thead th {\n",
       "        text-align: right;\n",
       "    }\n",
       "</style>\n",
       "<table border=\"1\" class=\"dataframe\">\n",
       "  <thead>\n",
       "    <tr style=\"text-align: right;\">\n",
       "      <th></th>\n",
       "      <th>penality</th>\n",
       "      <th>C</th>\n",
       "      <th>Test_score</th>\n",
       "      <th>Test_std</th>\n",
       "      <th>Train_score</th>\n",
       "    </tr>\n",
       "  </thead>\n",
       "  <tbody>\n",
       "    <tr>\n",
       "      <th>14</th>\n",
       "      <td>l2</td>\n",
       "      <td>4.0</td>\n",
       "      <td>0.938125</td>\n",
       "      <td>0.004009</td>\n",
       "      <td>0.947528</td>\n",
       "    </tr>\n",
       "    <tr>\n",
       "      <th>16</th>\n",
       "      <td>l2</td>\n",
       "      <td>5.0</td>\n",
       "      <td>0.938107</td>\n",
       "      <td>0.004017</td>\n",
       "      <td>0.947526</td>\n",
       "    </tr>\n",
       "    <tr>\n",
       "      <th>21</th>\n",
       "      <td>l1</td>\n",
       "      <td>30.0</td>\n",
       "      <td>0.938103</td>\n",
       "      <td>0.004001</td>\n",
       "      <td>0.947534</td>\n",
       "    </tr>\n",
       "    <tr>\n",
       "      <th>10</th>\n",
       "      <td>l2</td>\n",
       "      <td>1.3</td>\n",
       "      <td>0.938103</td>\n",
       "      <td>0.003968</td>\n",
       "      <td>0.947521</td>\n",
       "    </tr>\n",
       "    <tr>\n",
       "      <th>12</th>\n",
       "      <td>l2</td>\n",
       "      <td>1.8</td>\n",
       "      <td>0.938103</td>\n",
       "      <td>0.003987</td>\n",
       "      <td>0.947544</td>\n",
       "    </tr>\n",
       "    <tr>\n",
       "      <th>20</th>\n",
       "      <td>l2</td>\n",
       "      <td>30.0</td>\n",
       "      <td>0.938099</td>\n",
       "      <td>0.004019</td>\n",
       "      <td>0.947524</td>\n",
       "    </tr>\n",
       "    <tr>\n",
       "      <th>19</th>\n",
       "      <td>l1</td>\n",
       "      <td>10.0</td>\n",
       "      <td>0.938099</td>\n",
       "      <td>0.004021</td>\n",
       "      <td>0.947541</td>\n",
       "    </tr>\n",
       "    <tr>\n",
       "      <th>18</th>\n",
       "      <td>l2</td>\n",
       "      <td>10.0</td>\n",
       "      <td>0.938099</td>\n",
       "      <td>0.004010</td>\n",
       "      <td>0.947523</td>\n",
       "    </tr>\n",
       "    <tr>\n",
       "      <th>24</th>\n",
       "      <td>l2</td>\n",
       "      <td>70.0</td>\n",
       "      <td>0.938099</td>\n",
       "      <td>0.004021</td>\n",
       "      <td>0.947526</td>\n",
       "    </tr>\n",
       "    <tr>\n",
       "      <th>29</th>\n",
       "      <td>l1</td>\n",
       "      <td>1000.0</td>\n",
       "      <td>0.938099</td>\n",
       "      <td>0.004041</td>\n",
       "      <td>0.947535</td>\n",
       "    </tr>\n",
       "  </tbody>\n",
       "</table>\n",
       "</div>"
      ],
      "text/plain": [
       "   penality       C  Test_score  Test_std  Train_score\n",
       "14       l2     4.0    0.938125  0.004009     0.947528\n",
       "16       l2     5.0    0.938107  0.004017     0.947526\n",
       "21       l1    30.0    0.938103  0.004001     0.947534\n",
       "10       l2     1.3    0.938103  0.003968     0.947521\n",
       "12       l2     1.8    0.938103  0.003987     0.947544\n",
       "20       l2    30.0    0.938099  0.004019     0.947524\n",
       "19       l1    10.0    0.938099  0.004021     0.947541\n",
       "18       l2    10.0    0.938099  0.004010     0.947523\n",
       "24       l2    70.0    0.938099  0.004021     0.947526\n",
       "29       l1  1000.0    0.938099  0.004041     0.947535"
      ]
     },
     "execution_count": 23,
     "metadata": {},
     "output_type": "execute_result"
    }
   ],
   "source": [
    "#best scores with grid search\n",
    "scores_df.sort_values('Test_score',ascending=False).head(10)"
   ]
  },
  {
   "cell_type": "code",
   "execution_count": 25,
   "metadata": {},
   "outputs": [
    {
     "data": {
      "text/plain": [
       "<matplotlib.legend.Legend at 0x150d30699908>"
      ]
     },
     "execution_count": 25,
     "metadata": {},
     "output_type": "execute_result"
    },
    {
     "data": {
      "image/png": "[encoded data removed]",
      "text/plain": [
       "<matplotlib.figure.Figure at 0x150d3233a630>"
      ]
     },
     "metadata": {},
     "output_type": "display_data"
    }
   ],
   "source": [
    "#plotting validation curve\n",
    "plt.figure(figsize=(14,8))\n",
    "plt.plot(scores_df_l1.C,\n",
    "         scores_df_l1.Train_score,label='Train with l1 Reg')\n",
    "plt.plot(scores_df_l1.C,\n",
    "         scores_df_l1.Test_score,label='Test with l1 Reg')\n",
    "plt.plot(scores_df_l2.C,\n",
    "         scores_df_l2.Train_score,label='Train with l2 reg')\n",
    "plt.plot(scores_df_l2.C,\n",
    "         scores_df_l2.Test_score,label='Test with l2 Reg')\n",
    "plt.xlim(0,10)\n",
    "plt.xlabel('C')\n",
    "plt.ylabel('Score')\n",
    "plt.title('Validation Curve with differnt C for AvgW2V Representation of text with GridSearch')\n",
    "plt.legend()"
   ]
  },
  {
   "cell_type": "code",
   "execution_count": 39,
   "metadata": {},
   "outputs": [],
   "source": [
    "#random Search\n",
    "from scipy.stats import uniform\n",
    "model_random_avgw2v = RandomizedSearchCV(make_pipeline(StandardScaler(),\n",
    "                        LogisticRegression(max_iter=150,n_jobs=-1)), n_iter=40,\n",
    "            param_distributions={'logisticregression__C': uniform(loc=0,scale=8),\n",
    "                        'logisticregression__penalty':['l2','l1']},\n",
    "                            cv=TimeSeriesSplit(n_splits=10),n_jobs=-1)\n",
    "model_random_avgw2v.fit(train_df_avgw2v_300.drop('Score',axis=1),train_df_avgw2v_300.Score)"
   ]
  },
  {
   "cell_type": "code",
   "execution_count": 42,
   "metadata": {},
   "outputs": [],
   "source": [
    "dict_scores = []\n",
    "idx = 0\n",
    "for i in model_random_avgw2v.grid_scores_:\n",
    "    dict_score = []\n",
    "    dict_score.append(i[0]['logisticregression__penalty'])\n",
    "    dict_score.append(i[0]['logisticregression__C'])\n",
    "    dict_score.append(i[1])\n",
    "    dict_score.append(i[2].std())\n",
    "    dict_score.append(model_random_avgw2v.cv_results_['mean_train_score'][idx])\n",
    "    dict_scores.append(dict_score)\n",
    "    idx = idx + 1\n",
    "scores_df1 = pd.DataFrame(dict_scores,columns=['penality','C','Test_score',\n",
    "                                               'Test_std','Train_score'])\n",
    "scores_df1_l1 = scores_df1[scores_df1.penality=='l1']\n",
    "scores_df1_l2 = scores_df1[scores_df1.penality=='l2']"
   ]
  },
  {
   "cell_type": "code",
   "execution_count": 43,
   "metadata": {},
   "outputs": [
    {
     "data": {
      "text/html": [
       "<div>\n",
       "<style scoped>\n",
       "    .dataframe tbody tr th:only-of-type {\n",
       "        vertical-align: middle;\n",
       "    }\n",
       "\n",
       "    .dataframe tbody tr th {\n",
       "        vertical-align: top;\n",
       "    }\n",
       "\n",
       "    .dataframe thead th {\n",
       "        text-align: right;\n",
       "    }\n",
       "</style>\n",
       "<table border=\"1\" class=\"dataframe\">\n",
       "  <thead>\n",
       "    <tr style=\"text-align: right;\">\n",
       "      <th></th>\n",
       "      <th>penality</th>\n",
       "      <th>C</th>\n",
       "      <th>Test_score</th>\n",
       "      <th>Test_std</th>\n",
       "      <th>Train_score</th>\n",
       "    </tr>\n",
       "  </thead>\n",
       "  <tbody>\n",
       "    <tr>\n",
       "      <th>35</th>\n",
       "      <td>l1</td>\n",
       "      <td>6.430775</td>\n",
       "      <td>0.938120</td>\n",
       "      <td>0.004039</td>\n",
       "      <td>0.947535</td>\n",
       "    </tr>\n",
       "    <tr>\n",
       "      <th>8</th>\n",
       "      <td>l1</td>\n",
       "      <td>6.073376</td>\n",
       "      <td>0.938116</td>\n",
       "      <td>0.004036</td>\n",
       "      <td>0.947536</td>\n",
       "    </tr>\n",
       "    <tr>\n",
       "      <th>33</th>\n",
       "      <td>l2</td>\n",
       "      <td>4.382682</td>\n",
       "      <td>0.938116</td>\n",
       "      <td>0.004014</td>\n",
       "      <td>0.947524</td>\n",
       "    </tr>\n",
       "    <tr>\n",
       "      <th>31</th>\n",
       "      <td>l2</td>\n",
       "      <td>4.327571</td>\n",
       "      <td>0.938116</td>\n",
       "      <td>0.004012</td>\n",
       "      <td>0.947530</td>\n",
       "    </tr>\n",
       "    <tr>\n",
       "      <th>0</th>\n",
       "      <td>l2</td>\n",
       "      <td>2.590684</td>\n",
       "      <td>0.938112</td>\n",
       "      <td>0.004005</td>\n",
       "      <td>0.947532</td>\n",
       "    </tr>\n",
       "    <tr>\n",
       "      <th>18</th>\n",
       "      <td>l2</td>\n",
       "      <td>2.374378</td>\n",
       "      <td>0.938112</td>\n",
       "      <td>0.004005</td>\n",
       "      <td>0.947537</td>\n",
       "    </tr>\n",
       "    <tr>\n",
       "      <th>14</th>\n",
       "      <td>l1</td>\n",
       "      <td>6.050058</td>\n",
       "      <td>0.938112</td>\n",
       "      <td>0.004034</td>\n",
       "      <td>0.947531</td>\n",
       "    </tr>\n",
       "    <tr>\n",
       "      <th>39</th>\n",
       "      <td>l2</td>\n",
       "      <td>4.583649</td>\n",
       "      <td>0.938112</td>\n",
       "      <td>0.004017</td>\n",
       "      <td>0.947524</td>\n",
       "    </tr>\n",
       "    <tr>\n",
       "      <th>37</th>\n",
       "      <td>l2</td>\n",
       "      <td>2.087359</td>\n",
       "      <td>0.938107</td>\n",
       "      <td>0.003996</td>\n",
       "      <td>0.947543</td>\n",
       "    </tr>\n",
       "    <tr>\n",
       "      <th>28</th>\n",
       "      <td>l1</td>\n",
       "      <td>6.312730</td>\n",
       "      <td>0.938107</td>\n",
       "      <td>0.004033</td>\n",
       "      <td>0.947528</td>\n",
       "    </tr>\n",
       "  </tbody>\n",
       "</table>\n",
       "</div>"
      ],
      "text/plain": [
       "   penality         C  Test_score  Test_std  Train_score\n",
       "35       l1  6.430775    0.938120  0.004039     0.947535\n",
       "8        l1  6.073376    0.938116  0.004036     0.947536\n",
       "33       l2  4.382682    0.938116  0.004014     0.947524\n",
       "31       l2  4.327571    0.938116  0.004012     0.947530\n",
       "0        l2  2.590684    0.938112  0.004005     0.947532\n",
       "18       l2  2.374378    0.938112  0.004005     0.947537\n",
       "14       l1  6.050058    0.938112  0.004034     0.947531\n",
       "39       l2  4.583649    0.938112  0.004017     0.947524\n",
       "37       l2  2.087359    0.938107  0.003996     0.947543\n",
       "28       l1  6.312730    0.938107  0.004033     0.947528"
      ]
     },
     "execution_count": 43,
     "metadata": {},
     "output_type": "execute_result"
    }
   ],
   "source": [
    "#best score wit random search\n",
    "scores_df1.sort_values('Test_score',ascending=False).head(10)"
   ]
  },
  {
   "cell_type": "code",
   "execution_count": 44,
   "metadata": {},
   "outputs": [
    {
     "data": {
      "text/plain": [
       "<matplotlib.legend.Legend at 0x150d2d0b1d68>"
      ]
     },
     "execution_count": 44,
     "metadata": {},
     "output_type": "execute_result"
    },
    {
     "data": {
      "image/png": "[encoded data removed]",
      "text/plain": [
       "<matplotlib.figure.Figure at 0x150d314d31d0>"
      ]
     },
     "metadata": {},
     "output_type": "display_data"
    }
   ],
   "source": [
    "#plotting validation curve\n",
    "scores_df1_l1.sort_values('C',inplace=True)\n",
    "scores_df1_l2.sort_values('C',inplace=True)\n",
    "plt.figure(figsize=(14,8))\n",
    "plt.plot(scores_df1_l1.C,\n",
    "         scores_df1_l1.Train_score,label='Train with l1 Reg')\n",
    "plt.plot(scores_df1_l1.C,\n",
    "         scores_df1_l1.Test_score,label='Test with l1 Reg')\n",
    "plt.plot(scores_df1_l2.C,\n",
    "         scores_df1_l2.Train_score,label='Train with l2 reg')\n",
    "plt.plot(scores_df1_l2.C,\n",
    "         scores_df1_l2.Test_score,label='Test with l2 Reg')\n",
    "#plt.xlim(0,5)\n",
    "plt.xlabel('C')\n",
    "plt.ylabel('Score')\n",
    "plt.title('Validation Curve with differnt C for AvgW2V Representation of text with RandomSearch')\n",
    "plt.legend()"
   ]
  },
  {
   "cell_type": "markdown",
   "metadata": {},
   "source": [
    "From 10 fold CV we can infer that, best cv score for L2 reg is at C = 4 with mean cv score of 0.938125. Best cv score for l1 reg is at C = 6.430775 with cv mean score of 0.938120"
   ]
  },
  {
   "cell_type": "code",
   "execution_count": 48,
   "metadata": {},
   "outputs": [],
   "source": [
    "list_of_sent_train=[]\n",
    "for sent in train_df.final_text.values:\n",
    "    list_of_sent_train.append(sent.split())\n",
    "vector_avgw2v_300_train = avg_w2v(list_of_sent_train,w2v_model_300,300)\n",
    "\n",
    "list_of_sent_test=[]\n",
    "for sent in test_df.final_text.values:\n",
    "    list_of_sent_test.append(sent.split())\n",
    "vector_avgw2v_300_test = avg_w2v(list_of_sent_test,w2v_model_300,300)\n",
    "\n",
    "#stacking columns for train\n",
    "train_avgw2v_300 = np.hstack((vector_avgw2v_300_train,\n",
    "            train_df[['HelpfulnessNumerator','HelpfulnessDenominator','Score']]))\n",
    "column = list(range(0,300))\n",
    "column.extend(['HelpfulnessNumerator','HelpfulnessDenominator','Score'])\n",
    "train_df_avgw2v  = pd.DataFrame(train_avgw2v_300,columns=column)\n",
    "\n",
    "#stacking columns for test\n",
    "test_avgw2v_300 = np.hstack((vector_avgw2v_300_test,\n",
    "            test_df[['HelpfulnessNumerator','HelpfulnessDenominator','Score']]))\n",
    "column = list(range(0,300))\n",
    "column.extend(['HelpfulnessNumerator','HelpfulnessDenominator','Score'])\n",
    "test_df_avgw2v  = pd.DataFrame(test_avgw2v_300,columns=column)\n",
    "\n",
    "#scaling\n",
    "scale = StandardScaler()\n",
    "X_train = scale.fit_transform(train_df_avgw2v.drop('Score',axis=1))\n",
    "X_test = scale.transform(test_df_avgw2v.drop('Score',axis=1))"
   ]
  },
  {
   "cell_type": "code",
   "execution_count": 50,
   "metadata": {},
   "outputs": [
    {
     "name": "stdout",
     "output_type": "stream",
     "text": [
      "L2 Reg Best CV Score\n",
      "C 4\n",
      "No of Zeros in Weigth Vec 0\n",
      "Train Score 0.942566295308332\n",
      "Test Score 0.9299319914691856\n",
      "Test Precision 0.9389902644038942\n",
      "Test Recall 0.9786962693519052\n",
      "Test ConfusionMatrix [[13345  5734]\n",
      " [ 1921 88251]]\n"
     ]
    }
   ],
   "source": [
    "##Test scores for L2 reg\n",
    "model_l2 = LogisticRegression(penalty='l2',C=4,n_jobs=-1)\n",
    "model_l2.fit(X_train,train_df_avgw2v.Score)\n",
    "#Predicting training data\n",
    "train_list = model_l2.predict(X_train)\n",
    "#coeff\n",
    "no_of_zero = sum(model_l2.coef_.ravel()==0)\n",
    "#Accuracy score\n",
    "score_train = accuracy_score(train_df_avgw2v.Score,train_list)\n",
    "#predict test cv\n",
    "test_list = model_l2.predict(X_test)\n",
    "#Accuracy score\n",
    "score_test = accuracy_score(test_df_avgw2v.Score,test_list)\n",
    "#precision\n",
    "test_precision = precision_score(test_df_avgw2v.Score,test_list)\n",
    "#recall\n",
    "test_recall = recall_score(test_df_avgw2v.Score,test_list)\n",
    "#confusion matrix\n",
    "confusion_matrix_test = confusion_matrix(test_df_avgw2v.Score,test_list)\n",
    "print('L2 Reg Best CV Score')\n",
    "print('C' , 4)\n",
    "print('No of Zeros in Weigth Vec',no_of_zero)\n",
    "print('Train Score', score_train)\n",
    "print('Test Score',score_test)\n",
    "print('Test Precision',test_precision)\n",
    "print('Test Recall',test_recall)\n",
    "print('Test ConfusionMatrix',confusion_matrix_test)"
   ]
  },
  {
   "cell_type": "code",
   "execution_count": 51,
   "metadata": {},
   "outputs": [
    {
     "name": "stdout",
     "output_type": "stream",
     "text": [
      "L1 Reg Best CV Score\n",
      "C 6.430775\n",
      "No of Zeros in Weigth Vec 0\n",
      "Train Score 0.9425584497097128\n",
      "Test Score 0.9298221526576416\n",
      "Test Precision 0.9389170842776129\n",
      "Test Recall 0.9786408197666682\n",
      "Test ConfusionMatrix [[13338  5741]\n",
      " [ 1926 88246]]\n"
     ]
    }
   ],
   "source": [
    "##Test scores for L1 reg\n",
    "model_l1 = LogisticRegression(penalty='l1',C=6.430775,n_jobs=-1)\n",
    "model_l1.fit(X_train,train_df_avgw2v.Score)\n",
    "#Predicting training data\n",
    "train_list = model_l1.predict(X_train)\n",
    "#coeff\n",
    "no_of_zero = sum(model_l1.coef_.ravel()==0)\n",
    "#Accuracy score\n",
    "score_train = accuracy_score(train_df_avgw2v.Score,train_list)\n",
    "#predict test cv\n",
    "test_list = model_l1.predict(X_test)\n",
    "#Accuracy score\n",
    "score_test = accuracy_score(test_df_avgw2v.Score,test_list)\n",
    "#precision\n",
    "test_precision = precision_score(test_df_avgw2v.Score,test_list)\n",
    "#recall\n",
    "test_recall = recall_score(test_df_avgw2v.Score,test_list)\n",
    "#confusion matrix\n",
    "confusion_matrix_test = confusion_matrix(test_df_avgw2v.Score,test_list)\n",
    "print('L1 Reg Best CV Score')\n",
    "print('C' , 6.430775)\n",
    "print('No of Zeros in Weigth Vec',no_of_zero)\n",
    "print('Train Score', score_train)\n",
    "print('Test Score',score_test)\n",
    "print('Test Precision',test_precision)\n",
    "print('Test Recall',test_recall)\n",
    "print('Test ConfusionMatrix',confusion_matrix_test)"
   ]
  },
  {
   "cell_type": "markdown",
   "metadata": {},
   "source": [
    "#### Tf-Idf Weighted Word2Vec"
   ]
  },
  {
   "cell_type": "code",
   "execution_count": 49,
   "metadata": {},
   "outputs": [],
   "source": [
    "import gensim\n",
    "list_of_sent=[]\n",
    "for sent in final_review.final_text.values:\n",
    "    list_of_sent.append(sent.split())"
   ]
  },
  {
   "cell_type": "code",
   "execution_count": 50,
   "metadata": {},
   "outputs": [],
   "source": [
    "#tf-idf\n",
    "tf_idf_vect = TfidfVectorizer(ngram_range=(1,1))\n",
    "final_tf_idf = tf_idf_vect.fit_transform(final_review.final_text.values)"
   ]
  },
  {
   "cell_type": "code",
   "execution_count": 24,
   "metadata": {},
   "outputs": [],
   "source": [
    "from sklearn.base import BaseEstimator, TransformerMixin\n",
    "\n",
    "class TfidfWeightedWord2Vec(BaseEstimator, TransformerMixin):\n",
    "    '''\n",
    "    Class for Tfidf Weighted Word2Vec Calculations\n",
    "    '''\n",
    "    def __init__(self, word2vec):\n",
    "        self.word2vec = word2vec\n",
    "        self.word2weight = None\n",
    "        self.dim = word2vec.vector_size\n",
    "        self.tfidf = None\n",
    "\n",
    "    def fit(self, X, y=None):\n",
    "        tfidf = TfidfVectorizer()\n",
    "        tfidf.fit(X[:,0])\n",
    "        self.tfidf = tfidf\n",
    "        #print(self.word2vec.wv.vocab.keys())\n",
    "        return self\n",
    "    \n",
    "    def tf_idf_W2V(self,feature_names,tf_idf_trans_arr,list_of_sent):\n",
    "        '''\n",
    "        tfidf weighted word2vec calculation\n",
    "        '''\n",
    "        import operator\n",
    "        dict_tfidf = {k: v for v, k in enumerate(feature_names)}\n",
    "        sent_vectors = []\n",
    "        i = 0\n",
    "        for sent in list_of_sent: # for each review/sentence\n",
    "            doc = [word for word in sent if word in self.word2vec.wv.vocab.keys()]\n",
    "            if doc:\n",
    "                #itemgetter\n",
    "                f = operator.itemgetter(*doc)\n",
    "                try:\n",
    "                    #itemgetter from dict\n",
    "                    final = f(dict_tfidf)\n",
    "                    final = tf_idf_trans_arr[i,final]\n",
    "                    #converting to dense\n",
    "                    final = final.toarray()\n",
    "                    #converting to diagnol matrix for multiplication\n",
    "                    final= np.diag(final[0])\n",
    "                    sent_vec = np.dot(final,np.array(self.word2vec.wv[doc]))\n",
    "                    #tfidf weighted word to vec\n",
    "                    sent_vec = np.sum(sent_vec,axis=0) / np.sum(final)\n",
    "                except:\n",
    "                    sent_vec = np.zeros(self.dim)             \n",
    "            else:\n",
    "                sent_vec = np.zeros(self.dim)\n",
    "            sent_vectors.append(sent_vec)\n",
    "            i = i+1\n",
    "        return sent_vectors\n",
    "\n",
    "    def transform(self, X):\n",
    "        #transform data\n",
    "        tf_idf_trans_arr = self.tfidf.transform(X[:,0])\n",
    "        feature_names = self.tfidf.get_feature_names()\n",
    "        list_of_sent = []\n",
    "        for sent in X[:,0]:\n",
    "            list_of_sent.append(sent.split())\n",
    "        temp_vec = self.tf_idf_W2V(feature_names,tf_idf_trans_arr,list_of_sent)\n",
    "        temp_vec= np.hstack((temp_vec,X[:,[1,2]]))\n",
    "        return temp_vec"
   ]
  },
  {
   "cell_type": "code",
   "execution_count": 55,
   "metadata": {},
   "outputs": [],
   "source": [
    "#instance of class above for testing\n",
    "tfidfvect_w2v = TfidfWeightedWord2Vec(w2v_model_300)"
   ]
  },
  {
   "cell_type": "code",
   "execution_count": 56,
   "metadata": {},
   "outputs": [
    {
     "data": {
      "text/plain": [
       "TfidfWeightedWord2Vec(word2vec=<gensim.models.word2vec.Word2Vec object at 0x150ca3b8de80>)"
      ]
     },
     "execution_count": 56,
     "metadata": {},
     "output_type": "execute_result"
    }
   ],
   "source": [
    "tfidfvect_w2v.fit(final_review[['final_text','HelpfulnessNumerator',\n",
    "                                'HelpfulnessDenominator']].values)"
   ]
  },
  {
   "cell_type": "code",
   "execution_count": 57,
   "metadata": {},
   "outputs": [],
   "source": [
    "x_trans = tfidfvect_w2v.transform(final_review[['final_text',\n",
    "                        'HelpfulnessNumerator','HelpfulnessDenominator']].values)"
   ]
  },
  {
   "cell_type": "code",
   "execution_count": 60,
   "metadata": {},
   "outputs": [
    {
     "data": {
      "text/plain": [
       "302"
      ]
     },
     "execution_count": 60,
     "metadata": {},
     "output_type": "execute_result"
    }
   ],
   "source": [
    "len(x_trans[0])"
   ]
  },
  {
   "cell_type": "code",
   "execution_count": 18,
   "metadata": {},
   "outputs": [],
   "source": [
    "# For simple cv\n",
    "#Train data\n",
    "X_train = train_df.iloc[:round(train_df.shape[0]*0.70),:]\n",
    "X_test_cv = train_df.iloc[round(train_df.shape[0]*0.70):,:]\n",
    "#transforming to tfidf weighted word2vec\n",
    "tfidfvect_w2v = TfidfWeightedWord2Vec(w2v_model_300)\n",
    "tfidfvect_w2v.fit(X_train[['final_text','HelpfulnessNumerator',\n",
    "                           'HelpfulnessDenominator']].values)\n",
    "X_train_tfw2v = tfidfvect_w2v.transform(X_train[['final_text',\n",
    "                'HelpfulnessNumerator','HelpfulnessDenominator']].values)\n",
    "X_cv_tfw2v = tfidfvect_w2v.transform(X_test_cv[['final_text',\n",
    "                 'HelpfulnessNumerator','HelpfulnessDenominator']].values)"
   ]
  },
  {
   "cell_type": "code",
   "execution_count": 19,
   "metadata": {},
   "outputs": [],
   "source": [
    "#scaling the data\n",
    "scale = StandardScaler()\n",
    "X_train_sc = scale.fit_transform(X_train_tfw2v)\n",
    "X_test_cv_sc = scale.transform(X_cv_tfw2v)"
   ]
  },
  {
   "cell_type": "code",
   "execution_count": 69,
   "metadata": {},
   "outputs": [
    {
     "name": "stdout",
     "output_type": "stream",
     "text": [
      "With l2 reg\n",
      "0.001 Train 0.9189773822599807 CV 0.9030153250693028 No of zeros in Weight vec 0\n",
      "0.01 Train 0.9249736612046356 CV 0.9083895601234374 No of zeros in Weight vec 0\n",
      "0.05 Train 0.926425096949183 CV 0.9091218159945604 No of zeros in Weight vec 0\n",
      "1 Train 0.9266996929008541 CV 0.9094356399393274 No of zeros in Weight vec 0\n",
      "1.5 Train 0.9267052968998677 CV 0.9094356399393274 No of zeros in Weight vec 0\n",
      "5 Train 0.9267277128959225 CV 0.9094617919347247 No of zeros in Weight vec 0\n",
      "10 Train 0.9267221088969089 CV 0.9094617919347247 No of zeros in Weight vec 0\n",
      "100 Train 0.9267221088969089 CV 0.9094748679324233 No of zeros in Weight vec 0\n",
      "1000 Train 0.9267221088969089 CV 0.9094748679324233 No of zeros in Weight vec 0\n"
     ]
    }
   ],
   "source": [
    "inv_lamda = [0.001,0.01,0.05,1,1.5,5,10,100,1000]\n",
    "print('With l2 reg')\n",
    "for c in inv_lamda:\n",
    "    model = LogisticRegression(penalty='l2',C=c,max_iter=150,n_jobs=-1)\n",
    "    model.fit(X_train_sc,X_train.Score)\n",
    "    #Predicting training data\n",
    "    train_list = model.predict(X_train_sc)\n",
    "    #coeff\n",
    "    no_of_zero = sum(model.coef_.ravel()==0)\n",
    "    #Accuracy score\n",
    "    score_train = accuracy_score(X_train.Score,train_list)\n",
    "    #predict test cv\n",
    "    test_list = model.predict(X_test_cv_sc)\n",
    "    #Accuracy score\n",
    "    score_test = accuracy_score(X_test_cv.Score,test_list)\n",
    "    print(c , 'Train',score_train,'CV',score_test,\n",
    "                    'No of zeros in Weight vec',no_of_zero)"
   ]
  },
  {
   "cell_type": "code",
   "execution_count": 70,
   "metadata": {},
   "outputs": [
    {
     "name": "stdout",
     "output_type": "stream",
     "text": [
      "With l2 reg\n",
      "3 Train 0.9267277128959225 CV 0.9094617919347247 No of zeros in Weight vec 0\n",
      "5 Train 0.9267277128959225 CV 0.9094617919347247 No of zeros in Weight vec 0\n",
      "10 Train 0.9267221088969089 CV 0.9094617919347247 No of zeros in Weight vec 0\n",
      "20 Train 0.9267221088969089 CV 0.9094617919347247 No of zeros in Weight vec 0\n",
      "30 Train 0.9267277128959225 CV 0.9094748679324233 No of zeros in Weight vec 0\n",
      "50 Train 0.9267221088969089 CV 0.9094748679324233 No of zeros in Weight vec 0\n",
      "70 Train 0.9267277128959225 CV 0.9094748679324233 No of zeros in Weight vec 0\n",
      "100 Train 0.9267221088969089 CV 0.9094748679324233 No of zeros in Weight vec 0\n",
      "500 Train 0.9267277128959225 CV 0.9094748679324233 No of zeros in Weight vec 0\n",
      "1000 Train 0.9267221088969089 CV 0.9094748679324233 No of zeros in Weight vec 0\n"
     ]
    }
   ],
   "source": [
    "inv_lamda = [3,5,10,20,30,50,70,100,500,1000]\n",
    "print('With l2 reg')\n",
    "for c in inv_lamda:\n",
    "    model = LogisticRegression(penalty='l2',C=c,max_iter=150,n_jobs=-1)\n",
    "    model.fit(X_train_sc,X_train.Score)\n",
    "    #Predicting training data\n",
    "    train_list = model.predict(X_train_sc)\n",
    "    #coeff\n",
    "    no_of_zero = sum(model.coef_.ravel()==0)\n",
    "    #Accuracy score\n",
    "    score_train = accuracy_score(X_train.Score,train_list)\n",
    "    #predict test cv\n",
    "    test_list = model.predict(X_test_cv_sc)\n",
    "    #Accuracy score\n",
    "    score_test = accuracy_score(X_test_cv.Score,test_list)\n",
    "    print(c , 'Train',score_train,'CV',score_test,\n",
    "                    'No of zeros in Weight vec',no_of_zero)"
   ]
  },
  {
   "cell_type": "code",
   "execution_count": 20,
   "metadata": {},
   "outputs": [
    {
     "name": "stdout",
     "output_type": "stream",
     "text": [
      "With l1 reg\n",
      "0.001 Train 0.9049561767277129 CV 0.8835320884983524 No of zeros in Weight vec 211\n",
      "0.01 Train 0.9241498733496223 CV 0.906454312464041 No of zeros in Weight vec 85\n",
      "0.05 Train 0.9263634529600323 CV 0.9091479679899577 No of zeros in Weight vec 19\n",
      "1 Train 0.9266604649077582 CV 0.9093702599508342 No of zeros in Weight vec 2\n",
      "1.5 Train 0.9266884849028266 CV 0.9093964119462314 No of zeros in Weight vec 2\n",
      "5 Train 0.926682880903813 CV 0.9094225639416288 No of zeros in Weight vec 0\n",
      "10 Train 0.9266996929008541 CV 0.9094225639416288 No of zeros in Weight vec 0\n",
      "100 Train 0.9267165048978951 CV 0.909448715937026 No of zeros in Weight vec 0\n",
      "1000 Train 0.9267277128959225 CV 0.9094617919347247 No of zeros in Weight vec 0\n"
     ]
    }
   ],
   "source": [
    "inv_lamda = [0.001,0.01,0.05,1,1.5,5,10,100,1000]\n",
    "print('With l1 reg')\n",
    "for c in inv_lamda:\n",
    "    model = LogisticRegression(penalty='l1',C=c,max_iter=150,n_jobs=-1)\n",
    "    model.fit(X_train_sc,X_train.Score)\n",
    "    #Predicting training data\n",
    "    train_list = model.predict(X_train_sc)\n",
    "    #coeff\n",
    "    no_of_zero = sum(model.coef_.ravel()==0)\n",
    "    #Accuracy score\n",
    "    score_train = accuracy_score(X_train.Score,train_list)\n",
    "    #predict test cv\n",
    "    test_list = model.predict(X_test_cv_sc)\n",
    "    #Accuracy score\n",
    "    score_test = accuracy_score(X_test_cv.Score,test_list)\n",
    "    print(c , 'Train',score_train,'CV',score_test,\n",
    "                    'No of zeros in Weight vec',no_of_zero)"
   ]
  },
  {
   "cell_type": "code",
   "execution_count": 21,
   "metadata": {},
   "outputs": [
    {
     "name": "stdout",
     "output_type": "stream",
     "text": [
      "With l1 reg\n",
      "0.5 Train 0.9266156329156486 CV 0.9093179559600397 No of zeros in Weight vec 3\n",
      "0.8 Train 0.9266380489117034 CV 0.9093310319577383 No of zeros in Weight vec 2\n",
      "3 Train 0.926682880903813 CV 0.9094094879439302 No of zeros in Weight vec 0\n",
      "5 Train 0.926682880903813 CV 0.9094225639416288 No of zeros in Weight vec 0\n",
      "10 Train 0.9267052968998677 CV 0.9094225639416288 No of zeros in Weight vec 0\n",
      "20 Train 0.9267052968998677 CV 0.9094356399393274 No of zeros in Weight vec 0\n",
      "30 Train 0.9267052968998677 CV 0.9094356399393274 No of zeros in Weight vec 0\n",
      "50 Train 0.9267052968998677 CV 0.909448715937026 No of zeros in Weight vec 0\n",
      "70 Train 0.9267221088969089 CV 0.909448715937026 No of zeros in Weight vec 0\n",
      "100 Train 0.9267052968998677 CV 0.909448715937026 No of zeros in Weight vec 0\n",
      "500 Train 0.9267165048978951 CV 0.9094356399393274 No of zeros in Weight vec 0\n",
      "1000 Train 0.9267109008988814 CV 0.909448715937026 No of zeros in Weight vec 0\n"
     ]
    }
   ],
   "source": [
    "inv_lamda = [0.5,0.8,3,5,10,20,30,50,70,100,500,1000]\n",
    "print('With l1 reg')\n",
    "for c in inv_lamda:\n",
    "    model = LogisticRegression(penalty='l1',C=c,max_iter=150,n_jobs=-1)\n",
    "    model.fit(X_train_sc,X_train.Score)\n",
    "    #Predicting training data\n",
    "    train_list = model.predict(X_train_sc)\n",
    "    #coeff\n",
    "    no_of_zero = sum(model.coef_.ravel()==0)\n",
    "    #Accuracy score\n",
    "    score_train = accuracy_score(X_train.Score,train_list)\n",
    "    #predict test cv\n",
    "    test_list = model.predict(X_test_cv_sc)\n",
    "    #Accuracy score\n",
    "    score_test = accuracy_score(X_test_cv.Score,test_list)\n",
    "    print(c , 'Train',score_train,'CV',score_test,\n",
    "                    'No of zeros in Weight vec',no_of_zero)"
   ]
  },
  {
   "cell_type": "code",
   "execution_count": 52,
   "metadata": {},
   "outputs": [],
   "source": [
    "c = [0.01, 0.1, 1, 10, 100,1000,2500]\n",
    "c.extend([0.5,0.8,1.3,1.8,4,6,8])\n",
    "c.sort()\n",
    "model_grid_tfidfw2v = GridSearchCV(make_pipeline(TfidfWeightedWord2Vec(w2v_model_300),\n",
    "                        StandardScaler(),LogisticRegression(max_iter=150,n_jobs=-1)),\n",
    "                        param_grid={'logisticregression__C': c,\n",
    "                            'logisticregression__penalty':['l2','l1']},\n",
    "                            cv=TimeSeriesSplit(n_splits=10),n_jobs=-1)\n",
    "model_grid_tfidfw2v.fit(train_df[['final_text','HelpfulnessNumerator',\n",
    "                                  'HelpfulnessDenominator']].values,train_df.Score)"
   ]
  },
  {
   "cell_type": "code",
   "execution_count": 55,
   "metadata": {},
   "outputs": [],
   "source": [
    "dict_scores = []\n",
    "idx = 0\n",
    "for i in model_grid_tfidfw2v.grid_scores_:\n",
    "    dict_score = []\n",
    "    dict_score.append(i[0]['logisticregression__penalty'])\n",
    "    dict_score.append(i[0]['logisticregression__C'])\n",
    "    dict_score.append(i[1])\n",
    "    dict_score.append(i[2].std())\n",
    "    dict_score.append(model_grid_tfidfw2v.cv_results_['mean_train_score'][idx])\n",
    "    dict_scores.append(dict_score)\n",
    "    idx = idx + 1\n",
    "scores_df = pd.DataFrame(dict_scores,columns=['penality','C','Test_score',\n",
    "                                              'Test_std','Train_score'])\n",
    "scores_df_l1 = scores_df[scores_df.penality=='l1']\n",
    "scores_df_l2 = scores_df[scores_df.penality=='l2']"
   ]
  },
  {
   "cell_type": "code",
   "execution_count": 62,
   "metadata": {},
   "outputs": [
    {
     "data": {
      "text/html": [
       "<div>\n",
       "<style scoped>\n",
       "    .dataframe tbody tr th:only-of-type {\n",
       "        vertical-align: middle;\n",
       "    }\n",
       "\n",
       "    .dataframe tbody tr th {\n",
       "        vertical-align: top;\n",
       "    }\n",
       "\n",
       "    .dataframe thead th {\n",
       "        text-align: right;\n",
       "    }\n",
       "</style>\n",
       "<table border=\"1\" class=\"dataframe\">\n",
       "  <thead>\n",
       "    <tr style=\"text-align: right;\">\n",
       "      <th></th>\n",
       "      <th>penality</th>\n",
       "      <th>C</th>\n",
       "      <th>Test_score</th>\n",
       "      <th>Test_std</th>\n",
       "      <th>Train_score</th>\n",
       "    </tr>\n",
       "  </thead>\n",
       "  <tbody>\n",
       "    <tr>\n",
       "      <th>14</th>\n",
       "      <td>l2</td>\n",
       "      <td>4.0</td>\n",
       "      <td>0.914779</td>\n",
       "      <td>0.006225</td>\n",
       "      <td>0.931710</td>\n",
       "    </tr>\n",
       "    <tr>\n",
       "      <th>20</th>\n",
       "      <td>l2</td>\n",
       "      <td>10.0</td>\n",
       "      <td>0.914779</td>\n",
       "      <td>0.006234</td>\n",
       "      <td>0.931718</td>\n",
       "    </tr>\n",
       "    <tr>\n",
       "      <th>18</th>\n",
       "      <td>l2</td>\n",
       "      <td>8.0</td>\n",
       "      <td>0.914779</td>\n",
       "      <td>0.006234</td>\n",
       "      <td>0.931717</td>\n",
       "    </tr>\n",
       "    <tr>\n",
       "      <th>16</th>\n",
       "      <td>l2</td>\n",
       "      <td>6.0</td>\n",
       "      <td>0.914775</td>\n",
       "      <td>0.006225</td>\n",
       "      <td>0.931712</td>\n",
       "    </tr>\n",
       "    <tr>\n",
       "      <th>26</th>\n",
       "      <td>l2</td>\n",
       "      <td>2500.0</td>\n",
       "      <td>0.914771</td>\n",
       "      <td>0.006217</td>\n",
       "      <td>0.931728</td>\n",
       "    </tr>\n",
       "    <tr>\n",
       "      <th>24</th>\n",
       "      <td>l2</td>\n",
       "      <td>1000.0</td>\n",
       "      <td>0.914771</td>\n",
       "      <td>0.006217</td>\n",
       "      <td>0.931729</td>\n",
       "    </tr>\n",
       "    <tr>\n",
       "      <th>22</th>\n",
       "      <td>l2</td>\n",
       "      <td>100.0</td>\n",
       "      <td>0.914771</td>\n",
       "      <td>0.006217</td>\n",
       "      <td>0.931728</td>\n",
       "    </tr>\n",
       "    <tr>\n",
       "      <th>25</th>\n",
       "      <td>l1</td>\n",
       "      <td>1000.0</td>\n",
       "      <td>0.914767</td>\n",
       "      <td>0.006228</td>\n",
       "      <td>0.931708</td>\n",
       "    </tr>\n",
       "    <tr>\n",
       "      <th>23</th>\n",
       "      <td>l1</td>\n",
       "      <td>100.0</td>\n",
       "      <td>0.914767</td>\n",
       "      <td>0.006228</td>\n",
       "      <td>0.931712</td>\n",
       "    </tr>\n",
       "    <tr>\n",
       "      <th>21</th>\n",
       "      <td>l1</td>\n",
       "      <td>10.0</td>\n",
       "      <td>0.914762</td>\n",
       "      <td>0.006211</td>\n",
       "      <td>0.931701</td>\n",
       "    </tr>\n",
       "  </tbody>\n",
       "</table>\n",
       "</div>"
      ],
      "text/plain": [
       "   penality       C  Test_score  Test_std  Train_score\n",
       "14       l2     4.0    0.914779  0.006225     0.931710\n",
       "20       l2    10.0    0.914779  0.006234     0.931718\n",
       "18       l2     8.0    0.914779  0.006234     0.931717\n",
       "16       l2     6.0    0.914775  0.006225     0.931712\n",
       "26       l2  2500.0    0.914771  0.006217     0.931728\n",
       "24       l2  1000.0    0.914771  0.006217     0.931729\n",
       "22       l2   100.0    0.914771  0.006217     0.931728\n",
       "25       l1  1000.0    0.914767  0.006228     0.931708\n",
       "23       l1   100.0    0.914767  0.006228     0.931712\n",
       "21       l1    10.0    0.914762  0.006211     0.931701"
      ]
     },
     "execution_count": 62,
     "metadata": {},
     "output_type": "execute_result"
    }
   ],
   "source": [
    "#top scores\n",
    "scores_df.sort_values('Test_score',ascending=False).head(10)"
   ]
  },
  {
   "cell_type": "code",
   "execution_count": 63,
   "metadata": {},
   "outputs": [
    {
     "data": {
      "text/html": [
       "<div>\n",
       "<style scoped>\n",
       "    .dataframe tbody tr th:only-of-type {\n",
       "        vertical-align: middle;\n",
       "    }\n",
       "\n",
       "    .dataframe tbody tr th {\n",
       "        vertical-align: top;\n",
       "    }\n",
       "\n",
       "    .dataframe thead th {\n",
       "        text-align: right;\n",
       "    }\n",
       "</style>\n",
       "<table border=\"1\" class=\"dataframe\">\n",
       "  <thead>\n",
       "    <tr style=\"text-align: right;\">\n",
       "      <th></th>\n",
       "      <th>penality</th>\n",
       "      <th>C</th>\n",
       "      <th>Test_score</th>\n",
       "      <th>Test_std</th>\n",
       "      <th>Train_score</th>\n",
       "    </tr>\n",
       "  </thead>\n",
       "  <tbody>\n",
       "    <tr>\n",
       "      <th>23</th>\n",
       "      <td>l1</td>\n",
       "      <td>100.0</td>\n",
       "      <td>0.914767</td>\n",
       "      <td>0.006228</td>\n",
       "      <td>0.931712</td>\n",
       "    </tr>\n",
       "    <tr>\n",
       "      <th>25</th>\n",
       "      <td>l1</td>\n",
       "      <td>1000.0</td>\n",
       "      <td>0.914767</td>\n",
       "      <td>0.006228</td>\n",
       "      <td>0.931708</td>\n",
       "    </tr>\n",
       "    <tr>\n",
       "      <th>21</th>\n",
       "      <td>l1</td>\n",
       "      <td>10.0</td>\n",
       "      <td>0.914762</td>\n",
       "      <td>0.006211</td>\n",
       "      <td>0.931701</td>\n",
       "    </tr>\n",
       "    <tr>\n",
       "      <th>27</th>\n",
       "      <td>l1</td>\n",
       "      <td>2500.0</td>\n",
       "      <td>0.914762</td>\n",
       "      <td>0.006219</td>\n",
       "      <td>0.931708</td>\n",
       "    </tr>\n",
       "    <tr>\n",
       "      <th>5</th>\n",
       "      <td>l1</td>\n",
       "      <td>0.5</td>\n",
       "      <td>0.914758</td>\n",
       "      <td>0.006326</td>\n",
       "      <td>0.931644</td>\n",
       "    </tr>\n",
       "  </tbody>\n",
       "</table>\n",
       "</div>"
      ],
      "text/plain": [
       "   penality       C  Test_score  Test_std  Train_score\n",
       "23       l1   100.0    0.914767  0.006228     0.931712\n",
       "25       l1  1000.0    0.914767  0.006228     0.931708\n",
       "21       l1    10.0    0.914762  0.006211     0.931701\n",
       "27       l1  2500.0    0.914762  0.006219     0.931708\n",
       "5        l1     0.5    0.914758  0.006326     0.931644"
      ]
     },
     "execution_count": 63,
     "metadata": {},
     "output_type": "execute_result"
    }
   ],
   "source": [
    "#best scores with l1 reg\n",
    "scores_df_l1.sort_values('Test_score',ascending=False).head(5)"
   ]
  },
  {
   "cell_type": "code",
   "execution_count": 59,
   "metadata": {},
   "outputs": [
    {
     "data": {
      "text/plain": [
       "<matplotlib.legend.Legend at 0x1543d9960b00>"
      ]
     },
     "execution_count": 59,
     "metadata": {},
     "output_type": "execute_result"
    },
    {
     "data": {
      "image/png": "[encoded data removed]",
      "text/plain": [
       "<matplotlib.figure.Figure at 0x1544b1389a90>"
      ]
     },
     "metadata": {},
     "output_type": "display_data"
    }
   ],
   "source": [
    "#plotting validation curve\n",
    "plt.figure(figsize=(14,8))\n",
    "plt.plot(scores_df_l1.C,\n",
    "         scores_df_l1.Train_score,label='Train with l1 Reg')\n",
    "plt.plot(scores_df_l1.C,\n",
    "         scores_df_l1.Test_score,label='Test with l1 Reg')\n",
    "plt.plot(scores_df_l2.C,\n",
    "         scores_df_l2.Train_score,label='Train with l2 reg')\n",
    "plt.plot(scores_df_l2.C,\n",
    "         scores_df_l2.Test_score,label='Test with l2 Reg')\n",
    "plt.xlim(0,10)\n",
    "plt.xlabel('C')\n",
    "plt.ylabel('Score')\n",
    "plt.title('Validation Curve with differnt C for Tf-IdfW2v Representation of text with GridSearch')\n",
    "plt.legend()"
   ]
  },
  {
   "cell_type": "code",
   "execution_count": 25,
   "metadata": {},
   "outputs": [],
   "source": [
    "model_random_tfidfw2v = RandomizedSearchCV(\n",
    "               make_pipeline(TfidfWeightedWord2Vec(w2v_model_300),StandardScaler(),\n",
    "                LogisticRegression(max_iter=150,n_jobs=-1)),\n",
    "                param_distributions={'logisticregression__C': uniform(loc=0,scale=5),\n",
    "                'logisticregression__penalty':['l2','l1']},n_iter=10,\n",
    "                            cv=TimeSeriesSplit(n_splits=10),n_jobs=-1)\n",
    "model_random_tfidfw2v.fit(train_df[['final_text','HelpfulnessNumerator',\n",
    "                                'HelpfulnessDenominator']].values,train_df.Score)"
   ]
  },
  {
   "cell_type": "code",
   "execution_count": 29,
   "metadata": {},
   "outputs": [],
   "source": [
    "dict_scores = []\n",
    "idx = 0\n",
    "for i in model_random_tfidfw2v.grid_scores_:\n",
    "    dict_score = []\n",
    "    dict_score.append(i[0]['logisticregression__penalty'])\n",
    "    dict_score.append(i[0]['logisticregression__C'])\n",
    "    dict_score.append(i[1])\n",
    "    dict_score.append(i[2].std())\n",
    "    dict_score.append(model_random_tfidfw2v.cv_results_['mean_train_score'][idx])\n",
    "    dict_scores.append(dict_score)\n",
    "    idx = idx + 1\n",
    "scores_df1 = pd.DataFrame(dict_scores,columns=['penality','C','Test_score',\n",
    "                                               'Test_std','Train_score'])\n",
    "scores_df1_l1 = scores_df1[scores_df1.penality=='l1']\n",
    "scores_df1_l2 = scores_df1[scores_df1.penality=='l2']"
   ]
  },
  {
   "cell_type": "code",
   "execution_count": 32,
   "metadata": {},
   "outputs": [
    {
     "data": {
      "text/html": [
       "<div>\n",
       "<style scoped>\n",
       "    .dataframe tbody tr th:only-of-type {\n",
       "        vertical-align: middle;\n",
       "    }\n",
       "\n",
       "    .dataframe tbody tr th {\n",
       "        vertical-align: top;\n",
       "    }\n",
       "\n",
       "    .dataframe thead th {\n",
       "        text-align: right;\n",
       "    }\n",
       "</style>\n",
       "<table border=\"1\" class=\"dataframe\">\n",
       "  <thead>\n",
       "    <tr style=\"text-align: right;\">\n",
       "      <th></th>\n",
       "      <th>penality</th>\n",
       "      <th>C</th>\n",
       "      <th>Test_score</th>\n",
       "      <th>Test_std</th>\n",
       "      <th>Train_score</th>\n",
       "    </tr>\n",
       "  </thead>\n",
       "  <tbody>\n",
       "    <tr>\n",
       "      <th>5</th>\n",
       "      <td>l2</td>\n",
       "      <td>3.987496</td>\n",
       "      <td>0.914775</td>\n",
       "      <td>0.006225</td>\n",
       "      <td>0.931711</td>\n",
       "    </tr>\n",
       "    <tr>\n",
       "      <th>4</th>\n",
       "      <td>l1</td>\n",
       "      <td>3.928565</td>\n",
       "      <td>0.914767</td>\n",
       "      <td>0.006225</td>\n",
       "      <td>0.931691</td>\n",
       "    </tr>\n",
       "    <tr>\n",
       "      <th>1</th>\n",
       "      <td>l1</td>\n",
       "      <td>4.062778</td>\n",
       "      <td>0.914762</td>\n",
       "      <td>0.006227</td>\n",
       "      <td>0.931695</td>\n",
       "    </tr>\n",
       "    <tr>\n",
       "      <th>3</th>\n",
       "      <td>l2</td>\n",
       "      <td>3.222559</td>\n",
       "      <td>0.914762</td>\n",
       "      <td>0.006220</td>\n",
       "      <td>0.931706</td>\n",
       "    </tr>\n",
       "    <tr>\n",
       "      <th>7</th>\n",
       "      <td>l1</td>\n",
       "      <td>4.517030</td>\n",
       "      <td>0.914762</td>\n",
       "      <td>0.006215</td>\n",
       "      <td>0.931686</td>\n",
       "    </tr>\n",
       "  </tbody>\n",
       "</table>\n",
       "</div>"
      ],
      "text/plain": [
       "  penality         C  Test_score  Test_std  Train_score\n",
       "5       l2  3.987496    0.914775  0.006225     0.931711\n",
       "4       l1  3.928565    0.914767  0.006225     0.931691\n",
       "1       l1  4.062778    0.914762  0.006227     0.931695\n",
       "3       l2  3.222559    0.914762  0.006220     0.931706\n",
       "7       l1  4.517030    0.914762  0.006215     0.931686"
      ]
     },
     "execution_count": 32,
     "metadata": {},
     "output_type": "execute_result"
    }
   ],
   "source": [
    "scores_df1.sort_values('Test_score',ascending=False).head(5)"
   ]
  },
  {
   "cell_type": "code",
   "execution_count": 30,
   "metadata": {},
   "outputs": [
    {
     "data": {
      "text/plain": [
       "<matplotlib.legend.Legend at 0x15527b573828>"
      ]
     },
     "execution_count": 30,
     "metadata": {},
     "output_type": "execute_result"
    },
    {
     "data": {
      "image/png": "[encoded data removed]",
      "text/plain": [
       "<matplotlib.figure.Figure at 0x15527b11def0>"
      ]
     },
     "metadata": {},
     "output_type": "display_data"
    }
   ],
   "source": [
    "#plotting validation curve\n",
    "scores_df1_l1.sort_values('C',inplace=True)\n",
    "scores_df1_l2.sort_values('C',inplace=True)\n",
    "plt.figure(figsize=(14,8))\n",
    "plt.plot(scores_df1_l1.C,\n",
    "         scores_df1_l1.Train_score,label='Train with l1 Reg')\n",
    "plt.plot(scores_df1_l1.C,\n",
    "         scores_df1_l1.Test_score,label='Test with l1 Reg')\n",
    "plt.plot(scores_df1_l2.C,\n",
    "         scores_df1_l2.Train_score,label='Train with l2 reg')\n",
    "plt.plot(scores_df1_l2.C,\n",
    "         scores_df1_l2.Test_score,label='Test with l2 Reg')\n",
    "#plt.xlim(0,5)\n",
    "plt.xlabel('C')\n",
    "plt.ylabel('Score')\n",
    "plt.title('Validation Curve with differnt C for Tf-IdfW2V Representation of text with RandomSearch')\n",
    "plt.legend()"
   ]
  },
  {
   "cell_type": "markdown",
   "metadata": {},
   "source": [
    "Best cv score for l2 reg is at C  = 4.0\tand mean cv score for 10 fold cv is 0.914779. Best cv score for l1 reg is at C = 3.987496 and mean cv score for 10 fold cv is 0.914775"
   ]
  },
  {
   "cell_type": "code",
   "execution_count": 39,
   "metadata": {},
   "outputs": [],
   "source": [
    "w2v_model_300 = pickle.load(open('w2v_model_nb_300.p','rb'))\n",
    "# For simple cv\n",
    "#transforming to tfidf weighted word2vec\n",
    "tfidfvect_w2v = TfidfWeightedWord2Vec(w2v_model_300)\n",
    "tfidfvect_w2v.fit(train_df[['final_text','HelpfulnessNumerator',\n",
    "                            'HelpfulnessDenominator']].values)\n",
    "X_train_tfw2v = tfidfvect_w2v.transform(train_df[['final_text',\n",
    "                'HelpfulnessNumerator','HelpfulnessDenominator']].values)\n",
    "X_cv_tfw2v = tfidfvect_w2v.transform(test_df[['final_text',\n",
    "                'HelpfulnessNumerator','HelpfulnessDenominator']].values)\n",
    "scale = StandardScaler()\n",
    "X_train = scale.fit_transform(X_train_tfw2v)\n",
    "X_test = scale.transform(X_cv_tfw2v)"
   ]
  },
  {
   "cell_type": "code",
   "execution_count": 40,
   "metadata": {},
   "outputs": [
    {
     "name": "stdout",
     "output_type": "stream",
     "text": [
      "L2 Reg Best CV Score\n",
      "C 4\n",
      "No of Zeros in Weigth Vec 0\n",
      "Train Score 0.9233445786913541\n",
      "Test Score 0.9028933373607564\n",
      "Test Precision 0.9079191575320693\n",
      "Test Recall 0.981934525129752\n",
      "Test ConfusionMatrix [[10099  8980]\n",
      " [ 1629 88543]]\n"
     ]
    }
   ],
   "source": [
    "##Test scores for L2 reg\n",
    "model_l2 = LogisticRegression(penalty='l2',C=4,n_jobs=-1)\n",
    "model_l2.fit(X_train,train_df.Score)\n",
    "#Predicting training data\n",
    "train_list = model_l2.predict(X_train)\n",
    "#coeff\n",
    "no_of_zero = sum(model_l2.coef_.ravel()==0)\n",
    "#Accuracy score\n",
    "score_train = accuracy_score(train_df.Score,train_list)\n",
    "#predict test cv\n",
    "test_list = model_l2.predict(X_test)\n",
    "#Accuracy score\n",
    "score_test = accuracy_score(test_df.Score,test_list)\n",
    "#precision\n",
    "test_precision = precision_score(test_df.Score,test_list)\n",
    "#recall\n",
    "test_recall = recall_score(test_df.Score,test_list)\n",
    "#confusion matrix\n",
    "confusion_matrix_test = confusion_matrix(test_df.Score,test_list)\n",
    "print('L2 Reg Best CV Score')\n",
    "print('C' , 4)\n",
    "print('No of Zeros in Weigth Vec',no_of_zero)\n",
    "print('Train Score', score_train)\n",
    "print('Test Score',score_test)\n",
    "print('Test Precision',test_precision)\n",
    "print('Test Recall',test_recall)\n",
    "print('Test ConfusionMatrix',confusion_matrix_test)"
   ]
  },
  {
   "cell_type": "code",
   "execution_count": 41,
   "metadata": {},
   "outputs": [
    {
     "name": "stdout",
     "output_type": "stream",
     "text": [
      "L1 Reg Best CV Score\n",
      "C 3.987496\n",
      "No of Zeros in Weigth Vec 0\n",
      "Train Score 0.9233406558920446\n",
      "Test Score 0.9028475711892797\n",
      "Test Precision 0.9078809753296557\n",
      "Test Recall 0.9819234352127046\n",
      "Test ConfusionMatrix [[10095  8984]\n",
      " [ 1630 88542]]\n"
     ]
    }
   ],
   "source": [
    "##Test scores for L2 reg\n",
    "model_l1 = LogisticRegression(penalty='l1',C=3.987496,n_jobs=-1)\n",
    "model_l1.fit(X_train,train_df.Score)\n",
    "#Predicting training data\n",
    "train_list = model_l1.predict(X_train)\n",
    "#coeff\n",
    "no_of_zero = sum(model_l1.coef_.ravel()==0)\n",
    "#Accuracy score\n",
    "score_train = accuracy_score(train_df.Score,train_list)\n",
    "#predict test cv\n",
    "test_list = model_l1.predict(X_test)\n",
    "#Accuracy score\n",
    "score_test = accuracy_score(test_df.Score,test_list)\n",
    "#precision\n",
    "test_precision = precision_score(test_df.Score,test_list)\n",
    "#recall\n",
    "test_recall = recall_score(test_df.Score,test_list)\n",
    "#confusion matrix\n",
    "confusion_matrix_test = confusion_matrix(test_df.Score,test_list)\n",
    "print('L1 Reg Best CV Score')\n",
    "print('C' , 3.987496)\n",
    "print('No of Zeros in Weigth Vec',no_of_zero)\n",
    "print('Train Score', score_train)\n",
    "print('Test Score',score_test)\n",
    "print('Test Precision',test_precision)\n",
    "print('Test Recall',test_recall)\n",
    "print('Test ConfusionMatrix',confusion_matrix_test)"
   ]
  },
  {
   "cell_type": "markdown",
   "metadata": {},
   "source": [
    "#### Conclusions :  \n",
    "1.  For BoW representation with l2 reg, got best cv score at C = 0.18 and mean cv score is 0.937680.\n",
    "    * Train Score `0.9559822689471207` \n",
    "    * Test Score `0.938087523226332`\n",
    "    * Test Precision `0.9520758807588076`\n",
    "    * Test Recall `0.9740163243578938`\n",
    "    * No of Zeros in Weigth Vec `0`\n",
    "    * Test ConfusionMatrix\n",
    "   \\begin{equation}\n",
    "   \\begin{bmatrix}\n",
    "    & 14658 & 4421 &  \\\\\n",
    "    & 2343 & 87829 & \n",
    "  \\end{bmatrix}\n",
    "  \\end{equation}\n",
    "<br>\n",
    "2. For BoW representation with l1 reg, got best score at C = 0.5204774795512048 and cv mean score is 0.937149\n",
    "    *  Train Score `0.9544759140122391`\n",
    "    *  Test Score `0.9373918774198863`\n",
    "    *  Test Precision `0.9522031690905144`\n",
    "    *  Test Recall `0.9729849620724838`\n",
    "    *  No of Zeros in Weigth Vec `51928`\n",
    "    *  Test ConfusionMatrix\n",
    "    \\begin{equation}\n",
    "    \\begin{bmatrix}\n",
    "    & 14675 & 4404 &  \\\\\n",
    "    & 2436 & 87736 & \n",
    "    \\end{bmatrix}\n",
    "    \\end{equation}\n",
    "<br>\n",
    "3. For Tf-Idf representation with l2 reg, got best score at c = 5000 with cv mean score of 0.952589\n",
    "    *  Train Score `0.9999960772006904`\n",
    "    *  Test Score `0.9574740734638585`\n",
    "    *  Test Precision `0.9672224285995237`\n",
    "    *  Test Recall `0.9817459965399459`\n",
    "    *  No of Zeros in Weigth Vec `0`\n",
    "    *  Test ConfusionMatrix\n",
    "    \\begin{equation}\n",
    "    \\begin{bmatrix}\n",
    "    & 16079 & 3000 &  \\\\\n",
    "    & 1626 & 88526 & \n",
    "    \\end{bmatrix}\n",
    "    \\end{equation}\n",
    "<br>\n",
    "4. For Tf-Idf representation with l1 reg, got best score at C = 5.0971819632421145 with cv mean score of 0.951195\n",
    "    *  Train Score `0.9834457869135415`\n",
    "    *  Test Score `0.9561193947881484`\n",
    "    *  Test Precision `0.9683584578588199`\n",
    "    *  Test Recall `0.9788182584394268`\n",
    "    *  No of Zeros in Weigth Vec `2294526`\n",
    "    *  Test ConfusionMatrix\n",
    "    \\begin{equation}\n",
    "    \\begin{bmatrix}\n",
    "    & 16195 & 2884 &  \\\\\n",
    "    & 1910 & 88262 & \n",
    "    \\end{bmatrix}\n",
    "    \\end{equation}\n",
    "<br>\n",
    "5. For AvgW2V representation with l2 reg, got best score at C = 4 with mean cv score of 0.938125\n",
    "    *  Train Score `0.942566295308332`\n",
    "    *  Test Score `0.9299319914691856`\n",
    "    *  Test Precision `0.9389902644038942`\n",
    "    *  Test Recall `0.9786962693519052`\n",
    "    *  No of Zeros in Weigth Vec `0`\n",
    "    *  Test ConfusionMatrix\n",
    "    \\begin{equation}\n",
    "    \\begin{bmatrix}\n",
    "    & 13345 & 5734 &  \\\\\n",
    "    & 1921 & 88251 & \n",
    "    \\end{bmatrix}\n",
    "    \\end{equation}\n",
    "<br>\n",
    "6. For AvgW2V  representation with l1 reg, got best score at C = 6.430775 with cv mean score of 0.938120\n",
    "    *  Train Score `0.9425584497097128`\n",
    "    *  Test Score `0.9298221526576416`\n",
    "    *  Test Precision `0.9389170842776129`\n",
    "    *  Test Recall `0.9786408197666682`\n",
    "    *  No of Zeros in Weigth Vec `0`\n",
    "    *  Test ConfusionMatrix\n",
    "    \\begin{equation}\n",
    "        \\begin{bmatrix}\n",
    "        & 13338 & 5741 &  \\\\\n",
    "        & 1926 & 88246 & \n",
    "        \\end{bmatrix}\n",
    "    \\end{equation}\n",
    "<br>\n",
    "7. For TfIdf-W2V representation with l2 reg, got best score at C = 4.0 and mean cv score is 0.914779. \n",
    "    *  Train Score `0.9233445786913541`\n",
    "    *  Test Score `0.9028933373607564`\n",
    "    *  Test Precision `0.9079191575320693`\n",
    "    *  Test Recall `0.981934525129752`\n",
    "    *  No of Zeros in Weigth Vec `0`\n",
    "    *  Test ConfusionMatrix\n",
    "    \\begin{equation}\n",
    "    \\begin{bmatrix}\n",
    "    & 10099 & 8980 &  \\\\\n",
    "    & 1629 & 88543 & \n",
    "    \\end{bmatrix}\n",
    "    \\end{equation}\n",
    "<br>\n",
    "8. For TfIdf-W2V  representation with l1 reg, got best score at C = 3.987496 and mean cv score is 0.914775\n",
    "    *  Train Score `0.9233406558920446`\n",
    "    *  Test Score `0.9028475711892797`\n",
    "    *  Test Precision `0.9078809753296557`\n",
    "    *  Test Recall `0.9819234352127046`\n",
    "    *  No of Zeros in Weigth Vec `0`\n",
    "    *  Test ConfusionMatrix\n",
    "    \\begin{equation}\n",
    "    \\begin{bmatrix}\n",
    "    & 10095 & 8984 &  \\\\\n",
    "    & 1630 & 88542 & \n",
    "    \\end{bmatrix}\n",
    "    \\end{equation}\n",
    "<br>\n",
    "9. best accuracy model is TF-Idf Representation with l1 regularization. best Precision model is Tf-Idf Represenataton with L1 regularization.Best recall model is Tf-Idf Weighted W2V wit l1 reguarization and Tf-Idf with l2 reg."
   ]
  },
  {
   "cell_type": "code",
   "execution_count": null,
   "metadata": {},
   "outputs": [],
   "source": []
  }
 ],
 "metadata": {
  "kernelspec": {
   "display_name": "Python 3",
   "language": "python",
   "name": "python3"
  },
  "language_info": {
   "codemirror_mode": {
    "name": "ipython",
    "version": 3
   },
   "file_extension": ".py",
   "mimetype": "text/x-python",
   "name": "python",
   "nbconvert_exporter": "python",
   "pygments_lexer": "ipython3",
   "version": "3.6.4"
  }
 },
 "nbformat": 4,
 "nbformat_minor": 2
}
