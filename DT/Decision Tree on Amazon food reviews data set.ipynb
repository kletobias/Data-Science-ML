{
 "cells": [
  {
   "cell_type": "markdown",
   "metadata": {},
   "source": [
    "### Decision Tree on Amazon food reviews data set"
   ]
  },
  {
   "cell_type": "code",
   "execution_count": 1,
   "metadata": {},
   "outputs": [],
   "source": [
    "#importing required Modules\n",
    "%matplotlib inline\n",
    "import sqlite3\n",
    "import pandas as pd\n",
    "import numpy as np\n",
    "import nltk\n",
    "import string\n",
    "import pickle\n",
    "import matplotlib.pyplot as plt\n",
    "import seaborn as sns\n",
    "from sklearn.feature_extraction.text import TfidfTransformer\n",
    "from sklearn.feature_extraction.text import TfidfVectorizer\n",
    "from sklearn.feature_extraction.text import CountVectorizer\n",
    "from sklearn.metrics import confusion_matrix\n",
    "from sklearn import metrics\n",
    "from sklearn.metrics import accuracy_score\n",
    "from sklearn.metrics import roc_curve, auc\n",
    "from nltk.stem.porter import PorterStemmer\n",
    "from sklearn.preprocessing import StandardScaler\n",
    "from sklearn.model_selection import TimeSeriesSplit\n",
    "from sklearn.metrics import precision_score\n",
    "from sklearn.metrics import recall_score\n",
    "from sklearn.metrics import confusion_matrix\n",
    "from sklearn.tree import DecisionTreeClassifier as DT\n",
    "from sklearn.model_selection import GridSearchCV\n",
    "from sklearn.model_selection import RandomizedSearchCV\n",
    "import warnings\n",
    "warnings.filterwarnings('ignore')"
   ]
  },
  {
   "cell_type": "code",
   "execution_count": 2,
   "metadata": {},
   "outputs": [],
   "source": [
    "#getting cleaned data from db\n",
    "conn = sqlite3.connect('final_clean_LR.sqlite')\n",
    "final_review = pd.read_sql_query(\"\"\"\n",
    "SELECT *\n",
    "FROM Reviews_final\n",
    "\"\"\", conn) "
   ]
  },
  {
   "cell_type": "code",
   "execution_count": 3,
   "metadata": {},
   "outputs": [],
   "source": [
    "#SORT by time for TBS\n",
    "final_review = final_review.sort_values(by='Time')"
   ]
  },
  {
   "cell_type": "code",
   "execution_count": 4,
   "metadata": {},
   "outputs": [
    {
     "name": "stdout",
     "output_type": "stream",
     "text": [
      "<class 'pandas.core.frame.DataFrame'>\n",
      "Int64Index: 364171 entries, 23 to 345187\n",
      "Data columns (total 15 columns):\n",
      "level_0                   364171 non-null int64\n",
      "index                     364171 non-null int64\n",
      "Id                        364171 non-null int64\n",
      "ProductId                 364171 non-null object\n",
      "UserId                    364171 non-null object\n",
      "ProfileName               364171 non-null object\n",
      "HelpfulnessNumerator      364171 non-null int64\n",
      "HelpfulnessDenominator    364171 non-null int64\n",
      "Score                     364171 non-null object\n",
      "Time                      364171 non-null int64\n",
      "Summary                   364171 non-null object\n",
      "Text                      364171 non-null object\n",
      "CleanedTextBow            364171 non-null object\n",
      "final_text                364171 non-null object\n",
      "final_stem_text           364171 non-null object\n",
      "dtypes: int64(6), object(9)\n",
      "memory usage: 44.5+ MB\n"
     ]
    }
   ],
   "source": [
    "#info of data\n",
    "final_review.info()"
   ]
  },
  {
   "cell_type": "code",
   "execution_count": 5,
   "metadata": {},
   "outputs": [],
   "source": [
    "#changing lables to 1 or 0\n",
    "final_review.Score = final_review.Score.apply(lambda x:\n",
    "                     1 if x == 'positive' else 0)"
   ]
  },
  {
   "cell_type": "code",
   "execution_count": 6,
   "metadata": {},
   "outputs": [],
   "source": [
    "#Converting to int8\n",
    "final_review.HelpfulnessNumerator = final_review.\\\n",
    "                      HelpfulnessNumerator.astype(np.int8)\n",
    "final_review.HelpfulnessDenominator = final_review.\\\n",
    "                      HelpfulnessDenominator.astype(np.int8)"
   ]
  },
  {
   "cell_type": "code",
   "execution_count": 7,
   "metadata": {},
   "outputs": [],
   "source": [
    "#Splitting Dataframe for train and test\n",
    "train_df = final_review.iloc[:round(final_review.shape[0]*0.70),:]\n",
    "test_df = final_review.iloc[round(final_review.shape[0]*0.70):,:]"
   ]
  },
  {
   "cell_type": "code",
   "execution_count": 8,
   "metadata": {},
   "outputs": [],
   "source": [
    "train_df.to_csv('train_df_dt.csv',index=False)\n",
    "test_df.to_csv('test_df_dt.csv',index=False)"
   ]
  },
  {
   "cell_type": "code",
   "execution_count": 8,
   "metadata": {},
   "outputs": [
    {
     "name": "stdout",
     "output_type": "stream",
     "text": [
      "(254920, 15)\n",
      "(109251, 15)\n"
     ]
    }
   ],
   "source": [
    "print(train_df.shape)\n",
    "print(test_df.shape)"
   ]
  },
  {
   "cell_type": "markdown",
   "metadata": {},
   "source": [
    "#### Word2Vec"
   ]
  },
  {
   "cell_type": "code",
   "execution_count": 9,
   "metadata": {},
   "outputs": [],
   "source": [
    "#importing\n",
    "from gensim.models import Word2Vec\n",
    "from gensim.models import KeyedVectors\n",
    "import pickle\n",
    "import gensim"
   ]
  },
  {
   "cell_type": "code",
   "execution_count": 10,
   "metadata": {},
   "outputs": [],
   "source": [
    "import gensim\n",
    "list_of_sent=[]\n",
    "for sent in final_review.final_text.values:\n",
    "    list_of_sent.append(sent.split())"
   ]
  },
  {
   "cell_type": "code",
   "execution_count": 13,
   "metadata": {},
   "outputs": [],
   "source": [
    "#word2vec model with 50 dim vector\n",
    "w2v_model_50=gensim.models.Word2Vec(list_of_sent,min_count=5,size=50, workers=8)\n",
    "#word2vec model with 100 dim vector\n",
    "w2v_model_100=gensim.models.Word2Vec(list_of_sent,min_count=5,size=100, workers=8)\n",
    "#word2vec model with 300 dim vector\n",
    "w2v_model_300=gensim.models.Word2Vec(list_of_sent,min_count=5,size=300, workers=8)"
   ]
  },
  {
   "cell_type": "code",
   "execution_count": 14,
   "metadata": {},
   "outputs": [],
   "source": [
    "#saving to disk\n",
    "pickle.dump(w2v_model_50,open('w2v_model_dt_50.p','wb'))\n",
    "pickle.dump(w2v_model_100,open('w2v_model_dt_100.p','wb'))\n",
    "pickle.dump(w2v_model_300,open('w2v_model_dt_300.p','wb'))"
   ]
  },
  {
   "cell_type": "code",
   "execution_count": 11,
   "metadata": {},
   "outputs": [],
   "source": [
    "#loading from disk\n",
    "w2v_model_100 = pickle.load(open('w2v_model_dt_100.p','rb'))\n",
    "w2v_model_50 = pickle.load(open('w2v_model_dt_50.p','rb'))\n",
    "w2v_model_300 = pickle.load(open('w2v_model_dt_300.p','rb'))"
   ]
  },
  {
   "cell_type": "markdown",
   "metadata": {},
   "source": [
    "#### Avg Word2Vec"
   ]
  },
  {
   "cell_type": "code",
   "execution_count": 13,
   "metadata": {},
   "outputs": [],
   "source": [
    "# the avg-w2v for each sentence/review is stored in this list\n",
    "def avg_w2v(list_of_sent,model,d):\n",
    "    '''\n",
    "    Returns average of word vectors for \n",
    "    each sentance with dimension of model given\n",
    "    '''\n",
    "    sent_vectors = []\n",
    "    for sent in list_of_sent: # for each review/sentence\n",
    "        doc = [word for word in sent if word in model.wv.vocab]\n",
    "        if doc:\n",
    "            sent_vec = np.mean(model.wv[doc],axis=0)\n",
    "        else:\n",
    "            sent_vec = np.zeros(d)\n",
    "        sent_vectors.append(sent_vec)\n",
    "    return sent_vectors"
   ]
  },
  {
   "cell_type": "code",
   "execution_count": 17,
   "metadata": {},
   "outputs": [],
   "source": [
    "list_of_sent_train=[]\n",
    "for sent in train_df.final_text.values:\n",
    "    list_of_sent_train.append(sent.split())"
   ]
  },
  {
   "cell_type": "code",
   "execution_count": 18,
   "metadata": {},
   "outputs": [],
   "source": [
    "#avg word2vec for \n",
    "sent_vector_avgw2v_300 = avg_w2v(list_of_sent_train,w2v_model_300,300)\n",
    "#stacking columns\n",
    "train_avgw2v_300 = np.hstack((sent_vector_avgw2v_300,\n",
    "            train_df[['HelpfulnessNumerator','HelpfulnessDenominator','Score']]))\n",
    "column = list(range(0,300))\n",
    "column.extend(['HelpfulnessNumerator','HelpfulnessDenominator','Score'])\n",
    "train_df_avgw2v_300 = pd.DataFrame(train_avgw2v_300,columns=column)"
   ]
  },
  {
   "cell_type": "code",
   "execution_count": 19,
   "metadata": {},
   "outputs": [],
   "source": [
    "#CountVectorizer for BoW\n",
    "X_train = train_df_avgw2v_300.iloc[:round(train_df.shape[0]*0.70),:]\n",
    "X_test_cv = train_df_avgw2v_300.iloc[round(train_df.shape[0]*0.70):,:]"
   ]
  },
  {
   "cell_type": "code",
   "execution_count": 32,
   "metadata": {},
   "outputs": [
    {
     "name": "stdout",
     "output_type": "stream",
     "text": [
      "Train Score 1.0\n",
      "Test Score 0.8445786913541503\n"
     ]
    }
   ],
   "source": [
    "model = DT().fit(X_train.drop('Score',axis=1),X_train.Score)\n",
    "#train score\n",
    "train_score = model.score(X_train.drop('Score',axis=1),X_train.Score)\n",
    "#test score\n",
    "test_score = model.score(X_test_cv.drop('Score',axis=1),X_test_cv.Score)\n",
    "print('Train Score',train_score)\n",
    "print('Test Score',test_score)"
   ]
  },
  {
   "cell_type": "markdown",
   "metadata": {},
   "source": [
    "With max depth i got model which was so much overfit."
   ]
  },
  {
   "cell_type": "code",
   "execution_count": 44,
   "metadata": {},
   "outputs": [
    {
     "name": "stdout",
     "output_type": "stream",
     "text": [
      "Depth 1 Train Score 0.8600121046378696 Test Score 0.8293451540352529\n",
      "Depth 2 Train Score 0.8687543430992356 Test Score 0.8472854228777655\n",
      "Depth 3 Train Score 0.8734560982717267 Test Score 0.8435979915267535\n",
      "Depth 4 Train Score 0.8796765371769295 Test Score 0.8608713844866364\n",
      "Depth 5 Train Score 0.8846248683060232 Test Score 0.8601129766201161\n",
      "Depth 6 Train Score 0.8893546434735827 Test Score 0.8662194675453737\n",
      "Depth 7 Train Score 0.8938434466835534 Test Score 0.868612375124222\n",
      "Depth 8 Train Score 0.9010501894151667 Test Score 0.8713452586432345\n",
      "Depth 9 Train Score 0.909400147945574 Test Score 0.8704691667974267\n",
      "Depth 10 Train Score 0.9212189818654591 Test Score 0.8698807469009886\n",
      "Depth 11 Train Score 0.9341249915940015 Test Score 0.87024687483655\n",
      "Depth 12 Train Score 0.947524153235749 Test Score 0.866664051467127\n"
     ]
    }
   ],
   "source": [
    "for i in [1,2,3,4,5,6,7,8,9,10,11,12]:\n",
    "    model = DT(max_depth=i).fit(X_train.drop('Score',axis=1),X_train.Score)\n",
    "    #train score\n",
    "    train_score = model.score(X_train.drop('Score',axis=1),X_train.Score)\n",
    "    #test score\n",
    "    test_score = model.score(X_test_cv.drop('Score',axis=1),X_test_cv.Score)\n",
    "    print('Depth',i,'Train Score',train_score,'Test Score',test_score)"
   ]
  },
  {
   "cell_type": "code",
   "execution_count": 14,
   "metadata": {},
   "outputs": [],
   "source": [
    "param_grid = {'max_depth':[1,3,5,7,8,9,11,13,15,17,19,23,25,\n",
    "                                          29,35,40,50,70,100]}\n",
    "model_grid_avgw2v = GridSearchCV(DT(),param_grid=param_grid,\n",
    "                             cv=TimeSeriesSplit(n_splits=10),\n",
    "                                           n_jobs=-1)\n",
    "model_grid_avgw2v.fit(train_df_avgw2v_300.drop('Score',axis=1),\n",
    "                                       train_df_avgw2v_300.Score)"
   ]
  },
  {
   "cell_type": "code",
   "execution_count": 16,
   "metadata": {},
   "outputs": [],
   "source": [
    "dict_scores = []\n",
    "idx = 0\n",
    "for i in model_grid_avgw2v.grid_scores_:\n",
    "    dict_score = []\n",
    "    dict_score.append(i[0]['max_depth'])\n",
    "    dict_score.append(i[1])\n",
    "    dict_score.append(i[2].std())\n",
    "    dict_score.append(model_grid_avgw2v.cv_results_['mean_train_score'][idx])\n",
    "    dict_scores.append(dict_score)\n",
    "    idx = idx + 1\n",
    "scores_df = pd.DataFrame(dict_scores,columns=['depth','Test_score',\n",
    "                                               'Test_std','Train_score'])"
   ]
  },
  {
   "cell_type": "code",
   "execution_count": 17,
   "metadata": {},
   "outputs": [
    {
     "data": {
      "text/plain": [
       "<matplotlib.legend.Legend at 0x14e0df52be48>"
      ]
     },
     "execution_count": 17,
     "metadata": {},
     "output_type": "execute_result"
    },
    {
     "data": {
      "image/png": "[encoded data removed]",
      "text/plain": [
       "<matplotlib.figure.Figure at 0x14e0df52b240>"
      ]
     },
     "metadata": {},
     "output_type": "display_data"
    }
   ],
   "source": [
    "plt.figure(figsize=(12,8))\n",
    "plt.plot(scores_df.depth,scores_df.Train_score,label='Train Score')\n",
    "plt.plot(scores_df.depth,scores_df.Test_score,label='Test Score')\n",
    "plt.title('Validation curve for AvgW2V model with different max_depth')\n",
    "plt.xlabel('Depth')\n",
    "plt.ylabel('Score')\n",
    "plt.legend()"
   ]
  },
  {
   "cell_type": "code",
   "execution_count": 18,
   "metadata": {},
   "outputs": [
    {
     "data": {
      "text/html": [
       "<div>\n",
       "<style scoped>\n",
       "    .dataframe tbody tr th:only-of-type {\n",
       "        vertical-align: middle;\n",
       "    }\n",
       "\n",
       "    .dataframe tbody tr th {\n",
       "        vertical-align: top;\n",
       "    }\n",
       "\n",
       "    .dataframe thead th {\n",
       "        text-align: right;\n",
       "    }\n",
       "</style>\n",
       "<table border=\"1\" class=\"dataframe\">\n",
       "  <thead>\n",
       "    <tr style=\"text-align: right;\">\n",
       "      <th></th>\n",
       "      <th>depth</th>\n",
       "      <th>Test_score</th>\n",
       "      <th>Test_std</th>\n",
       "      <th>Train_score</th>\n",
       "    </tr>\n",
       "  </thead>\n",
       "  <tbody>\n",
       "    <tr>\n",
       "      <th>4</th>\n",
       "      <td>8</td>\n",
       "      <td>0.879296</td>\n",
       "      <td>0.009600</td>\n",
       "      <td>0.913345</td>\n",
       "    </tr>\n",
       "    <tr>\n",
       "      <th>5</th>\n",
       "      <td>9</td>\n",
       "      <td>0.879253</td>\n",
       "      <td>0.008580</td>\n",
       "      <td>0.923057</td>\n",
       "    </tr>\n",
       "    <tr>\n",
       "      <th>3</th>\n",
       "      <td>7</td>\n",
       "      <td>0.878424</td>\n",
       "      <td>0.010808</td>\n",
       "      <td>0.905153</td>\n",
       "    </tr>\n",
       "    <tr>\n",
       "      <th>6</th>\n",
       "      <td>11</td>\n",
       "      <td>0.874696</td>\n",
       "      <td>0.006940</td>\n",
       "      <td>0.946930</td>\n",
       "    </tr>\n",
       "    <tr>\n",
       "      <th>2</th>\n",
       "      <td>5</td>\n",
       "      <td>0.873255</td>\n",
       "      <td>0.013776</td>\n",
       "      <td>0.893709</td>\n",
       "    </tr>\n",
       "  </tbody>\n",
       "</table>\n",
       "</div>"
      ],
      "text/plain": [
       "   depth  Test_score  Test_std  Train_score\n",
       "4      8    0.879296  0.009600     0.913345\n",
       "5      9    0.879253  0.008580     0.923057\n",
       "3      7    0.878424  0.010808     0.905153\n",
       "6     11    0.874696  0.006940     0.946930\n",
       "2      5    0.873255  0.013776     0.893709"
      ]
     },
     "execution_count": 18,
     "metadata": {},
     "output_type": "execute_result"
    }
   ],
   "source": [
    "#top scores\n",
    "scores_df.sort_values('Test_score',ascending=False).head(5)"
   ]
  },
  {
   "cell_type": "markdown",
   "metadata": {},
   "source": [
    "From cross validation better depth is 8 with Test score of 0.879296."
   ]
  },
  {
   "cell_type": "code",
   "execution_count": 19,
   "metadata": {},
   "outputs": [
    {
     "name": "stdout",
     "output_type": "stream",
     "text": [
      "max_depth 8\n",
      "Train Score 0.8931115644123646\n",
      "Test Score 0.8619692268262991\n",
      "Test Precision 0.8777263581488933\n",
      "Test Recall 0.9675509027192477\n",
      "Test ConfusionMatrix [[ 6925 12154]\n",
      " [ 2926 87246]]\n"
     ]
    }
   ],
   "source": [
    "#testscore\n",
    "list_of_sent_train=[]\n",
    "for sent in train_df.final_text.values:\n",
    "    list_of_sent_train.append(sent.split())\n",
    "#avg word2vec for \n",
    "sent_vector_avgw2v_300 = avg_w2v(list_of_sent_train,w2v_model_300,300)\n",
    "#stacking columns\n",
    "train_avgw2v_300 = np.hstack((sent_vector_avgw2v_300,\n",
    "            train_df[['HelpfulnessNumerator','HelpfulnessDenominator']]))\n",
    "column = list(range(0,300))\n",
    "column.extend(['HelpfulnessNumerator','HelpfulnessDenominator'])\n",
    "train_df_avgw2v_300 = pd.DataFrame(train_avgw2v_300,columns=column)\n",
    "\n",
    "\n",
    "list_of_sent_test=[]\n",
    "for sent in test_df.final_text.values:\n",
    "    list_of_sent_test.append(sent.split())\n",
    "#avg word2vec for \n",
    "sent_vector_avgw2v_300_test = avg_w2v(list_of_sent_test,w2v_model_300,300)\n",
    "#stacking columns\n",
    "test_avgw2v_300 = np.hstack((sent_vector_avgw2v_300_test,\n",
    "            test_df[['HelpfulnessNumerator','HelpfulnessDenominator']]))\n",
    "column = list(range(0,300))\n",
    "column.extend(['HelpfulnessNumerator','HelpfulnessDenominator'])\n",
    "test_df_avgw2v_300 = pd.DataFrame(test_avgw2v_300,columns=column)\n",
    "\n",
    "\n",
    "model = DT(max_depth=8)\n",
    "model.fit(train_df_avgw2v_300,train_df.Score)\n",
    "#Predicting training data\n",
    "train_list = model.predict(train_df_avgw2v_300)\n",
    "#Accuracy score\n",
    "score_train = accuracy_score(train_df.Score,train_list)\n",
    "#predict test cv\n",
    "test_list = model.predict(test_df_avgw2v_300)\n",
    "#Accuracy score\n",
    "score_test = accuracy_score(test_df.Score,test_list)\n",
    "#precision\n",
    "#precision\n",
    "test_precision = precision_score(test_df.Score,test_list)\n",
    "#recall\n",
    "test_recall = recall_score(test_df.Score,test_list)\n",
    "#confusion matrix\n",
    "confusion_matrix_test = confusion_matrix(test_df.Score,test_list)\n",
    "print('max_depth',8)\n",
    "print('Train Score', score_train)\n",
    "print('Test Score',score_test)\n",
    "print('Test Precision',test_precision)\n",
    "print('Test Recall',test_recall)\n",
    "print('Test ConfusionMatrix',confusion_matrix_test)"
   ]
  },
  {
   "cell_type": "markdown",
   "metadata": {},
   "source": [
    "#### Tf-Idf Weighted Word2Vec"
   ]
  },
  {
   "cell_type": "code",
   "execution_count": 20,
   "metadata": {},
   "outputs": [],
   "source": [
    "from sklearn.base import BaseEstimator, TransformerMixin\n",
    "\n",
    "class TfidfWeightedWord2Vec(BaseEstimator, TransformerMixin):\n",
    "    '''\n",
    "    Class for Tfidf Weighted Word2Vec Calculations\n",
    "    '''\n",
    "    def __init__(self, word2vec):\n",
    "        self.word2vec = word2vec\n",
    "        self.word2weight = None\n",
    "        self.dim = word2vec.vector_size\n",
    "        self.tfidf = None\n",
    "\n",
    "    def fit(self, X, y=None):\n",
    "        tfidf = TfidfVectorizer()\n",
    "        tfidf.fit(X[:,0])\n",
    "        self.tfidf = tfidf\n",
    "        #print(self.word2vec.wv.vocab.keys())\n",
    "        return self\n",
    "    \n",
    "    def tf_idf_W2V(self,feature_names,tf_idf_trans_arr,list_of_sent):\n",
    "        '''\n",
    "        tfidf weighted word2vec calculation\n",
    "        '''\n",
    "        import operator\n",
    "        dict_tfidf = {k: v for v, k in enumerate(feature_names)}\n",
    "        sent_vectors = []\n",
    "        i = 0\n",
    "        for sent in list_of_sent: # for each review/sentence\n",
    "            doc = [word for word in sent if word in self.word2vec.wv.vocab.keys()]\n",
    "            if doc:\n",
    "                #itemgetter\n",
    "                f = operator.itemgetter(*doc)\n",
    "                try:\n",
    "                    #itemgetter from dict\n",
    "                    final = f(dict_tfidf)\n",
    "                    final = tf_idf_trans_arr[i,final]\n",
    "                    #converting to dense\n",
    "                    final = final.toarray()\n",
    "                    #converting to diagnol matrix for multiplication\n",
    "                    final= np.diag(final[0])\n",
    "                    sent_vec = np.dot(final,np.array(self.word2vec.wv[doc]))\n",
    "                    #tfidf weighted word to vec\n",
    "                    sent_vec = np.sum(sent_vec,axis=0) / np.sum(final)\n",
    "                except:\n",
    "                    sent_vec = np.zeros(self.dim)             \n",
    "            else:\n",
    "                sent_vec = np.zeros(self.dim)\n",
    "            sent_vectors.append(sent_vec)\n",
    "            i = i+1\n",
    "        return sent_vectors\n",
    "\n",
    "    def transform(self, X):\n",
    "        #transform data\n",
    "        tf_idf_trans_arr = self.tfidf.transform(X[:,0])\n",
    "        feature_names = self.tfidf.get_feature_names()\n",
    "        list_of_sent = []\n",
    "        for sent in X[:,0]:\n",
    "            list_of_sent.append(sent.split())\n",
    "        temp_vec = self.tf_idf_W2V(feature_names,tf_idf_trans_arr,list_of_sent)\n",
    "        temp_vec= np.hstack((temp_vec,X[:,[1,2]]))\n",
    "        return temp_vec"
   ]
  },
  {
   "cell_type": "code",
   "execution_count": 21,
   "metadata": {},
   "outputs": [],
   "source": [
    "# For simple cv\n",
    "#Train data\n",
    "X_train = train_df.iloc[:round(train_df.shape[0]*0.70),:]\n",
    "X_test_cv = train_df.iloc[round(train_df.shape[0]*0.70):,:]\n",
    "#transforming to tfidf weighted word2vec\n",
    "tfidfvect_w2v = TfidfWeightedWord2Vec(w2v_model_300)\n",
    "tfidfvect_w2v.fit(X_train[['final_text','HelpfulnessNumerator',\n",
    "                           'HelpfulnessDenominator']].values)\n",
    "X_train_tfw2v = tfidfvect_w2v.transform(X_train[['final_text',\n",
    "                'HelpfulnessNumerator','HelpfulnessDenominator']].values)\n",
    "X_cv_tfw2v = tfidfvect_w2v.transform(X_test_cv[['final_text',\n",
    "                 'HelpfulnessNumerator','HelpfulnessDenominator']].values)"
   ]
  },
  {
   "cell_type": "code",
   "execution_count": 22,
   "metadata": {},
   "outputs": [
    {
     "name": "stdout",
     "output_type": "stream",
     "text": [
      "Depth 1 Train Score 0.8600121046378696 Test Score 0.8293451540352529\n",
      "Depth 2 Train Score 0.8711360426800565 Test Score 0.8420288718029185\n",
      "Depth 3 Train Score 0.8711360426800565 Test Score 0.8420288718029185\n",
      "Depth 4 Train Score 0.8759330658357805 Test Score 0.848174590721272\n",
      "Depth 5 Train Score 0.8803994530496962 Test Score 0.8514566661436268\n",
      "Depth 6 Train Score 0.885218892201475 Test Score 0.8531565458444479\n",
      "Depth 7 Train Score 0.8896068234291991 Test Score 0.8610936764475129\n",
      "Depth 8 Train Score 0.8948017305148954 Test Score 0.8611590564360061\n",
      "Depth 9 Train Score 0.9023391091883168 Test Score 0.8621920602541974\n",
      "Depth 10 Train Score 0.9121461074622851 Test Score 0.8623620482242795\n",
      "Depth 11 Train Score 0.9238192374078142 Test Score 0.8596945446937602\n",
      "Depth 12 Train Score 0.9346349555042478 Test Score 0.857850829018254\n"
     ]
    }
   ],
   "source": [
    "for i in [1,2,3,4,5,6,7,8,9,10,11,12]:\n",
    "    model = DT(max_depth=i).fit(X_train_tfw2v,X_train.Score)\n",
    "    #train score\n",
    "    train_score = model.score(X_train_tfw2v,X_train.Score)\n",
    "    #test score\n",
    "    test_score = model.score(X_cv_tfw2v,X_test_cv.Score)\n",
    "    print('Depth',i,'Train Score',train_score,'Test Score',test_score)"
   ]
  },
  {
   "cell_type": "code",
   "execution_count": 23,
   "metadata": {},
   "outputs": [],
   "source": [
    "param_grid = {'decisiontreeclassifier__max_depth':[1,3,5,7,8,9,11,\n",
    "                          13,15,17,19,23,25,29,35,40,50,70,100]}\n",
    "model_grid_tfidfw2v = GridSearchCV(make_pipeline(\n",
    "                    TfidfWeightedWord2Vec(w2v_model_300),DT()),\n",
    "                    param_grid=param_grid,\n",
    "                    cv=TimeSeriesSplit(n_splits=10),\n",
    "                        n_jobs=-1)\n",
    "model_grid_tfidfw2v.fit(train_df[['final_text','HelpfulnessNumerator',\n",
    "                     'HelpfulnessDenominator']].values,train_df.Score)"
   ]
  },
  {
   "cell_type": "code",
   "execution_count": 26,
   "metadata": {},
   "outputs": [],
   "source": [
    "dict_scores = []\n",
    "idx = 0\n",
    "for i in model_grid_tfidfw2v.grid_scores_:\n",
    "    dict_score = []\n",
    "    dict_score.append(i[0]['decisiontreeclassifier__max_depth'])\n",
    "    dict_score.append(i[1])\n",
    "    dict_score.append(i[2].std())\n",
    "    dict_score.append(model_grid_tfidfw2v.cv_results_['mean_train_score'][idx])\n",
    "    dict_scores.append(dict_score)\n",
    "    idx = idx + 1\n",
    "scores_df1 = pd.DataFrame(dict_scores,columns=['depth','Test_score',\n",
    "                                               'Test_std','Train_score'])"
   ]
  },
  {
   "cell_type": "code",
   "execution_count": 27,
   "metadata": {},
   "outputs": [
    {
     "data": {
      "text/plain": [
       "<matplotlib.legend.Legend at 0x14e02ac89e48>"
      ]
     },
     "execution_count": 27,
     "metadata": {},
     "output_type": "execute_result"
    },
    {
     "data": {
      "image/png": "[encoded data removed]",
      "text/plain": [
       "<matplotlib.figure.Figure at 0x14e02cf5d588>"
      ]
     },
     "metadata": {},
     "output_type": "display_data"
    }
   ],
   "source": [
    "plt.figure(figsize=(12,8))\n",
    "plt.plot(scores_df1.depth,scores_df.Train_score,label='Train Score')\n",
    "plt.plot(scores_df1.depth,scores_df.Test_score,label='Test Score')\n",
    "plt.title('Validation curve for Tf-Idf-W2V model with different max_depth')\n",
    "plt.xlabel('Depth')\n",
    "plt.ylabel('Score')\n",
    "plt.legend()"
   ]
  },
  {
   "cell_type": "code",
   "execution_count": 29,
   "metadata": {},
   "outputs": [
    {
     "data": {
      "text/html": [
       "<div>\n",
       "<style scoped>\n",
       "    .dataframe tbody tr th:only-of-type {\n",
       "        vertical-align: middle;\n",
       "    }\n",
       "\n",
       "    .dataframe tbody tr th {\n",
       "        vertical-align: top;\n",
       "    }\n",
       "\n",
       "    .dataframe thead th {\n",
       "        text-align: right;\n",
       "    }\n",
       "</style>\n",
       "<table border=\"1\" class=\"dataframe\">\n",
       "  <thead>\n",
       "    <tr style=\"text-align: right;\">\n",
       "      <th></th>\n",
       "      <th>depth</th>\n",
       "      <th>Test_score</th>\n",
       "      <th>Test_std</th>\n",
       "      <th>Train_score</th>\n",
       "    </tr>\n",
       "  </thead>\n",
       "  <tbody>\n",
       "    <tr>\n",
       "      <th>5</th>\n",
       "      <td>9</td>\n",
       "      <td>0.872741</td>\n",
       "      <td>0.010143</td>\n",
       "      <td>0.916072</td>\n",
       "    </tr>\n",
       "    <tr>\n",
       "      <th>4</th>\n",
       "      <td>8</td>\n",
       "      <td>0.872728</td>\n",
       "      <td>0.011507</td>\n",
       "      <td>0.907520</td>\n",
       "    </tr>\n",
       "    <tr>\n",
       "      <th>3</th>\n",
       "      <td>7</td>\n",
       "      <td>0.872689</td>\n",
       "      <td>0.013214</td>\n",
       "      <td>0.900727</td>\n",
       "    </tr>\n",
       "    <tr>\n",
       "      <th>6</th>\n",
       "      <td>11</td>\n",
       "      <td>0.869556</td>\n",
       "      <td>0.009616</td>\n",
       "      <td>0.936217</td>\n",
       "    </tr>\n",
       "    <tr>\n",
       "      <th>2</th>\n",
       "      <td>5</td>\n",
       "      <td>0.866557</td>\n",
       "      <td>0.015469</td>\n",
       "      <td>0.889496</td>\n",
       "    </tr>\n",
       "  </tbody>\n",
       "</table>\n",
       "</div>"
      ],
      "text/plain": [
       "   depth  Test_score  Test_std  Train_score\n",
       "5      9    0.872741  0.010143     0.916072\n",
       "4      8    0.872728  0.011507     0.907520\n",
       "3      7    0.872689  0.013214     0.900727\n",
       "6     11    0.869556  0.009616     0.936217\n",
       "2      5    0.866557  0.015469     0.889496"
      ]
     },
     "execution_count": 29,
     "metadata": {},
     "output_type": "execute_result"
    }
   ],
   "source": [
    "#top 5 scores\n",
    "scores_df1.sort_values('Test_score',ascending=False).head(5)"
   ]
  },
  {
   "cell_type": "markdown",
   "metadata": {},
   "source": [
    "From 10 fold cv we can observe that good depth is 9 with cv score of 0.872741."
   ]
  },
  {
   "cell_type": "code",
   "execution_count": 30,
   "metadata": {},
   "outputs": [
    {
     "name": "stdout",
     "output_type": "stream",
     "text": [
      "Depth 9\n",
      "Train Score 0.8931586380040797\n",
      "Test Score 0.8538869209435154\n",
      "Test Precision 0.8665547048653989\n",
      "Test Recall 0.9727742536485827\n",
      "Test ConfusionMatrix [[ 5571 13508]\n",
      " [ 2455 87717]]\n"
     ]
    }
   ],
   "source": [
    "#testscore\n",
    "#transforming to tfidf weighted word2vec\n",
    "tfidfvect_w2v = TfidfWeightedWord2Vec(w2v_model_300)\n",
    "tfidfvect_w2v.fit(train_df[['final_text','HelpfulnessNumerator',\n",
    "                           'HelpfulnessDenominator']].values)\n",
    "X_train_tfw2v = tfidfvect_w2v.transform(train_df[['final_text',\n",
    "                'HelpfulnessNumerator','HelpfulnessDenominator']].values)\n",
    "X_cv_tfw2v = tfidfvect_w2v.transform(test_df[['final_text',\n",
    "                 'HelpfulnessNumerator','HelpfulnessDenominator']].values)\n",
    "\n",
    "\n",
    "model = DT(max_depth=9)\n",
    "model.fit(X_train_tfw2v,train_df.Score)\n",
    "#Predicting training data\n",
    "train_list = model.predict(X_train_tfw2v)\n",
    "#Accuracy score\n",
    "score_train = accuracy_score(train_df.Score,train_list)\n",
    "#predict test cv\n",
    "test_list = model.predict(X_cv_tfw2v)\n",
    "#Accuracy score\n",
    "score_test = accuracy_score(test_df.Score,test_list)\n",
    "#precision\n",
    "#precision\n",
    "test_precision = precision_score(test_df.Score,test_list)\n",
    "#recall\n",
    "test_recall = recall_score(test_df.Score,test_list)\n",
    "#confusion matrix\n",
    "confusion_matrix_test = confusion_matrix(test_df.Score,test_list)\n",
    "print('Depth',9)\n",
    "print('Train Score', score_train)\n",
    "print('Test Score',score_test)\n",
    "print('Test Precision',test_precision)\n",
    "print('Test Recall',test_recall)\n",
    "print('Test ConfusionMatrix',confusion_matrix_test)"
   ]
  },
  {
   "cell_type": "markdown",
   "metadata": {},
   "source": [
    "#### Bag of Words:"
   ]
  },
  {
   "cell_type": "code",
   "execution_count": 31,
   "metadata": {},
   "outputs": [],
   "source": [
    "#BoW with cleaned data and without stopwords\n",
    "#simple cv for train data\n",
    "scores_train = []\n",
    "from nltk.corpus import stopwords\n",
    "stop = set(stopwords.words('english'))\n",
    "stop.remove('not')\n",
    "stop.remove('very')\n",
    "#CountVectorizer for BoW\n",
    "count_vect = CountVectorizer(stop_words=list(stop),dtype=np.int8)\n",
    "X_train = train_df.iloc[:round(train_df.shape[0]*0.70),:]\n",
    "X_test_cv = train_df.iloc[round(train_df.shape[0]*0.70):,:]\n",
    "final_counts_train = count_vect.fit_transform(\n",
    "        X_train['final_text'].values)\n",
    "#test\n",
    "X_test = count_vect.transform(X_test_cv['final_text'].values)"
   ]
  },
  {
   "cell_type": "code",
   "execution_count": 33,
   "metadata": {},
   "outputs": [
    {
     "name": "stdout",
     "output_type": "stream",
     "text": [
      "Depth 1 Train Score 0.8600121046378696 Test Score 0.8293451540352529\n",
      "Depth 3 Train Score 0.8621752482571563 Test Score 0.8318034416025942\n",
      "Depth 5 Train Score 0.8667256954562776 Test Score 0.8381322244887285\n",
      "Depth 7 Train Score 0.8699760148842214 Test Score 0.8407735760238506\n",
      "Depth 9 Train Score 0.8807076729954495 Test Score 0.8607275485119514\n",
      "Depth 11 Train Score 0.8883571316491449 Test Score 0.8659840995867985\n",
      "Depth 13 Train Score 0.8967070901795521 Test Score 0.8666902034625242\n",
      "Depth 15 Train Score 0.9028714890946179 Test Score 0.8681154872116742\n",
      "Depth 17 Train Score 0.9085035081033825 Test Score 0.8693838589884408\n",
      "Depth 19 Train Score 0.9145838470332429 Test Score 0.8715152466133166\n"
     ]
    }
   ],
   "source": [
    "for i in [1,3,5,7,9,11,13,15,17,19]:\n",
    "    model = DT(max_depth=i).fit(final_counts_train,X_train.Score)\n",
    "    #train score\n",
    "    train_score = model.score(final_counts_train,X_train.Score)\n",
    "    #test score\n",
    "    test_score = model.score(X_test,X_test_cv.Score)\n",
    "    print('Depth',i,'Train Score',train_score,'Test Score',test_score)"
   ]
  },
  {
   "cell_type": "code",
   "execution_count": 34,
   "metadata": {},
   "outputs": [
    {
     "name": "stdout",
     "output_type": "stream",
     "text": [
      "Depth 23 Train Score 0.9259935890251283 Test Score 0.876549505727287\n",
      "Depth 25 Train Score 0.9308802761650714 Test Score 0.8764710497410952\n",
      "Depth 27 Train Score 0.934982403443097 Test Score 0.8760656938124379\n",
      "Depth 35 Train Score 0.9501524287731725 Test Score 0.8769548616559444\n",
      "Depth 40 Train Score 0.9572863195176078 Test Score 0.8767456456927664\n",
      "Depth 45 Train Score 0.9623075026338795 Test Score 0.8764187457503008\n",
      "Depth 50 Train Score 0.9668187218399049 Test Score 0.8754772739159998\n",
      "Depth 70 Train Score 0.9780827598574343 Test Score 0.8750980699827396\n"
     ]
    }
   ],
   "source": [
    "for i in [23,25,27,35,40,45,50,70]:\n",
    "    model = DT(max_depth=i).fit(final_counts_train,X_train.Score)\n",
    "    #train score\n",
    "    train_score = model.score(final_counts_train,X_train.Score)\n",
    "    #test score\n",
    "    test_score = model.score(X_test,X_test_cv.Score)\n",
    "    print('Depth',i,'Train Score',train_score,'Test Score',test_score)"
   ]
  },
  {
   "cell_type": "code",
   "execution_count": 53,
   "metadata": {},
   "outputs": [],
   "source": [
    "#grid search\n",
    "param_grid = {'decisiontreeclassifier__max_depth':[1,3,5,\n",
    "                      7,8,9,11,13,15,17,19,23,35,50,70]}\n",
    "model_grid_bow = GridSearchCV(make_pipeline(\n",
    "            CountVectorizer(stop_words=list(stop),dtype=np.int8),\n",
    "                                                  DT()),\n",
    "                                    param_grid=param_grid,\n",
    "                            cv=TimeSeriesSplit(n_splits=10),\n",
    "                                                 n_jobs=-1)\n",
    "model_grid_bow .fit(train_df.final_text.values,train_df.Score)"
   ]
  },
  {
   "cell_type": "code",
   "execution_count": 55,
   "metadata": {},
   "outputs": [],
   "source": [
    "dict_scores = []\n",
    "idx = 0\n",
    "for i in model_grid_bow.grid_scores_:\n",
    "    dict_score = []\n",
    "    dict_score.append(i[0]['decisiontreeclassifier__max_depth'])\n",
    "    dict_score.append(i[1])\n",
    "    dict_score.append(i[2].std())\n",
    "    dict_score.append(model_grid_bow.cv_results_['mean_train_score'][idx])\n",
    "    dict_scores.append(dict_score)\n",
    "    idx = idx + 1\n",
    "scores_df = pd.DataFrame(dict_scores,columns=['depth','Test_score',\n",
    "                                               'Test_std','Train_score'])"
   ]
  },
  {
   "cell_type": "code",
   "execution_count": 56,
   "metadata": {},
   "outputs": [
    {
     "data": {
      "text/plain": [
       "<matplotlib.legend.Legend at 0x14df4881ccc0>"
      ]
     },
     "execution_count": 56,
     "metadata": {},
     "output_type": "execute_result"
    },
    {
     "data": {
      "image/png": "[encoded data removed]",
      "text/plain": [
       "<matplotlib.figure.Figure at 0x14df21425b38>"
      ]
     },
     "metadata": {},
     "output_type": "display_data"
    }
   ],
   "source": [
    "plt.figure(figsize=(12,8))\n",
    "plt.plot(scores_df.depth,scores_df.Train_score,label='Train Score')\n",
    "plt.plot(scores_df.depth,scores_df.Test_score,label='Test Score')\n",
    "plt.title('Validation curve for BoW model with different max_depth')\n",
    "plt.xlabel('Depth')\n",
    "plt.ylabel('Score')\n",
    "plt.legend()"
   ]
  },
  {
   "cell_type": "code",
   "execution_count": 57,
   "metadata": {},
   "outputs": [
    {
     "data": {
      "text/html": [
       "<div>\n",
       "<style scoped>\n",
       "    .dataframe tbody tr th:only-of-type {\n",
       "        vertical-align: middle;\n",
       "    }\n",
       "\n",
       "    .dataframe tbody tr th {\n",
       "        vertical-align: top;\n",
       "    }\n",
       "\n",
       "    .dataframe thead th {\n",
       "        text-align: right;\n",
       "    }\n",
       "</style>\n",
       "<table border=\"1\" class=\"dataframe\">\n",
       "  <thead>\n",
       "    <tr style=\"text-align: right;\">\n",
       "      <th></th>\n",
       "      <th>depth</th>\n",
       "      <th>Test_score</th>\n",
       "      <th>Test_std</th>\n",
       "      <th>Train_score</th>\n",
       "    </tr>\n",
       "  </thead>\n",
       "  <tbody>\n",
       "    <tr>\n",
       "      <th>12</th>\n",
       "      <td>35</td>\n",
       "      <td>0.881535</td>\n",
       "      <td>0.007312</td>\n",
       "      <td>0.955675</td>\n",
       "    </tr>\n",
       "    <tr>\n",
       "      <th>11</th>\n",
       "      <td>23</td>\n",
       "      <td>0.880539</td>\n",
       "      <td>0.007810</td>\n",
       "      <td>0.933671</td>\n",
       "    </tr>\n",
       "    <tr>\n",
       "      <th>13</th>\n",
       "      <td>50</td>\n",
       "      <td>0.879348</td>\n",
       "      <td>0.007243</td>\n",
       "      <td>0.970945</td>\n",
       "    </tr>\n",
       "    <tr>\n",
       "      <th>10</th>\n",
       "      <td>19</td>\n",
       "      <td>0.877954</td>\n",
       "      <td>0.009595</td>\n",
       "      <td>0.922455</td>\n",
       "    </tr>\n",
       "    <tr>\n",
       "      <th>14</th>\n",
       "      <td>70</td>\n",
       "      <td>0.877250</td>\n",
       "      <td>0.007491</td>\n",
       "      <td>0.981497</td>\n",
       "    </tr>\n",
       "    <tr>\n",
       "      <th>9</th>\n",
       "      <td>17</td>\n",
       "      <td>0.876733</td>\n",
       "      <td>0.010275</td>\n",
       "      <td>0.916729</td>\n",
       "    </tr>\n",
       "    <tr>\n",
       "      <th>8</th>\n",
       "      <td>15</td>\n",
       "      <td>0.876517</td>\n",
       "      <td>0.010974</td>\n",
       "      <td>0.911208</td>\n",
       "    </tr>\n",
       "    <tr>\n",
       "      <th>7</th>\n",
       "      <td>13</td>\n",
       "      <td>0.874536</td>\n",
       "      <td>0.011799</td>\n",
       "      <td>0.904508</td>\n",
       "    </tr>\n",
       "    <tr>\n",
       "      <th>6</th>\n",
       "      <td>11</td>\n",
       "      <td>0.873721</td>\n",
       "      <td>0.010701</td>\n",
       "      <td>0.897472</td>\n",
       "    </tr>\n",
       "    <tr>\n",
       "      <th>5</th>\n",
       "      <td>9</td>\n",
       "      <td>0.869086</td>\n",
       "      <td>0.012684</td>\n",
       "      <td>0.890258</td>\n",
       "    </tr>\n",
       "    <tr>\n",
       "      <th>4</th>\n",
       "      <td>8</td>\n",
       "      <td>0.864641</td>\n",
       "      <td>0.015348</td>\n",
       "      <td>0.885937</td>\n",
       "    </tr>\n",
       "    <tr>\n",
       "      <th>3</th>\n",
       "      <td>7</td>\n",
       "      <td>0.860680</td>\n",
       "      <td>0.017437</td>\n",
       "      <td>0.882900</td>\n",
       "    </tr>\n",
       "    <tr>\n",
       "      <th>2</th>\n",
       "      <td>5</td>\n",
       "      <td>0.854971</td>\n",
       "      <td>0.019846</td>\n",
       "      <td>0.878509</td>\n",
       "    </tr>\n",
       "    <tr>\n",
       "      <th>1</th>\n",
       "      <td>3</td>\n",
       "      <td>0.849357</td>\n",
       "      <td>0.020504</td>\n",
       "      <td>0.873588</td>\n",
       "    </tr>\n",
       "    <tr>\n",
       "      <th>0</th>\n",
       "      <td>1</td>\n",
       "      <td>0.846880</td>\n",
       "      <td>0.020501</td>\n",
       "      <td>0.871226</td>\n",
       "    </tr>\n",
       "  </tbody>\n",
       "</table>\n",
       "</div>"
      ],
      "text/plain": [
       "    depth  Test_score  Test_std  Train_score\n",
       "12     35    0.881535  0.007312     0.955675\n",
       "11     23    0.880539  0.007810     0.933671\n",
       "13     50    0.879348  0.007243     0.970945\n",
       "10     19    0.877954  0.009595     0.922455\n",
       "14     70    0.877250  0.007491     0.981497\n",
       "9      17    0.876733  0.010275     0.916729\n",
       "8      15    0.876517  0.010974     0.911208\n",
       "7      13    0.874536  0.011799     0.904508\n",
       "6      11    0.873721  0.010701     0.897472\n",
       "5       9    0.869086  0.012684     0.890258\n",
       "4       8    0.864641  0.015348     0.885937\n",
       "3       7    0.860680  0.017437     0.882900\n",
       "2       5    0.854971  0.019846     0.878509\n",
       "1       3    0.849357  0.020504     0.873588\n",
       "0       1    0.846880  0.020501     0.871226"
      ]
     },
     "execution_count": 57,
     "metadata": {},
     "output_type": "execute_result"
    }
   ],
   "source": [
    "scores_df.sort_values('Test_score',ascending=False)"
   ]
  },
  {
   "cell_type": "markdown",
   "metadata": {},
   "source": [
    " Depth with 23 to 35 might be better option for bag of words representation of data. for better time complexity and for low variance , maximum depth taken as 23 with mean cv of 0.880539"
   ]
  },
  {
   "cell_type": "code",
   "execution_count": 9,
   "metadata": {},
   "outputs": [
    {
     "name": "stdout",
     "output_type": "stream",
     "text": [
      "Depth 23\n",
      "Train Score 0.9213243370469166\n",
      "Test Score 0.8763672643728662\n",
      "Test Precision 0.9049877972763098\n",
      "Test Recall 0.9499401144479439\n",
      "Test ConfusionMatrix [[10086  8993]\n",
      " [ 4514 85658]]\n"
     ]
    }
   ],
   "source": [
    "#Test scores\n",
    "from nltk.corpus import stopwords\n",
    "stop = set(stopwords.words('english'))\n",
    "stop.remove('not')\n",
    "stop.remove('very')\n",
    "#CountVectorizer for BoW\n",
    "count_vect = CountVectorizer(stop_words=list(stop),dtype=np.int8)\n",
    "final_counts_train = count_vect.fit_transform(\n",
    "        train_df['final_text'].values)\n",
    "#test\n",
    "X_test = count_vect.transform(test_df['final_text'].values)\n",
    "\n",
    "model = DT(max_depth=23)\n",
    "model.fit(final_counts_train,train_df.Score)\n",
    "#Predicting training data\n",
    "train_list = model.predict(final_counts_train)\n",
    "#Accuracy score\n",
    "score_train = accuracy_score(train_df.Score,train_list)\n",
    "#predict test cv\n",
    "test_list = model.predict(X_test)\n",
    "#Accuracy score\n",
    "score_test = accuracy_score(test_df.Score,test_list)\n",
    "#precision\n",
    "#precision\n",
    "test_precision = precision_score(test_df.Score,test_list)\n",
    "#recall\n",
    "test_recall = recall_score(test_df.Score,test_list)\n",
    "#confusion matrix\n",
    "confusion_matrix_test = confusion_matrix(test_df.Score,test_list)\n",
    "print('Depth',23)\n",
    "print('Train Score', score_train)\n",
    "print('Test Score',score_test)\n",
    "print('Test Precision',test_precision)\n",
    "print('Test Recall',test_recall)\n",
    "print('Test ConfusionMatrix',confusion_matrix_test)"
   ]
  },
  {
   "cell_type": "code",
   "execution_count": 10,
   "metadata": {},
   "outputs": [],
   "source": [
    "import operator\n",
    "importances = model.feature_importances_\n",
    "features = count_vect.get_feature_names()\n",
    "dict_feature = dict(zip(features,importances))\n",
    "sorted_feature = dict(sorted(dict_feature.items(), key=operator.itemgetter(1),reverse=True))"
   ]
  },
  {
   "cell_type": "code",
   "execution_count": 11,
   "metadata": {},
   "outputs": [
    {
     "name": "stdout",
     "output_type": "stream",
     "text": [
      "['not', 'great', 'best', 'disappointed', 'love', 'good', 'worst', 'delicious', 'awful', 'horrible', 'terrible', 'excellent', 'disappointing', 'money', 'favorite', 'bad', 'perfect', 'waste', 'tasty', 'nice', 'yuck', 'wont', 'wa', 'threw', 'disgusting', 'beware', 'find', 'wonderful', 'amazing', 'disappointment', 'thought', 'day', 'rip', 'unfortunately', 'yummy', 'misleading', 'stale', 'poor', 'awesome', 'sweet', 'very', 'product', 'refund', 'year', 'return', 'taste', 'nasty', 'little', 'make', 'store', 'like', 'tasted', 'didnt', 'keep', 'ever', 'bit', 'easy', 'would', 'flavor', 'worse', 'one', 'order', 'get', 'coffee', 'well', 'try', 'found', 'smooth', 'really', 'enjoy', 'even', 'however', 'use', 'time', 'company', 'opened', 'without', 'mediocre', 'never', 'food', 'way', 'review', 'gross', 'longer', 'work', 'cat', 'drink', 'price', 'bland', 'brand', 'changed', 'doe', 'quite', 'nothing', 'ordered', 'customer', 'since', 'buy', 'dog', 'much']\n"
     ]
    }
   ],
   "source": [
    "#To 100 features to seperate the data using Bag of words with RF\n",
    "list_feature = list(sorted_feature.keys())[0:100]\n",
    "list_fval = list(sorted_feature.values())[0:100]\n",
    "print(list_feature)"
   ]
  },
  {
   "cell_type": "code",
   "execution_count": 12,
   "metadata": {},
   "outputs": [
    {
     "data": {
      "text/plain": [
       "([<matplotlib.axis.XTick at 0x154442851a20>,\n",
       "  <matplotlib.axis.XTick at 0x154441e06470>,\n",
       "  <matplotlib.axis.XTick at 0x154441dfb470>,\n",
       "  <matplotlib.axis.XTick at 0x1544593d9e48>,\n",
       "  <matplotlib.axis.XTick at 0x1544599e74e0>,\n",
       "  <matplotlib.axis.XTick at 0x1544599e7b38>,\n",
       "  <matplotlib.axis.XTick at 0x1544599b5208>,\n",
       "  <matplotlib.axis.XTick at 0x1544599b5898>,\n",
       "  <matplotlib.axis.XTick at 0x1544599b5f28>,\n",
       "  <matplotlib.axis.XTick at 0x154458e815f8>,\n",
       "  <matplotlib.axis.XTick at 0x154458e81c88>,\n",
       "  <matplotlib.axis.XTick at 0x154459a2e358>,\n",
       "  <matplotlib.axis.XTick at 0x154459a2e9e8>,\n",
       "  <matplotlib.axis.XTick at 0x154459a160b8>,\n",
       "  <matplotlib.axis.XTick at 0x154459a16748>,\n",
       "  <matplotlib.axis.XTick at 0x154459a16dd8>,\n",
       "  <matplotlib.axis.XTick at 0x1544594c44a8>,\n",
       "  <matplotlib.axis.XTick at 0x1544594c4b38>,\n",
       "  <matplotlib.axis.XTick at 0x154458fd0208>,\n",
       "  <matplotlib.axis.XTick at 0x154458fd0898>,\n",
       "  <matplotlib.axis.XTick at 0x154458fd0f28>,\n",
       "  <matplotlib.axis.XTick at 0x154458fe75f8>,\n",
       "  <matplotlib.axis.XTick at 0x154458fe7c88>,\n",
       "  <matplotlib.axis.XTick at 0x154459ac9358>,\n",
       "  <matplotlib.axis.XTick at 0x154459ac99e8>,\n",
       "  <matplotlib.axis.XTick at 0x154459ac70b8>,\n",
       "  <matplotlib.axis.XTick at 0x154459ac7748>,\n",
       "  <matplotlib.axis.XTick at 0x154459ac7dd8>,\n",
       "  <matplotlib.axis.XTick at 0x154458d0e4a8>,\n",
       "  <matplotlib.axis.XTick at 0x154458d0eb38>,\n",
       "  <matplotlib.axis.XTick at 0x154458bb9208>,\n",
       "  <matplotlib.axis.XTick at 0x154458bb9898>,\n",
       "  <matplotlib.axis.XTick at 0x154458bb9f28>,\n",
       "  <matplotlib.axis.XTick at 0x154458be35f8>,\n",
       "  <matplotlib.axis.XTick at 0x154458be3c88>,\n",
       "  <matplotlib.axis.XTick at 0x1544589cb358>,\n",
       "  <matplotlib.axis.XTick at 0x1544589cb9e8>,\n",
       "  <matplotlib.axis.XTick at 0x15445880f0b8>,\n",
       "  <matplotlib.axis.XTick at 0x15445880f748>,\n",
       "  <matplotlib.axis.XTick at 0x15445880fdd8>,\n",
       "  <matplotlib.axis.XTick at 0x1544588214a8>,\n",
       "  <matplotlib.axis.XTick at 0x154441e123c8>,\n",
       "  <matplotlib.axis.XTick at 0x1544588219e8>,\n",
       "  <matplotlib.axis.XTick at 0x1544585c20b8>,\n",
       "  <matplotlib.axis.XTick at 0x1544585c2748>,\n",
       "  <matplotlib.axis.XTick at 0x1544585c2dd8>,\n",
       "  <matplotlib.axis.XTick at 0x1544584784a8>,\n",
       "  <matplotlib.axis.XTick at 0x154458478b38>,\n",
       "  <matplotlib.axis.XTick at 0x15445849c208>,\n",
       "  <matplotlib.axis.XTick at 0x15445849c898>],\n",
       " <a list of 50 Text xticklabel objects>)"
      ]
     },
     "execution_count": 12,
     "metadata": {},
     "output_type": "execute_result"
    },
    {
     "data": {
      "image/png": "[encoded data removed]",
      "text/plain": [
       "<matplotlib.figure.Figure at 0x1544387990f0>"
      ]
     },
     "metadata": {},
     "output_type": "display_data"
    }
   ],
   "source": [
    "plt.figure(figsize=(12,8))\n",
    "plt.title(\"Feature importances for Bag of Words\")\n",
    "plt.bar(range(len(list_feature[0:50])),list_fval[0:50],\n",
    "       color=\"r\")\n",
    "plt.xticks(range(len(list_feature[0:50])), \n",
    "           list_feature[0:50],rotation = 90)"
   ]
  },
  {
   "cell_type": "markdown",
   "metadata": {},
   "source": [
    "#### Tf-Idf"
   ]
  },
  {
   "cell_type": "code",
   "execution_count": 60,
   "metadata": {},
   "outputs": [],
   "source": [
    "#TFIDF with (1,2) gram with cleaned data \n",
    "#simple cv for train data\n",
    "#tfidf vec \n",
    "tf_idf_vect = TfidfVectorizer(ngram_range=(1,2))\n",
    "X_train = train_df.iloc[:round(train_df.shape[0]*0.70),:]\n",
    "X_test_cv = train_df.iloc[round(train_df.shape[0]*0.70):,:]\n",
    "final_counts_train = tf_idf_vect.fit_transform(\n",
    "        X_train['final_text'].values)\n",
    "#test\n",
    "X_test = tf_idf_vect.transform(X_test_cv['final_text'].values)"
   ]
  },
  {
   "cell_type": "code",
   "execution_count": 61,
   "metadata": {},
   "outputs": [
    {
     "name": "stdout",
     "output_type": "stream",
     "text": [
      "Depth 1 Train Score 0.8600121046378696 Test Score 0.8293451540352529\n",
      "Depth 3 Train Score 0.8622481002443344 Test Score 0.8319342015795805\n",
      "Depth 5 Train Score 0.868266795185044 Test Score 0.8390998483184267\n",
      "Depth 7 Train Score 0.8752717939521643 Test Score 0.8560201893404467\n",
      "Depth 9 Train Score 0.8867431799332003 Test Score 0.8646241958261416\n",
      "Depth 11 Train Score 0.8949250184931967 Test Score 0.8700245828756734\n",
      "Depth 13 Train Score 0.9030508170630562 Test Score 0.8715283226110152\n",
      "Depth 15 Train Score 0.9088677680392728 Test Score 0.8721036665097547\n",
      "Depth 17 Train Score 0.9153459908991056 Test Score 0.8743658141116167\n",
      "Depth 19 Train Score 0.9211965658694045 Test Score 0.8762487577802186\n"
     ]
    }
   ],
   "source": [
    "for i in [1,3,5,7,9,11,13,15,17,19]:\n",
    "    model = DT(max_depth=i).fit(final_counts_train,X_train.Score)\n",
    "    #train score\n",
    "    train_score = model.score(final_counts_train,X_train.Score)\n",
    "    #test score\n",
    "    test_score = model.score(X_test,X_test_cv.Score)\n",
    "    print('Depth',i,'Train Score',train_score,'Test Score',test_score)"
   ]
  },
  {
   "cell_type": "code",
   "execution_count": 12,
   "metadata": {},
   "outputs": [
    {
     "name": "stdout",
     "output_type": "stream",
     "text": [
      "Depth 23 Train Score 0.9326735558494542 Test Score 0.8789816412992312\n",
      "Depth 25 Train Score 0.9371511510613975 Test Score 0.8800538731105183\n",
      "Depth 27 Train Score 0.9402669745130124 Test Score 0.8804069250483811\n",
      "Depth 35 Train Score 0.9523716123825963 Test Score 0.8829175166065171\n",
      "Depth 40 Train Score 0.959421443141826 Test Score 0.8833228725351744\n",
      "Depth 45 Train Score 0.9646275582255498 Test Score 0.8819368167791203\n"
     ]
    }
   ],
   "source": [
    "for i in [23,25,27,35,40,45]:\n",
    "    model = DT(max_depth=i).fit(final_counts_train,X_train.Score)\n",
    "    #train score\n",
    "    train_score = model.score(final_counts_train,X_train.Score)\n",
    "    #test score\n",
    "    test_score = model.score(X_test,X_test_cv.Score)\n",
    "    print('Depth',i,'Train Score',train_score,'Test Score',test_score)"
   ]
  },
  {
   "cell_type": "code",
   "execution_count": 42,
   "metadata": {},
   "outputs": [],
   "source": [
    "param_grid = {'decisiontreeclassifier__max_depth':\n",
    "                 [1,3,5,7,9,11,13,15,17,19,23,35,40,60,90]}\n",
    "model_grid_tfidf = GridSearchCV(make_pipeline(\n",
    "                    TfidfVectorizer(ngram_range=(1,2)),DT()),\n",
    "                                    param_grid=param_grid,\n",
    "                                cv=TimeSeriesSplit(n_splits=10),\n",
    "                                                     n_jobs=-1)\n",
    "model_grid_tfidf.fit(train_df.final_text.values,train_df.Score)"
   ]
  },
  {
   "cell_type": "code",
   "execution_count": 43,
   "metadata": {},
   "outputs": [],
   "source": [
    "dict_scores = []\n",
    "idx = 0\n",
    "for i in model_grid_tfidf.grid_scores_:\n",
    "    dict_score = []\n",
    "    dict_score.append(i[0]['decisiontreeclassifier__max_depth'])\n",
    "    dict_score.append(i[1])\n",
    "    dict_score.append(i[2].std())\n",
    "    dict_score.append(model_grid_tfidf.cv_results_['mean_train_score'][idx])\n",
    "    dict_scores.append(dict_score)\n",
    "    idx = idx + 1\n",
    "scores_df = pd.DataFrame(dict_scores,columns=['depth','Test_score',\n",
    "                                               'Test_std','Train_score'])"
   ]
  },
  {
   "cell_type": "code",
   "execution_count": 44,
   "metadata": {},
   "outputs": [
    {
     "data": {
      "text/plain": [
       "<matplotlib.legend.Legend at 0x149213874710>"
      ]
     },
     "execution_count": 44,
     "metadata": {},
     "output_type": "execute_result"
    },
    {
     "data": {
      "image/png": "[encoded data removed]",
      "text/plain": [
       "<matplotlib.figure.Figure at 0x14922c3ad0f0>"
      ]
     },
     "metadata": {},
     "output_type": "display_data"
    }
   ],
   "source": [
    "plt.figure(figsize=(12,8))\n",
    "plt.plot(scores_df.depth,scores_df.Train_score,label='Train Score')\n",
    "plt.plot(scores_df.depth,scores_df.Test_score,label='Test Score')\n",
    "plt.title('Validation curve for Tf-Idf model with different max_depth')\n",
    "plt.xlabel('Depth')\n",
    "plt.ylabel('Score')\n",
    "plt.legend()"
   ]
  },
  {
   "cell_type": "code",
   "execution_count": 46,
   "metadata": {},
   "outputs": [
    {
     "data": {
      "text/html": [
       "<div>\n",
       "<style scoped>\n",
       "    .dataframe tbody tr th:only-of-type {\n",
       "        vertical-align: middle;\n",
       "    }\n",
       "\n",
       "    .dataframe tbody tr th {\n",
       "        vertical-align: top;\n",
       "    }\n",
       "\n",
       "    .dataframe thead th {\n",
       "        text-align: right;\n",
       "    }\n",
       "</style>\n",
       "<table border=\"1\" class=\"dataframe\">\n",
       "  <thead>\n",
       "    <tr style=\"text-align: right;\">\n",
       "      <th></th>\n",
       "      <th>depth</th>\n",
       "      <th>Test_score</th>\n",
       "      <th>Test_std</th>\n",
       "      <th>Train_score</th>\n",
       "    </tr>\n",
       "  </thead>\n",
       "  <tbody>\n",
       "    <tr>\n",
       "      <th>12</th>\n",
       "      <td>40</td>\n",
       "      <td>0.884301</td>\n",
       "      <td>0.005215</td>\n",
       "      <td>0.966856</td>\n",
       "    </tr>\n",
       "    <tr>\n",
       "      <th>11</th>\n",
       "      <td>35</td>\n",
       "      <td>0.884120</td>\n",
       "      <td>0.005923</td>\n",
       "      <td>0.960791</td>\n",
       "    </tr>\n",
       "    <tr>\n",
       "      <th>10</th>\n",
       "      <td>23</td>\n",
       "      <td>0.883378</td>\n",
       "      <td>0.008458</td>\n",
       "      <td>0.939165</td>\n",
       "    </tr>\n",
       "    <tr>\n",
       "      <th>9</th>\n",
       "      <td>19</td>\n",
       "      <td>0.881751</td>\n",
       "      <td>0.009670</td>\n",
       "      <td>0.929148</td>\n",
       "    </tr>\n",
       "    <tr>\n",
       "      <th>13</th>\n",
       "      <td>60</td>\n",
       "      <td>0.881384</td>\n",
       "      <td>0.005097</td>\n",
       "      <td>0.981552</td>\n",
       "    </tr>\n",
       "    <tr>\n",
       "      <th>8</th>\n",
       "      <td>17</td>\n",
       "      <td>0.880918</td>\n",
       "      <td>0.010221</td>\n",
       "      <td>0.923587</td>\n",
       "    </tr>\n",
       "    <tr>\n",
       "      <th>7</th>\n",
       "      <td>15</td>\n",
       "      <td>0.879883</td>\n",
       "      <td>0.010582</td>\n",
       "      <td>0.917458</td>\n",
       "    </tr>\n",
       "    <tr>\n",
       "      <th>14</th>\n",
       "      <td>90</td>\n",
       "      <td>0.878903</td>\n",
       "      <td>0.005205</td>\n",
       "      <td>0.990540</td>\n",
       "    </tr>\n",
       "    <tr>\n",
       "      <th>6</th>\n",
       "      <td>13</td>\n",
       "      <td>0.878424</td>\n",
       "      <td>0.011582</td>\n",
       "      <td>0.911619</td>\n",
       "    </tr>\n",
       "    <tr>\n",
       "      <th>5</th>\n",
       "      <td>11</td>\n",
       "      <td>0.876616</td>\n",
       "      <td>0.012583</td>\n",
       "      <td>0.905149</td>\n",
       "    </tr>\n",
       "  </tbody>\n",
       "</table>\n",
       "</div>"
      ],
      "text/plain": [
       "    depth  Test_score  Test_std  Train_score\n",
       "12     40    0.884301  0.005215     0.966856\n",
       "11     35    0.884120  0.005923     0.960791\n",
       "10     23    0.883378  0.008458     0.939165\n",
       "9      19    0.881751  0.009670     0.929148\n",
       "13     60    0.881384  0.005097     0.981552\n",
       "8      17    0.880918  0.010221     0.923587\n",
       "7      15    0.879883  0.010582     0.917458\n",
       "14     90    0.878903  0.005205     0.990540\n",
       "6      13    0.878424  0.011582     0.911619\n",
       "5      11    0.876616  0.012583     0.905149"
      ]
     },
     "execution_count": 46,
     "metadata": {},
     "output_type": "execute_result"
    }
   ],
   "source": [
    "scores_df.sort_values('Test_score',ascending=False).head(10)"
   ]
  },
  {
   "cell_type": "markdown",
   "metadata": {},
   "source": [
    "Better scores is greater than 23 and 23 is good to choose with mean cv of 0.883378"
   ]
  },
  {
   "cell_type": "code",
   "execution_count": 13,
   "metadata": {},
   "outputs": [
    {
     "name": "stdout",
     "output_type": "stream",
     "text": [
      "depth 23\n",
      "Train Score 0.926549505727287\n",
      "Test Score 0.8802482357140896\n",
      "Test Precision 0.9094772179197076\n",
      "Test Recall 0.9494077984296677\n",
      "Test ConfusionMatrix [[10558  8521]\n",
      " [ 4562 85610]]\n"
     ]
    }
   ],
   "source": [
    "#test scores\n",
    "#TFIDF with (1,2) gram with cleaned data \n",
    "#tfidf vec \n",
    "tf_idf_vect = TfidfVectorizer(ngram_range=(1,2))\n",
    "final_counts_train = tf_idf_vect.fit_transform(\n",
    "        train_df['final_text'].values)\n",
    "#test\n",
    "X_test = tf_idf_vect.transform(test_df['final_text'].values)\n",
    "\n",
    "model = DT(max_depth=23,random_state=25)\n",
    "model.fit(final_counts_train,train_df.Score)\n",
    "#Predicting training data\n",
    "train_list = model.predict(final_counts_train)\n",
    "#Accuracy score\n",
    "score_train = accuracy_score(train_df.Score,train_list)\n",
    "#predict test cv\n",
    "test_list = model.predict(X_test)\n",
    "#Accuracy score\n",
    "score_test = accuracy_score(test_df.Score,test_list)\n",
    "#precision\n",
    "#precision\n",
    "test_precision = precision_score(test_df.Score,test_list)\n",
    "#recall\n",
    "test_recall = recall_score(test_df.Score,test_list)\n",
    "#confusion matrix\n",
    "confusion_matrix_test = confusion_matrix(test_df.Score,test_list)\n",
    "print('depth',23)\n",
    "print('Train Score', score_train)\n",
    "print('Test Score',score_test)\n",
    "print('Test Precision',test_precision)\n",
    "print('Test Recall',test_recall)\n",
    "print('Test ConfusionMatrix',confusion_matrix_test)"
   ]
  },
  {
   "cell_type": "code",
   "execution_count": 14,
   "metadata": {},
   "outputs": [],
   "source": [
    "import operator\n",
    "importances = model.feature_importances_\n",
    "features = count_vect.get_feature_names()\n",
    "dict_feature = dict(zip(features,importances))\n",
    "sorted_feature = dict(sorted(dict_feature.items(), key=operator.itemgetter(1),reverse=True))"
   ]
  },
  {
   "cell_type": "code",
   "execution_count": 15,
   "metadata": {},
   "outputs": [
    {
     "name": "stdout",
     "output_type": "stream",
     "text": [
      "['ovaltine', 'smartdogs', 'minuscule', 'ambivalence', 'everwhere', 'ob', 'wildeberryaki', 'untraceable', 'wrangling', 'benzyl', 'prima', 'domesticate', 'stroke', 'greediest', 'nawob', 'duetto', 'cloveaload', 'jaudie', 'withing', 'goldenflax', 'hagaman', 'williamsburg', 'ladygrey', 'undisturbed', 'craze', 'bilbo', 'disapproving', 'undercut', 'aa', 'aachen', 'aachener', 'aaf', 'aagghh', 'aah', 'aahhyaa', 'aahing', 'aahs', 'aammaazziinngg', 'aap', 'aardvark', 'aargh', 'aaron', 'aarp', 'aarrgh', 'aarrghh', 'aauw', 'ab', 'aback', 'abacus', 'abada', 'abalone', 'abamectin', 'abandon', 'abandoned', 'abandoning', 'abash', 'abated', 'abates', 'abattoir', 'abb', 'abba', 'abbas', 'abbazabba', 'abbey', 'abbie', 'abbondanza', 'abbot', 'abbott', 'abbreviated', 'abbreviating', 'abbreviation', 'abby', 'abc', 'abcstores', 'abd', 'abdomen', 'abdominal', 'abduct', 'abe', 'abel', 'aberdeen', 'aberfoyle', 'abernook', 'aberrant', 'aberration', 'abetter', 'abhor', 'abhorrent', 'abhors', 'abi', 'abid', 'abide', 'abiding', 'abietate', 'abigirl', 'ability', 'abipon', 'abit', 'abject', 'abjectly']\n"
     ]
    }
   ],
   "source": [
    "#To 100 features to seperate the data using Bag of words with RF\n",
    "list_feature = list(sorted_feature.keys())[0:100]\n",
    "list_fval = list(sorted_feature.values())[0:100]\n",
    "print(list_feature)"
   ]
  },
  {
   "cell_type": "code",
   "execution_count": 16,
   "metadata": {},
   "outputs": [
    {
     "data": {
      "text/plain": [
       "([<matplotlib.axis.XTick at 0x1543f38bef98>,\n",
       "  <matplotlib.axis.XTick at 0x1543f3b206a0>,\n",
       "  <matplotlib.axis.XTick at 0x1543f3897940>,\n",
       "  <matplotlib.axis.XTick at 0x15443f1552b0>,\n",
       "  <matplotlib.axis.XTick at 0x15443f155940>,\n",
       "  <matplotlib.axis.XTick at 0x15443f155fd0>,\n",
       "  <matplotlib.axis.XTick at 0x15444a1cb6a0>,\n",
       "  <matplotlib.axis.XTick at 0x15444a1cbd30>,\n",
       "  <matplotlib.axis.XTick at 0x1543f25ca400>,\n",
       "  <matplotlib.axis.XTick at 0x1543f25caa90>,\n",
       "  <matplotlib.axis.XTick at 0x1543f2c34160>,\n",
       "  <matplotlib.axis.XTick at 0x1543f2c347f0>,\n",
       "  <matplotlib.axis.XTick at 0x1543f2c34e80>,\n",
       "  <matplotlib.axis.XTick at 0x154441ac4550>,\n",
       "  <matplotlib.axis.XTick at 0x154441ac4be0>,\n",
       "  <matplotlib.axis.XTick at 0x15443e8ec2b0>,\n",
       "  <matplotlib.axis.XTick at 0x15443e8ec940>,\n",
       "  <matplotlib.axis.XTick at 0x15443e8ecfd0>,\n",
       "  <matplotlib.axis.XTick at 0x1543ecf286a0>,\n",
       "  <matplotlib.axis.XTick at 0x1543ecf28d30>,\n",
       "  <matplotlib.axis.XTick at 0x15443b948400>,\n",
       "  <matplotlib.axis.XTick at 0x15443b948a90>,\n",
       "  <matplotlib.axis.XTick at 0x154440b96160>,\n",
       "  <matplotlib.axis.XTick at 0x154440b967f0>,\n",
       "  <matplotlib.axis.XTick at 0x154440b96e80>,\n",
       "  <matplotlib.axis.XTick at 0x1543f0051550>,\n",
       "  <matplotlib.axis.XTick at 0x1543f0051be0>,\n",
       "  <matplotlib.axis.XTick at 0x1543ef0da2b0>,\n",
       "  <matplotlib.axis.XTick at 0x1543ef0da940>,\n",
       "  <matplotlib.axis.XTick at 0x1543ef0dafd0>,\n",
       "  <matplotlib.axis.XTick at 0x1543f059d6a0>,\n",
       "  <matplotlib.axis.XTick at 0x1543f059dd30>,\n",
       "  <matplotlib.axis.XTick at 0x1543f20fa400>,\n",
       "  <matplotlib.axis.XTick at 0x1543f20faa90>,\n",
       "  <matplotlib.axis.XTick at 0x154456f3a160>,\n",
       "  <matplotlib.axis.XTick at 0x154456f3a7f0>,\n",
       "  <matplotlib.axis.XTick at 0x154456f3ae80>,\n",
       "  <matplotlib.axis.XTick at 0x15444cf3b550>,\n",
       "  <matplotlib.axis.XTick at 0x15444cf3bbe0>,\n",
       "  <matplotlib.axis.XTick at 0x1544469ab2b0>,\n",
       "  <matplotlib.axis.XTick at 0x1544469ab940>,\n",
       "  <matplotlib.axis.XTick at 0x1544469abfd0>,\n",
       "  <matplotlib.axis.XTick at 0x1543ecefb6a0>,\n",
       "  <matplotlib.axis.XTick at 0x1543ecefbd30>,\n",
       "  <matplotlib.axis.XTick at 0x1543f0ed8400>,\n",
       "  <matplotlib.axis.XTick at 0x1543f0ed8a90>,\n",
       "  <matplotlib.axis.XTick at 0x1543f267a160>,\n",
       "  <matplotlib.axis.XTick at 0x1543f267a7f0>,\n",
       "  <matplotlib.axis.XTick at 0x1543f267ae80>,\n",
       "  <matplotlib.axis.XTick at 0x154441a01550>],\n",
       " <a list of 50 Text xticklabel objects>)"
      ]
     },
     "execution_count": 16,
     "metadata": {},
     "output_type": "execute_result"
    },
    {
     "data": {
      "image/png": "[encoded data removed]",
      "text/plain": [
       "<matplotlib.figure.Figure at 0x154458478e10>"
      ]
     },
     "metadata": {},
     "output_type": "display_data"
    }
   ],
   "source": [
    "plt.figure(figsize=(12,8))\n",
    "plt.title(\"Feature importances\")\n",
    "plt.bar(range(len(list_feature[0:50])),list_fval[0:50],\n",
    "       color=\"r\")\n",
    "plt.xticks(range(len(list_feature[0:50])), \n",
    "           list_feature[0:50],rotation = 90)"
   ]
  },
  {
   "cell_type": "markdown",
   "metadata": {},
   "source": [
    "#### Observations:<br>\n",
    "1. For Avg Word2Vec representation of data got best cv at depth = 8 and mean cv score is 0.879296.\n",
    "    *  Train Score 0.8931115644123646\n",
    "    *  Test Score 0.8619692268262991\n",
    "    *  Test Precision 0.8777263581488933\n",
    "    *  Test Recall 0.9675509027192477\n",
    "    *  Test ConfusionMatrix\n",
    "    \\begin{equation}\n",
    "    \\begin{bmatrix}\n",
    "    & 6925 & 12154 &  \\\\\n",
    "    & 2926 & 87246 & \n",
    "    \\end{bmatrix}\n",
    "    \\end{equation}\n",
    "<br>\n",
    "2. For Tf-Idf Word2Vec representation got best cv at depth = 9 with cv score of 0.872741.\n",
    "    *  Train Score 0.8931586380040797\n",
    "    *  Test Score 0.8538869209435154\n",
    "    *  Test Precision 0.8665547048653989\n",
    "    *  Test Recall 0.9727742536485827\n",
    "    *  Test ConfusionMatrix\n",
    "    \\begin{equation}\n",
    "    \\begin{bmatrix}\n",
    "    & 5571 & 13508 &  \\\\\n",
    "    & 2455 & 87717 & \n",
    "    \\end{bmatrix}\n",
    "    \\end{equation}\n",
    "<br>\n",
    "3. For Bag of Words representation , got best cv at depth = 23 with mean cv score of 0.880539.\n",
    "    *  Train Score 0.9211909618703907\n",
    "    *  Test Score 0.8762848852642081\n",
    "    *  Test Precision 0.9049873203719357\n",
    "    *  Test Recall 0.9498292152774698\n",
    "    *  Test ConfusionMatrix\n",
    "    \\begin{equation}\n",
    "    \\begin{bmatrix}\n",
    "    & 10087 & 8992 &  \\\\\n",
    "    & 4524 & 85648 & \n",
    "    \\end{bmatrix}\n",
    "    \\end{equation}\n",
    "<br>\n",
    "4. For Tf-Idf with bi-gram representation, got best cv at depth = 23 is  with mean cv score of 0.883378.\n",
    "    *  Train Score 0.926549505727287\n",
    "    *  Test Score 0.8802482357140896\n",
    "    *  Test Precision 0.9094772179197076\n",
    "    *  Test Recall 0.9494077984296677\n",
    "    *  Test ConfusionMatrix \n",
    "    \\begin{equation}\n",
    "    \\begin{bmatrix}\n",
    "    & 10558 & 8521 &  \\\\\n",
    "    & 4562 & 85610 & \n",
    "    \\end{bmatrix}\n",
    "    \\end{equation}\n",
    "<br>"
   ]
  },
  {
   "cell_type": "code",
   "execution_count": null,
   "metadata": {},
   "outputs": [],
   "source": []
  }
 ],
 "metadata": {
  "kernelspec": {
   "display_name": "Python 3",
   "language": "python",
   "name": "python3"
  },
  "language_info": {
   "codemirror_mode": {
    "name": "ipython",
    "version": 3
   },
   "file_extension": ".py",
   "mimetype": "text/x-python",
   "name": "python",
   "nbconvert_exporter": "python",
   "pygments_lexer": "ipython3",
   "version": "3.6.4"
  }
 },
 "nbformat": 4,
 "nbformat_minor": 2
}
