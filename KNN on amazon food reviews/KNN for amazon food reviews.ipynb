{
 "cells": [
  {
   "cell_type": "markdown",
   "metadata": {},
   "source": [
    "## K-NN for Amazon food reviews"
   ]
  },
  {
   "cell_type": "code",
   "execution_count": 1,
   "metadata": {},
   "outputs": [],
   "source": [
    "#importing required Modules\n",
    "%matplotlib inline\n",
    "import sqlite3\n",
    "import pandas as pd\n",
    "import numpy as np\n",
    "import nltk\n",
    "import string\n",
    "import pickle\n",
    "import matplotlib.pyplot as plt\n",
    "import seaborn as sns\n",
    "from sklearn.feature_extraction.text import TfidfTransformer\n",
    "from sklearn.feature_extraction.text import TfidfVectorizer\n",
    "from sklearn.feature_extraction.text import CountVectorizer\n",
    "from sklearn.metrics import confusion_matrix\n",
    "from sklearn import metrics\n",
    "from sklearn.metrics import accuracy_score\n",
    "from sklearn.metrics import roc_curve, auc\n",
    "from nltk.stem.porter import PorterStemmer\n",
    "from sklearn.decomposition import TruncatedSVD\n",
    "from sklearn.preprocessing import StandardScaler\n",
    "from sklearn.neighbors import KNeighborsClassifier\n",
    "from sklearn.model_selection import TimeSeriesSplit"
   ]
  },
  {
   "cell_type": "code",
   "execution_count": 2,
   "metadata": {},
   "outputs": [],
   "source": [
    "#getting data \n",
    "conn = sqlite3.connect('final.sqlite')\n",
    "final_amazon = pd.read_sql_query(\"\"\"\n",
    "SELECT *\n",
    "FROM Reviews\n",
    "\"\"\", conn) "
   ]
  },
  {
   "cell_type": "code",
   "execution_count": 2,
   "metadata": {},
   "outputs": [],
   "source": [
    "def cleanpunc(sentence): \n",
    "    '''\n",
    "    function to clean the word of any punctuation or special characters\n",
    "    '''\n",
    "    cleaned = re.sub(r'[?|!|\\'|\"|#]',r'',sentence)\n",
    "    cleaned = re.sub(r'[.|,|)|(|\\|/]',r' ',cleaned)\n",
    "    return  cleaned\n",
    "def cleanhtml(sentence): \n",
    "    '''\n",
    "    function to clean the word of any html-tags\n",
    "    '''\n",
    "    cleanr = re.compile('<.*?>')\n",
    "    cleantext = re.sub(cleanr, ' ', sentence)\n",
    "    return cleantext"
   ]
  },
  {
   "cell_type": "code",
   "execution_count": 3,
   "metadata": {},
   "outputs": [],
   "source": [
    "#getting stop words\n",
    "from nltk.corpus import stopwords\n",
    "stop = set(stopwords.words('english'))"
   ]
  },
  {
   "cell_type": "code",
   "execution_count": 8,
   "metadata": {},
   "outputs": [],
   "source": [
    "#Cleaning sentances\n",
    "import re\n",
    "from nltk.stem import WordNetLemmatizer\n",
    "lem = WordNetLemmatizer()\n",
    "from nltk.corpus import stopwords\n",
    "stop = set(stopwords.words('english')) #set of stopwords\n",
    "stop.remove('not')\n",
    "stop.remove('very')\n",
    "i=0\n",
    "list_of_sent_clean=[]\n",
    "for sent in final_amazon.CleanedTextBow.values:\n",
    "    filtered_sentence=[]\n",
    "    #sent=cleanhtml(sent)\n",
    "    for w in sent.split():\n",
    "        for cleaned_words in cleanpunc(w).split():\n",
    "            cleaned_words = cleaned_words.strip()\n",
    "            if( (cleaned_words.isalpha()) & \\\n",
    "               (cleaned_words.lower() not in stop ) & \\\n",
    "                (len(cleaned_words)>2)): \n",
    "                tmp = lem.lemmatize(cleaned_words.lower())\n",
    "                filtered_sentence.append(tmp)\n",
    "            else:\n",
    "                continue \n",
    "    list_of_sent_clean.append(' '.join(filtered_sentence))"
   ]
  },
  {
   "cell_type": "code",
   "execution_count": 9,
   "metadata": {},
   "outputs": [],
   "source": [
    "#Cleaning summary text\n",
    "import re\n",
    "from nltk.stem import WordNetLemmatizer\n",
    "lem = WordNetLemmatizer()\n",
    "i=0\n",
    "list_of_summary_clean=[]\n",
    "for sent in final_amazon.Summary.values:\n",
    "    filtered_sentence=[]\n",
    "    sent=cleanhtml(sent)\n",
    "    for w in sent.split():\n",
    "        for cleaned_words in cleanpunc(w).split():\n",
    "            if(cleaned_words.isalpha() & \\\n",
    "               (cleaned_words.lower() not in stop) & \\\n",
    "                  (len(cleaned_words)>2)): \n",
    "                tmp = lem.lemmatize(cleaned_words.lower())\n",
    "                filtered_sentence.append(tmp)\n",
    "            else:\n",
    "                continue \n",
    "    list_of_summary_clean.append(' '.join(filtered_sentence))"
   ]
  },
  {
   "cell_type": "code",
   "execution_count": 10,
   "metadata": {},
   "outputs": [],
   "source": [
    "#concatinating summary text and total text\n",
    "final_amazon['final_text']= list_of_summary_clean\n",
    "final_amazon['final_text'] = final_amazon['final_text'] + ' ' + list_of_sent_clean"
   ]
  },
  {
   "cell_type": "code",
   "execution_count": 11,
   "metadata": {},
   "outputs": [],
   "source": [
    "# store final table into an SQlLite table for future.\n",
    "conn = sqlite3.connect('final_clean.sqlite')\n",
    "c=conn.cursor()\n",
    "conn.text_factory = str\n",
    "final_amazon.to_sql('Reviews_final', conn, flavor=None, schema=None,\n",
    "             if_exists='replace', index=True, \n",
    "                    index_label=None, chunksize=None, dtype=None)"
   ]
  },
  {
   "cell_type": "code",
   "execution_count": 3,
   "metadata": {},
   "outputs": [],
   "source": [
    "conn = sqlite3.connect('final_clean.sqlite')\n",
    "final_review = pd.read_sql_query(\"\"\"\n",
    "SELECT *\n",
    "FROM Reviews_final\n",
    "\"\"\", conn) "
   ]
  },
  {
   "cell_type": "code",
   "execution_count": 4,
   "metadata": {},
   "outputs": [],
   "source": [
    "#Sampling data \n",
    "s = final_review.sample(n=70000,random_state=0)"
   ]
  },
  {
   "cell_type": "code",
   "execution_count": 5,
   "metadata": {},
   "outputs": [],
   "source": [
    "s.drop('level_0',axis=1,inplace=True)"
   ]
  },
  {
   "cell_type": "code",
   "execution_count": 6,
   "metadata": {},
   "outputs": [
    {
     "name": "stdout",
     "output_type": "stream",
     "text": [
      "<class 'pandas.core.frame.DataFrame'>\n",
      "Int64Index: 70000 entries, 68546 to 359470\n",
      "Data columns (total 14 columns):\n",
      "index                     70000 non-null int64\n",
      "Id                        70000 non-null int64\n",
      "ProductId                 70000 non-null object\n",
      "UserId                    70000 non-null object\n",
      "ProfileName               70000 non-null object\n",
      "HelpfulnessNumerator      70000 non-null int64\n",
      "HelpfulnessDenominator    70000 non-null int64\n",
      "Score                     70000 non-null object\n",
      "Time                      70000 non-null int64\n",
      "Summary                   70000 non-null object\n",
      "Text                      70000 non-null object\n",
      "CleanedText               70000 non-null object\n",
      "CleanedTextBow            70000 non-null object\n",
      "final_text                70000 non-null object\n",
      "dtypes: int64(5), object(9)\n",
      "memory usage: 8.0+ MB\n"
     ]
    }
   ],
   "source": [
    "#information about data\n",
    "s.info()"
   ]
  },
  {
   "cell_type": "code",
   "execution_count": 7,
   "metadata": {},
   "outputs": [],
   "source": [
    "#SORT by time for TBS\n",
    "s = s.sort_values(by='Time')"
   ]
  },
  {
   "cell_type": "code",
   "execution_count": 8,
   "metadata": {},
   "outputs": [],
   "source": [
    "#changing lables to 1 or 0\n",
    "s.Score = s.Score.apply(lambda x:\n",
    "                     1 if x == 'positive' else 0)"
   ]
  },
  {
   "cell_type": "code",
   "execution_count": 9,
   "metadata": {},
   "outputs": [],
   "source": [
    "#Converting to int8\n",
    "s.HelpfulnessNumerator = final_review.\\\n",
    "                      HelpfulnessNumerator.astype(np.int8)\n",
    "s.HelpfulnessDenominator = final_review.\\\n",
    "                      HelpfulnessDenominator.astype(np.int8)"
   ]
  },
  {
   "cell_type": "code",
   "execution_count": 10,
   "metadata": {},
   "outputs": [
    {
     "data": {
      "text/plain": [
       "70000"
      ]
     },
     "execution_count": 10,
     "metadata": {},
     "output_type": "execute_result"
    }
   ],
   "source": [
    "round(s.shape[0]*0.70) + round(s.shape[0]*0.30)"
   ]
  },
  {
   "cell_type": "code",
   "execution_count": 11,
   "metadata": {},
   "outputs": [],
   "source": [
    "#Splitting Dataframe for train and test\n",
    "train_df = s.iloc[:round(s.shape[0]*0.70),:]\n",
    "test_df = s.iloc[round(s.shape[0]*0.70):,:]"
   ]
  },
  {
   "cell_type": "code",
   "execution_count": 12,
   "metadata": {},
   "outputs": [],
   "source": [
    "#saving to disk\n",
    "train_df.to_csv('train_df.csv')\n",
    "test_df.to_csv('test_df.csv')"
   ]
  },
  {
   "cell_type": "code",
   "execution_count": 15,
   "metadata": {},
   "outputs": [
    {
     "name": "stdout",
     "output_type": "stream",
     "text": [
      "(49000, 14)\n",
      "(21000, 14)\n"
     ]
    }
   ],
   "source": [
    "print(train_df.shape)\n",
    "print(test_df.shape)"
   ]
  },
  {
   "cell_type": "markdown",
   "metadata": {},
   "source": [
    "### Bag of Words"
   ]
  },
  {
   "cell_type": "code",
   "execution_count": 20,
   "metadata": {},
   "outputs": [],
   "source": [
    "#traing scores for each k between 1-15\n",
    "list1 = list(range(1,16,2))\n",
    "list1.append(25)\n",
    "scores_train = []\n",
    "for k in list1:\n",
    "    #CountVectorizer for BoW\n",
    "    count_vect = CountVectorizer(dtype=np.int8)\n",
    "    final_counts_train = count_vect.fit_transform(\n",
    "    train_df['final_text'].values)\n",
    "    X = final_counts_train.toarray()\n",
    "    #knn instance\n",
    "    model_knn = KNeighborsClassifier(n_neighbors=k,n_jobs=-1)\n",
    "    model_knn.fit(X,train_df.Score)\n",
    "    #Predicting training data\n",
    "    train_list = model_knn.predict(X)\n",
    "    #Accuracy score\n",
    "    score_train = accuracy_score(train_df.Score,train_list)\n",
    "    scores_train.append(score_train)\n",
    "#saving for further use\n",
    "pickle.dump(scores_train,open('scores_train.p','wb'))"
   ]
  },
  {
   "cell_type": "code",
   "execution_count": 29,
   "metadata": {},
   "outputs": [],
   "source": [
    "scores_train = pickle.load(open('scores_train.p','rb'))"
   ]
  },
  {
   "cell_type": "code",
   "execution_count": 22,
   "metadata": {
    "scrolled": true
   },
   "outputs": [
    {
     "name": "stdout",
     "output_type": "stream",
     "text": [
      "train score corresponding to k value \n",
      "1   1.0\n",
      "3   0.9140408163265306\n",
      "5   0.8932448979591837\n",
      "7   0.8848163265306123\n",
      "9   0.879\n",
      "11   0.8758571428571429\n",
      "13   0.8724897959183674\n",
      "15   0.8704285714285714\n",
      "25   0.865\n"
     ]
    }
   ],
   "source": [
    "print('train score corresponding to k value ')\n",
    "i = 0\n",
    "for k in list1:  \n",
    "    print(k, ' ', scores_train[i])\n",
    "    i= i + 1"
   ]
  },
  {
   "cell_type": "code",
   "execution_count": 15,
   "metadata": {},
   "outputs": [],
   "source": [
    "#10 fold crossvalidation splits for Time series data\n",
    "tscv_10 = TimeSeriesSplit(n_splits=10)"
   ]
  },
  {
   "cell_type": "code",
   "execution_count": 17,
   "metadata": {},
   "outputs": [],
   "source": [
    "#time series data cross validation 10 fold\n",
    "scores_bow_cv = []\n",
    "for k in list1:\n",
    "    scores = []\n",
    "    #10 fold cv\n",
    "    for train_idx,test_idx in tscv_10.split(train_df):\n",
    "        count_vect = CountVectorizer(dtype=np.int8)\n",
    "        #train data\n",
    "        X_train = train_df.iloc[train_idx]\n",
    "        #test data\n",
    "        X_test = train_df.iloc[test_idx]\n",
    "        #bow wit train data\n",
    "        final_counts_train = count_vect.fit_transform(\n",
    "        X_train['final_text'].values)\n",
    "        X = final_counts_train.toarray()\n",
    "        #knn instance wit kd tree\n",
    "        model_knn = KNeighborsClassifier(n_neighbors=k,\n",
    "                            algorithm='kd_tree',n_jobs=-1)\n",
    "        model_knn.fit(X,X_train.Score)\n",
    "        #bow transform for test data\n",
    "        final_counts_test = count_vect.transform(\n",
    "        X_test['final_text'].values)\n",
    "        X_test_array = final_counts_test.toarray()\n",
    "        #predicting test data\n",
    "        test_list = model_knn.predict(X_test_array)\n",
    "        #test accuracy for cv fold\n",
    "        score = accuracy_score(X_test.Score,test_list)\n",
    "        scores.append(score)\n",
    "    scores_bow_cv.append(scores)\n",
    "#saving to disk for furter use \n",
    "pickle.dump(scores_bow_cv,open('scores_bow_cv.p','wb'))"
   ]
  },
  {
   "cell_type": "code",
   "execution_count": 30,
   "metadata": {},
   "outputs": [],
   "source": [
    "scores_bow_cv = pickle.load(open('scores_bow_cv.p','rb'))"
   ]
  },
  {
   "cell_type": "code",
   "execution_count": 31,
   "metadata": {},
   "outputs": [
    {
     "name": "stdout",
     "output_type": "stream",
     "text": [
      "9\n",
      "10\n"
     ]
    }
   ],
   "source": [
    "print(len(scores_bow_cv))\n",
    "print(len(scores_bow_cv[0]))"
   ]
  },
  {
   "cell_type": "code",
   "execution_count": 23,
   "metadata": {},
   "outputs": [
    {
     "data": {
      "text/plain": [
       "array([0.81082173, 0.84811405, 0.85071846, 0.84838348, 0.8473956 ,\n",
       "       0.84694656, 0.84654243, 0.84631792, 0.84584643])"
      ]
     },
     "execution_count": 23,
     "metadata": {},
     "output_type": "execute_result"
    }
   ],
   "source": [
    "#mean cv scores\n",
    "mean_cv = np.array(scores_bow_cv).mean(axis=1)\n",
    "mean_cv"
   ]
  },
  {
   "cell_type": "code",
   "execution_count": 24,
   "metadata": {},
   "outputs": [
    {
     "data": {
      "text/plain": [
       "array([0.01058437, 0.01332477, 0.01719177, 0.0185471 , 0.01898892,\n",
       "       0.01911855, 0.01936252, 0.01954648, 0.01990145])"
      ]
     },
     "execution_count": 24,
     "metadata": {},
     "output_type": "execute_result"
    }
   ],
   "source": [
    "std_cv = np.array(scores_bow_cv).std(axis=1)\n",
    "std_cv"
   ]
  },
  {
   "cell_type": "code",
   "execution_count": 28,
   "metadata": {},
   "outputs": [
    {
     "data": {
      "text/plain": [
       "<matplotlib.legend.Legend at 0x14fb20537c50>"
      ]
     },
     "execution_count": 28,
     "metadata": {},
     "output_type": "execute_result"
    },
    {
     "data": {
      "image/png": "[encoded data removed]",
      "text/plain": [
       "<matplotlib.figure.Figure at 0x14fb13fb1dd8>"
      ]
     },
     "metadata": {},
     "output_type": "display_data"
    }
   ],
   "source": [
    "plt.figure(figsize=(14,8))\n",
    "plt.plot(list1,\n",
    "         scores_train,label='Train Scores')\n",
    "plt.plot(list1,\n",
    "         mean_cv,label = 'CV mean score')\n",
    "plt.xlabel('K Values')\n",
    "plt.ylabel('Accuracy Score')\n",
    "plt.ylim(0.7,1)\n",
    "plt.title('Validation Curve with differnt K for BOW Representation of text')\n",
    "plt.legend()"
   ]
  },
  {
   "cell_type": "code",
   "execution_count": 137,
   "metadata": {},
   "outputs": [
    {
     "name": "stdout",
     "output_type": "stream",
     "text": [
      "k = 5 0.8494285714285714\n"
     ]
    }
   ],
   "source": [
    "model_knn = KNeighborsClassifier(n_neighbors=5,n_jobs=-1)\n",
    "model_knn.fit(X,train_df.Score)\n",
    "test_list = model_knn.predict(X_test)\n",
    "score = accuracy_score(test_df.Score,test_list)\n",
    "print('k = 5' , score)"
   ]
  },
  {
   "cell_type": "markdown",
   "metadata": {},
   "source": [
    "#### Observation: \n",
    "* For k = 5 the cv accuracy is high with mean 0.85071846 standard deviation of 0.01719177 for 10 fold cross validation. \n",
    "* For k > 5 the cv mean accuracy is decresing and train accuracy is also decresing. \n",
    "* Test accuracy for k =5 is 0.8494285714285714"
   ]
  },
  {
   "cell_type": "markdown",
   "metadata": {},
   "source": [
    "### TR-IDF:"
   ]
  },
  {
   "cell_type": "code",
   "execution_count": 29,
   "metadata": {},
   "outputs": [],
   "source": [
    "#k values\n",
    "list_tfidf = list(range(1,18,2))\n",
    "list_tfidf.extend([25,27,37,51,71,101])"
   ]
  },
  {
   "cell_type": "code",
   "execution_count": 40,
   "metadata": {},
   "outputs": [],
   "source": [
    "scores_train_tfidf= []\n",
    "#train scores for different k values of tfidf representation\n",
    "for i in list_tfidf:\n",
    "    #tfidf\n",
    "    tf_idf_vect = TfidfVectorizer(ngram_range=(1,2))\n",
    "    final_tf_idf = tf_idf_vect.fit_transform(train_df['final_text'].values)\n",
    "    #scaling sparse array\n",
    "    scale = StandardScaler(with_mean=False)\n",
    "    X = scale.fit_transform(final_tf_idf)\n",
    "    #knn wit brute force algorithm\n",
    "    model_knn = KNeighborsClassifier(n_neighbors=i,\n",
    "                            algorithm='brute',n_jobs=-1)\n",
    "    model_knn.fit(X,train_df.Score)\n",
    "    #predicting train scores\n",
    "    test_list = model_knn.predict(X)\n",
    "    #accuracy score\n",
    "    score_train = accuracy_score(train_df.Score,test_list)\n",
    "    scores_train_tfidf.append(score_train)   \n",
    "pickle.dump(scores_train_tfidf,open('scores_train_tfidf.p','wb'))"
   ]
  },
  {
   "cell_type": "code",
   "execution_count": 32,
   "metadata": {},
   "outputs": [
    {
     "data": {
      "text/plain": [
       "15"
      ]
     },
     "execution_count": 32,
     "metadata": {},
     "output_type": "execute_result"
    }
   ],
   "source": [
    "scores_train_tfidf = pickle.load(open('scores_train_tfidf.p','rb'))\n",
    "len(scores_train_tfidf)"
   ]
  },
  {
   "cell_type": "code",
   "execution_count": 31,
   "metadata": {},
   "outputs": [
    {
     "name": "stdout",
     "output_type": "stream",
     "text": [
      "train score corresponding to k value \n",
      "1   1.0\n",
      "3   0.8504897959183674\n",
      "5   0.8499795918367347\n",
      "7   0.8498571428571429\n",
      "9   0.8498571428571429\n",
      "11   0.8498571428571429\n",
      "13   0.8498571428571429\n",
      "15   0.8498571428571429\n",
      "17   0.8498571428571429\n",
      "25   0.8498571428571429\n",
      "27   0.8498571428571429\n",
      "37   0.8498571428571429\n",
      "51   0.8498571428571429\n",
      "71   0.8498571428571429\n",
      "101   0.8498571428571429\n"
     ]
    }
   ],
   "source": [
    "print('train score corresponding to k value ')\n",
    "i = 0\n",
    "for k in list_tfidf:  \n",
    "    print(k, ' ', scores_train_tfidf[i])\n",
    "    i= i + 1"
   ]
  },
  {
   "cell_type": "code",
   "execution_count": 46,
   "metadata": {},
   "outputs": [],
   "source": [
    "#10 fold cv\n",
    "tscv_10 = TimeSeriesSplit(n_splits=10)\n",
    "scores_testcv_tfidf = []\n",
    "for i in list_tfidf:\n",
    "    scores_test = []\n",
    "    #for each fold\n",
    "    for train_idx,test_idx in tscv_10.split(train_df):\n",
    "        tf_idf_vect = TfidfVectorizer(ngram_range=(1,2))\n",
    "        #train data\n",
    "        X_train = train_df.iloc[train_idx]\n",
    "        #cv data\n",
    "        X_test = train_df.iloc[test_idx]\n",
    "        #tfidf\n",
    "        final_tf_idf = tf_idf_vect.fit_transform(X_train['final_text'].values)\n",
    "        scale = StandardScaler(with_mean=False)\n",
    "        X = scale.fit_transform(final_tf_idf)\n",
    "        #knn\n",
    "        model_knn = KNeighborsClassifier(n_neighbors=i,\n",
    "                            algorithm='brute',n_jobs=-1)\n",
    "        model_knn.fit(X,X_train.Score)\n",
    "        #cv data tfidf representation\n",
    "        final_counts_test = tf_idf_vect.transform(\n",
    "        X_test['final_text'].values)\n",
    "        X_test_array = scale.transform(final_counts_test)\n",
    "        #prdicting cv data\n",
    "        test_list = model_knn.predict(X_test_array)\n",
    "        #accuracy of cv data\n",
    "        score_test = accuracy_score(X_test.Score,test_list)\n",
    "        scores_test.append(score_test)\n",
    "    scores_testcv_tfidf.append(scores_test)    \n",
    "pickle.dump(scores_testcv_tfidf,open('score_testcv_tfidf.p','wb'))"
   ]
  },
  {
   "cell_type": "code",
   "execution_count": 33,
   "metadata": {},
   "outputs": [
    {
     "name": "stdout",
     "output_type": "stream",
     "text": [
      "15\n",
      "10\n"
     ]
    }
   ],
   "source": [
    "scores_testcv_tfidf = pickle.load(open('score_testcv_tfidf.p','rb'))\n",
    "print(len(scores_testcv_tfidf))\n",
    "print(len(scores_testcv_tfidf[0]))"
   ]
  },
  {
   "cell_type": "code",
   "execution_count": 33,
   "metadata": {},
   "outputs": [
    {
     "data": {
      "text/plain": [
       "array([0.84577907, 0.84568927, 0.84568927, 0.84568927, 0.84568927,\n",
       "       0.84568927, 0.84568927, 0.84568927, 0.84568927, 0.84568927,\n",
       "       0.84568927, 0.84568927, 0.84568927, 0.84568927, 0.84568927])"
      ]
     },
     "execution_count": 33,
     "metadata": {},
     "output_type": "execute_result"
    }
   ],
   "source": [
    "#mean cv sores\n",
    "mean_cv = np.array(scores_testcv_tfidf).mean(axis=1)\n",
    "mean_cv"
   ]
  },
  {
   "cell_type": "code",
   "execution_count": 34,
   "metadata": {},
   "outputs": [
    {
     "data": {
      "text/plain": [
       "array([0.01993593, 0.02002439, 0.02002439, 0.02002439, 0.02002439,\n",
       "       0.02002439, 0.02002439, 0.02002439, 0.02002439, 0.02002439,\n",
       "       0.02002439, 0.02002439, 0.02002439, 0.02002439, 0.02002439])"
      ]
     },
     "execution_count": 34,
     "metadata": {},
     "output_type": "execute_result"
    }
   ],
   "source": [
    "#standard deviation of cv scores\n",
    "std_cv = np.array(scores_testcv_tfidf).std(axis=1)\n",
    "std_cv"
   ]
  },
  {
   "cell_type": "code",
   "execution_count": 35,
   "metadata": {},
   "outputs": [
    {
     "data": {
      "text/plain": [
       "<matplotlib.legend.Legend at 0x14fb167e0e10>"
      ]
     },
     "execution_count": 35,
     "metadata": {},
     "output_type": "execute_result"
    },
    {
     "data": {
      "image/png": "[encoded data removed]",
      "text/plain": [
       "<matplotlib.figure.Figure at 0x14fb25257748>"
      ]
     },
     "metadata": {},
     "output_type": "display_data"
    }
   ],
   "source": [
    "plt.figure(figsize=(14,8))\n",
    "plt.plot(list_tfidf,\n",
    "         scores_train_tfidf,label='Train Scores')\n",
    "plt.plot(list_tfidf,\n",
    "         mean_cv,label = 'CV mean score')\n",
    "plt.xlabel('K Values')\n",
    "plt.ylabel('Accuracy Score')\n",
    "plt.xlim(0,40)\n",
    "plt.title('Validation Curve with differnt K for TF-IDF Representation of text')\n",
    "plt.legend()"
   ]
  },
  {
   "cell_type": "markdown",
   "metadata": {},
   "source": [
    "#### Observations: \n",
    "* for k > 3 cv scores are same and for k > 5 the training scores are also same. so it is better to take k in range of 25-50 like that because if we take less value of k it may cause overfit. so i made optimal k as 25. if need of speed computation on test data we can prefer k as 5"
   ]
  },
  {
   "cell_type": "code",
   "execution_count": 83,
   "metadata": {},
   "outputs": [
    {
     "data": {
      "text/plain": [
       "0.8257619047619048"
      ]
     },
     "execution_count": 83,
     "metadata": {},
     "output_type": "execute_result"
    }
   ],
   "source": [
    "#test score for k = 25\n",
    "tf_idf_vect = TfidfVectorizer(ngram_range=(1,2))\n",
    "final_tf_idf = tf_idf_vect.fit_transform(train_df['final_text'].values)\n",
    "scale = StandardScaler(with_mean=False)\n",
    "X = scale.fit_transform(final_tf_idf)\n",
    "model_knn = KNeighborsClassifier(n_neighbors=25,\n",
    "                      algorithm='brute',n_jobs=-1)\n",
    "model_knn.fit(X,train_df.Score)\n",
    "X_test =  tf_idf_vect.transform(test_df['final_text'].values)\n",
    "X_test = scale.transform(X_test)\n",
    "test_list = model_knn.predict(X_test)\n",
    "score_test = accuracy_score(test_df.Score,test_list)\n",
    "score_test"
   ]
  },
  {
   "cell_type": "markdown",
   "metadata": {},
   "source": [
    "### Word2Vec"
   ]
  },
  {
   "cell_type": "code",
   "execution_count": 16,
   "metadata": {},
   "outputs": [],
   "source": [
    "#importing\n",
    "from gensim.models import Word2Vec\n",
    "from gensim.models import KeyedVectors\n",
    "import pickle\n",
    "import gensim"
   ]
  },
  {
   "cell_type": "code",
   "execution_count": 85,
   "metadata": {},
   "outputs": [],
   "source": [
    "import gensim\n",
    "list_of_sent=[]\n",
    "for sent in final_review.final_text.values:\n",
    "    list_of_sent.append(sent.split())"
   ]
  },
  {
   "cell_type": "code",
   "execution_count": 87,
   "metadata": {},
   "outputs": [],
   "source": [
    "#word2vec model\n",
    "w2v_model=gensim.models.Word2Vec(list_of_sent,min_count=5,size=50, workers=8)"
   ]
  },
  {
   "cell_type": "code",
   "execution_count": 88,
   "metadata": {},
   "outputs": [],
   "source": [
    "#saving to disk\n",
    "pickle.dump(w2v_model,open('w2v_model.p','wb'))"
   ]
  },
  {
   "cell_type": "code",
   "execution_count": 17,
   "metadata": {},
   "outputs": [],
   "source": [
    "w2v_model = pickle.load(open('w2v_model.p','rb'))"
   ]
  },
  {
   "cell_type": "markdown",
   "metadata": {},
   "source": [
    "#### Avg Word2Vec"
   ]
  },
  {
   "cell_type": "code",
   "execution_count": 116,
   "metadata": {},
   "outputs": [],
   "source": [
    "# the avg-w2v for each sentence/review is stored in this list\n",
    "def avg_w2v(list_of_sent,model):\n",
    "    '''\n",
    "    Returns average of word vectors for \n",
    "    each sentance with dimension of model given\n",
    "    '''\n",
    "    sent_vectors = []\n",
    "    for sent in list_of_sent: # for each review/sentence\n",
    "        doc = [word for word in sent if word in model.wv.vocab]\n",
    "        if doc:\n",
    "            sent_vec = np.mean(model.wv[doc],axis=0)\n",
    "        else:\n",
    "            sent_vec = np.zeros(50)\n",
    "        sent_vectors.append(sent_vec)\n",
    "    return sent_vectors"
   ]
  },
  {
   "cell_type": "code",
   "execution_count": 117,
   "metadata": {},
   "outputs": [
    {
     "data": {
      "text/plain": [
       "364171"
      ]
     },
     "execution_count": 117,
     "metadata": {},
     "output_type": "execute_result"
    }
   ],
   "source": [
    "#avg word vectors\n",
    "sent_vectors = avg_w2v(list_of_sent,w2v_model)\n",
    "len(sent_vectors)"
   ]
  },
  {
   "cell_type": "code",
   "execution_count": 159,
   "metadata": {},
   "outputs": [],
   "source": [
    "list_of_sent_train=[]\n",
    "for sent in train_df.final_text.values:\n",
    "    list_of_sent_train.append(sent.split())"
   ]
  },
  {
   "cell_type": "code",
   "execution_count": 148,
   "metadata": {},
   "outputs": [],
   "source": [
    "#avg word2vec for \n",
    "sent_vector_avgw2v = avg_w2v(list_of_sent_train,w2v_model)"
   ]
  },
  {
   "cell_type": "code",
   "execution_count": 149,
   "metadata": {},
   "outputs": [],
   "source": [
    "#stacking columns\n",
    "train_avgw2v = np.hstack((sent_vector_avgw2v,\n",
    "            train_df[['HelpfulnessNumerator',\n",
    "                      'HelpfulnessDenominator','Score']]))\n",
    "column = list(range(0,50))\n",
    "column.extend(['HelpfulnessNumerator','HelpfulnessDenominator','Score'])\n",
    "train_df_avgw2v = pd.DataFrame(train_avgw2v,columns=column)"
   ]
  },
  {
   "cell_type": "code",
   "execution_count": 164,
   "metadata": {},
   "outputs": [],
   "source": [
    "#saving\n",
    "train_df_avgw2v.to_csv('train_df_avgw2v.csv',index=False)"
   ]
  },
  {
   "cell_type": "code",
   "execution_count": 4,
   "metadata": {},
   "outputs": [],
   "source": [
    "train_df_avgw2v = pd.read_csv('train_df_avgw2v.csv')"
   ]
  },
  {
   "cell_type": "code",
   "execution_count": 166,
   "metadata": {},
   "outputs": [],
   "source": [
    "#test data\n",
    "list_of_sent_test=[]\n",
    "for sent in test_df.final_text.values:\n",
    "    list_of_sent_test.append(sent.split())"
   ]
  },
  {
   "cell_type": "code",
   "execution_count": 167,
   "metadata": {},
   "outputs": [],
   "source": [
    "#test data avg word2vec\n",
    "sent_vector_avgw2v = avg_w2v(list_of_sent_test,w2v_model)"
   ]
  },
  {
   "cell_type": "code",
   "execution_count": 168,
   "metadata": {},
   "outputs": [],
   "source": [
    "#stacking for test data\n",
    "test_avgw2v = np.hstack((sent_vector_avgw2v,\n",
    "            test_df[['HelpfulnessNumerator',\n",
    "                      'HelpfulnessDenominator','Score']]))\n",
    "column = list(range(0,50))\n",
    "column.extend(['HelpfulnessNumerator','HelpfulnessDenominator','Score'])\n",
    "test_df_avgw2v = pd.DataFrame(test_avgw2v,columns=column)"
   ]
  },
  {
   "cell_type": "code",
   "execution_count": 170,
   "metadata": {},
   "outputs": [],
   "source": [
    "test_df_avgw2v.to_csv('test_df_avgw2v.csv',index=False)"
   ]
  },
  {
   "cell_type": "code",
   "execution_count": 6,
   "metadata": {},
   "outputs": [],
   "source": [
    "test_df_avgw2v = pd.read_csv('test_df_avgw2v.csv')"
   ]
  },
  {
   "cell_type": "code",
   "execution_count": 38,
   "metadata": {},
   "outputs": [],
   "source": [
    "list_avgw2v = list(range(1,18,2))\n",
    "list_avgw2v.extend([25,35,45,55,95])"
   ]
  },
  {
   "cell_type": "code",
   "execution_count": 105,
   "metadata": {},
   "outputs": [],
   "source": [
    "#train scores for each k with avgword2vec \n",
    "scores_train_avgw2v = []\n",
    "for k in list_avgw2v:\n",
    "    #scaling\n",
    "    scale = StandardScaler()\n",
    "    X = scale.fit_transform(train_df.drop('Score',axis=1))\n",
    "    #knn with ball tree\n",
    "    model_knn = KNeighborsClassifier(n_neighbors=k,\n",
    "                        algorithm='ball_tree',n_jobs=-1)\n",
    "    model_knn.fit(X,train_df.Score)\n",
    "    #train accuracy\n",
    "    score_train = model_knn.score(X,train_df.Score)\n",
    "    scores_train_avgw2v.append(score_train)\n",
    "pickle.dump(scores_train_avgw2v,open('scores_train_avgw2v.p','wb'))"
   ]
  },
  {
   "cell_type": "code",
   "execution_count": 34,
   "metadata": {},
   "outputs": [],
   "source": [
    "#loading\n",
    "scores_train_avgw2v = pickle.load(open('scores_train_avgw2v.p','rb'))"
   ]
  },
  {
   "cell_type": "code",
   "execution_count": 40,
   "metadata": {},
   "outputs": [
    {
     "name": "stdout",
     "output_type": "stream",
     "text": [
      "train score corresponding to k value \n",
      "1   1.0\n",
      "3   0.9378775510204082\n",
      "5   0.9230612244897959\n",
      "7   0.9160204081632654\n",
      "9   0.9118775510204081\n",
      "11   0.908795918367347\n",
      "13   0.9065918367346939\n",
      "15   0.904469387755102\n",
      "17   0.9033877551020408\n",
      "25   0.898795918367347\n",
      "35   0.8950816326530612\n",
      "45   0.8921632653061224\n",
      "55   0.8905714285714286\n",
      "95   0.8862857142857142\n"
     ]
    }
   ],
   "source": [
    "print('train score corresponding to k value ')\n",
    "i = 0\n",
    "for k in list_avgw2v:  \n",
    "    print(k, ' ', scores_train_avgw2v[i])\n",
    "    i= i + 1"
   ]
  },
  {
   "cell_type": "code",
   "execution_count": 90,
   "metadata": {},
   "outputs": [],
   "source": [
    "#10 fold cv\n",
    "tscv_10 = TimeSeriesSplit(n_splits=10)\n",
    "scores_avgw2v_cv = []\n",
    "for k in list_avgw2v:\n",
    "    scores_test = []\n",
    "    for train_idx,test_idx in tscv_10.split(train_df):\n",
    "        #train data\n",
    "        X_train = train_df.iloc[train_idx]\n",
    "        #cv data\n",
    "        X_test = train_df.iloc[test_idx]\n",
    "        #Scale\n",
    "        scale = StandardScaler()\n",
    "        X = scale.fit_transform(X_train.drop('Score',axis=1))\n",
    "        #knn\n",
    "        model_knn = KNeighborsClassifier(n_neighbors=45,\n",
    "                            algorithm='ball_tree',n_jobs=-1)\n",
    "        model_knn.fit(X,X_train.Score)\n",
    "        #cv data scaling\n",
    "        X_test_array = scale.transform(X_test.drop('Score',axis=1))\n",
    "        #predicting cv data\n",
    "        test_list = model_knn.predict(X_test_array)\n",
    "        #test accuracy\n",
    "        score_test = accuracy_score(X_test.Score,test_list)\n",
    "        scores_test.append(score_test)\n",
    "    scores_avgw2v_cv.append(scores_test)\n",
    "pickle.dump(scores_avgw2v_cv,open('scores_avgw2v_cv.p','wb'))"
   ]
  },
  {
   "cell_type": "code",
   "execution_count": 41,
   "metadata": {},
   "outputs": [],
   "source": [
    "scores_avgw2v_cv = pickle.load(open('scores_avgw2v_cv.p','rb'))"
   ]
  },
  {
   "cell_type": "code",
   "execution_count": 42,
   "metadata": {},
   "outputs": [
    {
     "data": {
      "text/plain": [
       "array([0.86234845, 0.88206107, 0.88527167, 0.88542883, 0.88524921,\n",
       "       0.88520431, 0.88394701, 0.88365514, 0.88259991, 0.8798608 ,\n",
       "       0.87723395, 0.87581949, 0.87462955, 0.86962281])"
      ]
     },
     "execution_count": 42,
     "metadata": {},
     "output_type": "execute_result"
    }
   ],
   "source": [
    "#mean cv scores\n",
    "mean_cv = np.array(scores_avgw2v_cv).mean(axis=1)\n",
    "mean_cv"
   ]
  },
  {
   "cell_type": "code",
   "execution_count": 43,
   "metadata": {},
   "outputs": [
    {
     "data": {
      "text/plain": [
       "array([0.01129099, 0.00897735, 0.00805013, 0.00777365, 0.00718627,\n",
       "       0.00784851, 0.00829344, 0.00813781, 0.00821834, 0.00811899,\n",
       "       0.009041  , 0.00941338, 0.00942074, 0.00990732])"
      ]
     },
     "execution_count": 43,
     "metadata": {},
     "output_type": "execute_result"
    }
   ],
   "source": [
    "#std of cv scores\n",
    "std_cv = np.array(scores_avgw2v_cv).std(axis=1)\n",
    "std_cv"
   ]
  },
  {
   "cell_type": "code",
   "execution_count": 45,
   "metadata": {},
   "outputs": [
    {
     "data": {
      "text/plain": [
       "<matplotlib.legend.Legend at 0x14fb0af539e8>"
      ]
     },
     "execution_count": 45,
     "metadata": {},
     "output_type": "execute_result"
    },
    {
     "data": {
      "image/png": "[encoded data removed]",
      "text/plain": [
       "<matplotlib.figure.Figure at 0x14fb0b7e4550>"
      ]
     },
     "metadata": {},
     "output_type": "display_data"
    }
   ],
   "source": [
    "plt.figure(figsize=(14,8))\n",
    "plt.plot(list_avgw2v,\n",
    "         scores_train_avgw2v,label='Train Scores')\n",
    "plt.plot(list_avgw2v,\n",
    "         mean_cv,label = 'CV mean score')\n",
    "plt.xlabel('K Values')\n",
    "plt.ylabel('Accuracy Score')\n",
    "plt.xlim(0,25)\n",
    "plt.title('Validation Curve with differnt K for Avg-W2V Representation of text')\n",
    "plt.legend()"
   ]
  },
  {
   "cell_type": "markdown",
   "metadata": {},
   "source": [
    "#### Observations:\n",
    "* From above we can infer that 7 or 11 be optimal k. Train and test accureacy are below mentiond. after 11 cross validation accuracy is decresing and training also decresing. "
   ]
  },
  {
   "cell_type": "code",
   "execution_count": 46,
   "metadata": {},
   "outputs": [
    {
     "name": "stdout",
     "output_type": "stream",
     "text": [
      "k =  7\n",
      "Training Score 0.9160204081632654\n",
      "Testing Score 0.8811904761904762\n",
      "k =  11\n",
      "Training Score 0.908795918367347\n",
      "Testing Score 0.8807142857142857\n"
     ]
    }
   ],
   "source": [
    "#test scores\n",
    "for k in [7,11]:\n",
    "    scale = StandardScaler()\n",
    "    X = scale.fit_transform(train_df.drop('Score',axis=1))\n",
    "    model_knn = KNeighborsClassifier(n_neighbors=k,algorithm='ball_tree',n_jobs=-1)\n",
    "    model_knn.fit(X,train_df.Score)\n",
    "    X_test = scale.transform(test_df.drop('Score',axis=1))\n",
    "    score_test = model_knn.score(X_test,test_df.Score)\n",
    "    score_train = model_knn.score(X,train_df.Score)\n",
    "    print('k = ',k)\n",
    "    print('Training Score',score_train)\n",
    "    print('Testing Score',score_test)"
   ]
  },
  {
   "cell_type": "markdown",
   "metadata": {},
   "source": [
    "#### TF-IDF Weighted Word2Vec"
   ]
  },
  {
   "cell_type": "code",
   "execution_count": 16,
   "metadata": {},
   "outputs": [],
   "source": [
    "import gensim\n",
    "list_of_sent=[]\n",
    "for sent in final_review.final_text.values:\n",
    "    list_of_sent.append(sent.split())"
   ]
  },
  {
   "cell_type": "code",
   "execution_count": 19,
   "metadata": {},
   "outputs": [],
   "source": [
    "#tf-idf\n",
    "tf_idf_vect = TfidfVectorizer(ngram_range=(1,1))\n",
    "final_tf_idf = tf_idf_vect.fit_transform(final_review.final_text.values)"
   ]
  },
  {
   "cell_type": "code",
   "execution_count": 56,
   "metadata": {},
   "outputs": [],
   "source": [
    "#dict wit value as index\n",
    "dict_tfidf = {k: v for v, k in enumerate(tf_idf_vect.get_feature_names())}"
   ]
  },
  {
   "cell_type": "code",
   "execution_count": 53,
   "metadata": {},
   "outputs": [
    {
     "name": "stderr",
     "output_type": "stream",
     "text": [
      "/glob/intel-python/versions/2018u2/intelpython3/lib/python3.6/site-packages/ipykernel_launcher.py:17: RuntimeWarning: invalid value encountered in true_divide\n"
     ]
    },
    {
     "name": "stdout",
     "output_type": "stream",
     "text": [
      "CPU times: user 6min 15s, sys: 22.8 s, total: 6min 38s\n",
      "Wall time: 6min 12s\n"
     ]
    }
   ],
   "source": [
    "%%time\n",
    "#time for for loop implementation\n",
    "# TF-IDF weighted Word2Vec\n",
    "tfidf_feat = tf_idf_vect.get_feature_names() # tfidf words/col-names\n",
    "tfidf_sent_vectors = []; # the tfidf-w2v for each sentence/review is stored in this list\n",
    "row=0;\n",
    "for sent in list_of_sent: # for each review/sentence\n",
    "    sent_vec = np.zeros(50,dtype=np.float64) # as word vectors are of zero length\n",
    "    weight_sum =0.0; # num of words with a valid vector in the sentence/review\n",
    "    for word in sent : # for each word in a review/sentence\n",
    "        try:\n",
    "            vec = w2v_model.wv[word]\n",
    "            # obtain the tf_idfidf of a word in a sentence/review\n",
    "            tfidf = final_tf_idf[row, dict_tfidf[word]]\n",
    "            sent_vec = sent_vec + vec*tfidf\n",
    "            weight_sum = weight_sum + tfidf\n",
    "        except:\n",
    "            pass\n",
    "    sent_vec = sent_vec/weight_sum\n",
    "    tfidf_sent_vectors.append(sent_vec)\n",
    "    row += 1"
   ]
  },
  {
   "cell_type": "code",
   "execution_count": 22,
   "metadata": {},
   "outputs": [],
   "source": [
    "def tf_idf_W2V(w2v_model,tf_idf_vect,tf_idf_trans_arr,list_of_sent):\n",
    "    import operator\n",
    "    dict_tfidf = {k: v for v, k in enumerate(tf_idf_vect.get_feature_names())}\n",
    "    sent_vectors = []\n",
    "    i = 0\n",
    "    for sent in list_of_sent: # for each review/sentence\n",
    "        doc = [word for word in sent if word in w2v_model.wv.vocab]\n",
    "        if doc:\n",
    "            #itemgetter\n",
    "            f = operator.itemgetter(*doc)\n",
    "            try:\n",
    "                #itemgetter from dict\n",
    "                final = f(dict_tfidf)\n",
    "                final = tf_idf_trans_arr[i,final]\n",
    "                #converting to dense\n",
    "                final = final.toarray()\n",
    "                #converting to diagnol matrix for multiplication\n",
    "                final= np.diag(final[0])\n",
    "                sent_vec = np.dot(final,np.array(w2v_model.wv[doc]))\n",
    "                #tfidf weighted word to vec\n",
    "                sent_vec = np.sum(sent_vec,axis=0) / np.sum(final)\n",
    "            except:\n",
    "                sent_vec = np.zeros(50)             \n",
    "        else:\n",
    "            sent_vec = np.zeros(50)\n",
    "        sent_vectors.append(sent_vec)\n",
    "        i = i+1\n",
    "    return sent_vectors"
   ]
  },
  {
   "cell_type": "code",
   "execution_count": 49,
   "metadata": {},
   "outputs": [
    {
     "name": "stdout",
     "output_type": "stream",
     "text": [
      "CPU times: user 3min 58s, sys: 362 ms, total: 3min 58s\n",
      "Wall time: 3min 58s\n"
     ]
    }
   ],
   "source": [
    "#time for vectorized implementation\n",
    "%time test = tf_idf_W2V(w2v_model,tf_idf_vect,final_tf_idf,list_of_sent)"
   ]
  },
  {
   "cell_type": "code",
   "execution_count": 57,
   "metadata": {},
   "outputs": [
    {
     "data": {
      "text/plain": [
       "array([-0.50473002, -1.29254243, -1.14878999,  0.16220791, -1.57725931,\n",
       "        0.33451035, -0.85590403, -0.99547177,  0.35920219,  0.35229029,\n",
       "        0.48958326, -0.72000141, -0.63554757, -0.93693301, -0.48698263,\n",
       "        0.47417588,  0.68699963,  1.06305276, -0.68265815, -1.3964433 ,\n",
       "        0.03462894, -0.5222669 ,  0.36551395,  0.44783677, -0.19720486,\n",
       "        0.23341387, -0.25774105,  0.80620439,  0.74853232, -0.14239912,\n",
       "       -0.40646785, -0.18689983,  0.83903254,  0.07734973,  0.08818401,\n",
       "       -0.3893744 , -0.26932468,  0.32558248, -1.17318695, -1.2369735 ,\n",
       "        0.42737041,  0.67004039, -0.13578889, -0.45484249,  0.9743006 ,\n",
       "        0.73795557,  0.69694404,  0.26626051,  0.05896904, -0.95720778])"
      ]
     },
     "execution_count": 57,
     "metadata": {},
     "output_type": "execute_result"
    }
   ],
   "source": [
    " tfidf_sent_vectors[300]"
   ]
  },
  {
   "cell_type": "code",
   "execution_count": 58,
   "metadata": {},
   "outputs": [
    {
     "data": {
      "text/plain": [
       "array([-0.50473004, -1.29254244, -1.14879001,  0.16220793, -1.57725938,\n",
       "        0.33451035, -0.85590406, -0.99547177,  0.35920219,  0.3522903 ,\n",
       "        0.48958326, -0.72000142, -0.6355476 , -0.93693305, -0.48698265,\n",
       "        0.47417587,  0.68699964,  1.06305275, -0.68265816, -1.39644332,\n",
       "        0.03462894, -0.52226692,  0.36551395,  0.44783678, -0.19720486,\n",
       "        0.23341385, -0.25774106,  0.80620441,  0.74853235, -0.14239914,\n",
       "       -0.40646785, -0.18689983,  0.8390326 ,  0.07734973,  0.088184  ,\n",
       "       -0.3893744 , -0.2693247 ,  0.32558251, -1.17318696, -1.23697357,\n",
       "        0.42737042,  0.67004042, -0.13578887, -0.45484252,  0.97430062,\n",
       "        0.73795559,  0.69694405,  0.26626052,  0.05896904, -0.95720779])"
      ]
     },
     "execution_count": 58,
     "metadata": {},
     "output_type": "execute_result"
    }
   ],
   "source": [
    "test[300]"
   ]
  },
  {
   "cell_type": "markdown",
   "metadata": {},
   "source": [
    "Vectorized implementation is around 65% faster than normal for loop implementation. so i used vectorized implementation for claculating tfidf weighted word2vec. but this need more space than loop implementation."
   ]
  },
  {
   "cell_type": "code",
   "execution_count": 18,
   "metadata": {},
   "outputs": [],
   "source": [
    "#list of k\n",
    "list_tfidf_w2v = list(range(1,26,2))\n",
    "list_tfidf_w2v.extend([35,45,95])"
   ]
  },
  {
   "cell_type": "code",
   "execution_count": 230,
   "metadata": {},
   "outputs": [
    {
     "name": "stdout",
     "output_type": "stream",
     "text": [
      "train score corresponding to k value \n",
      "1   1.0\n",
      "3   0.934734693877551\n",
      "5   0.9206530612244898\n",
      "7   0.9123877551020408\n",
      "9   0.909\n",
      "11   0.9058571428571428\n",
      "13   0.9034489795918368\n",
      "15   0.9009387755102041\n",
      "17   0.9\n",
      "19   0.8984489795918368\n",
      "21   0.897673469387755\n",
      "23   0.8967142857142857\n",
      "25   0.8958571428571429\n",
      "35   0.8929387755102041\n",
      "45   0.8910204081632653\n",
      "95   0.884\n"
     ]
    }
   ],
   "source": [
    "print('train score corresponding to k value ')\n",
    "#tfidf instance\n",
    "tf_idf_vect = TfidfVectorizer(ngram_range=(1,1))\n",
    "final_tf_idf = tf_idf_vect.fit_transform(train_df['final_text'].values)\n",
    "list_of_sent = []\n",
    "#converting into list of words for each sentance of train\n",
    "for sent in train_df.final_text.values:\n",
    "    list_of_sent.append(sent.split())\n",
    "#getting tfidf weighted word to vec \n",
    "X_train_fet = tf_idf_W2V(w2v_model,tf_idf_vect,final_tf_idf,list_of_sent)\n",
    "X_train_fet = np.hstack((X_train_fet,\n",
    "            train_df[['HelpfulnessNumerator',\n",
    "                      'HelpfulnessDenominator']]))\n",
    "#scaling\n",
    "scale = StandardScaler()\n",
    "X = scale.fit_transform(X_train_fet)\n",
    "for k in list_tfidf_w2v:\n",
    "    #knn with ball tree\n",
    "    model_knn = KNeighborsClassifier(n_neighbors=k,\n",
    "                            algorithm='ball_tree',n_jobs=-1)\n",
    "    model_knn.fit(X_train_fet,train_df.Score)\n",
    "    #accuracy of train \n",
    "    score_train = model_knn.score(X_train_fet,train_df.Score)\n",
    "    scores_train.append(score_train)\n",
    "    print(k, ' ', scores_train)\n",
    "#saving\n",
    "pickle.dump(scores_train,open('score_tfidfw2v_train1to19.p','wb'))"
   ]
  },
  {
   "cell_type": "code",
   "execution_count": 2,
   "metadata": {},
   "outputs": [],
   "source": [
    "score_train_tfidf_w2v = pickle.load(open('score_train_tfidf_w2v.p','rb'))"
   ]
  },
  {
   "cell_type": "code",
   "execution_count": 223,
   "metadata": {},
   "outputs": [],
   "source": [
    "#10 fold cv\n",
    "tscv_10 = TimeSeriesSplit(n_splits=10)\n",
    "score_cv_tfidf_w2v = []\n",
    "for k in list_tfidf_w2v:\n",
    "    scores_test = []\n",
    "    #for each cv fold\n",
    "    for train_idx,test_idx in tscv_10.split(train_df):\n",
    "        #train data\n",
    "        X_train = train_df.iloc[train_idx]\n",
    "        #cv data\n",
    "        X_test = train_df.iloc[test_idx]\n",
    "        #tfidf\n",
    "        tf_idf_vect = TfidfVectorizer(ngram_range=(1,1))\n",
    "        final_tf_idf = tf_idf_vect.fit_transform(X_train['final_text'].values)\n",
    "        list_of_sent = []\n",
    "        for sent in X_train.final_text.values:\n",
    "            list_of_sent.append(sent.split())\n",
    "        #tfidf weighted word2vec \n",
    "        X_train_fet = tf_idf_W2V(w2v_model,tf_idf_vect,\n",
    "                            final_tf_idf,list_of_sent)\n",
    "        #stacking word vec and some other features\n",
    "        X_train_fet = np.hstack((X_train_fet,\n",
    "                X_train[['HelpfulnessNumerator',\n",
    "                      'HelpfulnessDenominator']]))\n",
    "        #scaling\n",
    "        scale = StandardScaler()\n",
    "        X = scale.fit_transform(X_train_fet)\n",
    "        #knn\n",
    "        model_knn = KNeighborsClassifier(n_neighbors=21,\n",
    "                                    algorithm='ball_tree',n_jobs=-1)\n",
    "        model_knn.fit(X_train_fet,X_train.Score)\n",
    "        #cv data transformation to tfidf\n",
    "        final_tf_idf_test = tf_idf_vect.transform(X_test['final_text'].values)\n",
    "        list_of_sent = []\n",
    "        for sent in X_test.final_text.values:\n",
    "            list_of_sent.append(sent.split())\n",
    "        #word2vec for cv data\n",
    "        X_test_fet = tf_idf_W2V(w2v_model,tf_idf_vect,final_tf_idf_test,list_of_sent)\n",
    "        X_train_fet = np.hstack((X_test_fet,\n",
    "                X_test[['HelpfulnessNumerator',\n",
    "                      'HelpfulnessDenominator']]))\n",
    "        X_test_array = scale.transform(X_train_fet)\n",
    "        test_list = model_knn.predict(X_test_array)\n",
    "        #accuracy of cv data\n",
    "        score_test = accuracy_score(X_test.Score,test_list)\n",
    "        scores_test.append(score_test)\n",
    "    score_cv_tfidf_w2v.append(scores_test)\n",
    "pickle.dump(score_cv_tfidf_w2v,open('score_cv_tfidf_w2v.p','wb'))"
   ]
  },
  {
   "cell_type": "code",
   "execution_count": 3,
   "metadata": {},
   "outputs": [],
   "source": [
    "score_cv_tfidf_w2v = pickle.load(open('score_cv_tfidf_w2v.p','rb'))"
   ]
  },
  {
   "cell_type": "code",
   "execution_count": 21,
   "metadata": {},
   "outputs": [
    {
     "name": "stdout",
     "output_type": "stream",
     "text": [
      "16\n",
      "10\n"
     ]
    }
   ],
   "source": [
    "print(len(score_cv_tfidf_w2v))\n",
    "print(len(score_cv_tfidf_w2v[0]))"
   ]
  },
  {
   "cell_type": "code",
   "execution_count": 239,
   "metadata": {},
   "outputs": [
    {
     "data": {
      "text/plain": [
       "array([0.84833857, 0.86349349, 0.86273013, 0.86306691, 0.86169735,\n",
       "       0.86066457, 0.86019308, 0.85940727, 0.85893579, 0.85864392,\n",
       "       0.85821733, 0.8578132 , 0.85734172, 0.85597216, 0.85480467,\n",
       "       0.85215537])"
      ]
     },
     "execution_count": 239,
     "metadata": {},
     "output_type": "execute_result"
    }
   ],
   "source": [
    "#mean cv scores\n",
    "mean_cv = np.array(score_cv_tfidf_w2v).mean(axis=1)\n",
    "mean_cv"
   ]
  },
  {
   "cell_type": "code",
   "execution_count": 4,
   "metadata": {},
   "outputs": [
    {
     "data": {
      "text/plain": [
       "array([0.01451891, 0.01193917, 0.01315763, 0.01381154, 0.01425322,\n",
       "       0.01390058, 0.01384566, 0.01374618, 0.01385293, 0.01398445,\n",
       "       0.01409291, 0.01398332, 0.01413468, 0.01445663, 0.01464605,\n",
       "       0.01575441])"
      ]
     },
     "execution_count": 4,
     "metadata": {},
     "output_type": "execute_result"
    }
   ],
   "source": [
    "std_cv = np.array(score_cv_tfidf_w2v).std(axis=1)\n",
    "std_cv"
   ]
  },
  {
   "cell_type": "code",
   "execution_count": 245,
   "metadata": {},
   "outputs": [
    {
     "data": {
      "text/plain": [
       "<matplotlib.legend.Legend at 0x14b7ac3a1fd0>"
      ]
     },
     "execution_count": 245,
     "metadata": {},
     "output_type": "execute_result"
    },
    {
     "data": {
      "image/png": "[encoded data removed]",
      "text/plain": [
       "<matplotlib.figure.Figure at 0x14b7ac2760f0>"
      ]
     },
     "metadata": {},
     "output_type": "display_data"
    }
   ],
   "source": [
    "plt.figure(figsize=(14,8))\n",
    "plt.plot(list_tfidf_w2v,\n",
    "         score_train_tfidf_w2v,label='Train Scores')\n",
    "plt.plot(list_tfidf_w2v,\n",
    "         mean_cv,label = 'CV mean score')\n",
    "plt.xlabel('K Values')\n",
    "plt.ylabel('Accuracy Score')\n",
    "plt.xlim(0,35)\n",
    "plt.title('Validation Curve with differnt K for Tf-idf-W2V Representation of text')\n",
    "plt.legend()"
   ]
  },
  {
   "cell_type": "markdown",
   "metadata": {},
   "source": [
    "#### Observations:<br>\n",
    "Cross validation score is maximum at 3,7 and after that cv score is decresing. below are the train and test scores for k = 3,7"
   ]
  },
  {
   "cell_type": "code",
   "execution_count": 28,
   "metadata": {},
   "outputs": [
    {
     "name": "stdout",
     "output_type": "stream",
     "text": [
      "k 3\n",
      "Train Score 0.934734693877551\n",
      "Test Score 0.8553809523809524\n",
      "k 7\n",
      "Train Score 0.9123877551020408\n",
      "Test Score 0.8570476190476191\n"
     ]
    }
   ],
   "source": [
    "for k in [3,7]:\n",
    "    tf_idf_vect = TfidfVectorizer(ngram_range=(1,1))\n",
    "    final_tf_idf = tf_idf_vect.fit_transform(train_df['final_text'].values)\n",
    "    list_of_sent = []\n",
    "    for sent in train_df.final_text.values:\n",
    "        list_of_sent.append(sent.split())\n",
    "    X_train_fet = tf_idf_W2V(w2v_model,tf_idf_vect,final_tf_idf,list_of_sent)\n",
    "    X_train_fet = np.hstack((X_train_fet,\n",
    "            train_df[['HelpfulnessNumerator',\n",
    "                      'HelpfulnessDenominator']]))\n",
    "    scale = StandardScaler()\n",
    "    X = scale.fit_transform(X_train_fet)\n",
    "    model_knn = KNeighborsClassifier(n_neighbors=k,algorithm='ball_tree',n_jobs=-1)\n",
    "    model_knn.fit(X_train_fet,train_df.Score)\n",
    "    score_train = model_knn.score(X_train_fet,train_df.Score)\n",
    "    list_of_sent = []\n",
    "    for sent in test_df.final_text.values:\n",
    "        list_of_sent.append(sent.split())\n",
    "    final_tf_idf_test = tf_idf_vect.transform(test_df['final_text'].values)\n",
    "    X_test_fet = tf_idf_W2V(w2v_model,tf_idf_vect,final_tf_idf_test,list_of_sent)\n",
    "    print(X_test_fet)\n",
    "    X_train_fet = np.hstack((X_test_fet,\n",
    "                test_df[['HelpfulnessNumerator',\n",
    "                      'HelpfulnessDenominator']]))\n",
    "    X_test_array = scale.transform(X_train_fet)\n",
    "    test_score = model_knn.score(X_test_array,test_df.Score)\n",
    "    print('k', k)\n",
    "    print('Train Score',score_train)\n",
    "    print('Test Score',test_score)"
   ]
  },
  {
   "cell_type": "code",
   "execution_count": null,
   "metadata": {},
   "outputs": [],
   "source": []
  }
 ],
 "metadata": {
  "kernelspec": {
   "display_name": "Python 3 (Intel, 2018 update 2)",
   "language": "python",
   "name": "intel_distribution_of_python_3_2018u2"
  },
  "language_info": {
   "codemirror_mode": {
    "name": "ipython",
    "version": 3
   },
   "file_extension": ".py",
   "mimetype": "text/x-python",
   "name": "python",
   "nbconvert_exporter": "python",
   "pygments_lexer": "ipython3",
   "version": "3.6.3"
  }
 },
 "nbformat": 4,
 "nbformat_minor": 2
}
