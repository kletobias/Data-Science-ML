{
 "cells": [
  {
   "cell_type": "markdown",
   "metadata": {},
   "source": [
    "Specifically we will do how to work with ROC curves, strategies to handle imbalanced datasets, and why the end metric that you’re actually interested in should be considered during model selection (i.e., you should think beyond just accuracy and classification statistics).  \n",
    "Specifically, we will:\n",
    "- Apply and interpret an ROC curve on a logistic classifier on the Titanic Dataset \n",
    "- Fit a logistic regression model to a (simulated) dataset of past customer purchases, and see if we can predict whether they’re pregnant\n",
    "- Build a classifier to predict cancer cases, and discover that overall prediction accuracy is often only part of the story in real life"
   ]
  },
  {
   "cell_type": "code",
   "execution_count": 2,
   "metadata": {},
   "outputs": [],
   "source": [
    "import numpy as np\n",
    "import pandas as pd\n",
    "import scipy as sp\n",
    "from sklearn import preprocessing\n",
    "from sklearn.cross_validation import KFold\n",
    "from sklearn.linear_model import LogisticRegression\n",
    "from sklearn.metrics import accuracy_score\n",
    "from sklearn.metrics import confusion_matrix\n",
    "from sklearn.metrics import roc_curve, auc\n",
    "from sklearn.cross_validation import train_test_split\n",
    "from sklearn.preprocessing import Imputer\n",
    "from sklearn import metrics, datasets\n",
    "import statsmodels.formula.api as sm\n",
    "import matplotlib\n",
    "import matplotlib.pyplot as plt\n",
    "import seaborn as sns\n",
    "%matplotlib inline"
   ]
  },
  {
   "cell_type": "markdown",
   "metadata": {},
   "source": [
    "Let’s start by load in the Titanic Dataset and fit a standard logistic regression classifier."
   ]
  },
  {
   "cell_type": "code",
   "execution_count": 6,
   "metadata": {},
   "outputs": [
    {
     "data": {
      "text/html": [
       "<div>\n",
       "<style>\n",
       "    .dataframe thead tr:only-child th {\n",
       "        text-align: right;\n",
       "    }\n",
       "\n",
       "    .dataframe thead th {\n",
       "        text-align: left;\n",
       "    }\n",
       "\n",
       "    .dataframe tbody tr th {\n",
       "        vertical-align: top;\n",
       "    }\n",
       "</style>\n",
       "<table border=\"1\" class=\"dataframe\">\n",
       "  <thead>\n",
       "    <tr style=\"text-align: right;\">\n",
       "      <th></th>\n",
       "      <th>survived</th>\n",
       "      <th>pclass</th>\n",
       "      <th>sex</th>\n",
       "      <th>age</th>\n",
       "      <th>sibsp</th>\n",
       "      <th>parch</th>\n",
       "      <th>fare</th>\n",
       "      <th>embarked</th>\n",
       "      <th>class</th>\n",
       "      <th>who</th>\n",
       "      <th>adult_male</th>\n",
       "      <th>deck</th>\n",
       "      <th>embark_town</th>\n",
       "      <th>alive</th>\n",
       "      <th>alone</th>\n",
       "    </tr>\n",
       "  </thead>\n",
       "  <tbody>\n",
       "    <tr>\n",
       "      <th>0</th>\n",
       "      <td>0</td>\n",
       "      <td>3</td>\n",
       "      <td>male</td>\n",
       "      <td>22.0</td>\n",
       "      <td>1</td>\n",
       "      <td>0</td>\n",
       "      <td>7.2500</td>\n",
       "      <td>S</td>\n",
       "      <td>Third</td>\n",
       "      <td>man</td>\n",
       "      <td>True</td>\n",
       "      <td>NaN</td>\n",
       "      <td>Southampton</td>\n",
       "      <td>no</td>\n",
       "      <td>False</td>\n",
       "    </tr>\n",
       "    <tr>\n",
       "      <th>1</th>\n",
       "      <td>1</td>\n",
       "      <td>1</td>\n",
       "      <td>female</td>\n",
       "      <td>38.0</td>\n",
       "      <td>1</td>\n",
       "      <td>0</td>\n",
       "      <td>71.2833</td>\n",
       "      <td>C</td>\n",
       "      <td>First</td>\n",
       "      <td>woman</td>\n",
       "      <td>False</td>\n",
       "      <td>C</td>\n",
       "      <td>Cherbourg</td>\n",
       "      <td>yes</td>\n",
       "      <td>False</td>\n",
       "    </tr>\n",
       "    <tr>\n",
       "      <th>2</th>\n",
       "      <td>1</td>\n",
       "      <td>3</td>\n",
       "      <td>female</td>\n",
       "      <td>26.0</td>\n",
       "      <td>0</td>\n",
       "      <td>0</td>\n",
       "      <td>7.9250</td>\n",
       "      <td>S</td>\n",
       "      <td>Third</td>\n",
       "      <td>woman</td>\n",
       "      <td>False</td>\n",
       "      <td>NaN</td>\n",
       "      <td>Southampton</td>\n",
       "      <td>yes</td>\n",
       "      <td>True</td>\n",
       "    </tr>\n",
       "    <tr>\n",
       "      <th>3</th>\n",
       "      <td>1</td>\n",
       "      <td>1</td>\n",
       "      <td>female</td>\n",
       "      <td>35.0</td>\n",
       "      <td>1</td>\n",
       "      <td>0</td>\n",
       "      <td>53.1000</td>\n",
       "      <td>S</td>\n",
       "      <td>First</td>\n",
       "      <td>woman</td>\n",
       "      <td>False</td>\n",
       "      <td>C</td>\n",
       "      <td>Southampton</td>\n",
       "      <td>yes</td>\n",
       "      <td>False</td>\n",
       "    </tr>\n",
       "    <tr>\n",
       "      <th>4</th>\n",
       "      <td>0</td>\n",
       "      <td>3</td>\n",
       "      <td>male</td>\n",
       "      <td>35.0</td>\n",
       "      <td>0</td>\n",
       "      <td>0</td>\n",
       "      <td>8.0500</td>\n",
       "      <td>S</td>\n",
       "      <td>Third</td>\n",
       "      <td>man</td>\n",
       "      <td>True</td>\n",
       "      <td>NaN</td>\n",
       "      <td>Southampton</td>\n",
       "      <td>no</td>\n",
       "      <td>True</td>\n",
       "    </tr>\n",
       "  </tbody>\n",
       "</table>\n",
       "</div>"
      ],
      "text/plain": [
       "   survived  pclass     sex   age  sibsp  parch     fare embarked  class  \\\n",
       "0         0       3    male  22.0      1      0   7.2500        S  Third   \n",
       "1         1       1  female  38.0      1      0  71.2833        C  First   \n",
       "2         1       3  female  26.0      0      0   7.9250        S  Third   \n",
       "3         1       1  female  35.0      1      0  53.1000        S  First   \n",
       "4         0       3    male  35.0      0      0   8.0500        S  Third   \n",
       "\n",
       "     who  adult_male deck  embark_town alive  alone  \n",
       "0    man        True  NaN  Southampton    no  False  \n",
       "1  woman       False    C    Cherbourg   yes  False  \n",
       "2  woman       False  NaN  Southampton   yes   True  \n",
       "3  woman       False    C  Southampton   yes  False  \n",
       "4    man        True  NaN  Southampton    no   True  "
      ]
     },
     "execution_count": 6,
     "metadata": {},
     "output_type": "execute_result"
    }
   ],
   "source": [
    "titanic = sns.load_dataset(\"titanic\")\n",
    "titanic.head()"
   ]
  },
  {
   "cell_type": "code",
   "execution_count": 7,
   "metadata": {},
   "outputs": [
    {
     "data": {
      "text/html": [
       "<div>\n",
       "<style>\n",
       "    .dataframe thead tr:only-child th {\n",
       "        text-align: right;\n",
       "    }\n",
       "\n",
       "    .dataframe thead th {\n",
       "        text-align: left;\n",
       "    }\n",
       "\n",
       "    .dataframe tbody tr th {\n",
       "        vertical-align: top;\n",
       "    }\n",
       "</style>\n",
       "<table border=\"1\" class=\"dataframe\">\n",
       "  <thead>\n",
       "    <tr style=\"text-align: right;\">\n",
       "      <th></th>\n",
       "      <th>female</th>\n",
       "      <th>First</th>\n",
       "      <th>Second</th>\n",
       "      <th>age</th>\n",
       "      <th>survived</th>\n",
       "    </tr>\n",
       "  </thead>\n",
       "  <tbody>\n",
       "    <tr>\n",
       "      <th>0</th>\n",
       "      <td>0</td>\n",
       "      <td>0</td>\n",
       "      <td>0</td>\n",
       "      <td>22.0</td>\n",
       "      <td>0</td>\n",
       "    </tr>\n",
       "    <tr>\n",
       "      <th>1</th>\n",
       "      <td>1</td>\n",
       "      <td>1</td>\n",
       "      <td>0</td>\n",
       "      <td>38.0</td>\n",
       "      <td>1</td>\n",
       "    </tr>\n",
       "    <tr>\n",
       "      <th>2</th>\n",
       "      <td>1</td>\n",
       "      <td>0</td>\n",
       "      <td>0</td>\n",
       "      <td>26.0</td>\n",
       "      <td>1</td>\n",
       "    </tr>\n",
       "    <tr>\n",
       "      <th>3</th>\n",
       "      <td>1</td>\n",
       "      <td>1</td>\n",
       "      <td>0</td>\n",
       "      <td>35.0</td>\n",
       "      <td>1</td>\n",
       "    </tr>\n",
       "    <tr>\n",
       "      <th>4</th>\n",
       "      <td>0</td>\n",
       "      <td>0</td>\n",
       "      <td>0</td>\n",
       "      <td>35.0</td>\n",
       "      <td>0</td>\n",
       "    </tr>\n",
       "  </tbody>\n",
       "</table>\n",
       "</div>"
      ],
      "text/plain": [
       "   female  First  Second   age  survived\n",
       "0       0      0       0  22.0         0\n",
       "1       1      1       0  38.0         1\n",
       "2       1      0       0  26.0         1\n",
       "3       1      1       0  35.0         1\n",
       "4       0      0       0  35.0         0"
      ]
     },
     "execution_count": 7,
     "metadata": {},
     "output_type": "execute_result"
    }
   ],
   "source": [
    "titanic = titanic[['sex', 'age', 'class', 'survived']]\n",
    "titanic.columns = ['sex', 'age', 'pclass', 'survived']\n",
    "titanic = titanic.dropna()\n",
    "is_female = pd.get_dummies(titanic.sex)['female']\n",
    "pclass_coded = pd.get_dummies(titanic.pclass)[['First','Second']]\n",
    "titanic_final = pd.concat([is_female,pclass_coded,titanic[['age','survived']]],axis=1)\n",
    "titanic_final.head()"
   ]
  },
  {
   "cell_type": "code",
   "execution_count": 8,
   "metadata": {},
   "outputs": [
    {
     "data": {
      "text/plain": [
       "0    424\n",
       "1    290\n",
       "Name: survived, dtype: int64"
      ]
     },
     "execution_count": 8,
     "metadata": {},
     "output_type": "execute_result"
    }
   ],
   "source": [
    "titanic_final.survived.value_counts()"
   ]
  },
  {
   "cell_type": "code",
   "execution_count": 9,
   "metadata": {
    "collapsed": true
   },
   "outputs": [],
   "source": [
    "log_model = LogisticRegression(C = 1000000)"
   ]
  },
  {
   "cell_type": "code",
   "execution_count": 16,
   "metadata": {
    "collapsed": true
   },
   "outputs": [],
   "source": [
    "from sklearn.model_selection import train_test_split\n",
    "X_train, X_test, y_train, y_test = train_test_split(titanic_final.drop('survived',axis = 1),titanic_final['survived'], test_size=0.2, random_state=123)"
   ]
  },
  {
   "cell_type": "code",
   "execution_count": 17,
   "metadata": {},
   "outputs": [
    {
     "data": {
      "text/plain": [
       "LogisticRegression(C=1000000, class_weight=None, dual=False,\n",
       "          fit_intercept=True, intercept_scaling=1, max_iter=100,\n",
       "          multi_class='ovr', n_jobs=1, penalty='l2', random_state=None,\n",
       "          solver='liblinear', tol=0.0001, verbose=0, warm_start=False)"
      ]
     },
     "execution_count": 17,
     "metadata": {},
     "output_type": "execute_result"
    }
   ],
   "source": [
    "log_model.fit(X_train,y_train)"
   ]
  },
  {
   "cell_type": "code",
   "execution_count": 18,
   "metadata": {},
   "outputs": [
    {
     "data": {
      "text/plain": [
       "array([[ 2.66233164,  2.5962139 ,  1.13821077, -0.03594795]])"
      ]
     },
     "execution_count": 18,
     "metadata": {},
     "output_type": "execute_result"
    }
   ],
   "source": [
    "log_model.coef_"
   ]
  },
  {
   "cell_type": "code",
   "execution_count": 19,
   "metadata": {},
   "outputs": [
    {
     "data": {
      "text/plain": [
       "array([-1.35329422])"
      ]
     },
     "execution_count": 19,
     "metadata": {},
     "output_type": "execute_result"
    }
   ],
   "source": [
    "log_model.intercept_"
   ]
  },
  {
   "cell_type": "code",
   "execution_count": 20,
   "metadata": {
    "collapsed": true
   },
   "outputs": [],
   "source": [
    "y_pred_test = log_model.predict_proba(X_test)[:,1]"
   ]
  },
  {
   "cell_type": "code",
   "execution_count": 21,
   "metadata": {},
   "outputs": [],
   "source": [
    "fpr,tpr,thresholds = metrics.roc_curve(y_test,y_pred_test)"
   ]
  },
  {
   "cell_type": "code",
   "execution_count": 24,
   "metadata": {},
   "outputs": [
    {
     "data": {
      "text/plain": [
       "0.81362889983579645"
      ]
     },
     "execution_count": 24,
     "metadata": {},
     "output_type": "execute_result"
    }
   ],
   "source": [
    "roc_auc = metrics.auc(fpr, tpr)\n",
    "roc_auc"
   ]
  },
  {
   "cell_type": "code",
   "execution_count": 31,
   "metadata": {},
   "outputs": [
    {
     "data": {
      "text/plain": [
       "<matplotlib.legend.Legend at 0x2e7c28257f0>"
      ]
     },
     "execution_count": 31,
     "metadata": {},
     "output_type": "execute_result"
    },
    {
     "data": {
      "image/png": "[encoded data removed]",
      "text/plain": [
       "<matplotlib.figure.Figure at 0x2e7c27bc748>"
      ]
     },
     "metadata": {},
     "output_type": "display_data"
    }
   ],
   "source": [
    "plt.plot(fpr, tpr, color='red',\n",
    "         lw=2, label='ROC curve (area = %0.2f) Logistic Regression' % roc_auc)\n",
    "plt.plot([0, 1], [0, 1], color='navy', lw=2, linestyle='--')\n",
    "plt.legend()"
   ]
  },
  {
   "cell_type": "markdown",
   "metadata": {},
   "source": [
    "What does the red line actually mean in this scenario? How might our model be different if we were at a different position on the line?"
   ]
  },
  {
   "cell_type": "code",
   "execution_count": 37,
   "metadata": {},
   "outputs": [
    {
     "name": "stdout",
     "output_type": "stream",
     "text": [
      "             precision    recall  f1-score   support\n",
      "\n",
      "          0       0.80      0.79      0.80        87\n",
      "          1       0.68      0.70      0.69        56\n",
      "\n",
      "avg / total       0.76      0.76      0.76       143\n",
      "\n"
     ]
    }
   ],
   "source": [
    "#for 0.5 threshold\n",
    "y_predicted = 0.5 < pd.DataFrame(log_model.predict_proba(X_test[['female','First','Second','age']]))[1]\n",
    "print(metrics.classification_report(y_test, y_predicted))"
   ]
  },
  {
   "cell_type": "code",
   "execution_count": 38,
   "metadata": {},
   "outputs": [
    {
     "data": {
      "text/plain": [
       "array([[69, 18],\n",
       "       [17, 39]])"
      ]
     },
     "execution_count": 38,
     "metadata": {},
     "output_type": "execute_result"
    }
   ],
   "source": [
    "from sklearn.metrics import confusion_matrix\n",
    "confusion_matrix(y_test, y_predicted)"
   ]
  },
  {
   "cell_type": "markdown",
   "metadata": {},
   "source": [
    "we can vary the threshold and prediction got much more accurate see below"
   ]
  },
  {
   "cell_type": "code",
   "execution_count": 39,
   "metadata": {},
   "outputs": [
    {
     "name": "stdout",
     "output_type": "stream",
     "text": [
      "             precision    recall  f1-score   support\n",
      "\n",
      "          0       0.77      0.95      0.85        87\n",
      "          1       0.89      0.55      0.68        56\n",
      "\n",
      "avg / total       0.81      0.80      0.78       143\n",
      "\n"
     ]
    }
   ],
   "source": [
    "#for 0.7 Threshold\n",
    "y_predicted = 0.7 < pd.DataFrame(log_model.predict_proba(X_test[['female','First','Second','age']]))[1]\n",
    "print(metrics.classification_report(y_test, y_predicted))"
   ]
  },
  {
   "cell_type": "code",
   "execution_count": 40,
   "metadata": {},
   "outputs": [
    {
     "data": {
      "text/plain": [
       "array([[83,  4],\n",
       "       [25, 31]])"
      ]
     },
     "execution_count": 40,
     "metadata": {},
     "output_type": "execute_result"
    }
   ],
   "source": [
    "from sklearn.metrics import confusion_matrix\n",
    "confusion_matrix(y_test, y_predicted)"
   ]
  },
  {
   "cell_type": "markdown",
   "metadata": {},
   "source": [
    "Per the precision stats above, our model is getting about 3/4 of the test set correctly categorized, but still has a lot of false negatives and false positives."
   ]
  },
  {
   "cell_type": "markdown",
   "metadata": {},
   "source": [
    "we need to vary this threshold based on our requirment.it is a very big mistake to predict cancer patient as not cancer so in this case we need to decrese False Negatives. so as per our need we need to tune our model."
   ]
  },
  {
   "cell_type": "markdown",
   "metadata": {},
   "source": [
    "Now suppose we wanted our FPR to be set at most at 0.3. What is the highest TPR we can get and  What is the threshold at that point. we can get this by below"
   ]
  },
  {
   "cell_type": "code",
   "execution_count": 45,
   "metadata": {},
   "outputs": [
    {
     "name": "stdout",
     "output_type": "stream",
     "text": [
      "Highest TPR with FPR set at 0.3:  0.821428571429\n",
      "Corresponding Threshold:  0.289442234877\n"
     ]
    }
   ],
   "source": [
    "print(\"Highest TPR with FPR set at 0.3: \", tpr[np.min([i for i, x in enumerate(fpr) if x>=0.3])])\n",
    "print(\"Corresponding Threshold: \",thresholds[np.min([i for i, x in enumerate(fpr) if x>=0.3])])"
   ]
  },
  {
   "cell_type": "markdown",
   "metadata": {},
   "source": [
    "##### Review oversampling"
   ]
  },
  {
   "cell_type": "markdown",
   "metadata": {},
   "source": [
    "This dataset was adapted from an example in Data Smart by John Foreman. It's a dataset of indicator variables about customer purchases in the past six-months for a (simulated) large retailer. Ala the scandal that Target experienced a few years back, the question is, can you predict customer’s pregnancy status based on their purchases alone?"
   ]
  },
  {
   "cell_type": "code",
   "execution_count": 123,
   "metadata": {},
   "outputs": [
    {
     "data": {
      "text/html": [
       "<div>\n",
       "<style>\n",
       "    .dataframe thead tr:only-child th {\n",
       "        text-align: right;\n",
       "    }\n",
       "\n",
       "    .dataframe thead th {\n",
       "        text-align: left;\n",
       "    }\n",
       "\n",
       "    .dataframe tbody tr th {\n",
       "        vertical-align: top;\n",
       "    }\n",
       "</style>\n",
       "<table border=\"1\" class=\"dataframe\">\n",
       "  <thead>\n",
       "    <tr style=\"text-align: right;\">\n",
       "      <th></th>\n",
       "      <th>Pregnancy Test</th>\n",
       "      <th>Birth Control</th>\n",
       "      <th>Feminine Hygiene</th>\n",
       "      <th>Folic Acid</th>\n",
       "      <th>Prenatal Vitamins</th>\n",
       "      <th>Prenatal Yoga</th>\n",
       "      <th>Body Pillow</th>\n",
       "      <th>Ginger Ale</th>\n",
       "      <th>Sea Bands</th>\n",
       "      <th>Cigarettes</th>\n",
       "      <th>Smoking Cessation</th>\n",
       "      <th>Stopped buying wine</th>\n",
       "      <th>Wine</th>\n",
       "      <th>Maternity Clothes</th>\n",
       "      <th>PREGNANT</th>\n",
       "    </tr>\n",
       "  </thead>\n",
       "  <tbody>\n",
       "    <tr>\n",
       "      <th>0</th>\n",
       "      <td>1</td>\n",
       "      <td>0</td>\n",
       "      <td>0</td>\n",
       "      <td>0</td>\n",
       "      <td>1</td>\n",
       "      <td>0</td>\n",
       "      <td>0</td>\n",
       "      <td>0</td>\n",
       "      <td>0</td>\n",
       "      <td>0</td>\n",
       "      <td>0</td>\n",
       "      <td>0</td>\n",
       "      <td>0</td>\n",
       "      <td>0</td>\n",
       "      <td>1</td>\n",
       "    </tr>\n",
       "    <tr>\n",
       "      <th>1</th>\n",
       "      <td>1</td>\n",
       "      <td>0</td>\n",
       "      <td>0</td>\n",
       "      <td>0</td>\n",
       "      <td>1</td>\n",
       "      <td>0</td>\n",
       "      <td>0</td>\n",
       "      <td>0</td>\n",
       "      <td>0</td>\n",
       "      <td>0</td>\n",
       "      <td>0</td>\n",
       "      <td>0</td>\n",
       "      <td>0</td>\n",
       "      <td>0</td>\n",
       "      <td>1</td>\n",
       "    </tr>\n",
       "    <tr>\n",
       "      <th>2</th>\n",
       "      <td>1</td>\n",
       "      <td>0</td>\n",
       "      <td>0</td>\n",
       "      <td>0</td>\n",
       "      <td>0</td>\n",
       "      <td>0</td>\n",
       "      <td>0</td>\n",
       "      <td>0</td>\n",
       "      <td>1</td>\n",
       "      <td>0</td>\n",
       "      <td>0</td>\n",
       "      <td>0</td>\n",
       "      <td>0</td>\n",
       "      <td>0</td>\n",
       "      <td>1</td>\n",
       "    </tr>\n",
       "    <tr>\n",
       "      <th>3</th>\n",
       "      <td>0</td>\n",
       "      <td>0</td>\n",
       "      <td>0</td>\n",
       "      <td>0</td>\n",
       "      <td>0</td>\n",
       "      <td>0</td>\n",
       "      <td>0</td>\n",
       "      <td>1</td>\n",
       "      <td>0</td>\n",
       "      <td>0</td>\n",
       "      <td>0</td>\n",
       "      <td>0</td>\n",
       "      <td>0</td>\n",
       "      <td>0</td>\n",
       "      <td>1</td>\n",
       "    </tr>\n",
       "    <tr>\n",
       "      <th>4</th>\n",
       "      <td>0</td>\n",
       "      <td>0</td>\n",
       "      <td>0</td>\n",
       "      <td>0</td>\n",
       "      <td>0</td>\n",
       "      <td>1</td>\n",
       "      <td>0</td>\n",
       "      <td>0</td>\n",
       "      <td>0</td>\n",
       "      <td>0</td>\n",
       "      <td>0</td>\n",
       "      <td>1</td>\n",
       "      <td>0</td>\n",
       "      <td>0</td>\n",
       "      <td>1</td>\n",
       "    </tr>\n",
       "  </tbody>\n",
       "</table>\n",
       "</div>"
      ],
      "text/plain": [
       "   Pregnancy Test  Birth Control  Feminine Hygiene  Folic Acid  \\\n",
       "0               1              0                 0           0   \n",
       "1               1              0                 0           0   \n",
       "2               1              0                 0           0   \n",
       "3               0              0                 0           0   \n",
       "4               0              0                 0           0   \n",
       "\n",
       "   Prenatal Vitamins  Prenatal Yoga  Body Pillow  Ginger Ale  Sea Bands  \\\n",
       "0                  1              0            0           0          0   \n",
       "1                  1              0            0           0          0   \n",
       "2                  0              0            0           0          1   \n",
       "3                  0              0            0           1          0   \n",
       "4                  0              1            0           0          0   \n",
       "\n",
       "   Cigarettes  Smoking Cessation  Stopped buying wine  Wine  \\\n",
       "0           0                  0                    0     0   \n",
       "1           0                  0                    0     0   \n",
       "2           0                  0                    0     0   \n",
       "3           0                  0                    0     0   \n",
       "4           0                  0                    1     0   \n",
       "\n",
       "   Maternity Clothes  PREGNANT  \n",
       "0                  0         1  \n",
       "1                  0         1  \n",
       "2                  0         1  \n",
       "3                  0         1  \n",
       "4                  0         1  "
      ]
     },
     "execution_count": 123,
     "metadata": {},
     "output_type": "execute_result"
    }
   ],
   "source": [
    "data_train = pd.read_csv(\"store_data_train.csv\")\n",
    "data_test = pd.read_csv(\"store_data_test.csv\")\n",
    "data_train.head()"
   ]
  },
  {
   "cell_type": "code",
   "execution_count": 47,
   "metadata": {},
   "outputs": [
    {
     "name": "stdout",
     "output_type": "stream",
     "text": [
      "<class 'pandas.core.frame.DataFrame'>\n",
      "RangeIndex: 1000 entries, 0 to 999\n",
      "Data columns (total 15 columns):\n",
      "Pregnancy Test         1000 non-null int64\n",
      "Birth Control          1000 non-null int64\n",
      "Feminine Hygiene       1000 non-null int64\n",
      "Folic Acid             1000 non-null int64\n",
      "Prenatal Vitamins      1000 non-null int64\n",
      "Prenatal Yoga          1000 non-null int64\n",
      "Body Pillow            1000 non-null int64\n",
      "Ginger Ale             1000 non-null int64\n",
      "Sea Bands              1000 non-null int64\n",
      "Cigarettes             1000 non-null int64\n",
      "Smoking Cessation      1000 non-null int64\n",
      "Stopped buying wine    1000 non-null int64\n",
      "Wine                   1000 non-null int64\n",
      "Maternity Clothes      1000 non-null int64\n",
      "PREGNANT               1000 non-null int64\n",
      "dtypes: int64(15)\n",
      "memory usage: 117.3 KB\n"
     ]
    }
   ],
   "source": [
    "data_train.info()"
   ]
  },
  {
   "cell_type": "code",
   "execution_count": 48,
   "metadata": {},
   "outputs": [
    {
     "data": {
      "text/html": [
       "<div>\n",
       "<style>\n",
       "    .dataframe thead tr:only-child th {\n",
       "        text-align: right;\n",
       "    }\n",
       "\n",
       "    .dataframe thead th {\n",
       "        text-align: left;\n",
       "    }\n",
       "\n",
       "    .dataframe tbody tr th {\n",
       "        vertical-align: top;\n",
       "    }\n",
       "</style>\n",
       "<table border=\"1\" class=\"dataframe\">\n",
       "  <thead>\n",
       "    <tr style=\"text-align: right;\">\n",
       "      <th></th>\n",
       "      <th>Pregnancy Test</th>\n",
       "      <th>Birth Control</th>\n",
       "      <th>Feminine Hygiene</th>\n",
       "      <th>Folic Acid</th>\n",
       "      <th>Prenatal Vitamins</th>\n",
       "      <th>Prenatal Yoga</th>\n",
       "      <th>Body Pillow</th>\n",
       "      <th>Ginger Ale</th>\n",
       "      <th>Sea Bands</th>\n",
       "      <th>Cigarettes</th>\n",
       "      <th>Smoking Cessation</th>\n",
       "      <th>Stopped buying wine</th>\n",
       "      <th>Wine</th>\n",
       "      <th>Maternity Clothes</th>\n",
       "      <th>PREGNANT</th>\n",
       "    </tr>\n",
       "  </thead>\n",
       "  <tbody>\n",
       "    <tr>\n",
       "      <th>count</th>\n",
       "      <td>1000.000000</td>\n",
       "      <td>1000.000000</td>\n",
       "      <td>1000.000000</td>\n",
       "      <td>1000.000000</td>\n",
       "      <td>1000.000000</td>\n",
       "      <td>1000.000000</td>\n",
       "      <td>1000.000000</td>\n",
       "      <td>1000.000000</td>\n",
       "      <td>1000.000000</td>\n",
       "      <td>1000.000000</td>\n",
       "      <td>1000.000000</td>\n",
       "      <td>1000.000000</td>\n",
       "      <td>1000.000000</td>\n",
       "      <td>1000.000000</td>\n",
       "      <td>1000.00000</td>\n",
       "    </tr>\n",
       "    <tr>\n",
       "      <th>mean</th>\n",
       "      <td>0.075000</td>\n",
       "      <td>0.140000</td>\n",
       "      <td>0.141000</td>\n",
       "      <td>0.106000</td>\n",
       "      <td>0.128000</td>\n",
       "      <td>0.018000</td>\n",
       "      <td>0.018000</td>\n",
       "      <td>0.069000</td>\n",
       "      <td>0.030000</td>\n",
       "      <td>0.097000</td>\n",
       "      <td>0.060000</td>\n",
       "      <td>0.130000</td>\n",
       "      <td>0.123000</td>\n",
       "      <td>0.131000</td>\n",
       "      <td>0.50000</td>\n",
       "    </tr>\n",
       "    <tr>\n",
       "      <th>std</th>\n",
       "      <td>0.263523</td>\n",
       "      <td>0.347161</td>\n",
       "      <td>0.348196</td>\n",
       "      <td>0.307992</td>\n",
       "      <td>0.334257</td>\n",
       "      <td>0.133018</td>\n",
       "      <td>0.133018</td>\n",
       "      <td>0.253581</td>\n",
       "      <td>0.170673</td>\n",
       "      <td>0.296106</td>\n",
       "      <td>0.237606</td>\n",
       "      <td>0.336472</td>\n",
       "      <td>0.328602</td>\n",
       "      <td>0.337569</td>\n",
       "      <td>0.50025</td>\n",
       "    </tr>\n",
       "    <tr>\n",
       "      <th>min</th>\n",
       "      <td>0.000000</td>\n",
       "      <td>0.000000</td>\n",
       "      <td>0.000000</td>\n",
       "      <td>0.000000</td>\n",
       "      <td>0.000000</td>\n",
       "      <td>0.000000</td>\n",
       "      <td>0.000000</td>\n",
       "      <td>0.000000</td>\n",
       "      <td>0.000000</td>\n",
       "      <td>0.000000</td>\n",
       "      <td>0.000000</td>\n",
       "      <td>0.000000</td>\n",
       "      <td>0.000000</td>\n",
       "      <td>0.000000</td>\n",
       "      <td>0.00000</td>\n",
       "    </tr>\n",
       "    <tr>\n",
       "      <th>25%</th>\n",
       "      <td>0.000000</td>\n",
       "      <td>0.000000</td>\n",
       "      <td>0.000000</td>\n",
       "      <td>0.000000</td>\n",
       "      <td>0.000000</td>\n",
       "      <td>0.000000</td>\n",
       "      <td>0.000000</td>\n",
       "      <td>0.000000</td>\n",
       "      <td>0.000000</td>\n",
       "      <td>0.000000</td>\n",
       "      <td>0.000000</td>\n",
       "      <td>0.000000</td>\n",
       "      <td>0.000000</td>\n",
       "      <td>0.000000</td>\n",
       "      <td>0.00000</td>\n",
       "    </tr>\n",
       "    <tr>\n",
       "      <th>50%</th>\n",
       "      <td>0.000000</td>\n",
       "      <td>0.000000</td>\n",
       "      <td>0.000000</td>\n",
       "      <td>0.000000</td>\n",
       "      <td>0.000000</td>\n",
       "      <td>0.000000</td>\n",
       "      <td>0.000000</td>\n",
       "      <td>0.000000</td>\n",
       "      <td>0.000000</td>\n",
       "      <td>0.000000</td>\n",
       "      <td>0.000000</td>\n",
       "      <td>0.000000</td>\n",
       "      <td>0.000000</td>\n",
       "      <td>0.000000</td>\n",
       "      <td>0.50000</td>\n",
       "    </tr>\n",
       "    <tr>\n",
       "      <th>75%</th>\n",
       "      <td>0.000000</td>\n",
       "      <td>0.000000</td>\n",
       "      <td>0.000000</td>\n",
       "      <td>0.000000</td>\n",
       "      <td>0.000000</td>\n",
       "      <td>0.000000</td>\n",
       "      <td>0.000000</td>\n",
       "      <td>0.000000</td>\n",
       "      <td>0.000000</td>\n",
       "      <td>0.000000</td>\n",
       "      <td>0.000000</td>\n",
       "      <td>0.000000</td>\n",
       "      <td>0.000000</td>\n",
       "      <td>0.000000</td>\n",
       "      <td>1.00000</td>\n",
       "    </tr>\n",
       "    <tr>\n",
       "      <th>max</th>\n",
       "      <td>1.000000</td>\n",
       "      <td>1.000000</td>\n",
       "      <td>1.000000</td>\n",
       "      <td>1.000000</td>\n",
       "      <td>1.000000</td>\n",
       "      <td>1.000000</td>\n",
       "      <td>1.000000</td>\n",
       "      <td>1.000000</td>\n",
       "      <td>1.000000</td>\n",
       "      <td>1.000000</td>\n",
       "      <td>1.000000</td>\n",
       "      <td>1.000000</td>\n",
       "      <td>1.000000</td>\n",
       "      <td>1.000000</td>\n",
       "      <td>1.00000</td>\n",
       "    </tr>\n",
       "  </tbody>\n",
       "</table>\n",
       "</div>"
      ],
      "text/plain": [
       "       Pregnancy Test  Birth Control  Feminine Hygiene   Folic Acid  \\\n",
       "count     1000.000000    1000.000000       1000.000000  1000.000000   \n",
       "mean         0.075000       0.140000          0.141000     0.106000   \n",
       "std          0.263523       0.347161          0.348196     0.307992   \n",
       "min          0.000000       0.000000          0.000000     0.000000   \n",
       "25%          0.000000       0.000000          0.000000     0.000000   \n",
       "50%          0.000000       0.000000          0.000000     0.000000   \n",
       "75%          0.000000       0.000000          0.000000     0.000000   \n",
       "max          1.000000       1.000000          1.000000     1.000000   \n",
       "\n",
       "       Prenatal Vitamins  Prenatal Yoga  Body Pillow   Ginger Ale  \\\n",
       "count        1000.000000    1000.000000  1000.000000  1000.000000   \n",
       "mean            0.128000       0.018000     0.018000     0.069000   \n",
       "std             0.334257       0.133018     0.133018     0.253581   \n",
       "min             0.000000       0.000000     0.000000     0.000000   \n",
       "25%             0.000000       0.000000     0.000000     0.000000   \n",
       "50%             0.000000       0.000000     0.000000     0.000000   \n",
       "75%             0.000000       0.000000     0.000000     0.000000   \n",
       "max             1.000000       1.000000     1.000000     1.000000   \n",
       "\n",
       "         Sea Bands   Cigarettes  Smoking Cessation  Stopped buying wine  \\\n",
       "count  1000.000000  1000.000000        1000.000000          1000.000000   \n",
       "mean      0.030000     0.097000           0.060000             0.130000   \n",
       "std       0.170673     0.296106           0.237606             0.336472   \n",
       "min       0.000000     0.000000           0.000000             0.000000   \n",
       "25%       0.000000     0.000000           0.000000             0.000000   \n",
       "50%       0.000000     0.000000           0.000000             0.000000   \n",
       "75%       0.000000     0.000000           0.000000             0.000000   \n",
       "max       1.000000     1.000000           1.000000             1.000000   \n",
       "\n",
       "              Wine  Maternity Clothes    PREGNANT  \n",
       "count  1000.000000        1000.000000  1000.00000  \n",
       "mean      0.123000           0.131000     0.50000  \n",
       "std       0.328602           0.337569     0.50025  \n",
       "min       0.000000           0.000000     0.00000  \n",
       "25%       0.000000           0.000000     0.00000  \n",
       "50%       0.000000           0.000000     0.50000  \n",
       "75%       0.000000           0.000000     1.00000  \n",
       "max       1.000000           1.000000     1.00000  "
      ]
     },
     "execution_count": 48,
     "metadata": {},
     "output_type": "execute_result"
    }
   ],
   "source": [
    "data_train.describe()"
   ]
  },
  {
   "cell_type": "code",
   "execution_count": 50,
   "metadata": {},
   "outputs": [
    {
     "data": {
      "text/html": [
       "<div>\n",
       "<style>\n",
       "    .dataframe thead tr:only-child th {\n",
       "        text-align: right;\n",
       "    }\n",
       "\n",
       "    .dataframe thead th {\n",
       "        text-align: left;\n",
       "    }\n",
       "\n",
       "    .dataframe tbody tr th {\n",
       "        vertical-align: top;\n",
       "    }\n",
       "</style>\n",
       "<table border=\"1\" class=\"dataframe\">\n",
       "  <thead>\n",
       "    <tr style=\"text-align: right;\">\n",
       "      <th></th>\n",
       "      <th>Pregnancy Test</th>\n",
       "      <th>Birth Control</th>\n",
       "      <th>Feminine Hygiene</th>\n",
       "      <th>Folic Acid</th>\n",
       "      <th>Prenatal Vitamins</th>\n",
       "      <th>Prenatal Yoga</th>\n",
       "      <th>Body Pillow</th>\n",
       "      <th>Ginger Ale</th>\n",
       "      <th>Sea Bands</th>\n",
       "      <th>Cigarettes</th>\n",
       "      <th>Smoking Cessation</th>\n",
       "      <th>Stopped buying wine</th>\n",
       "      <th>Wine</th>\n",
       "      <th>Maternity Clothes</th>\n",
       "    </tr>\n",
       "    <tr>\n",
       "      <th>PREGNANT</th>\n",
       "      <th></th>\n",
       "      <th></th>\n",
       "      <th></th>\n",
       "      <th></th>\n",
       "      <th></th>\n",
       "      <th></th>\n",
       "      <th></th>\n",
       "      <th></th>\n",
       "      <th></th>\n",
       "      <th></th>\n",
       "      <th></th>\n",
       "      <th></th>\n",
       "      <th></th>\n",
       "      <th></th>\n",
       "    </tr>\n",
       "  </thead>\n",
       "  <tbody>\n",
       "    <tr>\n",
       "      <th>0</th>\n",
       "      <td>500</td>\n",
       "      <td>500</td>\n",
       "      <td>500</td>\n",
       "      <td>500</td>\n",
       "      <td>500</td>\n",
       "      <td>500</td>\n",
       "      <td>500</td>\n",
       "      <td>500</td>\n",
       "      <td>500</td>\n",
       "      <td>500</td>\n",
       "      <td>500</td>\n",
       "      <td>500</td>\n",
       "      <td>500</td>\n",
       "      <td>500</td>\n",
       "    </tr>\n",
       "    <tr>\n",
       "      <th>1</th>\n",
       "      <td>500</td>\n",
       "      <td>500</td>\n",
       "      <td>500</td>\n",
       "      <td>500</td>\n",
       "      <td>500</td>\n",
       "      <td>500</td>\n",
       "      <td>500</td>\n",
       "      <td>500</td>\n",
       "      <td>500</td>\n",
       "      <td>500</td>\n",
       "      <td>500</td>\n",
       "      <td>500</td>\n",
       "      <td>500</td>\n",
       "      <td>500</td>\n",
       "    </tr>\n",
       "  </tbody>\n",
       "</table>\n",
       "</div>"
      ],
      "text/plain": [
       "          Pregnancy Test  Birth Control  Feminine Hygiene  Folic Acid  \\\n",
       "PREGNANT                                                                \n",
       "0                    500            500               500         500   \n",
       "1                    500            500               500         500   \n",
       "\n",
       "          Prenatal Vitamins  Prenatal Yoga  Body Pillow  Ginger Ale  \\\n",
       "PREGNANT                                                              \n",
       "0                       500            500          500         500   \n",
       "1                       500            500          500         500   \n",
       "\n",
       "          Sea Bands  Cigarettes  Smoking Cessation  Stopped buying wine  Wine  \\\n",
       "PREGNANT                                                                        \n",
       "0               500         500                500                  500   500   \n",
       "1               500         500                500                  500   500   \n",
       "\n",
       "          Maternity Clothes  \n",
       "PREGNANT                     \n",
       "0                       500  \n",
       "1                       500  "
      ]
     },
     "execution_count": 50,
     "metadata": {},
     "output_type": "execute_result"
    }
   ],
   "source": [
    "data_train.groupby('PREGNANT').count()"
   ]
  },
  {
   "cell_type": "code",
   "execution_count": 51,
   "metadata": {},
   "outputs": [
    {
     "data": {
      "text/html": [
       "<div>\n",
       "<style>\n",
       "    .dataframe thead tr:only-child th {\n",
       "        text-align: right;\n",
       "    }\n",
       "\n",
       "    .dataframe thead th {\n",
       "        text-align: left;\n",
       "    }\n",
       "\n",
       "    .dataframe tbody tr th {\n",
       "        vertical-align: top;\n",
       "    }\n",
       "</style>\n",
       "<table border=\"1\" class=\"dataframe\">\n",
       "  <thead>\n",
       "    <tr style=\"text-align: right;\">\n",
       "      <th></th>\n",
       "      <th>Pregnancy Test</th>\n",
       "      <th>Birth Control</th>\n",
       "      <th>Feminine Hygiene</th>\n",
       "      <th>Folic Acid</th>\n",
       "      <th>Prenatal Vitamins</th>\n",
       "      <th>Prenatal Yoga</th>\n",
       "      <th>Body Pillow</th>\n",
       "      <th>Ginger Ale</th>\n",
       "      <th>Sea Bands</th>\n",
       "      <th>Cigarettes</th>\n",
       "      <th>Smoking Cessation</th>\n",
       "      <th>Stopped buying wine</th>\n",
       "      <th>Wine</th>\n",
       "      <th>Maternity Clothes</th>\n",
       "    </tr>\n",
       "    <tr>\n",
       "      <th>PREGNANT</th>\n",
       "      <th></th>\n",
       "      <th></th>\n",
       "      <th></th>\n",
       "      <th></th>\n",
       "      <th></th>\n",
       "      <th></th>\n",
       "      <th></th>\n",
       "      <th></th>\n",
       "      <th></th>\n",
       "      <th></th>\n",
       "      <th></th>\n",
       "      <th></th>\n",
       "      <th></th>\n",
       "      <th></th>\n",
       "    </tr>\n",
       "  </thead>\n",
       "  <tbody>\n",
       "    <tr>\n",
       "      <th>0</th>\n",
       "      <td>940</td>\n",
       "      <td>940</td>\n",
       "      <td>940</td>\n",
       "      <td>940</td>\n",
       "      <td>940</td>\n",
       "      <td>940</td>\n",
       "      <td>940</td>\n",
       "      <td>940</td>\n",
       "      <td>940</td>\n",
       "      <td>940</td>\n",
       "      <td>940</td>\n",
       "      <td>940</td>\n",
       "      <td>940</td>\n",
       "      <td>940</td>\n",
       "    </tr>\n",
       "    <tr>\n",
       "      <th>1</th>\n",
       "      <td>60</td>\n",
       "      <td>60</td>\n",
       "      <td>60</td>\n",
       "      <td>60</td>\n",
       "      <td>60</td>\n",
       "      <td>60</td>\n",
       "      <td>60</td>\n",
       "      <td>60</td>\n",
       "      <td>60</td>\n",
       "      <td>60</td>\n",
       "      <td>60</td>\n",
       "      <td>60</td>\n",
       "      <td>60</td>\n",
       "      <td>60</td>\n",
       "    </tr>\n",
       "  </tbody>\n",
       "</table>\n",
       "</div>"
      ],
      "text/plain": [
       "          Pregnancy Test  Birth Control  Feminine Hygiene  Folic Acid  \\\n",
       "PREGNANT                                                                \n",
       "0                    940            940               940         940   \n",
       "1                     60             60                60          60   \n",
       "\n",
       "          Prenatal Vitamins  Prenatal Yoga  Body Pillow  Ginger Ale  \\\n",
       "PREGNANT                                                              \n",
       "0                       940            940          940         940   \n",
       "1                        60             60           60          60   \n",
       "\n",
       "          Sea Bands  Cigarettes  Smoking Cessation  Stopped buying wine  Wine  \\\n",
       "PREGNANT                                                                        \n",
       "0               940         940                940                  940   940   \n",
       "1                60          60                 60                   60    60   \n",
       "\n",
       "          Maternity Clothes  \n",
       "PREGNANT                     \n",
       "0                       940  \n",
       "1                        60  "
      ]
     },
     "execution_count": 51,
     "metadata": {},
     "output_type": "execute_result"
    }
   ],
   "source": [
    "data_test.groupby('PREGNANT').count()"
   ]
  },
  {
   "cell_type": "markdown",
   "metadata": {},
   "source": [
    "Note that only ~4% of adult women are pregnant at any given time, so it’s a very imbalanced classification problem. However, i’ve significantly oversampled observations of pregnant women in our training data so as to ensure that our model does a good job of identifying true positives."
   ]
  },
  {
   "cell_type": "code",
   "execution_count": 52,
   "metadata": {
    "collapsed": true
   },
   "outputs": [],
   "source": [
    "log_model_imb = LogisticRegression(C=1000000)"
   ]
  },
  {
   "cell_type": "code",
   "execution_count": 53,
   "metadata": {},
   "outputs": [
    {
     "data": {
      "text/plain": [
       "LogisticRegression(C=1000000, class_weight=None, dual=False,\n",
       "          fit_intercept=True, intercept_scaling=1, max_iter=100,\n",
       "          multi_class='ovr', n_jobs=1, penalty='l2', random_state=None,\n",
       "          solver='liblinear', tol=0.0001, verbose=0, warm_start=False)"
      ]
     },
     "execution_count": 53,
     "metadata": {},
     "output_type": "execute_result"
    }
   ],
   "source": [
    "log_model_imb.fit(data_train.drop('PREGNANT',axis =1),data_train['PREGNANT'])"
   ]
  },
  {
   "cell_type": "code",
   "execution_count": 54,
   "metadata": {},
   "outputs": [
    {
     "data": {
      "text/plain": [
       "0.88700000000000001"
      ]
     },
     "execution_count": 54,
     "metadata": {},
     "output_type": "execute_result"
    }
   ],
   "source": [
    "log_model_imb.score(data_test.drop('PREGNANT',axis =1),data_test['PREGNANT'])"
   ]
  },
  {
   "cell_type": "code",
   "execution_count": 61,
   "metadata": {
    "collapsed": true
   },
   "outputs": [],
   "source": [
    "y_prediction_proba = log_model_imb.predict_proba(data_test.drop('PREGNANT',axis =1))[:,1]"
   ]
  },
  {
   "cell_type": "code",
   "execution_count": 62,
   "metadata": {},
   "outputs": [],
   "source": [
    "fpr,tpr,thr = metrics.roc_curve(data_test['PREGNANT'],y_prediction_proba)"
   ]
  },
  {
   "cell_type": "code",
   "execution_count": 63,
   "metadata": {},
   "outputs": [
    {
     "data": {
      "text/plain": [
       "0.88559397163120557"
      ]
     },
     "execution_count": 63,
     "metadata": {},
     "output_type": "execute_result"
    }
   ],
   "source": [
    "roc_auc = metrics.auc(fpr, tpr)\n",
    "roc_auc"
   ]
  },
  {
   "cell_type": "code",
   "execution_count": 64,
   "metadata": {},
   "outputs": [
    {
     "data": {
      "text/plain": [
       "<matplotlib.legend.Legend at 0x2e7c2a313c8>"
      ]
     },
     "execution_count": 64,
     "metadata": {},
     "output_type": "execute_result"
    },
    {
     "data": {
      "image/png": "[encoded data removed]",
      "text/plain": [
       "<matplotlib.figure.Figure at 0x2e7c29b0d68>"
      ]
     },
     "metadata": {},
     "output_type": "display_data"
    }
   ],
   "source": [
    "plt.plot(fpr, tpr, color='red',\n",
    "         lw=2, label='ROC curve (area = %0.2f) Logistic Regression' % roc_auc)\n",
    "plt.plot([0, 1], [0, 1], color='navy', lw=2, linestyle='--')\n",
    "plt.legend()"
   ]
  },
  {
   "cell_type": "code",
   "execution_count": 68,
   "metadata": {},
   "outputs": [],
   "source": [
    "y_pred = log_model_imb.predict(data_test.drop('PREGNANT',axis =1))"
   ]
  },
  {
   "cell_type": "code",
   "execution_count": 70,
   "metadata": {},
   "outputs": [
    {
     "data": {
      "text/plain": [
       "array([[843,  97],\n",
       "       [ 16,  44]])"
      ]
     },
     "execution_count": 70,
     "metadata": {},
     "output_type": "execute_result"
    }
   ],
   "source": [
    "conf_mat = metrics.confusion_matrix(data_test['PREGNANT'],y_pred)\n",
    "conf_mat"
   ]
  },
  {
   "cell_type": "code",
   "execution_count": 71,
   "metadata": {},
   "outputs": [
    {
     "name": "stdout",
     "output_type": "stream",
     "text": [
      "True Positive Rate for Fitted:  0.733333333333\n",
      "True Negative Rate for Fitted:  0.896808510638\n",
      "False Positive Rate for Fitted:  0.103191489362\n"
     ]
    }
   ],
   "source": [
    "print(\"True Positive Rate for Fitted: \", float(conf_mat[1][1])/(conf_mat[1][1]+ conf_mat[1][0]))\n",
    "print(\"True Negative Rate for Fitted: \", float(conf_mat[0][0])/(conf_mat[0][0] + conf_mat[0][1]))\n",
    "print(\"False Positive Rate for Fitted: \", float(conf_mat[0][1])/(conf_mat[0][1] + conf_mat[0][0]))"
   ]
  },
  {
   "cell_type": "markdown",
   "metadata": {},
   "source": [
    "Now suppose we wanted our FPR to be set at most at 0.3. What is the highest TPR we can get"
   ]
  },
  {
   "cell_type": "code",
   "execution_count": 72,
   "metadata": {},
   "outputs": [
    {
     "name": "stdout",
     "output_type": "stream",
     "text": [
      "Highest TPR with FPR set at 0.3:  0.916666666667\n",
      "Corresponding Threshold:  0.234032793942\n"
     ]
    }
   ],
   "source": [
    "print(\"Highest TPR with FPR set at 0.3: \", tpr[np.min([i for i, x in enumerate(fpr) if x>=0.3])])\n",
    "print(\"Corresponding Threshold: \",thresholds[np.min([i for i, x in enumerate(fpr) if x>=0.3])])"
   ]
  },
  {
   "cell_type": "markdown",
   "metadata": {},
   "source": [
    "\n",
    "Note that while our model does a great job of identifying true-positives (pregnant women) it comes at the cost of increased false-positives. Depending on what we were actually going to do this data, we might prefer one or another, and build a model that chose a different optimum on the ROC curve."
   ]
  },
  {
   "cell_type": "markdown",
   "metadata": {},
   "source": [
    "#### Cancer Prediction with Dropping Missing Values and Mean Imputation"
   ]
  },
  {
   "cell_type": "code",
   "execution_count": 105,
   "metadata": {},
   "outputs": [
    {
     "data": {
      "text/html": [
       "<div>\n",
       "<style>\n",
       "    .dataframe thead tr:only-child th {\n",
       "        text-align: right;\n",
       "    }\n",
       "\n",
       "    .dataframe thead th {\n",
       "        text-align: left;\n",
       "    }\n",
       "\n",
       "    .dataframe tbody tr th {\n",
       "        vertical-align: top;\n",
       "    }\n",
       "</style>\n",
       "<table border=\"1\" class=\"dataframe\">\n",
       "  <thead>\n",
       "    <tr style=\"text-align: right;\">\n",
       "      <th></th>\n",
       "      <th>Incidence</th>\n",
       "      <th>X1</th>\n",
       "      <th>X2</th>\n",
       "      <th>X3</th>\n",
       "      <th>X4</th>\n",
       "      <th>X5</th>\n",
       "      <th>X6</th>\n",
       "      <th>X7</th>\n",
       "      <th>X8</th>\n",
       "      <th>X9</th>\n",
       "      <th>X10</th>\n",
       "      <th>X11</th>\n",
       "      <th>X12</th>\n",
       "      <th>X13</th>\n",
       "      <th>X14</th>\n",
       "      <th>X15</th>\n",
       "      <th>X16</th>\n",
       "    </tr>\n",
       "  </thead>\n",
       "  <tbody>\n",
       "    <tr>\n",
       "      <th>0</th>\n",
       "      <td>1</td>\n",
       "      <td>-0.00184</td>\n",
       "      <td>0.02440</td>\n",
       "      <td>1.090</td>\n",
       "      <td>0.948</td>\n",
       "      <td>NaN</td>\n",
       "      <td>-1.560</td>\n",
       "      <td>-1.580</td>\n",
       "      <td>-0.664</td>\n",
       "      <td>0.568</td>\n",
       "      <td>-0.4590</td>\n",
       "      <td>-1.200</td>\n",
       "      <td>0.0957</td>\n",
       "      <td>-0.210</td>\n",
       "      <td>-0.72900</td>\n",
       "      <td>0.575</td>\n",
       "      <td>NaN</td>\n",
       "    </tr>\n",
       "    <tr>\n",
       "      <th>1</th>\n",
       "      <td>1</td>\n",
       "      <td>-0.04980</td>\n",
       "      <td>0.00719</td>\n",
       "      <td>1.070</td>\n",
       "      <td>0.923</td>\n",
       "      <td>0.472</td>\n",
       "      <td>-1.690</td>\n",
       "      <td>-1.650</td>\n",
       "      <td>0.594</td>\n",
       "      <td>0.205</td>\n",
       "      <td>-0.2810</td>\n",
       "      <td>-1.280</td>\n",
       "      <td>-0.1140</td>\n",
       "      <td>-0.147</td>\n",
       "      <td>0.36300</td>\n",
       "      <td>1.070</td>\n",
       "      <td>1.460</td>\n",
       "    </tr>\n",
       "    <tr>\n",
       "      <th>2</th>\n",
       "      <td>1</td>\n",
       "      <td>-0.12000</td>\n",
       "      <td>0.00218</td>\n",
       "      <td>0.141</td>\n",
       "      <td>0.140</td>\n",
       "      <td>0.288</td>\n",
       "      <td>-0.428</td>\n",
       "      <td>-0.538</td>\n",
       "      <td>NaN</td>\n",
       "      <td>-0.433</td>\n",
       "      <td>0.1690</td>\n",
       "      <td>-0.678</td>\n",
       "      <td>-0.7380</td>\n",
       "      <td>0.271</td>\n",
       "      <td>0.78800</td>\n",
       "      <td>0.779</td>\n",
       "      <td>0.389</td>\n",
       "    </tr>\n",
       "    <tr>\n",
       "      <th>3</th>\n",
       "      <td>1</td>\n",
       "      <td>-0.11600</td>\n",
       "      <td>0.08790</td>\n",
       "      <td>0.324</td>\n",
       "      <td>0.277</td>\n",
       "      <td>0.399</td>\n",
       "      <td>-0.336</td>\n",
       "      <td>-0.336</td>\n",
       "      <td>NaN</td>\n",
       "      <td>-0.168</td>\n",
       "      <td>0.2120</td>\n",
       "      <td>-0.689</td>\n",
       "      <td>0.5580</td>\n",
       "      <td>0.188</td>\n",
       "      <td>-0.00104</td>\n",
       "      <td>0.178</td>\n",
       "      <td>0.546</td>\n",
       "    </tr>\n",
       "    <tr>\n",
       "      <th>4</th>\n",
       "      <td>1</td>\n",
       "      <td>-0.06150</td>\n",
       "      <td>-0.26000</td>\n",
       "      <td>0.871</td>\n",
       "      <td>0.755</td>\n",
       "      <td>NaN</td>\n",
       "      <td>-1.430</td>\n",
       "      <td>-1.390</td>\n",
       "      <td>-0.796</td>\n",
       "      <td>-0.422</td>\n",
       "      <td>-0.0827</td>\n",
       "      <td>-1.380</td>\n",
       "      <td>-0.0306</td>\n",
       "      <td>0.605</td>\n",
       "      <td>NaN</td>\n",
       "      <td>NaN</td>\n",
       "      <td>NaN</td>\n",
       "    </tr>\n",
       "  </tbody>\n",
       "</table>\n",
       "</div>"
      ],
      "text/plain": [
       "   Incidence       X1       X2     X3     X4     X5     X6     X7     X8  \\\n",
       "0          1 -0.00184  0.02440  1.090  0.948    NaN -1.560 -1.580 -0.664   \n",
       "1          1 -0.04980  0.00719  1.070  0.923  0.472 -1.690 -1.650  0.594   \n",
       "2          1 -0.12000  0.00218  0.141  0.140  0.288 -0.428 -0.538    NaN   \n",
       "3          1 -0.11600  0.08790  0.324  0.277  0.399 -0.336 -0.336    NaN   \n",
       "4          1 -0.06150 -0.26000  0.871  0.755    NaN -1.430 -1.390 -0.796   \n",
       "\n",
       "      X9     X10    X11     X12    X13      X14    X15    X16  \n",
       "0  0.568 -0.4590 -1.200  0.0957 -0.210 -0.72900  0.575    NaN  \n",
       "1  0.205 -0.2810 -1.280 -0.1140 -0.147  0.36300  1.070  1.460  \n",
       "2 -0.433  0.1690 -0.678 -0.7380  0.271  0.78800  0.779  0.389  \n",
       "3 -0.168  0.2120 -0.689  0.5580  0.188 -0.00104  0.178  0.546  \n",
       "4 -0.422 -0.0827 -1.380 -0.0306  0.605      NaN    NaN    NaN  "
      ]
     },
     "execution_count": 105,
     "metadata": {},
     "output_type": "execute_result"
    }
   ],
   "source": [
    "data = pd.read_csv('cancer_data.csv') \n",
    "data.head()"
   ]
  },
  {
   "cell_type": "code",
   "execution_count": 75,
   "metadata": {},
   "outputs": [
    {
     "name": "stdout",
     "output_type": "stream",
     "text": [
      "<class 'pandas.core.frame.DataFrame'>\n",
      "RangeIndex: 15474 entries, 0 to 15473\n",
      "Data columns (total 17 columns):\n",
      "Incidence    15474 non-null int64\n",
      "X1           15474 non-null float64\n",
      "X2           15474 non-null float64\n",
      "X3           15474 non-null float64\n",
      "X4           15474 non-null float64\n",
      "X5           12998 non-null float64\n",
      "X6           15474 non-null float64\n",
      "X7           15474 non-null float64\n",
      "X8           13027 non-null float64\n",
      "X9           15474 non-null float64\n",
      "X10          15474 non-null float64\n",
      "X11          15474 non-null float64\n",
      "X12          15474 non-null float64\n",
      "X13          15474 non-null float64\n",
      "X14          13061 non-null float64\n",
      "X15          13074 non-null float64\n",
      "X16          13046 non-null float64\n",
      "dtypes: float64(16), int64(1)\n",
      "memory usage: 2.0 MB\n"
     ]
    }
   ],
   "source": [
    "data.info()"
   ]
  },
  {
   "cell_type": "code",
   "execution_count": 77,
   "metadata": {},
   "outputs": [
    {
     "data": {
      "text/plain": [
       "Incidence       0\n",
       "X1              0\n",
       "X2              0\n",
       "X3              0\n",
       "X4              0\n",
       "X5           2476\n",
       "X6              0\n",
       "X7              0\n",
       "X8           2447\n",
       "X9              0\n",
       "X10             0\n",
       "X11             0\n",
       "X12             0\n",
       "X13             0\n",
       "X14          2413\n",
       "X15          2400\n",
       "X16          2428\n",
       "dtype: int64"
      ]
     },
     "execution_count": 77,
     "metadata": {},
     "output_type": "execute_result"
    }
   ],
   "source": [
    "data.isnull().sum()"
   ]
  },
  {
   "cell_type": "code",
   "execution_count": 78,
   "metadata": {
    "collapsed": true
   },
   "outputs": [],
   "source": [
    "data_wonan = data.copy()\n",
    "data_wonan = data_wonan.dropna()"
   ]
  },
  {
   "cell_type": "code",
   "execution_count": 81,
   "metadata": {},
   "outputs": [],
   "source": [
    "X_train, X_test, y_train, y_test = train_test_split(data_wonan.drop('Incidence',axis = 1),data_wonan['Incidence'],test_size=0.3, random_state=42)"
   ]
  },
  {
   "cell_type": "code",
   "execution_count": 82,
   "metadata": {
    "collapsed": true
   },
   "outputs": [],
   "source": [
    "log_cancer = LogisticRegression(C=10)"
   ]
  },
  {
   "cell_type": "code",
   "execution_count": 84,
   "metadata": {},
   "outputs": [
    {
     "data": {
      "text/plain": [
       "LogisticRegression(C=10, class_weight=None, dual=False, fit_intercept=True,\n",
       "          intercept_scaling=1, max_iter=100, multi_class='ovr', n_jobs=1,\n",
       "          penalty='l2', random_state=None, solver='liblinear', tol=0.0001,\n",
       "          verbose=0, warm_start=False)"
      ]
     },
     "execution_count": 84,
     "metadata": {},
     "output_type": "execute_result"
    }
   ],
   "source": [
    "log_cancer.fit(X_train,y_train)"
   ]
  },
  {
   "cell_type": "code",
   "execution_count": 85,
   "metadata": {},
   "outputs": [
    {
     "data": {
      "text/plain": [
       "0.99085830370746575"
      ]
     },
     "execution_count": 85,
     "metadata": {},
     "output_type": "execute_result"
    }
   ],
   "source": [
    "#Test score\n",
    "log_cancer.score(X_test,y_test)"
   ]
  },
  {
   "cell_type": "code",
   "execution_count": 86,
   "metadata": {},
   "outputs": [
    {
     "data": {
      "text/plain": [
       "0.99107531562908147"
      ]
     },
     "execution_count": 86,
     "metadata": {},
     "output_type": "execute_result"
    }
   ],
   "source": [
    "#Train Score\n",
    "log_cancer.score(X_train,y_train)"
   ]
  },
  {
   "cell_type": "code",
   "execution_count": 87,
   "metadata": {
    "collapsed": true
   },
   "outputs": [],
   "source": [
    "y_pred = log_cancer.predict(X_test)"
   ]
  },
  {
   "cell_type": "code",
   "execution_count": 91,
   "metadata": {},
   "outputs": [
    {
     "data": {
      "text/plain": [
       "array([[1947,    0],\n",
       "       [  18,    4]])"
      ]
     },
     "execution_count": 91,
     "metadata": {},
     "output_type": "execute_result"
    }
   ],
   "source": [
    "conf_mat = metrics.confusion_matrix(y_test,y_pred)\n",
    "conf_mat"
   ]
  },
  {
   "cell_type": "code",
   "execution_count": 92,
   "metadata": {},
   "outputs": [
    {
     "name": "stdout",
     "output_type": "stream",
     "text": [
      "True Positive Rate for Fitted:  0.181818181818\n",
      "True Negative Rate for Fitted:  1.0\n",
      "False Positive Rate for Fitted:  0.0\n"
     ]
    }
   ],
   "source": [
    "print(\"True Positive Rate for Fitted: \", float(conf_mat[1][1])/(conf_mat[1][1]+ conf_mat[1][0]))\n",
    "print(\"True Negative Rate for Fitted: \", float(conf_mat[0][0])/(conf_mat[0][0] + conf_mat[0][1]))\n",
    "print(\"False Positive Rate for Fitted: \", float(conf_mat[0][1])/(conf_mat[0][1] + conf_mat[0][0]))"
   ]
  },
  {
   "cell_type": "code",
   "execution_count": 94,
   "metadata": {},
   "outputs": [
    {
     "data": {
      "text/plain": [
       "22"
      ]
     },
     "execution_count": 94,
     "metadata": {},
     "output_type": "execute_result"
    }
   ],
   "source": [
    "y_test.sum()"
   ]
  },
  {
   "cell_type": "markdown",
   "metadata": {},
   "source": [
    "We can see that prediction accuracy is only part of the story. Most of the high predictive power is due to predicting the negative cases. We perform very bad for the positive case, with only 4 right prediction of Cancer out of 22."
   ]
  },
  {
   "cell_type": "markdown",
   "metadata": {},
   "source": [
    "##### Mean Imputation"
   ]
  },
  {
   "cell_type": "code",
   "execution_count": 106,
   "metadata": {},
   "outputs": [],
   "source": [
    "from sklearn.preprocessing import Imputer"
   ]
  },
  {
   "cell_type": "code",
   "execution_count": 107,
   "metadata": {
    "collapsed": true
   },
   "outputs": [],
   "source": [
    "imputer = Imputer( strategy='mean')\n",
    "data = imputer.fit_transform(data.values)"
   ]
  },
  {
   "cell_type": "code",
   "execution_count": 108,
   "metadata": {},
   "outputs": [],
   "source": [
    "data = pd.DataFrame(data)"
   ]
  },
  {
   "cell_type": "code",
   "execution_count": 114,
   "metadata": {},
   "outputs": [],
   "source": [
    "X_train, X_test, y_train, y_test = train_test_split(data.drop(0,axis = 1),data[0],test_size=0.3, random_state=42)"
   ]
  },
  {
   "cell_type": "code",
   "execution_count": 115,
   "metadata": {
    "collapsed": true
   },
   "outputs": [],
   "source": [
    "log_cancer_imp = LogisticRegression(C=10)"
   ]
  },
  {
   "cell_type": "code",
   "execution_count": 116,
   "metadata": {},
   "outputs": [
    {
     "data": {
      "text/plain": [
       "LogisticRegression(C=10, class_weight=None, dual=False, fit_intercept=True,\n",
       "          intercept_scaling=1, max_iter=100, multi_class='ovr', n_jobs=1,\n",
       "          penalty='l2', random_state=None, solver='liblinear', tol=0.0001,\n",
       "          verbose=0, warm_start=False)"
      ]
     },
     "execution_count": 116,
     "metadata": {},
     "output_type": "execute_result"
    }
   ],
   "source": [
    "log_cancer_imp.fit(X_train,y_train)"
   ]
  },
  {
   "cell_type": "code",
   "execution_count": 117,
   "metadata": {},
   "outputs": [
    {
     "data": {
      "text/plain": [
       "0.99073874650010774"
      ]
     },
     "execution_count": 117,
     "metadata": {},
     "output_type": "execute_result"
    }
   ],
   "source": [
    "#Test score\n",
    "log_cancer_imp.score(X_test,y_test)"
   ]
  },
  {
   "cell_type": "code",
   "execution_count": 118,
   "metadata": {},
   "outputs": [
    {
     "data": {
      "text/plain": [
       "0.99067491459699009"
      ]
     },
     "execution_count": 118,
     "metadata": {},
     "output_type": "execute_result"
    }
   ],
   "source": [
    "#Train score\n",
    "log_cancer_imp.score(X_train,y_train)"
   ]
  },
  {
   "cell_type": "code",
   "execution_count": 119,
   "metadata": {
    "collapsed": true
   },
   "outputs": [],
   "source": [
    "y_pred = log_cancer_imp.predict(X_test)"
   ]
  },
  {
   "cell_type": "code",
   "execution_count": 120,
   "metadata": {},
   "outputs": [
    {
     "data": {
      "text/plain": [
       "array([[4591,    2],\n",
       "       [  41,    9]])"
      ]
     },
     "execution_count": 120,
     "metadata": {},
     "output_type": "execute_result"
    }
   ],
   "source": [
    "conf_mat = metrics.confusion_matrix(y_test,y_pred)\n",
    "conf_mat"
   ]
  },
  {
   "cell_type": "code",
   "execution_count": 121,
   "metadata": {},
   "outputs": [
    {
     "name": "stdout",
     "output_type": "stream",
     "text": [
      "True Positive Rate for Fitted:  0.18\n",
      "True Negative Rate for Fitted:  0.999564554757\n",
      "False Positive Rate for Fitted:  0.000435445242761\n"
     ]
    }
   ],
   "source": [
    "print(\"True Positive Rate for Fitted: \", float(conf_mat[1][1])/(conf_mat[1][1]+ conf_mat[1][0]))\n",
    "print(\"True Negative Rate for Fitted: \", float(conf_mat[0][0])/(conf_mat[0][0] + conf_mat[0][1]))\n",
    "print(\"False Positive Rate for Fitted: \", float(conf_mat[0][1])/(conf_mat[0][1] + conf_mat[0][0]))"
   ]
  },
  {
   "cell_type": "markdown",
   "metadata": {},
   "source": [
    "This does a bit better than before, but still missed a ton of cases for the positives!"
   ]
  },
  {
   "cell_type": "code",
   "execution_count": null,
   "metadata": {
    "collapsed": true
   },
   "outputs": [],
   "source": []
  }
 ],
 "metadata": {
  "anaconda-cloud": {},
  "kernelspec": {
   "display_name": "Python 3",
   "language": "python",
   "name": "python3"
  },
  "language_info": {
   "codemirror_mode": {
    "name": "ipython",
    "version": 3
   },
   "file_extension": ".py",
   "mimetype": "text/x-python",
   "name": "python",
   "nbconvert_exporter": "python",
   "pygments_lexer": "ipython3",
   "version": "3.6.1"
  }
 },
 "nbformat": 4,
 "nbformat_minor": 1
}
